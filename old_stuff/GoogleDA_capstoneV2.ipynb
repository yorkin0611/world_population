{
 "cells": [
  {
   "cell_type": "code",
   "execution_count": 1,
   "id": "106166c3",
   "metadata": {},
   "outputs": [
    {
     "ename": "ModuleNotFoundError",
     "evalue": "No module named 'countries'",
     "output_type": "error",
     "traceback": [
      "\u001b[0;31m---------------------------------------------------------------------------\u001b[0m",
      "\u001b[0;31mModuleNotFoundError\u001b[0m                       Traceback (most recent call last)",
      "Cell \u001b[0;32mIn [1], line 3\u001b[0m\n\u001b[1;32m      1\u001b[0m \u001b[38;5;28;01mimport\u001b[39;00m \u001b[38;5;21;01mpandas\u001b[39;00m \u001b[38;5;28;01mas\u001b[39;00m \u001b[38;5;21;01mpd\u001b[39;00m\n\u001b[1;32m      2\u001b[0m \u001b[38;5;28;01mimport\u001b[39;00m \u001b[38;5;21;01mnumpy\u001b[39;00m \u001b[38;5;28;01mas\u001b[39;00m \u001b[38;5;21;01mnp\u001b[39;00m\n\u001b[0;32m----> 3\u001b[0m \u001b[38;5;28;01mfrom\u001b[39;00m \u001b[38;5;21;01mcountries\u001b[39;00m \u001b[38;5;28;01mimport\u001b[39;00m country_labels\n\u001b[1;32m      4\u001b[0m \u001b[38;5;28mprint\u001b[39m(\u001b[38;5;124m\"\u001b[39m\u001b[38;5;124mLibraries imported!\u001b[39m\u001b[38;5;124m\"\u001b[39m)\n",
      "\u001b[0;31mModuleNotFoundError\u001b[0m: No module named 'countries'"
     ]
    }
   ],
   "source": [
    "import pandas as pd\n",
    "import numpy as np\n",
    "from countries import country_labels\n",
    "print(\"Libraries imported!\")"
   ]
  },
  {
   "cell_type": "markdown",
   "id": "906d2f7f",
   "metadata": {},
   "source": [
    "# Data Import"
   ]
  },
  {
   "cell_type": "code",
   "execution_count": null,
   "id": "6a1a27da",
   "metadata": {},
   "outputs": [],
   "source": [
    "# Loading data\n",
    "raw_df = pd.read_csv('demo_pjangroup__custom_11197792_linear.csv')\n",
    "raw_df.head(3)"
   ]
  },
  {
   "cell_type": "code",
   "execution_count": null,
   "id": "97d80855",
   "metadata": {},
   "outputs": [],
   "source": [
    "# Basic information columns, entries and data types\n",
    "#raw_df.info()"
   ]
  },
  {
   "cell_type": "markdown",
   "id": "df69b9fb",
   "metadata": {},
   "source": [
    "# Data Cleaning and Rearrangement"
   ]
  },
  {
   "cell_type": "code",
   "execution_count": null,
   "id": "6a254220",
   "metadata": {},
   "outputs": [],
   "source": [
    "# Removing first few columns which describe frequency of data acquisition (annual) and last data update\n",
    "df = raw_df.drop(['DATAFLOW', 'LAST UPDATE', 'freq', 'unit', 'OBS_FLAG'], axis=1).rename({\"age\":\"id\"}, axis=1)\n",
    "\n",
    "# ```df.set_index(['geo', 'sex', 'TIME_PERIOD'])``` could be used,\n",
    "# but .pivot() provided with easier defining of what is an index and what are columns and values\n",
    "df = df.pivot(index=['geo', 'sex', 'TIME_PERIOD'], columns='id', values='OBS_VALUE')\n",
    "\n",
    "# Re-ordering population age ranges\n",
    "cols_revised_order = ['Y_LT5', 'Y5-9', 'Y10-14', 'Y15-19', 'Y20-24', 'Y25-29', 'Y30-34', 'Y35-39',\n",
    "                      'Y40-44', 'Y45-49', 'Y50-54', 'Y55-59', 'Y60-64', 'Y65-69', 'Y70-74', 'Y_GE75', 'TOTAL']\n",
    "df = df[cols_revised_order]\n",
    "\n",
    "# Removing Y from age range columns\n",
    "new_columns = dict()\n",
    "for old_column in list(df.columns):\n",
    "    new_column = old_column.replace(\"Y\", \"\")\n",
    "    new_columns[old_column] = new_column\n",
    "    \n",
    "new_columns['Y_LT5'] = \"<5\"\n",
    "new_columns['Y_GE75'] = \"75<\"\n",
    "\n",
    "#print(new_columns)\n",
    "\n",
    "df.rename(new_columns, axis=1, inplace=True)\n",
    "\n",
    "# Replacing country and gender labels with their full names\n",
    "df = df.rename(country_labels()).rename({\"F\":\"Female\", \"M\":\"Male\", \"T\":\"Both\"}).reset_index()"
   ]
  },
  {
   "cell_type": "code",
   "execution_count": null,
   "id": "a541a870",
   "metadata": {
    "scrolled": true
   },
   "outputs": [],
   "source": [
    "df"
   ]
  },
  {
   "cell_type": "code",
   "execution_count": null,
   "id": "6788291a",
   "metadata": {},
   "outputs": [],
   "source": [
    "# Un-comment line below to export to Excel file\n",
    "#df.to_excel('arranged_table.xlsx', engine='openpyxl', sheet_name='Sheet1')"
   ]
  },
  {
   "cell_type": "markdown",
   "id": "2fa6bb1b",
   "metadata": {},
   "source": [
    "# Exploratory Data Analysis\n"
   ]
  },
  {
   "cell_type": "markdown",
   "id": "6bf1a738",
   "metadata": {},
   "source": [
    "## Annual Population Bar Charts"
   ]
  },
  {
   "cell_type": "code",
   "execution_count": null,
   "id": "9638c203",
   "metadata": {},
   "outputs": [],
   "source": [
    "# Libraries needed for interactive dashboards\n",
    "import plotly.express as px\n",
    "import plotly.graph_objects as go\n",
    "from plotly.subplots import make_subplots\n",
    "print(\"Libraries imported!\")"
   ]
  },
  {
   "cell_type": "code",
   "execution_count": null,
   "id": "99aba3e3",
   "metadata": {},
   "outputs": [],
   "source": [
    "country, year = \"Andorra\", 2019"
   ]
  },
  {
   "cell_type": "code",
   "execution_count": null,
   "id": "eb5476fb",
   "metadata": {
    "scrolled": true
   },
   "outputs": [],
   "source": [
    "df_country = df[ (df[\"geo\"] == country) &  (df['TIME_PERIOD'] == year) ].transpose()\n",
    "df_country"
   ]
  },
  {
   "cell_type": "code",
   "execution_count": null,
   "id": "088d2a79",
   "metadata": {
    "scrolled": true
   },
   "outputs": [],
   "source": [
    "px.bar(data_frame=df_country, y='Female')"
   ]
  },
  {
   "cell_type": "code",
   "execution_count": null,
   "id": "e25a7937",
   "metadata": {},
   "outputs": [],
   "source": [
    "fem_bar = px.bar(data_frame = df_fem_anno.index[1:],\n",
    "       y=df_fem_anno.index[1:], x=df_fem_anno.values[1:],\n",
    "       labels = {\"y\": \"Age ranges (years)\", \"x\":\"Population\"},\n",
    "       title=f\"Female Population of {country} in Year {year}\")\n",
    "\n",
    "male_bar = px.bar(data_frame = df_male_anno.index[1:],\n",
    "       y=df_male_anno.index[1:], x=df_male_anno.values[1:]/df_male_anno.values[0]*100,\n",
    "       labels = {\"y\": \"Age ranges (years)\", \"x\":\"Population\"},\n",
    "       title=f\"Male Population of {country} in Year {year}\")"
   ]
  },
  {
   "cell_type": "code",
   "execution_count": null,
   "id": "189db043",
   "metadata": {},
   "outputs": [],
   "source": [
    "trace_male = go.Bar(x=df_male_anno.values[1:], y=df_male_anno.index[1:],\n",
    "                    orientation=\"h\", name=\"Male\")\n",
    "\n",
    "trace_female = go.Bar(x=df_fem_anno.values[1:], y=df_fem_anno.index[1:],\n",
    "                      orientation=\"h\", name=\"Female\")\n",
    "\n",
    "layout = go.Layout(title=f\"Population Pyramid of {country} in Year {year}\", \n",
    "                   xaxis=dict(title=\"Population\"),\n",
    "                   yaxis=dict(title=\"Age ranges (years)\"),\n",
    "                   barmode=\"group\")\n",
    "\n",
    "fig = go.Figure(data=[trace_male, trace_female], layout=layout)\n",
    "fig.show()"
   ]
  },
  {
   "cell_type": "code",
   "execution_count": null,
   "id": "7133ecf9",
   "metadata": {},
   "outputs": [],
   "source": [
    "df_country = df.loc[(country, slice(None), slice(None))]\n",
    "df_country.index[1][1]"
   ]
  },
  {
   "cell_type": "code",
   "execution_count": null,
   "id": "c7afa15a",
   "metadata": {},
   "outputs": [],
   "source": [
    "countries = set(df.index.get_level_values(0))\n",
    "print(f\"Number of countries: { len(countries) }\")"
   ]
  },
  {
   "cell_type": "code",
   "execution_count": null,
   "id": "084313c5",
   "metadata": {},
   "outputs": [],
   "source": [
    "geo_pops_annual = df.loc[('Andorra', 'Male', 1999)]\n",
    "print(geo_pops_annual)\n",
    "\n",
    "total = []\n",
    "for index, value in geo_pops_annual[1:].items():\n",
    "    if index != 'TOTAL':\n",
    "        #print(index, value)\n",
    "        total.append(value)\n",
    "print(sum(total))\n",
    "        "
   ]
  },
  {
   "cell_type": "code",
   "execution_count": null,
   "id": "ed046f16",
   "metadata": {},
   "outputs": [],
   "source": [
    "# Libraries needed for interactive dashboards\n",
    "import plotly.express as px\n",
    "import dash\n",
    "from dash import dcc, html\n",
    "from dash.dependencies import Input, Output\n",
    "print(\"Libraries imported!\")"
   ]
  }
 ],
 "metadata": {
  "kernelspec": {
   "display_name": "Python 3 (ipykernel)",
   "language": "python",
   "name": "python3"
  },
  "language_info": {
   "codemirror_mode": {
    "name": "ipython",
    "version": 3
   },
   "file_extension": ".py",
   "mimetype": "text/x-python",
   "name": "python",
   "nbconvert_exporter": "python",
   "pygments_lexer": "ipython3",
   "version": "3.11.2"
  }
 },
 "nbformat": 4,
 "nbformat_minor": 5
}
