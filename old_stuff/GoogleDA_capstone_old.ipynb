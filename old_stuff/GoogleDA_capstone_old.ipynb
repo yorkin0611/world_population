{
 "cells": [
  {
   "cell_type": "code",
   "execution_count": 1,
   "id": "106166c3",
   "metadata": {},
   "outputs": [
    {
     "name": "stdout",
     "output_type": "stream",
     "text": [
      "Libraries imported!\n"
     ]
    }
   ],
   "source": [
    "import pandas as pd\n",
    "import numpy as np\n",
    "from countries import country_labels\n",
    "print(\"Libraries imported!\")"
   ]
  },
  {
   "cell_type": "markdown",
   "id": "906d2f7f",
   "metadata": {},
   "source": [
    "# Import of data"
   ]
  },
  {
   "cell_type": "code",
   "execution_count": 2,
   "id": "6a1a27da",
   "metadata": {},
   "outputs": [
    {
     "data": {
      "text/html": [
       "<div>\n",
       "<style scoped>\n",
       "    .dataframe tbody tr th:only-of-type {\n",
       "        vertical-align: middle;\n",
       "    }\n",
       "\n",
       "    .dataframe tbody tr th {\n",
       "        vertical-align: top;\n",
       "    }\n",
       "\n",
       "    .dataframe thead th {\n",
       "        text-align: right;\n",
       "    }\n",
       "</style>\n",
       "<table border=\"1\" class=\"dataframe\">\n",
       "  <thead>\n",
       "    <tr style=\"text-align: right;\">\n",
       "      <th></th>\n",
       "      <th>DATAFLOW</th>\n",
       "      <th>LAST UPDATE</th>\n",
       "      <th>freq</th>\n",
       "      <th>unit</th>\n",
       "      <th>sex</th>\n",
       "      <th>age</th>\n",
       "      <th>geo</th>\n",
       "      <th>TIME_PERIOD</th>\n",
       "      <th>OBS_VALUE</th>\n",
       "      <th>OBS_FLAG</th>\n",
       "    </tr>\n",
       "  </thead>\n",
       "  <tbody>\n",
       "    <tr>\n",
       "      <th>0</th>\n",
       "      <td>ESTAT:DEMO_PJANGROUP(1.0)</td>\n",
       "      <td>30/04/24 23:00:00</td>\n",
       "      <td>A</td>\n",
       "      <td>NR</td>\n",
       "      <td>F</td>\n",
       "      <td>TOTAL</td>\n",
       "      <td>AD</td>\n",
       "      <td>1986</td>\n",
       "      <td>20898.0</td>\n",
       "      <td>NaN</td>\n",
       "    </tr>\n",
       "    <tr>\n",
       "      <th>1</th>\n",
       "      <td>ESTAT:DEMO_PJANGROUP(1.0)</td>\n",
       "      <td>30/04/24 23:00:00</td>\n",
       "      <td>A</td>\n",
       "      <td>NR</td>\n",
       "      <td>F</td>\n",
       "      <td>TOTAL</td>\n",
       "      <td>AD</td>\n",
       "      <td>1987</td>\n",
       "      <td>22148.0</td>\n",
       "      <td>NaN</td>\n",
       "    </tr>\n",
       "    <tr>\n",
       "      <th>2</th>\n",
       "      <td>ESTAT:DEMO_PJANGROUP(1.0)</td>\n",
       "      <td>30/04/24 23:00:00</td>\n",
       "      <td>A</td>\n",
       "      <td>NR</td>\n",
       "      <td>F</td>\n",
       "      <td>TOTAL</td>\n",
       "      <td>AD</td>\n",
       "      <td>1988</td>\n",
       "      <td>22814.0</td>\n",
       "      <td>NaN</td>\n",
       "    </tr>\n",
       "    <tr>\n",
       "      <th>3</th>\n",
       "      <td>ESTAT:DEMO_PJANGROUP(1.0)</td>\n",
       "      <td>30/04/24 23:00:00</td>\n",
       "      <td>A</td>\n",
       "      <td>NR</td>\n",
       "      <td>F</td>\n",
       "      <td>TOTAL</td>\n",
       "      <td>AD</td>\n",
       "      <td>1989</td>\n",
       "      <td>23813.0</td>\n",
       "      <td>NaN</td>\n",
       "    </tr>\n",
       "    <tr>\n",
       "      <th>4</th>\n",
       "      <td>ESTAT:DEMO_PJANGROUP(1.0)</td>\n",
       "      <td>30/04/24 23:00:00</td>\n",
       "      <td>A</td>\n",
       "      <td>NR</td>\n",
       "      <td>F</td>\n",
       "      <td>TOTAL</td>\n",
       "      <td>AD</td>\n",
       "      <td>1990</td>\n",
       "      <td>24171.0</td>\n",
       "      <td>NaN</td>\n",
       "    </tr>\n",
       "  </tbody>\n",
       "</table>\n",
       "</div>"
      ],
      "text/plain": [
       "                    DATAFLOW        LAST UPDATE freq unit sex    age geo  \\\n",
       "0  ESTAT:DEMO_PJANGROUP(1.0)  30/04/24 23:00:00    A   NR   F  TOTAL  AD   \n",
       "1  ESTAT:DEMO_PJANGROUP(1.0)  30/04/24 23:00:00    A   NR   F  TOTAL  AD   \n",
       "2  ESTAT:DEMO_PJANGROUP(1.0)  30/04/24 23:00:00    A   NR   F  TOTAL  AD   \n",
       "3  ESTAT:DEMO_PJANGROUP(1.0)  30/04/24 23:00:00    A   NR   F  TOTAL  AD   \n",
       "4  ESTAT:DEMO_PJANGROUP(1.0)  30/04/24 23:00:00    A   NR   F  TOTAL  AD   \n",
       "\n",
       "   TIME_PERIOD  OBS_VALUE OBS_FLAG  \n",
       "0         1986    20898.0      NaN  \n",
       "1         1987    22148.0      NaN  \n",
       "2         1988    22814.0      NaN  \n",
       "3         1989    23813.0      NaN  \n",
       "4         1990    24171.0      NaN  "
      ]
     },
     "execution_count": 2,
     "metadata": {},
     "output_type": "execute_result"
    }
   ],
   "source": [
    "# Loading data\n",
    "raw_data = pd.read_csv('demo_pjangroup__custom_11197792_linear.csv')\n",
    "raw_data.head()"
   ]
  },
  {
   "cell_type": "markdown",
   "id": "df69b9fb",
   "metadata": {},
   "source": [
    "# Data Cleaning"
   ]
  },
  {
   "cell_type": "code",
   "execution_count": 16,
   "id": "559a40c8",
   "metadata": {},
   "outputs": [],
   "source": [
    "# Dropping and renaming of columns\n",
    "df = raw_data.drop(['DATAFLOW', 'LAST UPDATE', 'freq', 'unit', 'OBS_FLAG'], axis=1).rename(\n",
    "    columns={'geo':'country_code','TIME_PERIOD':'year', 'OBS_VALUE':'population'})\n",
    "\n",
    "# Adding a full country name in column 'country', based on country_code value.\n",
    "# This is done by simple external function country_labels() which stores a dict().\n",
    "df['country'] = df['country_code'].replace( country_labels() )\n",
    "df['sex'] = df['sex'].replace({'F':'Female', 'M':'Male', 'T':'Both'})\n",
    "\n",
    "# This dictionary is used to strip of \"Y\" in age range values\n",
    "ages = dict()\n",
    "for old_age in df['age']:\n",
    "    new_age = old_age.replace(\"Y\", \"\")\n",
    "    ages[old_age] = new_age\n",
    "    \n",
    "ages['Y_LT5'] = \"<5\"\n",
    "ages['Y_GE75'] = \"75<\"\n",
    "\n",
    "df['age'] = df['age'].replace(ages).replace({'TOTAL':'Total'})\n",
    "\n",
    "rearranged_cols = ['country_code', 'country', 'sex', 'year', 'age', 'population']\n",
    "df = df[rearranged_cols]"
   ]
  },
  {
   "cell_type": "code",
   "execution_count": 28,
   "id": "a192f2d6",
   "metadata": {},
   "outputs": [
    {
     "data": {
      "text/html": [
       "<div>\n",
       "<style scoped>\n",
       "    .dataframe tbody tr th:only-of-type {\n",
       "        vertical-align: middle;\n",
       "    }\n",
       "\n",
       "    .dataframe tbody tr th {\n",
       "        vertical-align: top;\n",
       "    }\n",
       "\n",
       "    .dataframe thead th {\n",
       "        text-align: right;\n",
       "    }\n",
       "</style>\n",
       "<table border=\"1\" class=\"dataframe\">\n",
       "  <thead>\n",
       "    <tr style=\"text-align: right;\">\n",
       "      <th></th>\n",
       "      <th></th>\n",
       "      <th></th>\n",
       "      <th>age</th>\n",
       "      <th>10-14</th>\n",
       "      <th>15-19</th>\n",
       "      <th>20-24</th>\n",
       "      <th>25-29</th>\n",
       "      <th>30-34</th>\n",
       "      <th>35-39</th>\n",
       "      <th>40-44</th>\n",
       "      <th>45-49</th>\n",
       "      <th>5-9</th>\n",
       "      <th>50-54</th>\n",
       "      <th>55-59</th>\n",
       "      <th>60-64</th>\n",
       "      <th>65-69</th>\n",
       "      <th>70-74</th>\n",
       "      <th>75&lt;</th>\n",
       "      <th>&lt;5</th>\n",
       "      <th>Total</th>\n",
       "    </tr>\n",
       "    <tr>\n",
       "      <th>country_code</th>\n",
       "      <th>country</th>\n",
       "      <th>sex</th>\n",
       "      <th>year</th>\n",
       "      <th></th>\n",
       "      <th></th>\n",
       "      <th></th>\n",
       "      <th></th>\n",
       "      <th></th>\n",
       "      <th></th>\n",
       "      <th></th>\n",
       "      <th></th>\n",
       "      <th></th>\n",
       "      <th></th>\n",
       "      <th></th>\n",
       "      <th></th>\n",
       "      <th></th>\n",
       "      <th></th>\n",
       "      <th></th>\n",
       "      <th></th>\n",
       "      <th></th>\n",
       "    </tr>\n",
       "  </thead>\n",
       "  <tbody>\n",
       "    <tr>\n",
       "      <th rowspan=\"5\" valign=\"top\">AD</th>\n",
       "      <th rowspan=\"5\" valign=\"top\">Andorra</th>\n",
       "      <th rowspan=\"5\" valign=\"top\">Both</th>\n",
       "      <th>1986</th>\n",
       "      <td>3523.0</td>\n",
       "      <td>3170.0</td>\n",
       "      <td>4149.0</td>\n",
       "      <td>5125.0</td>\n",
       "      <td>4490.0</td>\n",
       "      <td>3859.0</td>\n",
       "      <td>2980.0</td>\n",
       "      <td>2295.0</td>\n",
       "      <td>3147.0</td>\n",
       "      <td>2266.0</td>\n",
       "      <td>2020.0</td>\n",
       "      <td>1753.0</td>\n",
       "      <td>1259.0</td>\n",
       "      <td>1055.0</td>\n",
       "      <td>NaN</td>\n",
       "      <td>2263.0</td>\n",
       "      <td>44593.0</td>\n",
       "    </tr>\n",
       "    <tr>\n",
       "      <th>1987</th>\n",
       "      <td>3662.0</td>\n",
       "      <td>3344.0</td>\n",
       "      <td>4367.0</td>\n",
       "      <td>5291.0</td>\n",
       "      <td>4835.0</td>\n",
       "      <td>4054.0</td>\n",
       "      <td>3245.0</td>\n",
       "      <td>2380.0</td>\n",
       "      <td>3229.0</td>\n",
       "      <td>2340.0</td>\n",
       "      <td>2139.0</td>\n",
       "      <td>1861.0</td>\n",
       "      <td>1377.0</td>\n",
       "      <td>1086.0</td>\n",
       "      <td>NaN</td>\n",
       "      <td>2400.0</td>\n",
       "      <td>46976.0</td>\n",
       "    </tr>\n",
       "    <tr>\n",
       "      <th>1988</th>\n",
       "      <td>3686.0</td>\n",
       "      <td>3497.0</td>\n",
       "      <td>4250.0</td>\n",
       "      <td>5384.0</td>\n",
       "      <td>5026.0</td>\n",
       "      <td>4208.0</td>\n",
       "      <td>3511.0</td>\n",
       "      <td>2475.0</td>\n",
       "      <td>3264.0</td>\n",
       "      <td>2405.0</td>\n",
       "      <td>2247.0</td>\n",
       "      <td>1937.0</td>\n",
       "      <td>1580.0</td>\n",
       "      <td>1115.0</td>\n",
       "      <td>NaN</td>\n",
       "      <td>2356.0</td>\n",
       "      <td>48451.0</td>\n",
       "    </tr>\n",
       "    <tr>\n",
       "      <th>1989</th>\n",
       "      <td>3741.0</td>\n",
       "      <td>3600.0</td>\n",
       "      <td>4259.0</td>\n",
       "      <td>5510.0</td>\n",
       "      <td>5288.0</td>\n",
       "      <td>4439.0</td>\n",
       "      <td>3812.0</td>\n",
       "      <td>2830.0</td>\n",
       "      <td>3296.0</td>\n",
       "      <td>2427.0</td>\n",
       "      <td>2412.0</td>\n",
       "      <td>2047.0</td>\n",
       "      <td>1741.0</td>\n",
       "      <td>1163.0</td>\n",
       "      <td>NaN</td>\n",
       "      <td>2285.0</td>\n",
       "      <td>50528.0</td>\n",
       "    </tr>\n",
       "    <tr>\n",
       "      <th>1990</th>\n",
       "      <td>3628.0</td>\n",
       "      <td>3734.0</td>\n",
       "      <td>4065.0</td>\n",
       "      <td>5327.0</td>\n",
       "      <td>5225.0</td>\n",
       "      <td>4448.0</td>\n",
       "      <td>3868.0</td>\n",
       "      <td>3099.0</td>\n",
       "      <td>3172.0</td>\n",
       "      <td>2407.0</td>\n",
       "      <td>2394.0</td>\n",
       "      <td>2141.0</td>\n",
       "      <td>1861.0</td>\n",
       "      <td>1183.0</td>\n",
       "      <td>1872.0</td>\n",
       "      <td>2463.0</td>\n",
       "      <td>50887.0</td>\n",
       "    </tr>\n",
       "    <tr>\n",
       "      <th>...</th>\n",
       "      <th>...</th>\n",
       "      <th>...</th>\n",
       "      <th>...</th>\n",
       "      <td>...</td>\n",
       "      <td>...</td>\n",
       "      <td>...</td>\n",
       "      <td>...</td>\n",
       "      <td>...</td>\n",
       "      <td>...</td>\n",
       "      <td>...</td>\n",
       "      <td>...</td>\n",
       "      <td>...</td>\n",
       "      <td>...</td>\n",
       "      <td>...</td>\n",
       "      <td>...</td>\n",
       "      <td>...</td>\n",
       "      <td>...</td>\n",
       "      <td>...</td>\n",
       "      <td>...</td>\n",
       "      <td>...</td>\n",
       "    </tr>\n",
       "    <tr>\n",
       "      <th rowspan=\"5\" valign=\"top\">XK</th>\n",
       "      <th rowspan=\"5\" valign=\"top\">Kosovo</th>\n",
       "      <th rowspan=\"5\" valign=\"top\">Male</th>\n",
       "      <th>2018</th>\n",
       "      <td>76869.0</td>\n",
       "      <td>88730.0</td>\n",
       "      <td>76891.0</td>\n",
       "      <td>71826.0</td>\n",
       "      <td>66047.0</td>\n",
       "      <td>60026.0</td>\n",
       "      <td>56649.0</td>\n",
       "      <td>50453.0</td>\n",
       "      <td>76404.0</td>\n",
       "      <td>46080.0</td>\n",
       "      <td>40077.0</td>\n",
       "      <td>32700.0</td>\n",
       "      <td>23017.0</td>\n",
       "      <td>17841.0</td>\n",
       "      <td>24193.0</td>\n",
       "      <td>80348.0</td>\n",
       "      <td>888151.0</td>\n",
       "    </tr>\n",
       "    <tr>\n",
       "      <th>2019</th>\n",
       "      <td>72925.0</td>\n",
       "      <td>85779.0</td>\n",
       "      <td>76032.0</td>\n",
       "      <td>69988.0</td>\n",
       "      <td>66709.0</td>\n",
       "      <td>60232.0</td>\n",
       "      <td>56507.0</td>\n",
       "      <td>51286.0</td>\n",
       "      <td>78690.0</td>\n",
       "      <td>46823.0</td>\n",
       "      <td>41506.0</td>\n",
       "      <td>34326.0</td>\n",
       "      <td>24974.0</td>\n",
       "      <td>17679.0</td>\n",
       "      <td>25495.0</td>\n",
       "      <td>76462.0</td>\n",
       "      <td>885413.0</td>\n",
       "    </tr>\n",
       "    <tr>\n",
       "      <th>2020</th>\n",
       "      <td>71438.0</td>\n",
       "      <td>83840.0</td>\n",
       "      <td>73498.0</td>\n",
       "      <td>67144.0</td>\n",
       "      <td>65903.0</td>\n",
       "      <td>59720.0</td>\n",
       "      <td>55495.0</td>\n",
       "      <td>51676.0</td>\n",
       "      <td>78863.0</td>\n",
       "      <td>47099.0</td>\n",
       "      <td>42479.0</td>\n",
       "      <td>34490.0</td>\n",
       "      <td>26387.0</td>\n",
       "      <td>17759.0</td>\n",
       "      <td>26128.0</td>\n",
       "      <td>72962.0</td>\n",
       "      <td>874881.0</td>\n",
       "    </tr>\n",
       "    <tr>\n",
       "      <th>2021</th>\n",
       "      <td>71577.0</td>\n",
       "      <td>77944.0</td>\n",
       "      <td>81016.0</td>\n",
       "      <td>68486.0</td>\n",
       "      <td>66884.0</td>\n",
       "      <td>61106.0</td>\n",
       "      <td>55818.0</td>\n",
       "      <td>53688.0</td>\n",
       "      <td>79206.0</td>\n",
       "      <td>46899.0</td>\n",
       "      <td>42860.0</td>\n",
       "      <td>35870.0</td>\n",
       "      <td>26815.0</td>\n",
       "      <td>18358.0</td>\n",
       "      <td>25345.0</td>\n",
       "      <td>72873.0</td>\n",
       "      <td>884745.0</td>\n",
       "    </tr>\n",
       "    <tr>\n",
       "      <th>2022</th>\n",
       "      <td>72887.0</td>\n",
       "      <td>73188.0</td>\n",
       "      <td>78720.0</td>\n",
       "      <td>65805.0</td>\n",
       "      <td>64329.0</td>\n",
       "      <td>60492.0</td>\n",
       "      <td>55644.0</td>\n",
       "      <td>53075.0</td>\n",
       "      <td>75993.0</td>\n",
       "      <td>47485.0</td>\n",
       "      <td>43129.0</td>\n",
       "      <td>36556.0</td>\n",
       "      <td>28138.0</td>\n",
       "      <td>17898.0</td>\n",
       "      <td>25314.0</td>\n",
       "      <td>71774.0</td>\n",
       "      <td>870427.0</td>\n",
       "    </tr>\n",
       "  </tbody>\n",
       "</table>\n",
       "<p>7415 rows × 17 columns</p>\n",
       "</div>"
      ],
      "text/plain": [
       "age                               10-14    15-19    20-24    25-29    30-34  \\\n",
       "country_code country sex  year                                                \n",
       "AD           Andorra Both 1986   3523.0   3170.0   4149.0   5125.0   4490.0   \n",
       "                          1987   3662.0   3344.0   4367.0   5291.0   4835.0   \n",
       "                          1988   3686.0   3497.0   4250.0   5384.0   5026.0   \n",
       "                          1989   3741.0   3600.0   4259.0   5510.0   5288.0   \n",
       "                          1990   3628.0   3734.0   4065.0   5327.0   5225.0   \n",
       "...                                 ...      ...      ...      ...      ...   \n",
       "XK           Kosovo  Male 2018  76869.0  88730.0  76891.0  71826.0  66047.0   \n",
       "                          2019  72925.0  85779.0  76032.0  69988.0  66709.0   \n",
       "                          2020  71438.0  83840.0  73498.0  67144.0  65903.0   \n",
       "                          2021  71577.0  77944.0  81016.0  68486.0  66884.0   \n",
       "                          2022  72887.0  73188.0  78720.0  65805.0  64329.0   \n",
       "\n",
       "age                               35-39    40-44    45-49      5-9    50-54  \\\n",
       "country_code country sex  year                                                \n",
       "AD           Andorra Both 1986   3859.0   2980.0   2295.0   3147.0   2266.0   \n",
       "                          1987   4054.0   3245.0   2380.0   3229.0   2340.0   \n",
       "                          1988   4208.0   3511.0   2475.0   3264.0   2405.0   \n",
       "                          1989   4439.0   3812.0   2830.0   3296.0   2427.0   \n",
       "                          1990   4448.0   3868.0   3099.0   3172.0   2407.0   \n",
       "...                                 ...      ...      ...      ...      ...   \n",
       "XK           Kosovo  Male 2018  60026.0  56649.0  50453.0  76404.0  46080.0   \n",
       "                          2019  60232.0  56507.0  51286.0  78690.0  46823.0   \n",
       "                          2020  59720.0  55495.0  51676.0  78863.0  47099.0   \n",
       "                          2021  61106.0  55818.0  53688.0  79206.0  46899.0   \n",
       "                          2022  60492.0  55644.0  53075.0  75993.0  47485.0   \n",
       "\n",
       "age                               55-59    60-64    65-69    70-74      75<  \\\n",
       "country_code country sex  year                                                \n",
       "AD           Andorra Both 1986   2020.0   1753.0   1259.0   1055.0      NaN   \n",
       "                          1987   2139.0   1861.0   1377.0   1086.0      NaN   \n",
       "                          1988   2247.0   1937.0   1580.0   1115.0      NaN   \n",
       "                          1989   2412.0   2047.0   1741.0   1163.0      NaN   \n",
       "                          1990   2394.0   2141.0   1861.0   1183.0   1872.0   \n",
       "...                                 ...      ...      ...      ...      ...   \n",
       "XK           Kosovo  Male 2018  40077.0  32700.0  23017.0  17841.0  24193.0   \n",
       "                          2019  41506.0  34326.0  24974.0  17679.0  25495.0   \n",
       "                          2020  42479.0  34490.0  26387.0  17759.0  26128.0   \n",
       "                          2021  42860.0  35870.0  26815.0  18358.0  25345.0   \n",
       "                          2022  43129.0  36556.0  28138.0  17898.0  25314.0   \n",
       "\n",
       "age                                  <5     Total  \n",
       "country_code country sex  year                     \n",
       "AD           Andorra Both 1986   2263.0   44593.0  \n",
       "                          1987   2400.0   46976.0  \n",
       "                          1988   2356.0   48451.0  \n",
       "                          1989   2285.0   50528.0  \n",
       "                          1990   2463.0   50887.0  \n",
       "...                                 ...       ...  \n",
       "XK           Kosovo  Male 2018  80348.0  888151.0  \n",
       "                          2019  76462.0  885413.0  \n",
       "                          2020  72962.0  874881.0  \n",
       "                          2021  72873.0  884745.0  \n",
       "                          2022  71774.0  870427.0  \n",
       "\n",
       "[7415 rows x 17 columns]"
      ]
     },
     "execution_count": 28,
     "metadata": {},
     "output_type": "execute_result"
    }
   ],
   "source": [
    "df_pivoted = df.pivot(index=['country_code', 'country', 'sex', 'year'], columns='age', values='population')\n",
    "pivoted_cols_rearr = ['Total', '<5', '5-9', '10-14', '15-19', '20-24', '25-29',\n",
    "                '30-34', '35-39', '40-44', '45-49', '50-54', '55-59',\n",
    "                '60-64', '65-69', '70-74', '75<']\n",
    "df_pivoted = "
   ]
  },
  {
   "cell_type": "code",
   "execution_count": null,
   "id": "4c4113bf",
   "metadata": {},
   "outputs": [],
   "source": [
    "df_pivoted.melt(id_vars=['country_code', 'country', 'sex', 'year'], value_vars=df.columns[3:], var_name='age', value_name='poplation'"
   ]
  },
  {
   "cell_type": "markdown",
   "id": "5fba332d",
   "metadata": {},
   "source": [
    "# EDA"
   ]
  },
  {
   "cell_type": "code",
   "execution_count": 6,
   "id": "eccc33e5",
   "metadata": {},
   "outputs": [
    {
     "name": "stdout",
     "output_type": "stream",
     "text": [
      "Libraries imported.\n"
     ]
    }
   ],
   "source": [
    "import plotly.express as px\n",
    "print(\"Libraries imported.\")"
   ]
  },
  {
   "cell_type": "code",
   "execution_count": 13,
   "id": "4741ff1d",
   "metadata": {},
   "outputs": [],
   "source": [
    "country, year = \"Andorra\", 2019"
   ]
  },
  {
   "cell_type": "code",
   "execution_count": 15,
   "id": "3008df01",
   "metadata": {},
   "outputs": [
    {
     "data": {
      "application/vnd.plotly.v1+json": {
       "config": {
        "plotlyServerURL": "https://plot.ly"
       },
       "data": [
        {
         "alignmentgroup": "True",
         "hovertemplate": "sex=Female<br>year=1986<br>population=%{x}<br>age=%{y}<extra></extra>",
         "legendgroup": "Female",
         "marker": {
          "color": "#636efa",
          "pattern": {
           "shape": ""
          }
         },
         "name": "Female",
         "offsetgroup": "Female",
         "orientation": "h",
         "showlegend": true,
         "textposition": "auto",
         "type": "bar",
         "x": [
          20898,
          1704,
          1530,
          1993,
          2298,
          2016,
          1764,
          1319,
          1081,
          1496,
          1024,
          1003,
          862,
          592,
          483,
          1099
         ],
         "xaxis": "x",
         "y": [
          "Total",
          "10-14",
          "15-19",
          "20-24",
          "25-29",
          "30-34",
          "35-39",
          "40-44",
          "45-49",
          "5-9",
          "50-54",
          "55-59",
          "60-64",
          "65-69",
          "70-74",
          "<5"
         ],
         "yaxis": "y"
        },
        {
         "alignmentgroup": "True",
         "hovertemplate": "sex=Male<br>year=1986<br>population=%{x}<br>age=%{y}<extra></extra>",
         "legendgroup": "Male",
         "marker": {
          "color": "#EF553B",
          "pattern": {
           "shape": ""
          }
         },
         "name": "Male",
         "offsetgroup": "Male",
         "orientation": "h",
         "showlegend": true,
         "textposition": "auto",
         "type": "bar",
         "x": [
          23695,
          1819,
          1640,
          2156,
          2827,
          2474,
          2095,
          1661,
          1214,
          1651,
          1242,
          1017,
          891,
          667,
          572,
          1164
         ],
         "xaxis": "x",
         "y": [
          "Total",
          "10-14",
          "15-19",
          "20-24",
          "25-29",
          "30-34",
          "35-39",
          "40-44",
          "45-49",
          "5-9",
          "50-54",
          "55-59",
          "60-64",
          "65-69",
          "70-74",
          "<5"
         ],
         "yaxis": "y"
        }
       ],
       "frames": [
        {
         "data": [
          {
           "alignmentgroup": "True",
           "hovertemplate": "sex=Female<br>year=1986<br>population=%{x}<br>age=%{y}<extra></extra>",
           "legendgroup": "Female",
           "marker": {
            "color": "#636efa",
            "pattern": {
             "shape": ""
            }
           },
           "name": "Female",
           "offsetgroup": "Female",
           "orientation": "h",
           "showlegend": true,
           "textposition": "auto",
           "type": "bar",
           "x": [
            20898,
            1704,
            1530,
            1993,
            2298,
            2016,
            1764,
            1319,
            1081,
            1496,
            1024,
            1003,
            862,
            592,
            483,
            1099
           ],
           "xaxis": "x",
           "y": [
            "Total",
            "10-14",
            "15-19",
            "20-24",
            "25-29",
            "30-34",
            "35-39",
            "40-44",
            "45-49",
            "5-9",
            "50-54",
            "55-59",
            "60-64",
            "65-69",
            "70-74",
            "<5"
           ],
           "yaxis": "y"
          },
          {
           "alignmentgroup": "True",
           "hovertemplate": "sex=Male<br>year=1986<br>population=%{x}<br>age=%{y}<extra></extra>",
           "legendgroup": "Male",
           "marker": {
            "color": "#EF553B",
            "pattern": {
             "shape": ""
            }
           },
           "name": "Male",
           "offsetgroup": "Male",
           "orientation": "h",
           "showlegend": true,
           "textposition": "auto",
           "type": "bar",
           "x": [
            23695,
            1819,
            1640,
            2156,
            2827,
            2474,
            2095,
            1661,
            1214,
            1651,
            1242,
            1017,
            891,
            667,
            572,
            1164
           ],
           "xaxis": "x",
           "y": [
            "Total",
            "10-14",
            "15-19",
            "20-24",
            "25-29",
            "30-34",
            "35-39",
            "40-44",
            "45-49",
            "5-9",
            "50-54",
            "55-59",
            "60-64",
            "65-69",
            "70-74",
            "<5"
           ],
           "yaxis": "y"
          }
         ],
         "name": "1986"
        },
        {
         "data": [
          {
           "alignmentgroup": "True",
           "hovertemplate": "sex=Female<br>year=1987<br>population=%{x}<br>age=%{y}<extra></extra>",
           "legendgroup": "Female",
           "marker": {
            "color": "#636efa",
            "pattern": {
             "shape": ""
            }
           },
           "name": "Female",
           "offsetgroup": "Female",
           "orientation": "h",
           "showlegend": true,
           "textposition": "auto",
           "type": "bar",
           "x": [
            22148,
            1759,
            1619,
            2153,
            2387,
            2190,
            1828,
            1472,
            1117,
            1588,
            1079,
            1025,
            928,
            657,
            507,
            1153
           ],
           "xaxis": "x",
           "y": [
            "Total",
            "10-14",
            "15-19",
            "20-24",
            "25-29",
            "30-34",
            "35-39",
            "40-44",
            "45-49",
            "5-9",
            "50-54",
            "55-59",
            "60-64",
            "65-69",
            "70-74",
            "<5"
           ],
           "yaxis": "y"
          },
          {
           "alignmentgroup": "True",
           "hovertemplate": "sex=Male<br>year=1987<br>population=%{x}<br>age=%{y}<extra></extra>",
           "legendgroup": "Male",
           "marker": {
            "color": "#EF553B",
            "pattern": {
             "shape": ""
            }
           },
           "name": "Male",
           "offsetgroup": "Male",
           "orientation": "h",
           "showlegend": true,
           "textposition": "auto",
           "type": "bar",
           "x": [
            24828,
            1903,
            1725,
            2214,
            2904,
            2645,
            2226,
            1773,
            1263,
            1641,
            1261,
            1114,
            933,
            720,
            579,
            1247
           ],
           "xaxis": "x",
           "y": [
            "Total",
            "10-14",
            "15-19",
            "20-24",
            "25-29",
            "30-34",
            "35-39",
            "40-44",
            "45-49",
            "5-9",
            "50-54",
            "55-59",
            "60-64",
            "65-69",
            "70-74",
            "<5"
           ],
           "yaxis": "y"
          }
         ],
         "name": "1987"
        },
        {
         "data": [
          {
           "alignmentgroup": "True",
           "hovertemplate": "sex=Female<br>year=1988<br>population=%{x}<br>age=%{y}<extra></extra>",
           "legendgroup": "Female",
           "marker": {
            "color": "#636efa",
            "pattern": {
             "shape": ""
            }
           },
           "name": "Female",
           "offsetgroup": "Female",
           "orientation": "h",
           "showlegend": true,
           "textposition": "auto",
           "type": "bar",
           "x": [
            22814,
            1772,
            1685,
            2057,
            2527,
            2257,
            1883,
            1565,
            1163,
            1574,
            1117,
            1058,
            954,
            784,
            521,
            1129
           ],
           "xaxis": "x",
           "y": [
            "Total",
            "10-14",
            "15-19",
            "20-24",
            "25-29",
            "30-34",
            "35-39",
            "40-44",
            "45-49",
            "5-9",
            "50-54",
            "55-59",
            "60-64",
            "65-69",
            "70-74",
            "<5"
           ],
           "yaxis": "y"
          },
          {
           "alignmentgroup": "True",
           "hovertemplate": "sex=Male<br>year=1988<br>population=%{x}<br>age=%{y}<extra></extra>",
           "legendgroup": "Male",
           "marker": {
            "color": "#EF553B",
            "pattern": {
             "shape": ""
            }
           },
           "name": "Male",
           "offsetgroup": "Male",
           "orientation": "h",
           "showlegend": true,
           "textposition": "auto",
           "type": "bar",
           "x": [
            25637,
            1914,
            1812,
            2193,
            2857,
            2769,
            2325,
            1946,
            1312,
            1690,
            1288,
            1189,
            983,
            796,
            594,
            1227
           ],
           "xaxis": "x",
           "y": [
            "Total",
            "10-14",
            "15-19",
            "20-24",
            "25-29",
            "30-34",
            "35-39",
            "40-44",
            "45-49",
            "5-9",
            "50-54",
            "55-59",
            "60-64",
            "65-69",
            "70-74",
            "<5"
           ],
           "yaxis": "y"
          }
         ],
         "name": "1988"
        },
        {
         "data": [
          {
           "alignmentgroup": "True",
           "hovertemplate": "sex=Female<br>year=1989<br>population=%{x}<br>age=%{y}<extra></extra>",
           "legendgroup": "Female",
           "marker": {
            "color": "#636efa",
            "pattern": {
             "shape": ""
            }
           },
           "name": "Female",
           "offsetgroup": "Female",
           "orientation": "h",
           "showlegend": true,
           "textposition": "auto",
           "type": "bar",
           "x": [
            23813,
            1795,
            1747,
            2070,
            2586,
            2406,
            1984,
            1690,
            1329,
            1606,
            1120,
            1149,
            993,
            849,
            537,
            1099
           ],
           "xaxis": "x",
           "y": [
            "Total",
            "10-14",
            "15-19",
            "20-24",
            "25-29",
            "30-34",
            "35-39",
            "40-44",
            "45-49",
            "5-9",
            "50-54",
            "55-59",
            "60-64",
            "65-69",
            "70-74",
            "<5"
           ],
           "yaxis": "y"
          },
          {
           "alignmentgroup": "True",
           "hovertemplate": "sex=Male<br>year=1989<br>population=%{x}<br>age=%{y}<extra></extra>",
           "legendgroup": "Male",
           "marker": {
            "color": "#EF553B",
            "pattern": {
             "shape": ""
            }
           },
           "name": "Male",
           "offsetgroup": "Male",
           "orientation": "h",
           "showlegend": true,
           "textposition": "auto",
           "type": "bar",
           "x": [
            26715,
            1946,
            1853,
            2189,
            2924,
            2882,
            2455,
            2122,
            1501,
            1690,
            1307,
            1263,
            1054,
            892,
            626,
            1186
           ],
           "xaxis": "x",
           "y": [
            "Total",
            "10-14",
            "15-19",
            "20-24",
            "25-29",
            "30-34",
            "35-39",
            "40-44",
            "45-49",
            "5-9",
            "50-54",
            "55-59",
            "60-64",
            "65-69",
            "70-74",
            "<5"
           ],
           "yaxis": "y"
          }
         ],
         "name": "1989"
        },
        {
         "data": [
          {
           "alignmentgroup": "True",
           "hovertemplate": "sex=Female<br>year=1990<br>population=%{x}<br>age=%{y}<extra></extra>",
           "legendgroup": "Female",
           "marker": {
            "color": "#636efa",
            "pattern": {
             "shape": ""
            }
           },
           "name": "Female",
           "offsetgroup": "Female",
           "orientation": "h",
           "showlegend": true,
           "textposition": "auto",
           "type": "bar",
           "x": [
            24171,
            1712,
            1798,
            1997,
            2558,
            2417,
            2019,
            1759,
            1450,
            1562,
            1135,
            1134,
            1031,
            924,
            544,
            949,
            1182
           ],
           "xaxis": "x",
           "y": [
            "Total",
            "10-14",
            "15-19",
            "20-24",
            "25-29",
            "30-34",
            "35-39",
            "40-44",
            "45-49",
            "5-9",
            "50-54",
            "55-59",
            "60-64",
            "65-69",
            "70-74",
            "75<",
            "<5"
           ],
           "yaxis": "y"
          },
          {
           "alignmentgroup": "True",
           "hovertemplate": "sex=Male<br>year=1990<br>population=%{x}<br>age=%{y}<extra></extra>",
           "legendgroup": "Male",
           "marker": {
            "color": "#EF553B",
            "pattern": {
             "shape": ""
            }
           },
           "name": "Male",
           "offsetgroup": "Male",
           "orientation": "h",
           "showlegend": true,
           "textposition": "auto",
           "type": "bar",
           "x": [
            26716,
            1916,
            1936,
            2068,
            2769,
            2808,
            2429,
            2109,
            1649,
            1610,
            1272,
            1260,
            1110,
            937,
            639,
            923,
            1281
           ],
           "xaxis": "x",
           "y": [
            "Total",
            "10-14",
            "15-19",
            "20-24",
            "25-29",
            "30-34",
            "35-39",
            "40-44",
            "45-49",
            "5-9",
            "50-54",
            "55-59",
            "60-64",
            "65-69",
            "70-74",
            "75<",
            "<5"
           ],
           "yaxis": "y"
          }
         ],
         "name": "1990"
        },
        {
         "data": [
          {
           "alignmentgroup": "True",
           "hovertemplate": "sex=Female<br>year=1991<br>population=%{x}<br>age=%{y}<extra></extra>",
           "legendgroup": "Female",
           "marker": {
            "color": "#636efa",
            "pattern": {
             "shape": ""
            }
           },
           "name": "Female",
           "offsetgroup": "Female",
           "orientation": "h",
           "showlegend": true,
           "textposition": "auto",
           "type": "bar",
           "x": [
            25542,
            1760,
            1895,
            2111,
            2742,
            2596,
            2181,
            1877,
            1502,
            1536,
            1210,
            1133,
            1104,
            945,
            637,
            1019,
            1294
           ],
           "xaxis": "x",
           "y": [
            "Total",
            "10-14",
            "15-19",
            "20-24",
            "25-29",
            "30-34",
            "35-39",
            "40-44",
            "45-49",
            "5-9",
            "50-54",
            "55-59",
            "60-64",
            "65-69",
            "70-74",
            "75<",
            "<5"
           ],
           "yaxis": "y"
          },
          {
           "alignmentgroup": "True",
           "hovertemplate": "sex=Male<br>year=1991<br>population=%{x}<br>age=%{y}<extra></extra>",
           "legendgroup": "Male",
           "marker": {
            "color": "#EF553B",
            "pattern": {
             "shape": ""
            }
           },
           "name": "Male",
           "offsetgroup": "Male",
           "orientation": "h",
           "showlegend": true,
           "textposition": "auto",
           "type": "bar",
           "x": [
            28965,
            1881,
            2064,
            2414,
            3180,
            3196,
            2626,
            2211,
            1816,
            1620,
            1370,
            1336,
            1142,
            1011,
            676,
            999,
            1423
           ],
           "xaxis": "x",
           "y": [
            "Total",
            "10-14",
            "15-19",
            "20-24",
            "25-29",
            "30-34",
            "35-39",
            "40-44",
            "45-49",
            "5-9",
            "50-54",
            "55-59",
            "60-64",
            "65-69",
            "70-74",
            "75<",
            "<5"
           ],
           "yaxis": "y"
          }
         ],
         "name": "1991"
        },
        {
         "data": [
          {
           "alignmentgroup": "True",
           "hovertemplate": "sex=Female<br>year=1992<br>population=%{x}<br>age=%{y}<extra></extra>",
           "legendgroup": "Female",
           "marker": {
            "color": "#636efa",
            "pattern": {
             "shape": ""
            }
           },
           "name": "Female",
           "offsetgroup": "Female",
           "orientation": "h",
           "showlegend": true,
           "textposition": "auto",
           "type": "bar",
           "x": [
            27572,
            1755,
            1980,
            2592,
            3153,
            2842,
            2332,
            1943,
            1648,
            1550,
            1235,
            1227,
            1122,
            984,
            688,
            1069,
            1452
           ],
           "xaxis": "x",
           "y": [
            "Total",
            "10-14",
            "15-19",
            "20-24",
            "25-29",
            "30-34",
            "35-39",
            "40-44",
            "45-49",
            "5-9",
            "50-54",
            "55-59",
            "60-64",
            "65-69",
            "70-74",
            "75<",
            "<5"
           ],
           "yaxis": "y"
          },
          {
           "alignmentgroup": "True",
           "hovertemplate": "sex=Male<br>year=1992<br>population=%{x}<br>age=%{y}<extra></extra>",
           "legendgroup": "Male",
           "marker": {
            "color": "#EF553B",
            "pattern": {
             "shape": ""
            }
           },
           "name": "Male",
           "offsetgroup": "Male",
           "orientation": "h",
           "showlegend": true,
           "textposition": "auto",
           "type": "bar",
           "x": [
            31476,
            1874,
            2185,
            2896,
            3705,
            3570,
            2868,
            2399,
            1915,
            1655,
            1395,
            1374,
            1254,
            1028,
            736,
            1061,
            1561
           ],
           "xaxis": "x",
           "y": [
            "Total",
            "10-14",
            "15-19",
            "20-24",
            "25-29",
            "30-34",
            "35-39",
            "40-44",
            "45-49",
            "5-9",
            "50-54",
            "55-59",
            "60-64",
            "65-69",
            "70-74",
            "75<",
            "<5"
           ],
           "yaxis": "y"
          }
         ],
         "name": "1992"
        },
        {
         "data": [
          {
           "alignmentgroup": "True",
           "hovertemplate": "sex=Female<br>year=1993<br>population=%{x}<br>age=%{y}<extra></extra>",
           "legendgroup": "Female",
           "marker": {
            "color": "#636efa",
            "pattern": {
             "shape": ""
            }
           },
           "name": "Female",
           "offsetgroup": "Female",
           "orientation": "h",
           "showlegend": true,
           "textposition": "auto",
           "type": "bar",
           "x": [
            28864,
            1775,
            1970,
            2780,
            3325,
            3060,
            2430,
            2051,
            1713,
            1495,
            1331,
            1248,
            1159,
            989,
            795,
            1165,
            1578
           ],
           "xaxis": "x",
           "y": [
            "Total",
            "10-14",
            "15-19",
            "20-24",
            "25-29",
            "30-34",
            "35-39",
            "40-44",
            "45-49",
            "5-9",
            "50-54",
            "55-59",
            "60-64",
            "65-69",
            "70-74",
            "75<",
            "<5"
           ],
           "yaxis": "y"
          },
          {
           "alignmentgroup": "True",
           "hovertemplate": "sex=Male<br>year=1993<br>population=%{x}<br>age=%{y}<extra></extra>",
           "legendgroup": "Male",
           "marker": {
            "color": "#EF553B",
            "pattern": {
             "shape": ""
            }
           },
           "name": "Male",
           "offsetgroup": "Male",
           "orientation": "h",
           "showlegend": true,
           "textposition": "auto",
           "type": "bar",
           "x": [
            32735,
            1884,
            2123,
            3039,
            3824,
            3681,
            2990,
            2548,
            2121,
            1637,
            1437,
            1432,
            1297,
            1070,
            808,
            1176,
            1668
           ],
           "xaxis": "x",
           "y": [
            "Total",
            "10-14",
            "15-19",
            "20-24",
            "25-29",
            "30-34",
            "35-39",
            "40-44",
            "45-49",
            "5-9",
            "50-54",
            "55-59",
            "60-64",
            "65-69",
            "70-74",
            "75<",
            "<5"
           ],
           "yaxis": "y"
          }
         ],
         "name": "1993"
        },
        {
         "data": [
          {
           "alignmentgroup": "True",
           "hovertemplate": "sex=Female<br>year=1994<br>population=%{x}<br>age=%{y}<extra></extra>",
           "legendgroup": "Female",
           "marker": {
            "color": "#636efa",
            "pattern": {
             "shape": ""
            }
           },
           "name": "Female",
           "offsetgroup": "Female",
           "orientation": "h",
           "showlegend": true,
           "textposition": "auto",
           "type": "bar",
           "x": [
            30406,
            1818,
            1996,
            2714,
            3450,
            3296,
            2725,
            2229,
            1848,
            1514,
            1519,
            1258,
            1239,
            1061,
            839,
            1266,
            1634
           ],
           "xaxis": "x",
           "y": [
            "Total",
            "10-14",
            "15-19",
            "20-24",
            "25-29",
            "30-34",
            "35-39",
            "40-44",
            "45-49",
            "5-9",
            "50-54",
            "55-59",
            "60-64",
            "65-69",
            "70-74",
            "75<",
            "<5"
           ],
           "yaxis": "y"
          },
          {
           "alignmentgroup": "True",
           "hovertemplate": "sex=Male<br>year=1994<br>population=%{x}<br>age=%{y}<extra></extra>",
           "legendgroup": "Male",
           "marker": {
            "color": "#EF553B",
            "pattern": {
             "shape": ""
            }
           },
           "name": "Male",
           "offsetgroup": "Male",
           "orientation": "h",
           "showlegend": true,
           "textposition": "auto",
           "type": "bar",
           "x": [
            34820,
            1946,
            2143,
            2912,
            3875,
            3988,
            3385,
            2873,
            2402,
            1663,
            1674,
            1489,
            1386,
            1147,
            898,
            1315,
            1724
           ],
           "xaxis": "x",
           "y": [
            "Total",
            "10-14",
            "15-19",
            "20-24",
            "25-29",
            "30-34",
            "35-39",
            "40-44",
            "45-49",
            "5-9",
            "50-54",
            "55-59",
            "60-64",
            "65-69",
            "70-74",
            "75<",
            "<5"
           ],
           "yaxis": "y"
          }
         ],
         "name": "1994"
        },
        {
         "data": [
          {
           "alignmentgroup": "True",
           "hovertemplate": "sex=Female<br>year=1995<br>population=%{x}<br>age=%{y}<extra></extra>",
           "legendgroup": "Female",
           "marker": {
            "color": "#636efa",
            "pattern": {
             "shape": ""
            }
           },
           "name": "Female",
           "offsetgroup": "Female",
           "orientation": "h",
           "showlegend": true,
           "textposition": "auto",
           "type": "bar",
           "x": [
            30228,
            1718,
            1869,
            2586,
            3392,
            3309,
            2766,
            2218,
            1907,
            1546,
            1596,
            1242,
            1214,
            1086,
            905,
            1285,
            1589
           ],
           "xaxis": "x",
           "y": [
            "Total",
            "10-14",
            "15-19",
            "20-24",
            "25-29",
            "30-34",
            "35-39",
            "40-44",
            "45-49",
            "5-9",
            "50-54",
            "55-59",
            "60-64",
            "65-69",
            "70-74",
            "75<",
            "<5"
           ],
           "yaxis": "y"
          },
          {
           "alignmentgroup": "True",
           "hovertemplate": "sex=Male<br>year=1995<br>population=%{x}<br>age=%{y}<extra></extra>",
           "legendgroup": "Male",
           "marker": {
            "color": "#EF553B",
            "pattern": {
             "shape": ""
            }
           },
           "name": "Male",
           "offsetgroup": "Male",
           "orientation": "h",
           "showlegend": true,
           "textposition": "auto",
           "type": "bar",
           "x": [
            34083,
            1795,
            2074,
            2726,
            3608,
            3822,
            3394,
            2840,
            2389,
            1697,
            1845,
            1417,
            1375,
            1181,
            911,
            1284,
            1725
           ],
           "xaxis": "x",
           "y": [
            "Total",
            "10-14",
            "15-19",
            "20-24",
            "25-29",
            "30-34",
            "35-39",
            "40-44",
            "45-49",
            "5-9",
            "50-54",
            "55-59",
            "60-64",
            "65-69",
            "70-74",
            "75<",
            "<5"
           ],
           "yaxis": "y"
          }
         ],
         "name": "1995"
        },
        {
         "data": [
          {
           "alignmentgroup": "True",
           "hovertemplate": "sex=Female<br>year=1996<br>population=%{x}<br>age=%{y}<extra></extra>",
           "legendgroup": "Female",
           "marker": {
            "color": "#636efa",
            "pattern": {
             "shape": ""
            }
           },
           "name": "Female",
           "offsetgroup": "Female",
           "orientation": "h",
           "showlegend": true,
           "textposition": "auto",
           "type": "bar",
           "x": [
            30200,
            1653,
            1801,
            2508,
            3257,
            3288,
            2820,
            2248,
            2010,
            1541,
            1585,
            1293,
            1167,
            1138,
            902,
            1386,
            1603
           ],
           "xaxis": "x",
           "y": [
            "Total",
            "10-14",
            "15-19",
            "20-24",
            "25-29",
            "30-34",
            "35-39",
            "40-44",
            "45-49",
            "5-9",
            "50-54",
            "55-59",
            "60-64",
            "65-69",
            "70-74",
            "75<",
            "<5"
           ],
           "yaxis": "y"
          },
          {
           "alignmentgroup": "True",
           "hovertemplate": "sex=Male<br>year=1996<br>population=%{x}<br>age=%{y}<extra></extra>",
           "legendgroup": "Male",
           "marker": {
            "color": "#EF553B",
            "pattern": {
             "shape": ""
            }
           },
           "name": "Male",
           "offsetgroup": "Male",
           "orientation": "h",
           "showlegend": true,
           "textposition": "auto",
           "type": "bar",
           "x": [
            33659,
            1724,
            1994,
            2566,
            3387,
            3683,
            3382,
            2756,
            2480,
            1714,
            1904,
            1437,
            1401,
            1167,
            970,
            1348,
            1746
           ],
           "xaxis": "x",
           "y": [
            "Total",
            "10-14",
            "15-19",
            "20-24",
            "25-29",
            "30-34",
            "35-39",
            "40-44",
            "45-49",
            "5-9",
            "50-54",
            "55-59",
            "60-64",
            "65-69",
            "70-74",
            "75<",
            "<5"
           ],
           "yaxis": "y"
          }
         ],
         "name": "1996"
        },
        {
         "data": [
          {
           "alignmentgroup": "True",
           "hovertemplate": "sex=Female<br>year=1997<br>population=%{x}<br>age=%{y}<extra></extra>",
           "legendgroup": "Female",
           "marker": {
            "color": "#636efa",
            "pattern": {
             "shape": ""
            }
           },
           "name": "Female",
           "offsetgroup": "Female",
           "orientation": "h",
           "showlegend": true,
           "textposition": "auto",
           "type": "bar",
           "x": [
            30627,
            1625,
            1802,
            2470,
            3219,
            3365,
            2854,
            2350,
            2044,
            1600,
            1678,
            1272,
            1224,
            1124,
            946,
            1496,
            1558
           ],
           "xaxis": "x",
           "y": [
            "Total",
            "10-14",
            "15-19",
            "20-24",
            "25-29",
            "30-34",
            "35-39",
            "40-44",
            "45-49",
            "5-9",
            "50-54",
            "55-59",
            "60-64",
            "65-69",
            "70-74",
            "75<",
            "<5"
           ],
           "yaxis": "y"
          },
          {
           "alignmentgroup": "True",
           "hovertemplate": "sex=Male<br>year=1997<br>population=%{x}<br>age=%{y}<extra></extra>",
           "legendgroup": "Male",
           "marker": {
            "color": "#EF553B",
            "pattern": {
             "shape": ""
            }
           },
           "name": "Male",
           "offsetgroup": "Male",
           "orientation": "h",
           "showlegend": true,
           "textposition": "auto",
           "type": "bar",
           "x": [
            33852,
            1697,
            1930,
            2475,
            3256,
            3712,
            3456,
            2865,
            2522,
            1737,
            1991,
            1405,
            1393,
            1239,
            978,
            1432,
            1764
           ],
           "xaxis": "x",
           "y": [
            "Total",
            "10-14",
            "15-19",
            "20-24",
            "25-29",
            "30-34",
            "35-39",
            "40-44",
            "45-49",
            "5-9",
            "50-54",
            "55-59",
            "60-64",
            "65-69",
            "70-74",
            "75<",
            "<5"
           ],
           "yaxis": "y"
          }
         ],
         "name": "1997"
        },
        {
         "data": [
          {
           "alignmentgroup": "True",
           "hovertemplate": "sex=Female<br>year=1998<br>population=%{x}<br>age=%{y}<extra></extra>",
           "legendgroup": "Female",
           "marker": {
            "color": "#636efa",
            "pattern": {
             "shape": ""
            }
           },
           "name": "Female",
           "offsetgroup": "Female",
           "orientation": "h",
           "showlegend": true,
           "textposition": "auto",
           "type": "bar",
           "x": [
            31025,
            1517,
            1786,
            2381,
            3225,
            3385,
            2986,
            2430,
            2072,
            1687,
            1729,
            1334,
            1206,
            1141,
            967,
            1633,
            1546
           ],
           "xaxis": "x",
           "y": [
            "Total",
            "10-14",
            "15-19",
            "20-24",
            "25-29",
            "30-34",
            "35-39",
            "40-44",
            "45-49",
            "5-9",
            "50-54",
            "55-59",
            "60-64",
            "65-69",
            "70-74",
            "75<",
            "<5"
           ],
           "yaxis": "y"
          },
          {
           "alignmentgroup": "True",
           "hovertemplate": "sex=Male<br>year=1998<br>population=%{x}<br>age=%{y}<extra></extra>",
           "legendgroup": "Male",
           "marker": {
            "color": "#EF553B",
            "pattern": {
             "shape": ""
            }
           },
           "name": "Male",
           "offsetgroup": "Male",
           "orientation": "h",
           "showlegend": true,
           "textposition": "auto",
           "type": "bar",
           "x": [
            34281,
            1689,
            1908,
            2425,
            3193,
            3696,
            3491,
            2971,
            2594,
            1795,
            2126,
            1459,
            1392,
            1259,
            989,
            1526,
            1768
           ],
           "xaxis": "x",
           "y": [
            "Total",
            "10-14",
            "15-19",
            "20-24",
            "25-29",
            "30-34",
            "35-39",
            "40-44",
            "45-49",
            "5-9",
            "50-54",
            "55-59",
            "60-64",
            "65-69",
            "70-74",
            "75<",
            "<5"
           ],
           "yaxis": "y"
          }
         ],
         "name": "1998"
        },
        {
         "data": [
          {
           "alignmentgroup": "True",
           "hovertemplate": "sex=Female<br>year=1999<br>population=%{x}<br>age=%{y}<extra></extra>",
           "legendgroup": "Female",
           "marker": {
            "color": "#636efa",
            "pattern": {
             "shape": ""
            }
           },
           "name": "Female",
           "offsetgroup": "Female",
           "orientation": "h",
           "showlegend": true,
           "textposition": "auto",
           "type": "bar",
           "x": [
            31384,
            1512,
            1760,
            2341,
            3092,
            3404,
            3072,
            2527,
            2090,
            1716,
            1788,
            1474,
            1181,
            1154,
            995,
            1721,
            1557
           ],
           "xaxis": "x",
           "y": [
            "Total",
            "10-14",
            "15-19",
            "20-24",
            "25-29",
            "30-34",
            "35-39",
            "40-44",
            "45-49",
            "5-9",
            "50-54",
            "55-59",
            "60-64",
            "65-69",
            "70-74",
            "75<",
            "<5"
           ],
           "yaxis": "y"
          },
          {
           "alignmentgroup": "True",
           "hovertemplate": "sex=Male<br>year=1999<br>population=%{x}<br>age=%{y}<extra></extra>",
           "legendgroup": "Male",
           "marker": {
            "color": "#EF553B",
            "pattern": {
             "shape": ""
            }
           },
           "name": "Male",
           "offsetgroup": "Male",
           "orientation": "h",
           "showlegend": true,
           "textposition": "auto",
           "type": "bar",
           "x": [
            34493,
            1642,
            1871,
            2343,
            3069,
            3720,
            3534,
            3035,
            2625,
            1830,
            2232,
            1583,
            1373,
            1241,
            1034,
            1605,
            1756
           ],
           "xaxis": "x",
           "y": [
            "Total",
            "10-14",
            "15-19",
            "20-24",
            "25-29",
            "30-34",
            "35-39",
            "40-44",
            "45-49",
            "5-9",
            "50-54",
            "55-59",
            "60-64",
            "65-69",
            "70-74",
            "75<",
            "<5"
           ],
           "yaxis": "y"
          }
         ],
         "name": "1999"
        },
        {
         "data": [
          {
           "alignmentgroup": "True",
           "hovertemplate": "sex=Female<br>year=2000<br>population=%{x}<br>age=%{y}<extra></extra>",
           "legendgroup": "Female",
           "marker": {
            "color": "#636efa",
            "pattern": {
             "shape": ""
            }
           },
           "name": "Female",
           "offsetgroup": "Female",
           "orientation": "h",
           "showlegend": true,
           "textposition": "auto",
           "type": "bar",
           "x": [
            31538,
            1571,
            1672,
            2123,
            3027,
            3373,
            3142,
            2614,
            2108,
            1679,
            1877,
            1549,
            1166,
            1149,
            1015,
            1833,
            1640
           ],
           "xaxis": "x",
           "y": [
            "Total",
            "10-14",
            "15-19",
            "20-24",
            "25-29",
            "30-34",
            "35-39",
            "40-44",
            "45-49",
            "5-9",
            "50-54",
            "55-59",
            "60-64",
            "65-69",
            "70-74",
            "75<",
            "<5"
           ],
           "yaxis": "y"
          },
          {
           "alignmentgroup": "True",
           "hovertemplate": "sex=Male<br>year=2000<br>population=%{x}<br>age=%{y}<extra></extra>",
           "legendgroup": "Male",
           "marker": {
            "color": "#EF553B",
            "pattern": {
             "shape": ""
            }
           },
           "name": "Male",
           "offsetgroup": "Male",
           "orientation": "h",
           "showlegend": true,
           "textposition": "auto",
           "type": "bar",
           "x": [
            34433,
            1671,
            1776,
            2255,
            2941,
            3528,
            3540,
            3133,
            2679,
            1793,
            2278,
            1770,
            1311,
            1245,
            1063,
            1672,
            1778
           ],
           "xaxis": "x",
           "y": [
            "Total",
            "10-14",
            "15-19",
            "20-24",
            "25-29",
            "30-34",
            "35-39",
            "40-44",
            "45-49",
            "5-9",
            "50-54",
            "55-59",
            "60-64",
            "65-69",
            "70-74",
            "75<",
            "<5"
           ],
           "yaxis": "y"
          }
         ],
         "name": "2000"
        },
        {
         "data": [
          {
           "alignmentgroup": "True",
           "hovertemplate": "sex=Female<br>year=2001<br>population=%{x}<br>age=%{y}<extra></extra>",
           "legendgroup": "Female",
           "marker": {
            "color": "#636efa",
            "pattern": {
             "shape": ""
            }
           },
           "name": "Female",
           "offsetgroup": "Female",
           "orientation": "h",
           "showlegend": true,
           "textposition": "auto",
           "type": "bar",
           "x": [
            31576,
            1572,
            1646,
            1965,
            2843,
            3290,
            3162,
            2703,
            2196,
            1650,
            1983,
            1560,
            1244,
            1109,
            1087,
            1920,
            1646
           ],
           "xaxis": "x",
           "y": [
            "Total",
            "10-14",
            "15-19",
            "20-24",
            "25-29",
            "30-34",
            "35-39",
            "40-44",
            "45-49",
            "5-9",
            "50-54",
            "55-59",
            "60-64",
            "65-69",
            "70-74",
            "75<",
            "<5"
           ],
           "yaxis": "y"
          },
          {
           "alignmentgroup": "True",
           "hovertemplate": "sex=Male<br>year=2001<br>population=%{x}<br>age=%{y}<extra></extra>",
           "legendgroup": "Male",
           "marker": {
            "color": "#EF553B",
            "pattern": {
             "shape": ""
            }
           },
           "name": "Male",
           "offsetgroup": "Male",
           "orientation": "h",
           "showlegend": true,
           "textposition": "auto",
           "type": "bar",
           "x": [
            34268,
            1671,
            1725,
            2110,
            2755,
            3333,
            3518,
            3186,
            2634,
            1803,
            2446,
            1839,
            1369,
            1276,
            1070,
            1772,
            1761
           ],
           "xaxis": "x",
           "y": [
            "Total",
            "10-14",
            "15-19",
            "20-24",
            "25-29",
            "30-34",
            "35-39",
            "40-44",
            "45-49",
            "5-9",
            "50-54",
            "55-59",
            "60-64",
            "65-69",
            "70-74",
            "75<",
            "<5"
           ],
           "yaxis": "y"
          }
         ],
         "name": "2001"
        },
        {
         "data": [
          {
           "alignmentgroup": "True",
           "hovertemplate": "sex=Female<br>year=2002<br>population=%{x}<br>age=%{y}<extra></extra>",
           "legendgroup": "Female",
           "marker": {
            "color": "#636efa",
            "pattern": {
             "shape": ""
            }
           },
           "name": "Female",
           "offsetgroup": "Female",
           "orientation": "h",
           "showlegend": true,
           "textposition": "auto",
           "type": "bar",
           "x": [
            31915,
            1619,
            1600,
            1908,
            2711,
            3204,
            3243,
            2798,
            2329,
            1594,
            2037,
            1661,
            1249,
            1150,
            1084,
            2078,
            1650
           ],
           "xaxis": "x",
           "y": [
            "Total",
            "10-14",
            "15-19",
            "20-24",
            "25-29",
            "30-34",
            "35-39",
            "40-44",
            "45-49",
            "5-9",
            "50-54",
            "55-59",
            "60-64",
            "65-69",
            "70-74",
            "75<",
            "<5"
           ],
           "yaxis": "y"
          },
          {
           "alignmentgroup": "True",
           "hovertemplate": "sex=Male<br>year=2002<br>population=%{x}<br>age=%{y}<extra></extra>",
           "legendgroup": "Male",
           "marker": {
            "color": "#EF553B",
            "pattern": {
             "shape": ""
            }
           },
           "name": "Male",
           "offsetgroup": "Male",
           "orientation": "h",
           "showlegend": true,
           "textposition": "auto",
           "type": "bar",
           "x": [
            34419,
            1689,
            1677,
            1991,
            2645,
            3188,
            3531,
            3311,
            2769,
            1796,
            2484,
            1953,
            1353,
            1304,
            1129,
            1854,
            1745
           ],
           "xaxis": "x",
           "y": [
            "Total",
            "10-14",
            "15-19",
            "20-24",
            "25-29",
            "30-34",
            "35-39",
            "40-44",
            "45-49",
            "5-9",
            "50-54",
            "55-59",
            "60-64",
            "65-69",
            "70-74",
            "75<",
            "<5"
           ],
           "yaxis": "y"
          }
         ],
         "name": "2002"
        },
        {
         "data": [
          {
           "alignmentgroup": "True",
           "hovertemplate": "sex=Female<br>year=2003<br>population=%{x}<br>age=%{y}<extra></extra>",
           "legendgroup": "Female",
           "marker": {
            "color": "#636efa",
            "pattern": {
             "shape": ""
            }
           },
           "name": "Female",
           "offsetgroup": "Female",
           "orientation": "h",
           "showlegend": true,
           "textposition": "auto",
           "type": "bar",
           "x": [
            32354,
            1692,
            1504,
            1882,
            2605,
            3236,
            3297,
            2920,
            2416,
            1571,
            2071,
            1729,
            1311,
            1149,
            1110,
            2204,
            1657
           ],
           "xaxis": "x",
           "y": [
            "Total",
            "10-14",
            "15-19",
            "20-24",
            "25-29",
            "30-34",
            "35-39",
            "40-44",
            "45-49",
            "5-9",
            "50-54",
            "55-59",
            "60-64",
            "65-69",
            "70-74",
            "75<",
            "<5"
           ],
           "yaxis": "y"
          },
          {
           "alignmentgroup": "True",
           "hovertemplate": "sex=Male<br>year=2003<br>population=%{x}<br>age=%{y}<extra></extra>",
           "legendgroup": "Male",
           "marker": {
            "color": "#EF553B",
            "pattern": {
             "shape": ""
            }
           },
           "name": "Male",
           "offsetgroup": "Male",
           "orientation": "h",
           "showlegend": true,
           "textposition": "auto",
           "type": "bar",
           "x": [
            34805,
            1726,
            1641,
            1932,
            2559,
            3165,
            3531,
            3362,
            2897,
            1813,
            2539,
            2096,
            1396,
            1315,
            1152,
            1974,
            1707
           ],
           "xaxis": "x",
           "y": [
            "Total",
            "10-14",
            "15-19",
            "20-24",
            "25-29",
            "30-34",
            "35-39",
            "40-44",
            "45-49",
            "5-9",
            "50-54",
            "55-59",
            "60-64",
            "65-69",
            "70-74",
            "75<",
            "<5"
           ],
           "yaxis": "y"
          }
         ],
         "name": "2003"
        },
        {
         "data": [
          {
           "alignmentgroup": "True",
           "hovertemplate": "sex=Female<br>year=2004<br>population=%{x}<br>age=%{y}<extra></extra>",
           "legendgroup": "Female",
           "marker": {
            "color": "#636efa",
            "pattern": {
             "shape": ""
            }
           },
           "name": "Female",
           "offsetgroup": "Female",
           "orientation": "h",
           "showlegend": true,
           "textposition": "auto",
           "type": "bar",
           "x": [
            34738,
            1751,
            1577,
            2189,
            2998,
            3470,
            3503,
            3168,
            2649,
            1696,
            2157,
            1795,
            1456,
            1139,
            1113,
            2337,
            1740
           ],
           "xaxis": "x",
           "y": [
            "Total",
            "10-14",
            "15-19",
            "20-24",
            "25-29",
            "30-34",
            "35-39",
            "40-44",
            "45-49",
            "5-9",
            "50-54",
            "55-59",
            "60-64",
            "65-69",
            "70-74",
            "75<",
            "<5"
           ],
           "yaxis": "y"
          },
          {
           "alignmentgroup": "True",
           "hovertemplate": "sex=Male<br>year=2004<br>population=%{x}<br>age=%{y}<extra></extra>",
           "legendgroup": "Male",
           "marker": {
            "color": "#EF553B",
            "pattern": {
             "shape": ""
            }
           },
           "name": "Male",
           "offsetgroup": "Male",
           "orientation": "h",
           "showlegend": true,
           "textposition": "auto",
           "type": "bar",
           "x": [
            37582,
            1841,
            1710,
            2215,
            2967,
            3491,
            3809,
            3611,
            3153,
            1904,
            2650,
            2292,
            1555,
            1295,
            1149,
            2095,
            1845
           ],
           "xaxis": "x",
           "y": [
            "Total",
            "10-14",
            "15-19",
            "20-24",
            "25-29",
            "30-34",
            "35-39",
            "40-44",
            "45-49",
            "5-9",
            "50-54",
            "55-59",
            "60-64",
            "65-69",
            "70-74",
            "75<",
            "<5"
           ],
           "yaxis": "y"
          }
         ],
         "name": "2004"
        },
        {
         "data": [
          {
           "alignmentgroup": "True",
           "hovertemplate": "sex=Female<br>year=2005<br>population=%{x}<br>age=%{y}<extra></extra>",
           "legendgroup": "Female",
           "marker": {
            "color": "#636efa",
            "pattern": {
             "shape": ""
            }
           },
           "name": "Female",
           "offsetgroup": "Female",
           "orientation": "h",
           "showlegend": true,
           "textposition": "auto",
           "type": "bar",
           "x": [
            36790,
            1781,
            1680,
            2375,
            3228,
            3761,
            3707,
            3381,
            2846,
            1903,
            2210,
            1917,
            1556,
            1136,
            1102,
            2415,
            1792
           ],
           "xaxis": "x",
           "y": [
            "Total",
            "10-14",
            "15-19",
            "20-24",
            "25-29",
            "30-34",
            "35-39",
            "40-44",
            "45-49",
            "5-9",
            "50-54",
            "55-59",
            "60-64",
            "65-69",
            "70-74",
            "75<",
            "<5"
           ],
           "yaxis": "y"
          },
          {
           "alignmentgroup": "True",
           "hovertemplate": "sex=Male<br>year=2005<br>population=%{x}<br>age=%{y}<extra></extra>",
           "legendgroup": "Male",
           "marker": {
            "color": "#EF553B",
            "pattern": {
             "shape": ""
            }
           },
           "name": "Male",
           "offsetgroup": "Male",
           "orientation": "h",
           "showlegend": true,
           "textposition": "auto",
           "type": "bar",
           "x": [
            40085,
            1943,
            1845,
            2383,
            3418,
            3840,
            3997,
            3850,
            3389,
            2050,
            2794,
            2364,
            1748,
            1236,
            1146,
            2153,
            1929
           ],
           "xaxis": "x",
           "y": [
            "Total",
            "10-14",
            "15-19",
            "20-24",
            "25-29",
            "30-34",
            "35-39",
            "40-44",
            "45-49",
            "5-9",
            "50-54",
            "55-59",
            "60-64",
            "65-69",
            "70-74",
            "75<",
            "<5"
           ],
           "yaxis": "y"
          }
         ],
         "name": "2005"
        },
        {
         "data": [
          {
           "alignmentgroup": "True",
           "hovertemplate": "sex=Female<br>year=2006<br>population=%{x}<br>age=%{y}<extra></extra>",
           "legendgroup": "Female",
           "marker": {
            "color": "#636efa",
            "pattern": {
             "shape": ""
            }
           },
           "name": "Female",
           "offsetgroup": "Female",
           "orientation": "h",
           "showlegend": true,
           "textposition": "auto",
           "type": "bar",
           "x": [
            37575,
            1816,
            1731,
            2411,
            3331,
            3849,
            3711,
            3453,
            2905,
            2005,
            2321,
            1989,
            1533,
            1203,
            1014,
            2469,
            1834
           ],
           "xaxis": "x",
           "y": [
            "Total",
            "10-14",
            "15-19",
            "20-24",
            "25-29",
            "30-34",
            "35-39",
            "40-44",
            "45-49",
            "5-9",
            "50-54",
            "55-59",
            "60-64",
            "65-69",
            "70-74",
            "75<",
            "<5"
           ],
           "yaxis": "y"
          },
          {
           "alignmentgroup": "True",
           "hovertemplate": "sex=Male<br>year=2006<br>population=%{x}<br>age=%{y}<extra></extra>",
           "legendgroup": "Male",
           "marker": {
            "color": "#EF553B",
            "pattern": {
             "shape": ""
            }
           },
           "name": "Male",
           "offsetgroup": "Male",
           "orientation": "h",
           "showlegend": true,
           "textposition": "auto",
           "type": "bar",
           "x": [
            40974,
            2013,
            1884,
            2438,
            3571,
            4024,
            4013,
            3932,
            3403,
            2157,
            2713,
            2428,
            1801,
            1268,
            1157,
            2165,
            2007
           ],
           "xaxis": "x",
           "y": [
            "Total",
            "10-14",
            "15-19",
            "20-24",
            "25-29",
            "30-34",
            "35-39",
            "40-44",
            "45-49",
            "5-9",
            "50-54",
            "55-59",
            "60-64",
            "65-69",
            "70-74",
            "75<",
            "<5"
           ],
           "yaxis": "y"
          }
         ],
         "name": "2006"
        },
        {
         "data": [
          {
           "alignmentgroup": "True",
           "hovertemplate": "sex=Female<br>year=2007<br>population=%{x}<br>age=%{y}<extra></extra>",
           "legendgroup": "Female",
           "marker": {
            "color": "#636efa",
            "pattern": {
             "shape": ""
            }
           },
           "name": "Female",
           "offsetgroup": "Female",
           "orientation": "h",
           "showlegend": true,
           "textposition": "auto",
           "type": "bar",
           "x": [
            38705,
            1821,
            1798,
            2429,
            3419,
            3962,
            3781,
            3604,
            3044,
            2091,
            2447,
            2043,
            1647,
            1195,
            1055,
            2579,
            1790
           ],
           "xaxis": "x",
           "y": [
            "Total",
            "10-14",
            "15-19",
            "20-24",
            "25-29",
            "30-34",
            "35-39",
            "40-44",
            "45-49",
            "5-9",
            "50-54",
            "55-59",
            "60-64",
            "65-69",
            "70-74",
            "75<",
            "<5"
           ],
           "yaxis": "y"
          },
          {
           "alignmentgroup": "True",
           "hovertemplate": "sex=Male<br>year=2007<br>population=%{x}<br>age=%{y}<extra></extra>",
           "legendgroup": "Male",
           "marker": {
            "color": "#EF553B",
            "pattern": {
             "shape": ""
            }
           },
           "name": "Male",
           "offsetgroup": "Male",
           "orientation": "h",
           "showlegend": true,
           "textposition": "auto",
           "type": "bar",
           "x": [
            42517,
            2091,
            1934,
            2554,
            3632,
            4172,
            4090,
            4102,
            3573,
            2263,
            2970,
            2464,
            1930,
            1256,
            1172,
            2303,
            2011
           ],
           "xaxis": "x",
           "y": [
            "Total",
            "10-14",
            "15-19",
            "20-24",
            "25-29",
            "30-34",
            "35-39",
            "40-44",
            "45-49",
            "5-9",
            "50-54",
            "55-59",
            "60-64",
            "65-69",
            "70-74",
            "75<",
            "<5"
           ],
           "yaxis": "y"
          }
         ],
         "name": "2007"
        },
        {
         "data": [
          {
           "alignmentgroup": "True",
           "hovertemplate": "sex=Female<br>year=2008<br>population=%{x}<br>age=%{y}<extra></extra>",
           "legendgroup": "Female",
           "marker": {
            "color": "#636efa",
            "pattern": {
             "shape": ""
            }
           },
           "name": "Female",
           "offsetgroup": "Female",
           "orientation": "h",
           "showlegend": true,
           "textposition": "auto",
           "type": "bar",
           "x": [
            39622,
            1829,
            1896,
            2311,
            3407,
            3986,
            3940,
            3693,
            3229,
            2133,
            2588,
            2092,
            1706,
            1253,
            1060,
            2714,
            1785
           ],
           "xaxis": "x",
           "y": [
            "Total",
            "10-14",
            "15-19",
            "20-24",
            "25-29",
            "30-34",
            "35-39",
            "40-44",
            "45-49",
            "5-9",
            "50-54",
            "55-59",
            "60-64",
            "65-69",
            "70-74",
            "75<",
            "<5"
           ],
           "yaxis": "y"
          },
          {
           "alignmentgroup": "True",
           "hovertemplate": "sex=Male<br>year=2008<br>population=%{x}<br>age=%{y}<extra></extra>",
           "legendgroup": "Male",
           "marker": {
            "color": "#EF553B",
            "pattern": {
             "shape": ""
            }
           },
           "name": "Male",
           "offsetgroup": "Male",
           "orientation": "h",
           "showlegend": true,
           "textposition": "auto",
           "type": "bar",
           "x": [
            43515,
            2138,
            2028,
            2479,
            3622,
            4195,
            4200,
            4196,
            3715,
            2285,
            3126,
            2566,
            2069,
            1302,
            1183,
            2426,
            1985
           ],
           "xaxis": "x",
           "y": [
            "Total",
            "10-14",
            "15-19",
            "20-24",
            "25-29",
            "30-34",
            "35-39",
            "40-44",
            "45-49",
            "5-9",
            "50-54",
            "55-59",
            "60-64",
            "65-69",
            "70-74",
            "75<",
            "<5"
           ],
           "yaxis": "y"
          }
         ],
         "name": "2008"
        },
        {
         "data": [
          {
           "alignmentgroup": "True",
           "hovertemplate": "sex=Female<br>year=2009<br>population=%{x}<br>age=%{y}<extra></extra>",
           "legendgroup": "Female",
           "marker": {
            "color": "#636efa",
            "pattern": {
             "shape": ""
            }
           },
           "name": "Female",
           "offsetgroup": "Female",
           "orientation": "h",
           "showlegend": true,
           "textposition": "auto",
           "type": "bar",
           "x": [
            40303,
            1888,
            1898,
            2264,
            3360,
            4001,
            3942,
            3795,
            3373,
            2111,
            2753,
            2148,
            1742,
            1383,
            1067,
            2803,
            1775
           ],
           "xaxis": "x",
           "y": [
            "Total",
            "10-14",
            "15-19",
            "20-24",
            "25-29",
            "30-34",
            "35-39",
            "40-44",
            "45-49",
            "5-9",
            "50-54",
            "55-59",
            "60-64",
            "65-69",
            "70-74",
            "75<",
            "<5"
           ],
           "yaxis": "y"
          },
          {
           "alignmentgroup": "True",
           "hovertemplate": "sex=Male<br>year=2009<br>population=%{x}<br>age=%{y}<extra></extra>",
           "legendgroup": "Male",
           "marker": {
            "color": "#EF553B",
            "pattern": {
             "shape": ""
            }
           },
           "name": "Male",
           "offsetgroup": "Male",
           "orientation": "h",
           "showlegend": true,
           "textposition": "auto",
           "type": "bar",
           "x": [
            44181,
            2161,
            2076,
            2366,
            3513,
            4234,
            4253,
            4262,
            3854,
            2282,
            3237,
            2622,
            2209,
            1421,
            1169,
            2528,
            1994
           ],
           "xaxis": "x",
           "y": [
            "Total",
            "10-14",
            "15-19",
            "20-24",
            "25-29",
            "30-34",
            "35-39",
            "40-44",
            "45-49",
            "5-9",
            "50-54",
            "55-59",
            "60-64",
            "65-69",
            "70-74",
            "75<",
            "<5"
           ],
           "yaxis": "y"
          }
         ],
         "name": "2009"
        },
        {
         "data": [
          {
           "alignmentgroup": "True",
           "hovertemplate": "sex=Female<br>year=2010<br>population=%{x}<br>age=%{y}<extra></extra>",
           "legendgroup": "Female",
           "marker": {
            "color": "#636efa",
            "pattern": {
             "shape": ""
            }
           },
           "name": "Female",
           "offsetgroup": "Female",
           "orientation": "h",
           "showlegend": true,
           "textposition": "auto",
           "type": "bar",
           "x": [
            40296,
            1988,
            1832,
            2133,
            3141,
            3877,
            3937,
            3802,
            3470,
            2020,
            2828,
            2196,
            1817,
            1474,
            1081,
            2898,
            1802
           ],
           "xaxis": "x",
           "y": [
            "Total",
            "10-14",
            "15-19",
            "20-24",
            "25-29",
            "30-34",
            "35-39",
            "40-44",
            "45-49",
            "5-9",
            "50-54",
            "55-59",
            "60-64",
            "65-69",
            "70-74",
            "75<",
            "<5"
           ],
           "yaxis": "y"
          },
          {
           "alignmentgroup": "True",
           "hovertemplate": "sex=Male<br>year=2010<br>population=%{x}<br>age=%{y}<extra></extra>",
           "legendgroup": "Male",
           "marker": {
            "color": "#EF553B",
            "pattern": {
             "shape": ""
            }
           },
           "name": "Male",
           "offsetgroup": "Male",
           "orientation": "h",
           "showlegend": true,
           "textposition": "auto",
           "type": "bar",
           "x": [
            43786,
            2183,
            2060,
            2219,
            3158,
            4086,
            4239,
            4146,
            3922,
            2209,
            3335,
            2708,
            2216,
            1619,
            1135,
            2603,
            1948
           ],
           "xaxis": "x",
           "y": [
            "Total",
            "10-14",
            "15-19",
            "20-24",
            "25-29",
            "30-34",
            "35-39",
            "40-44",
            "45-49",
            "5-9",
            "50-54",
            "55-59",
            "60-64",
            "65-69",
            "70-74",
            "75<",
            "<5"
           ],
           "yaxis": "y"
          }
         ],
         "name": "2010"
        },
        {
         "data": [
          {
           "alignmentgroup": "True",
           "hovertemplate": "sex=Female<br>year=2011<br>population=%{x}<br>age=%{y}<extra></extra>",
           "legendgroup": "Female",
           "marker": {
            "color": "#636efa",
            "pattern": {
             "shape": ""
            }
           },
           "name": "Female",
           "offsetgroup": "Female",
           "orientation": "h",
           "showlegend": true,
           "textposition": "auto",
           "type": "bar",
           "x": [
            38252,
            2059,
            1779,
            1893,
            2706,
            3450,
            3794,
            3571,
            3436,
            1942,
            2768,
            2177,
            1754,
            1383,
            1032,
            2657,
            1851
           ],
           "xaxis": "x",
           "y": [
            "Total",
            "10-14",
            "15-19",
            "20-24",
            "25-29",
            "30-34",
            "35-39",
            "40-44",
            "45-49",
            "5-9",
            "50-54",
            "55-59",
            "60-64",
            "65-69",
            "70-74",
            "75<",
            "<5"
           ],
           "yaxis": "y"
          },
          {
           "alignmentgroup": "True",
           "hovertemplate": "sex=Male<br>year=2011<br>population=%{x}<br>age=%{y}<extra></extra>",
           "legendgroup": "Male",
           "marker": {
            "color": "#EF553B",
            "pattern": {
             "shape": ""
            }
           },
           "name": "Male",
           "offsetgroup": "Male",
           "orientation": "h",
           "showlegend": true,
           "textposition": "auto",
           "type": "bar",
           "x": [
            39863,
            2225,
            2035,
            1950,
            2600,
            3488,
            3873,
            3731,
            3627,
            2139,
            3055,
            2473,
            2003,
            1552,
            998,
            2235,
            1879
           ],
           "xaxis": "x",
           "y": [
            "Total",
            "10-14",
            "15-19",
            "20-24",
            "25-29",
            "30-34",
            "35-39",
            "40-44",
            "45-49",
            "5-9",
            "50-54",
            "55-59",
            "60-64",
            "65-69",
            "70-74",
            "75<",
            "<5"
           ],
           "yaxis": "y"
          }
         ],
         "name": "2011"
        },
        {
         "data": [
          {
           "alignmentgroup": "True",
           "hovertemplate": "sex=Female<br>year=2012<br>population=%{x}<br>age=%{y}<extra></extra>",
           "legendgroup": "Female",
           "marker": {
            "color": "#636efa",
            "pattern": {
             "shape": ""
            }
           },
           "name": "Female",
           "offsetgroup": "Female",
           "orientation": "h",
           "showlegend": true,
           "textposition": "auto",
           "type": "bar",
           "x": [
            38252,
            2059,
            1779,
            1893,
            2706,
            3450,
            3794,
            3571,
            3436,
            1942,
            2768,
            2177,
            1754,
            1383,
            1032,
            2657,
            1851
           ],
           "xaxis": "x",
           "y": [
            "Total",
            "10-14",
            "15-19",
            "20-24",
            "25-29",
            "30-34",
            "35-39",
            "40-44",
            "45-49",
            "5-9",
            "50-54",
            "55-59",
            "60-64",
            "65-69",
            "70-74",
            "75<",
            "<5"
           ],
           "yaxis": "y"
          },
          {
           "alignmentgroup": "True",
           "hovertemplate": "sex=Male<br>year=2012<br>population=%{x}<br>age=%{y}<extra></extra>",
           "legendgroup": "Male",
           "marker": {
            "color": "#EF553B",
            "pattern": {
             "shape": ""
            }
           },
           "name": "Male",
           "offsetgroup": "Male",
           "orientation": "h",
           "showlegend": true,
           "textposition": "auto",
           "type": "bar",
           "x": [
            39863,
            2225,
            2035,
            1950,
            2600,
            3488,
            3873,
            3731,
            3627,
            2139,
            3055,
            2473,
            2003,
            1552,
            998,
            2235,
            1879
           ],
           "xaxis": "x",
           "y": [
            "Total",
            "10-14",
            "15-19",
            "20-24",
            "25-29",
            "30-34",
            "35-39",
            "40-44",
            "45-49",
            "5-9",
            "50-54",
            "55-59",
            "60-64",
            "65-69",
            "70-74",
            "75<",
            "<5"
           ],
           "yaxis": "y"
          }
         ],
         "name": "2012"
        },
        {
         "data": [
          {
           "alignmentgroup": "True",
           "hovertemplate": "sex=Female<br>year=2013<br>population=%{x}<br>age=%{y}<extra></extra>",
           "legendgroup": "Female",
           "marker": {
            "color": "#636efa",
            "pattern": {
             "shape": ""
            }
           },
           "name": "Female",
           "offsetgroup": "Female",
           "orientation": "h",
           "showlegend": true,
           "textposition": "auto",
           "type": "bar",
           "x": [
            37408,
            2045,
            1739,
            1871,
            2378,
            3299,
            3690,
            3568,
            3338,
            1866,
            2863,
            2177,
            1727,
            1355,
            1039,
            2612,
            1841
           ],
           "xaxis": "x",
           "y": [
            "Total",
            "10-14",
            "15-19",
            "20-24",
            "25-29",
            "30-34",
            "35-39",
            "40-44",
            "45-49",
            "5-9",
            "50-54",
            "55-59",
            "60-64",
            "65-69",
            "70-74",
            "75<",
            "<5"
           ],
           "yaxis": "y"
          },
          {
           "alignmentgroup": "True",
           "hovertemplate": "sex=Male<br>year=2013<br>population=%{x}<br>age=%{y}<extra></extra>",
           "legendgroup": "Male",
           "marker": {
            "color": "#EF553B",
            "pattern": {
             "shape": ""
            }
           },
           "name": "Male",
           "offsetgroup": "Male",
           "orientation": "h",
           "showlegend": true,
           "textposition": "auto",
           "type": "bar",
           "x": [
            38838,
            2163,
            2035,
            1954,
            2393,
            3299,
            3715,
            3692,
            3602,
            2085,
            3082,
            2465,
            1914,
            1534,
            948,
            2116,
            1841
           ],
           "xaxis": "x",
           "y": [
            "Total",
            "10-14",
            "15-19",
            "20-24",
            "25-29",
            "30-34",
            "35-39",
            "40-44",
            "45-49",
            "5-9",
            "50-54",
            "55-59",
            "60-64",
            "65-69",
            "70-74",
            "75<",
            "<5"
           ],
           "yaxis": "y"
          }
         ],
         "name": "2013"
        },
        {
         "data": [
          {
           "alignmentgroup": "True",
           "hovertemplate": "sex=Female<br>year=2019<br>population=%{x}<br>age=%{y}<extra></extra>",
           "legendgroup": "Female",
           "marker": {
            "color": "#636efa",
            "pattern": {
             "shape": ""
            }
           },
           "name": "Female",
           "offsetgroup": "Female",
           "orientation": "h",
           "showlegend": true,
           "textposition": "auto",
           "type": "bar",
           "x": [
            37388,
            1903,
            1981,
            1841,
            2214,
            2499,
            3144,
            3524,
            3455,
            1911,
            3268,
            2864,
            2121,
            1614,
            1252,
            2469,
            1328
           ],
           "xaxis": "x",
           "y": [
            "Total",
            "10-14",
            "15-19",
            "20-24",
            "25-29",
            "30-34",
            "35-39",
            "40-44",
            "45-49",
            "5-9",
            "50-54",
            "55-59",
            "60-64",
            "65-69",
            "70-74",
            "75<",
            "<5"
           ],
           "yaxis": "y"
          },
          {
           "alignmentgroup": "True",
           "hovertemplate": "sex=Male<br>year=2019<br>population=%{x}<br>age=%{y}<extra></extra>",
           "legendgroup": "Male",
           "marker": {
            "color": "#EF553B",
            "pattern": {
             "shape": ""
            }
           },
           "name": "Male",
           "offsetgroup": "Male",
           "orientation": "h",
           "showlegend": true,
           "textposition": "auto",
           "type": "bar",
           "x": [
            38789,
            2124,
            2096,
            2164,
            2356,
            2563,
            3125,
            3511,
            3628,
            1912,
            3524,
            3062,
            2322,
            1719,
            1416,
            1876,
            1391
           ],
           "xaxis": "x",
           "y": [
            "Total",
            "10-14",
            "15-19",
            "20-24",
            "25-29",
            "30-34",
            "35-39",
            "40-44",
            "45-49",
            "5-9",
            "50-54",
            "55-59",
            "60-64",
            "65-69",
            "70-74",
            "75<",
            "<5"
           ],
           "yaxis": "y"
          }
         ],
         "name": "2019"
        }
       ],
       "layout": {
        "barmode": "group",
        "legend": {
         "title": {
          "text": "sex"
         },
         "tracegroupgap": 0
        },
        "margin": {
         "t": 60
        },
        "sliders": [
         {
          "active": 0,
          "currentvalue": {
           "prefix": "year="
          },
          "len": 0.9,
          "pad": {
           "b": 10,
           "t": 60
          },
          "steps": [
           {
            "args": [
             [
              "1986"
             ],
             {
              "frame": {
               "duration": 0,
               "redraw": true
              },
              "fromcurrent": true,
              "mode": "immediate",
              "transition": {
               "duration": 0,
               "easing": "linear"
              }
             }
            ],
            "label": "1986",
            "method": "animate"
           },
           {
            "args": [
             [
              "1987"
             ],
             {
              "frame": {
               "duration": 0,
               "redraw": true
              },
              "fromcurrent": true,
              "mode": "immediate",
              "transition": {
               "duration": 0,
               "easing": "linear"
              }
             }
            ],
            "label": "1987",
            "method": "animate"
           },
           {
            "args": [
             [
              "1988"
             ],
             {
              "frame": {
               "duration": 0,
               "redraw": true
              },
              "fromcurrent": true,
              "mode": "immediate",
              "transition": {
               "duration": 0,
               "easing": "linear"
              }
             }
            ],
            "label": "1988",
            "method": "animate"
           },
           {
            "args": [
             [
              "1989"
             ],
             {
              "frame": {
               "duration": 0,
               "redraw": true
              },
              "fromcurrent": true,
              "mode": "immediate",
              "transition": {
               "duration": 0,
               "easing": "linear"
              }
             }
            ],
            "label": "1989",
            "method": "animate"
           },
           {
            "args": [
             [
              "1990"
             ],
             {
              "frame": {
               "duration": 0,
               "redraw": true
              },
              "fromcurrent": true,
              "mode": "immediate",
              "transition": {
               "duration": 0,
               "easing": "linear"
              }
             }
            ],
            "label": "1990",
            "method": "animate"
           },
           {
            "args": [
             [
              "1991"
             ],
             {
              "frame": {
               "duration": 0,
               "redraw": true
              },
              "fromcurrent": true,
              "mode": "immediate",
              "transition": {
               "duration": 0,
               "easing": "linear"
              }
             }
            ],
            "label": "1991",
            "method": "animate"
           },
           {
            "args": [
             [
              "1992"
             ],
             {
              "frame": {
               "duration": 0,
               "redraw": true
              },
              "fromcurrent": true,
              "mode": "immediate",
              "transition": {
               "duration": 0,
               "easing": "linear"
              }
             }
            ],
            "label": "1992",
            "method": "animate"
           },
           {
            "args": [
             [
              "1993"
             ],
             {
              "frame": {
               "duration": 0,
               "redraw": true
              },
              "fromcurrent": true,
              "mode": "immediate",
              "transition": {
               "duration": 0,
               "easing": "linear"
              }
             }
            ],
            "label": "1993",
            "method": "animate"
           },
           {
            "args": [
             [
              "1994"
             ],
             {
              "frame": {
               "duration": 0,
               "redraw": true
              },
              "fromcurrent": true,
              "mode": "immediate",
              "transition": {
               "duration": 0,
               "easing": "linear"
              }
             }
            ],
            "label": "1994",
            "method": "animate"
           },
           {
            "args": [
             [
              "1995"
             ],
             {
              "frame": {
               "duration": 0,
               "redraw": true
              },
              "fromcurrent": true,
              "mode": "immediate",
              "transition": {
               "duration": 0,
               "easing": "linear"
              }
             }
            ],
            "label": "1995",
            "method": "animate"
           },
           {
            "args": [
             [
              "1996"
             ],
             {
              "frame": {
               "duration": 0,
               "redraw": true
              },
              "fromcurrent": true,
              "mode": "immediate",
              "transition": {
               "duration": 0,
               "easing": "linear"
              }
             }
            ],
            "label": "1996",
            "method": "animate"
           },
           {
            "args": [
             [
              "1997"
             ],
             {
              "frame": {
               "duration": 0,
               "redraw": true
              },
              "fromcurrent": true,
              "mode": "immediate",
              "transition": {
               "duration": 0,
               "easing": "linear"
              }
             }
            ],
            "label": "1997",
            "method": "animate"
           },
           {
            "args": [
             [
              "1998"
             ],
             {
              "frame": {
               "duration": 0,
               "redraw": true
              },
              "fromcurrent": true,
              "mode": "immediate",
              "transition": {
               "duration": 0,
               "easing": "linear"
              }
             }
            ],
            "label": "1998",
            "method": "animate"
           },
           {
            "args": [
             [
              "1999"
             ],
             {
              "frame": {
               "duration": 0,
               "redraw": true
              },
              "fromcurrent": true,
              "mode": "immediate",
              "transition": {
               "duration": 0,
               "easing": "linear"
              }
             }
            ],
            "label": "1999",
            "method": "animate"
           },
           {
            "args": [
             [
              "2000"
             ],
             {
              "frame": {
               "duration": 0,
               "redraw": true
              },
              "fromcurrent": true,
              "mode": "immediate",
              "transition": {
               "duration": 0,
               "easing": "linear"
              }
             }
            ],
            "label": "2000",
            "method": "animate"
           },
           {
            "args": [
             [
              "2001"
             ],
             {
              "frame": {
               "duration": 0,
               "redraw": true
              },
              "fromcurrent": true,
              "mode": "immediate",
              "transition": {
               "duration": 0,
               "easing": "linear"
              }
             }
            ],
            "label": "2001",
            "method": "animate"
           },
           {
            "args": [
             [
              "2002"
             ],
             {
              "frame": {
               "duration": 0,
               "redraw": true
              },
              "fromcurrent": true,
              "mode": "immediate",
              "transition": {
               "duration": 0,
               "easing": "linear"
              }
             }
            ],
            "label": "2002",
            "method": "animate"
           },
           {
            "args": [
             [
              "2003"
             ],
             {
              "frame": {
               "duration": 0,
               "redraw": true
              },
              "fromcurrent": true,
              "mode": "immediate",
              "transition": {
               "duration": 0,
               "easing": "linear"
              }
             }
            ],
            "label": "2003",
            "method": "animate"
           },
           {
            "args": [
             [
              "2004"
             ],
             {
              "frame": {
               "duration": 0,
               "redraw": true
              },
              "fromcurrent": true,
              "mode": "immediate",
              "transition": {
               "duration": 0,
               "easing": "linear"
              }
             }
            ],
            "label": "2004",
            "method": "animate"
           },
           {
            "args": [
             [
              "2005"
             ],
             {
              "frame": {
               "duration": 0,
               "redraw": true
              },
              "fromcurrent": true,
              "mode": "immediate",
              "transition": {
               "duration": 0,
               "easing": "linear"
              }
             }
            ],
            "label": "2005",
            "method": "animate"
           },
           {
            "args": [
             [
              "2006"
             ],
             {
              "frame": {
               "duration": 0,
               "redraw": true
              },
              "fromcurrent": true,
              "mode": "immediate",
              "transition": {
               "duration": 0,
               "easing": "linear"
              }
             }
            ],
            "label": "2006",
            "method": "animate"
           },
           {
            "args": [
             [
              "2007"
             ],
             {
              "frame": {
               "duration": 0,
               "redraw": true
              },
              "fromcurrent": true,
              "mode": "immediate",
              "transition": {
               "duration": 0,
               "easing": "linear"
              }
             }
            ],
            "label": "2007",
            "method": "animate"
           },
           {
            "args": [
             [
              "2008"
             ],
             {
              "frame": {
               "duration": 0,
               "redraw": true
              },
              "fromcurrent": true,
              "mode": "immediate",
              "transition": {
               "duration": 0,
               "easing": "linear"
              }
             }
            ],
            "label": "2008",
            "method": "animate"
           },
           {
            "args": [
             [
              "2009"
             ],
             {
              "frame": {
               "duration": 0,
               "redraw": true
              },
              "fromcurrent": true,
              "mode": "immediate",
              "transition": {
               "duration": 0,
               "easing": "linear"
              }
             }
            ],
            "label": "2009",
            "method": "animate"
           },
           {
            "args": [
             [
              "2010"
             ],
             {
              "frame": {
               "duration": 0,
               "redraw": true
              },
              "fromcurrent": true,
              "mode": "immediate",
              "transition": {
               "duration": 0,
               "easing": "linear"
              }
             }
            ],
            "label": "2010",
            "method": "animate"
           },
           {
            "args": [
             [
              "2011"
             ],
             {
              "frame": {
               "duration": 0,
               "redraw": true
              },
              "fromcurrent": true,
              "mode": "immediate",
              "transition": {
               "duration": 0,
               "easing": "linear"
              }
             }
            ],
            "label": "2011",
            "method": "animate"
           },
           {
            "args": [
             [
              "2012"
             ],
             {
              "frame": {
               "duration": 0,
               "redraw": true
              },
              "fromcurrent": true,
              "mode": "immediate",
              "transition": {
               "duration": 0,
               "easing": "linear"
              }
             }
            ],
            "label": "2012",
            "method": "animate"
           },
           {
            "args": [
             [
              "2013"
             ],
             {
              "frame": {
               "duration": 0,
               "redraw": true
              },
              "fromcurrent": true,
              "mode": "immediate",
              "transition": {
               "duration": 0,
               "easing": "linear"
              }
             }
            ],
            "label": "2013",
            "method": "animate"
           },
           {
            "args": [
             [
              "2019"
             ],
             {
              "frame": {
               "duration": 0,
               "redraw": true
              },
              "fromcurrent": true,
              "mode": "immediate",
              "transition": {
               "duration": 0,
               "easing": "linear"
              }
             }
            ],
            "label": "2019",
            "method": "animate"
           }
          ],
          "x": 0.1,
          "xanchor": "left",
          "y": 0,
          "yanchor": "top"
         }
        ],
        "template": {
         "data": {
          "bar": [
           {
            "error_x": {
             "color": "#2a3f5f"
            },
            "error_y": {
             "color": "#2a3f5f"
            },
            "marker": {
             "line": {
              "color": "#E5ECF6",
              "width": 0.5
             },
             "pattern": {
              "fillmode": "overlay",
              "size": 10,
              "solidity": 0.2
             }
            },
            "type": "bar"
           }
          ],
          "barpolar": [
           {
            "marker": {
             "line": {
              "color": "#E5ECF6",
              "width": 0.5
             },
             "pattern": {
              "fillmode": "overlay",
              "size": 10,
              "solidity": 0.2
             }
            },
            "type": "barpolar"
           }
          ],
          "carpet": [
           {
            "aaxis": {
             "endlinecolor": "#2a3f5f",
             "gridcolor": "white",
             "linecolor": "white",
             "minorgridcolor": "white",
             "startlinecolor": "#2a3f5f"
            },
            "baxis": {
             "endlinecolor": "#2a3f5f",
             "gridcolor": "white",
             "linecolor": "white",
             "minorgridcolor": "white",
             "startlinecolor": "#2a3f5f"
            },
            "type": "carpet"
           }
          ],
          "choropleth": [
           {
            "colorbar": {
             "outlinewidth": 0,
             "ticks": ""
            },
            "type": "choropleth"
           }
          ],
          "contour": [
           {
            "colorbar": {
             "outlinewidth": 0,
             "ticks": ""
            },
            "colorscale": [
             [
              0,
              "#0d0887"
             ],
             [
              0.1111111111111111,
              "#46039f"
             ],
             [
              0.2222222222222222,
              "#7201a8"
             ],
             [
              0.3333333333333333,
              "#9c179e"
             ],
             [
              0.4444444444444444,
              "#bd3786"
             ],
             [
              0.5555555555555556,
              "#d8576b"
             ],
             [
              0.6666666666666666,
              "#ed7953"
             ],
             [
              0.7777777777777778,
              "#fb9f3a"
             ],
             [
              0.8888888888888888,
              "#fdca26"
             ],
             [
              1,
              "#f0f921"
             ]
            ],
            "type": "contour"
           }
          ],
          "contourcarpet": [
           {
            "colorbar": {
             "outlinewidth": 0,
             "ticks": ""
            },
            "type": "contourcarpet"
           }
          ],
          "heatmap": [
           {
            "colorbar": {
             "outlinewidth": 0,
             "ticks": ""
            },
            "colorscale": [
             [
              0,
              "#0d0887"
             ],
             [
              0.1111111111111111,
              "#46039f"
             ],
             [
              0.2222222222222222,
              "#7201a8"
             ],
             [
              0.3333333333333333,
              "#9c179e"
             ],
             [
              0.4444444444444444,
              "#bd3786"
             ],
             [
              0.5555555555555556,
              "#d8576b"
             ],
             [
              0.6666666666666666,
              "#ed7953"
             ],
             [
              0.7777777777777778,
              "#fb9f3a"
             ],
             [
              0.8888888888888888,
              "#fdca26"
             ],
             [
              1,
              "#f0f921"
             ]
            ],
            "type": "heatmap"
           }
          ],
          "heatmapgl": [
           {
            "colorbar": {
             "outlinewidth": 0,
             "ticks": ""
            },
            "colorscale": [
             [
              0,
              "#0d0887"
             ],
             [
              0.1111111111111111,
              "#46039f"
             ],
             [
              0.2222222222222222,
              "#7201a8"
             ],
             [
              0.3333333333333333,
              "#9c179e"
             ],
             [
              0.4444444444444444,
              "#bd3786"
             ],
             [
              0.5555555555555556,
              "#d8576b"
             ],
             [
              0.6666666666666666,
              "#ed7953"
             ],
             [
              0.7777777777777778,
              "#fb9f3a"
             ],
             [
              0.8888888888888888,
              "#fdca26"
             ],
             [
              1,
              "#f0f921"
             ]
            ],
            "type": "heatmapgl"
           }
          ],
          "histogram": [
           {
            "marker": {
             "pattern": {
              "fillmode": "overlay",
              "size": 10,
              "solidity": 0.2
             }
            },
            "type": "histogram"
           }
          ],
          "histogram2d": [
           {
            "colorbar": {
             "outlinewidth": 0,
             "ticks": ""
            },
            "colorscale": [
             [
              0,
              "#0d0887"
             ],
             [
              0.1111111111111111,
              "#46039f"
             ],
             [
              0.2222222222222222,
              "#7201a8"
             ],
             [
              0.3333333333333333,
              "#9c179e"
             ],
             [
              0.4444444444444444,
              "#bd3786"
             ],
             [
              0.5555555555555556,
              "#d8576b"
             ],
             [
              0.6666666666666666,
              "#ed7953"
             ],
             [
              0.7777777777777778,
              "#fb9f3a"
             ],
             [
              0.8888888888888888,
              "#fdca26"
             ],
             [
              1,
              "#f0f921"
             ]
            ],
            "type": "histogram2d"
           }
          ],
          "histogram2dcontour": [
           {
            "colorbar": {
             "outlinewidth": 0,
             "ticks": ""
            },
            "colorscale": [
             [
              0,
              "#0d0887"
             ],
             [
              0.1111111111111111,
              "#46039f"
             ],
             [
              0.2222222222222222,
              "#7201a8"
             ],
             [
              0.3333333333333333,
              "#9c179e"
             ],
             [
              0.4444444444444444,
              "#bd3786"
             ],
             [
              0.5555555555555556,
              "#d8576b"
             ],
             [
              0.6666666666666666,
              "#ed7953"
             ],
             [
              0.7777777777777778,
              "#fb9f3a"
             ],
             [
              0.8888888888888888,
              "#fdca26"
             ],
             [
              1,
              "#f0f921"
             ]
            ],
            "type": "histogram2dcontour"
           }
          ],
          "mesh3d": [
           {
            "colorbar": {
             "outlinewidth": 0,
             "ticks": ""
            },
            "type": "mesh3d"
           }
          ],
          "parcoords": [
           {
            "line": {
             "colorbar": {
              "outlinewidth": 0,
              "ticks": ""
             }
            },
            "type": "parcoords"
           }
          ],
          "pie": [
           {
            "automargin": true,
            "type": "pie"
           }
          ],
          "scatter": [
           {
            "marker": {
             "colorbar": {
              "outlinewidth": 0,
              "ticks": ""
             }
            },
            "type": "scatter"
           }
          ],
          "scatter3d": [
           {
            "line": {
             "colorbar": {
              "outlinewidth": 0,
              "ticks": ""
             }
            },
            "marker": {
             "colorbar": {
              "outlinewidth": 0,
              "ticks": ""
             }
            },
            "type": "scatter3d"
           }
          ],
          "scattercarpet": [
           {
            "marker": {
             "colorbar": {
              "outlinewidth": 0,
              "ticks": ""
             }
            },
            "type": "scattercarpet"
           }
          ],
          "scattergeo": [
           {
            "marker": {
             "colorbar": {
              "outlinewidth": 0,
              "ticks": ""
             }
            },
            "type": "scattergeo"
           }
          ],
          "scattergl": [
           {
            "marker": {
             "colorbar": {
              "outlinewidth": 0,
              "ticks": ""
             }
            },
            "type": "scattergl"
           }
          ],
          "scattermapbox": [
           {
            "marker": {
             "colorbar": {
              "outlinewidth": 0,
              "ticks": ""
             }
            },
            "type": "scattermapbox"
           }
          ],
          "scatterpolar": [
           {
            "marker": {
             "colorbar": {
              "outlinewidth": 0,
              "ticks": ""
             }
            },
            "type": "scatterpolar"
           }
          ],
          "scatterpolargl": [
           {
            "marker": {
             "colorbar": {
              "outlinewidth": 0,
              "ticks": ""
             }
            },
            "type": "scatterpolargl"
           }
          ],
          "scatterternary": [
           {
            "marker": {
             "colorbar": {
              "outlinewidth": 0,
              "ticks": ""
             }
            },
            "type": "scatterternary"
           }
          ],
          "surface": [
           {
            "colorbar": {
             "outlinewidth": 0,
             "ticks": ""
            },
            "colorscale": [
             [
              0,
              "#0d0887"
             ],
             [
              0.1111111111111111,
              "#46039f"
             ],
             [
              0.2222222222222222,
              "#7201a8"
             ],
             [
              0.3333333333333333,
              "#9c179e"
             ],
             [
              0.4444444444444444,
              "#bd3786"
             ],
             [
              0.5555555555555556,
              "#d8576b"
             ],
             [
              0.6666666666666666,
              "#ed7953"
             ],
             [
              0.7777777777777778,
              "#fb9f3a"
             ],
             [
              0.8888888888888888,
              "#fdca26"
             ],
             [
              1,
              "#f0f921"
             ]
            ],
            "type": "surface"
           }
          ],
          "table": [
           {
            "cells": {
             "fill": {
              "color": "#EBF0F8"
             },
             "line": {
              "color": "white"
             }
            },
            "header": {
             "fill": {
              "color": "#C8D4E3"
             },
             "line": {
              "color": "white"
             }
            },
            "type": "table"
           }
          ]
         },
         "layout": {
          "annotationdefaults": {
           "arrowcolor": "#2a3f5f",
           "arrowhead": 0,
           "arrowwidth": 1
          },
          "autotypenumbers": "strict",
          "coloraxis": {
           "colorbar": {
            "outlinewidth": 0,
            "ticks": ""
           }
          },
          "colorscale": {
           "diverging": [
            [
             0,
             "#8e0152"
            ],
            [
             0.1,
             "#c51b7d"
            ],
            [
             0.2,
             "#de77ae"
            ],
            [
             0.3,
             "#f1b6da"
            ],
            [
             0.4,
             "#fde0ef"
            ],
            [
             0.5,
             "#f7f7f7"
            ],
            [
             0.6,
             "#e6f5d0"
            ],
            [
             0.7,
             "#b8e186"
            ],
            [
             0.8,
             "#7fbc41"
            ],
            [
             0.9,
             "#4d9221"
            ],
            [
             1,
             "#276419"
            ]
           ],
           "sequential": [
            [
             0,
             "#0d0887"
            ],
            [
             0.1111111111111111,
             "#46039f"
            ],
            [
             0.2222222222222222,
             "#7201a8"
            ],
            [
             0.3333333333333333,
             "#9c179e"
            ],
            [
             0.4444444444444444,
             "#bd3786"
            ],
            [
             0.5555555555555556,
             "#d8576b"
            ],
            [
             0.6666666666666666,
             "#ed7953"
            ],
            [
             0.7777777777777778,
             "#fb9f3a"
            ],
            [
             0.8888888888888888,
             "#fdca26"
            ],
            [
             1,
             "#f0f921"
            ]
           ],
           "sequentialminus": [
            [
             0,
             "#0d0887"
            ],
            [
             0.1111111111111111,
             "#46039f"
            ],
            [
             0.2222222222222222,
             "#7201a8"
            ],
            [
             0.3333333333333333,
             "#9c179e"
            ],
            [
             0.4444444444444444,
             "#bd3786"
            ],
            [
             0.5555555555555556,
             "#d8576b"
            ],
            [
             0.6666666666666666,
             "#ed7953"
            ],
            [
             0.7777777777777778,
             "#fb9f3a"
            ],
            [
             0.8888888888888888,
             "#fdca26"
            ],
            [
             1,
             "#f0f921"
            ]
           ]
          },
          "colorway": [
           "#636efa",
           "#EF553B",
           "#00cc96",
           "#ab63fa",
           "#FFA15A",
           "#19d3f3",
           "#FF6692",
           "#B6E880",
           "#FF97FF",
           "#FECB52"
          ],
          "font": {
           "color": "#2a3f5f"
          },
          "geo": {
           "bgcolor": "white",
           "lakecolor": "white",
           "landcolor": "#E5ECF6",
           "showlakes": true,
           "showland": true,
           "subunitcolor": "white"
          },
          "hoverlabel": {
           "align": "left"
          },
          "hovermode": "closest",
          "mapbox": {
           "style": "light"
          },
          "paper_bgcolor": "white",
          "plot_bgcolor": "#E5ECF6",
          "polar": {
           "angularaxis": {
            "gridcolor": "white",
            "linecolor": "white",
            "ticks": ""
           },
           "bgcolor": "#E5ECF6",
           "radialaxis": {
            "gridcolor": "white",
            "linecolor": "white",
            "ticks": ""
           }
          },
          "scene": {
           "xaxis": {
            "backgroundcolor": "#E5ECF6",
            "gridcolor": "white",
            "gridwidth": 2,
            "linecolor": "white",
            "showbackground": true,
            "ticks": "",
            "zerolinecolor": "white"
           },
           "yaxis": {
            "backgroundcolor": "#E5ECF6",
            "gridcolor": "white",
            "gridwidth": 2,
            "linecolor": "white",
            "showbackground": true,
            "ticks": "",
            "zerolinecolor": "white"
           },
           "zaxis": {
            "backgroundcolor": "#E5ECF6",
            "gridcolor": "white",
            "gridwidth": 2,
            "linecolor": "white",
            "showbackground": true,
            "ticks": "",
            "zerolinecolor": "white"
           }
          },
          "shapedefaults": {
           "line": {
            "color": "#2a3f5f"
           }
          },
          "ternary": {
           "aaxis": {
            "gridcolor": "white",
            "linecolor": "white",
            "ticks": ""
           },
           "baxis": {
            "gridcolor": "white",
            "linecolor": "white",
            "ticks": ""
           },
           "bgcolor": "#E5ECF6",
           "caxis": {
            "gridcolor": "white",
            "linecolor": "white",
            "ticks": ""
           }
          },
          "title": {
           "x": 0.05
          },
          "xaxis": {
           "automargin": true,
           "gridcolor": "white",
           "linecolor": "white",
           "ticks": "",
           "title": {
            "standoff": 15
           },
           "zerolinecolor": "white",
           "zerolinewidth": 2
          },
          "yaxis": {
           "automargin": true,
           "gridcolor": "white",
           "linecolor": "white",
           "ticks": "",
           "title": {
            "standoff": 15
           },
           "zerolinecolor": "white",
           "zerolinewidth": 2
          }
         }
        },
        "updatemenus": [
         {
          "buttons": [
           {
            "args": [
             null,
             {
              "frame": {
               "duration": 500,
               "redraw": true
              },
              "fromcurrent": true,
              "mode": "immediate",
              "transition": {
               "duration": 500,
               "easing": "linear"
              }
             }
            ],
            "label": "&#9654;",
            "method": "animate"
           },
           {
            "args": [
             [
              null
             ],
             {
              "frame": {
               "duration": 0,
               "redraw": true
              },
              "fromcurrent": true,
              "mode": "immediate",
              "transition": {
               "duration": 0,
               "easing": "linear"
              }
             }
            ],
            "label": "&#9724;",
            "method": "animate"
           }
          ],
          "direction": "left",
          "pad": {
           "r": 10,
           "t": 70
          },
          "showactive": false,
          "type": "buttons",
          "x": 0.1,
          "xanchor": "right",
          "y": 0,
          "yanchor": "top"
         }
        ],
        "xaxis": {
         "anchor": "y",
         "domain": [
          0,
          1
         ],
         "title": {
          "text": "population"
         }
        },
        "yaxis": {
         "anchor": "x",
         "domain": [
          0,
          1
         ],
         "title": {
          "text": "age"
         }
        }
       }
      },
      "text/html": [
       "<div>                            <div id=\"86384e29-1070-42a7-ac6e-ab8528383f20\" class=\"plotly-graph-div\" style=\"height:525px; width:100%;\"></div>            <script type=\"text/javascript\">                require([\"plotly\"], function(Plotly) {                    window.PLOTLYENV=window.PLOTLYENV || {};                                    if (document.getElementById(\"86384e29-1070-42a7-ac6e-ab8528383f20\")) {                    Plotly.newPlot(                        \"86384e29-1070-42a7-ac6e-ab8528383f20\",                        [{\"alignmentgroup\":\"True\",\"hovertemplate\":\"sex=Female<br>year=1986<br>population=%{x}<br>age=%{y}<extra></extra>\",\"legendgroup\":\"Female\",\"marker\":{\"color\":\"#636efa\",\"pattern\":{\"shape\":\"\"}},\"name\":\"Female\",\"offsetgroup\":\"Female\",\"orientation\":\"h\",\"showlegend\":true,\"textposition\":\"auto\",\"x\":[20898.0,1704.0,1530.0,1993.0,2298.0,2016.0,1764.0,1319.0,1081.0,1496.0,1024.0,1003.0,862.0,592.0,483.0,1099.0],\"xaxis\":\"x\",\"y\":[\"Total\",\"10-14\",\"15-19\",\"20-24\",\"25-29\",\"30-34\",\"35-39\",\"40-44\",\"45-49\",\"5-9\",\"50-54\",\"55-59\",\"60-64\",\"65-69\",\"70-74\",\"<5\"],\"yaxis\":\"y\",\"type\":\"bar\"},{\"alignmentgroup\":\"True\",\"hovertemplate\":\"sex=Male<br>year=1986<br>population=%{x}<br>age=%{y}<extra></extra>\",\"legendgroup\":\"Male\",\"marker\":{\"color\":\"#EF553B\",\"pattern\":{\"shape\":\"\"}},\"name\":\"Male\",\"offsetgroup\":\"Male\",\"orientation\":\"h\",\"showlegend\":true,\"textposition\":\"auto\",\"x\":[23695.0,1819.0,1640.0,2156.0,2827.0,2474.0,2095.0,1661.0,1214.0,1651.0,1242.0,1017.0,891.0,667.0,572.0,1164.0],\"xaxis\":\"x\",\"y\":[\"Total\",\"10-14\",\"15-19\",\"20-24\",\"25-29\",\"30-34\",\"35-39\",\"40-44\",\"45-49\",\"5-9\",\"50-54\",\"55-59\",\"60-64\",\"65-69\",\"70-74\",\"<5\"],\"yaxis\":\"y\",\"type\":\"bar\"}],                        {\"template\":{\"data\":{\"bar\":[{\"error_x\":{\"color\":\"#2a3f5f\"},\"error_y\":{\"color\":\"#2a3f5f\"},\"marker\":{\"line\":{\"color\":\"#E5ECF6\",\"width\":0.5},\"pattern\":{\"fillmode\":\"overlay\",\"size\":10,\"solidity\":0.2}},\"type\":\"bar\"}],\"barpolar\":[{\"marker\":{\"line\":{\"color\":\"#E5ECF6\",\"width\":0.5},\"pattern\":{\"fillmode\":\"overlay\",\"size\":10,\"solidity\":0.2}},\"type\":\"barpolar\"}],\"carpet\":[{\"aaxis\":{\"endlinecolor\":\"#2a3f5f\",\"gridcolor\":\"white\",\"linecolor\":\"white\",\"minorgridcolor\":\"white\",\"startlinecolor\":\"#2a3f5f\"},\"baxis\":{\"endlinecolor\":\"#2a3f5f\",\"gridcolor\":\"white\",\"linecolor\":\"white\",\"minorgridcolor\":\"white\",\"startlinecolor\":\"#2a3f5f\"},\"type\":\"carpet\"}],\"choropleth\":[{\"colorbar\":{\"outlinewidth\":0,\"ticks\":\"\"},\"type\":\"choropleth\"}],\"contour\":[{\"colorbar\":{\"outlinewidth\":0,\"ticks\":\"\"},\"colorscale\":[[0.0,\"#0d0887\"],[0.1111111111111111,\"#46039f\"],[0.2222222222222222,\"#7201a8\"],[0.3333333333333333,\"#9c179e\"],[0.4444444444444444,\"#bd3786\"],[0.5555555555555556,\"#d8576b\"],[0.6666666666666666,\"#ed7953\"],[0.7777777777777778,\"#fb9f3a\"],[0.8888888888888888,\"#fdca26\"],[1.0,\"#f0f921\"]],\"type\":\"contour\"}],\"contourcarpet\":[{\"colorbar\":{\"outlinewidth\":0,\"ticks\":\"\"},\"type\":\"contourcarpet\"}],\"heatmap\":[{\"colorbar\":{\"outlinewidth\":0,\"ticks\":\"\"},\"colorscale\":[[0.0,\"#0d0887\"],[0.1111111111111111,\"#46039f\"],[0.2222222222222222,\"#7201a8\"],[0.3333333333333333,\"#9c179e\"],[0.4444444444444444,\"#bd3786\"],[0.5555555555555556,\"#d8576b\"],[0.6666666666666666,\"#ed7953\"],[0.7777777777777778,\"#fb9f3a\"],[0.8888888888888888,\"#fdca26\"],[1.0,\"#f0f921\"]],\"type\":\"heatmap\"}],\"heatmapgl\":[{\"colorbar\":{\"outlinewidth\":0,\"ticks\":\"\"},\"colorscale\":[[0.0,\"#0d0887\"],[0.1111111111111111,\"#46039f\"],[0.2222222222222222,\"#7201a8\"],[0.3333333333333333,\"#9c179e\"],[0.4444444444444444,\"#bd3786\"],[0.5555555555555556,\"#d8576b\"],[0.6666666666666666,\"#ed7953\"],[0.7777777777777778,\"#fb9f3a\"],[0.8888888888888888,\"#fdca26\"],[1.0,\"#f0f921\"]],\"type\":\"heatmapgl\"}],\"histogram\":[{\"marker\":{\"pattern\":{\"fillmode\":\"overlay\",\"size\":10,\"solidity\":0.2}},\"type\":\"histogram\"}],\"histogram2d\":[{\"colorbar\":{\"outlinewidth\":0,\"ticks\":\"\"},\"colorscale\":[[0.0,\"#0d0887\"],[0.1111111111111111,\"#46039f\"],[0.2222222222222222,\"#7201a8\"],[0.3333333333333333,\"#9c179e\"],[0.4444444444444444,\"#bd3786\"],[0.5555555555555556,\"#d8576b\"],[0.6666666666666666,\"#ed7953\"],[0.7777777777777778,\"#fb9f3a\"],[0.8888888888888888,\"#fdca26\"],[1.0,\"#f0f921\"]],\"type\":\"histogram2d\"}],\"histogram2dcontour\":[{\"colorbar\":{\"outlinewidth\":0,\"ticks\":\"\"},\"colorscale\":[[0.0,\"#0d0887\"],[0.1111111111111111,\"#46039f\"],[0.2222222222222222,\"#7201a8\"],[0.3333333333333333,\"#9c179e\"],[0.4444444444444444,\"#bd3786\"],[0.5555555555555556,\"#d8576b\"],[0.6666666666666666,\"#ed7953\"],[0.7777777777777778,\"#fb9f3a\"],[0.8888888888888888,\"#fdca26\"],[1.0,\"#f0f921\"]],\"type\":\"histogram2dcontour\"}],\"mesh3d\":[{\"colorbar\":{\"outlinewidth\":0,\"ticks\":\"\"},\"type\":\"mesh3d\"}],\"parcoords\":[{\"line\":{\"colorbar\":{\"outlinewidth\":0,\"ticks\":\"\"}},\"type\":\"parcoords\"}],\"pie\":[{\"automargin\":true,\"type\":\"pie\"}],\"scatter\":[{\"marker\":{\"colorbar\":{\"outlinewidth\":0,\"ticks\":\"\"}},\"type\":\"scatter\"}],\"scatter3d\":[{\"line\":{\"colorbar\":{\"outlinewidth\":0,\"ticks\":\"\"}},\"marker\":{\"colorbar\":{\"outlinewidth\":0,\"ticks\":\"\"}},\"type\":\"scatter3d\"}],\"scattercarpet\":[{\"marker\":{\"colorbar\":{\"outlinewidth\":0,\"ticks\":\"\"}},\"type\":\"scattercarpet\"}],\"scattergeo\":[{\"marker\":{\"colorbar\":{\"outlinewidth\":0,\"ticks\":\"\"}},\"type\":\"scattergeo\"}],\"scattergl\":[{\"marker\":{\"colorbar\":{\"outlinewidth\":0,\"ticks\":\"\"}},\"type\":\"scattergl\"}],\"scattermapbox\":[{\"marker\":{\"colorbar\":{\"outlinewidth\":0,\"ticks\":\"\"}},\"type\":\"scattermapbox\"}],\"scatterpolar\":[{\"marker\":{\"colorbar\":{\"outlinewidth\":0,\"ticks\":\"\"}},\"type\":\"scatterpolar\"}],\"scatterpolargl\":[{\"marker\":{\"colorbar\":{\"outlinewidth\":0,\"ticks\":\"\"}},\"type\":\"scatterpolargl\"}],\"scatterternary\":[{\"marker\":{\"colorbar\":{\"outlinewidth\":0,\"ticks\":\"\"}},\"type\":\"scatterternary\"}],\"surface\":[{\"colorbar\":{\"outlinewidth\":0,\"ticks\":\"\"},\"colorscale\":[[0.0,\"#0d0887\"],[0.1111111111111111,\"#46039f\"],[0.2222222222222222,\"#7201a8\"],[0.3333333333333333,\"#9c179e\"],[0.4444444444444444,\"#bd3786\"],[0.5555555555555556,\"#d8576b\"],[0.6666666666666666,\"#ed7953\"],[0.7777777777777778,\"#fb9f3a\"],[0.8888888888888888,\"#fdca26\"],[1.0,\"#f0f921\"]],\"type\":\"surface\"}],\"table\":[{\"cells\":{\"fill\":{\"color\":\"#EBF0F8\"},\"line\":{\"color\":\"white\"}},\"header\":{\"fill\":{\"color\":\"#C8D4E3\"},\"line\":{\"color\":\"white\"}},\"type\":\"table\"}]},\"layout\":{\"annotationdefaults\":{\"arrowcolor\":\"#2a3f5f\",\"arrowhead\":0,\"arrowwidth\":1},\"autotypenumbers\":\"strict\",\"coloraxis\":{\"colorbar\":{\"outlinewidth\":0,\"ticks\":\"\"}},\"colorscale\":{\"diverging\":[[0,\"#8e0152\"],[0.1,\"#c51b7d\"],[0.2,\"#de77ae\"],[0.3,\"#f1b6da\"],[0.4,\"#fde0ef\"],[0.5,\"#f7f7f7\"],[0.6,\"#e6f5d0\"],[0.7,\"#b8e186\"],[0.8,\"#7fbc41\"],[0.9,\"#4d9221\"],[1,\"#276419\"]],\"sequential\":[[0.0,\"#0d0887\"],[0.1111111111111111,\"#46039f\"],[0.2222222222222222,\"#7201a8\"],[0.3333333333333333,\"#9c179e\"],[0.4444444444444444,\"#bd3786\"],[0.5555555555555556,\"#d8576b\"],[0.6666666666666666,\"#ed7953\"],[0.7777777777777778,\"#fb9f3a\"],[0.8888888888888888,\"#fdca26\"],[1.0,\"#f0f921\"]],\"sequentialminus\":[[0.0,\"#0d0887\"],[0.1111111111111111,\"#46039f\"],[0.2222222222222222,\"#7201a8\"],[0.3333333333333333,\"#9c179e\"],[0.4444444444444444,\"#bd3786\"],[0.5555555555555556,\"#d8576b\"],[0.6666666666666666,\"#ed7953\"],[0.7777777777777778,\"#fb9f3a\"],[0.8888888888888888,\"#fdca26\"],[1.0,\"#f0f921\"]]},\"colorway\":[\"#636efa\",\"#EF553B\",\"#00cc96\",\"#ab63fa\",\"#FFA15A\",\"#19d3f3\",\"#FF6692\",\"#B6E880\",\"#FF97FF\",\"#FECB52\"],\"font\":{\"color\":\"#2a3f5f\"},\"geo\":{\"bgcolor\":\"white\",\"lakecolor\":\"white\",\"landcolor\":\"#E5ECF6\",\"showlakes\":true,\"showland\":true,\"subunitcolor\":\"white\"},\"hoverlabel\":{\"align\":\"left\"},\"hovermode\":\"closest\",\"mapbox\":{\"style\":\"light\"},\"paper_bgcolor\":\"white\",\"plot_bgcolor\":\"#E5ECF6\",\"polar\":{\"angularaxis\":{\"gridcolor\":\"white\",\"linecolor\":\"white\",\"ticks\":\"\"},\"bgcolor\":\"#E5ECF6\",\"radialaxis\":{\"gridcolor\":\"white\",\"linecolor\":\"white\",\"ticks\":\"\"}},\"scene\":{\"xaxis\":{\"backgroundcolor\":\"#E5ECF6\",\"gridcolor\":\"white\",\"gridwidth\":2,\"linecolor\":\"white\",\"showbackground\":true,\"ticks\":\"\",\"zerolinecolor\":\"white\"},\"yaxis\":{\"backgroundcolor\":\"#E5ECF6\",\"gridcolor\":\"white\",\"gridwidth\":2,\"linecolor\":\"white\",\"showbackground\":true,\"ticks\":\"\",\"zerolinecolor\":\"white\"},\"zaxis\":{\"backgroundcolor\":\"#E5ECF6\",\"gridcolor\":\"white\",\"gridwidth\":2,\"linecolor\":\"white\",\"showbackground\":true,\"ticks\":\"\",\"zerolinecolor\":\"white\"}},\"shapedefaults\":{\"line\":{\"color\":\"#2a3f5f\"}},\"ternary\":{\"aaxis\":{\"gridcolor\":\"white\",\"linecolor\":\"white\",\"ticks\":\"\"},\"baxis\":{\"gridcolor\":\"white\",\"linecolor\":\"white\",\"ticks\":\"\"},\"bgcolor\":\"#E5ECF6\",\"caxis\":{\"gridcolor\":\"white\",\"linecolor\":\"white\",\"ticks\":\"\"}},\"title\":{\"x\":0.05},\"xaxis\":{\"automargin\":true,\"gridcolor\":\"white\",\"linecolor\":\"white\",\"ticks\":\"\",\"title\":{\"standoff\":15},\"zerolinecolor\":\"white\",\"zerolinewidth\":2},\"yaxis\":{\"automargin\":true,\"gridcolor\":\"white\",\"linecolor\":\"white\",\"ticks\":\"\",\"title\":{\"standoff\":15},\"zerolinecolor\":\"white\",\"zerolinewidth\":2}}},\"xaxis\":{\"anchor\":\"y\",\"domain\":[0.0,1.0],\"title\":{\"text\":\"population\"}},\"yaxis\":{\"anchor\":\"x\",\"domain\":[0.0,1.0],\"title\":{\"text\":\"age\"}},\"legend\":{\"title\":{\"text\":\"sex\"},\"tracegroupgap\":0},\"margin\":{\"t\":60},\"barmode\":\"group\",\"updatemenus\":[{\"buttons\":[{\"args\":[null,{\"frame\":{\"duration\":500,\"redraw\":true},\"mode\":\"immediate\",\"fromcurrent\":true,\"transition\":{\"duration\":500,\"easing\":\"linear\"}}],\"label\":\"&#9654;\",\"method\":\"animate\"},{\"args\":[[null],{\"frame\":{\"duration\":0,\"redraw\":true},\"mode\":\"immediate\",\"fromcurrent\":true,\"transition\":{\"duration\":0,\"easing\":\"linear\"}}],\"label\":\"&#9724;\",\"method\":\"animate\"}],\"direction\":\"left\",\"pad\":{\"r\":10,\"t\":70},\"showactive\":false,\"type\":\"buttons\",\"x\":0.1,\"xanchor\":\"right\",\"y\":0,\"yanchor\":\"top\"}],\"sliders\":[{\"active\":0,\"currentvalue\":{\"prefix\":\"year=\"},\"len\":0.9,\"pad\":{\"b\":10,\"t\":60},\"steps\":[{\"args\":[[\"1986\"],{\"frame\":{\"duration\":0,\"redraw\":true},\"mode\":\"immediate\",\"fromcurrent\":true,\"transition\":{\"duration\":0,\"easing\":\"linear\"}}],\"label\":\"1986\",\"method\":\"animate\"},{\"args\":[[\"1987\"],{\"frame\":{\"duration\":0,\"redraw\":true},\"mode\":\"immediate\",\"fromcurrent\":true,\"transition\":{\"duration\":0,\"easing\":\"linear\"}}],\"label\":\"1987\",\"method\":\"animate\"},{\"args\":[[\"1988\"],{\"frame\":{\"duration\":0,\"redraw\":true},\"mode\":\"immediate\",\"fromcurrent\":true,\"transition\":{\"duration\":0,\"easing\":\"linear\"}}],\"label\":\"1988\",\"method\":\"animate\"},{\"args\":[[\"1989\"],{\"frame\":{\"duration\":0,\"redraw\":true},\"mode\":\"immediate\",\"fromcurrent\":true,\"transition\":{\"duration\":0,\"easing\":\"linear\"}}],\"label\":\"1989\",\"method\":\"animate\"},{\"args\":[[\"1990\"],{\"frame\":{\"duration\":0,\"redraw\":true},\"mode\":\"immediate\",\"fromcurrent\":true,\"transition\":{\"duration\":0,\"easing\":\"linear\"}}],\"label\":\"1990\",\"method\":\"animate\"},{\"args\":[[\"1991\"],{\"frame\":{\"duration\":0,\"redraw\":true},\"mode\":\"immediate\",\"fromcurrent\":true,\"transition\":{\"duration\":0,\"easing\":\"linear\"}}],\"label\":\"1991\",\"method\":\"animate\"},{\"args\":[[\"1992\"],{\"frame\":{\"duration\":0,\"redraw\":true},\"mode\":\"immediate\",\"fromcurrent\":true,\"transition\":{\"duration\":0,\"easing\":\"linear\"}}],\"label\":\"1992\",\"method\":\"animate\"},{\"args\":[[\"1993\"],{\"frame\":{\"duration\":0,\"redraw\":true},\"mode\":\"immediate\",\"fromcurrent\":true,\"transition\":{\"duration\":0,\"easing\":\"linear\"}}],\"label\":\"1993\",\"method\":\"animate\"},{\"args\":[[\"1994\"],{\"frame\":{\"duration\":0,\"redraw\":true},\"mode\":\"immediate\",\"fromcurrent\":true,\"transition\":{\"duration\":0,\"easing\":\"linear\"}}],\"label\":\"1994\",\"method\":\"animate\"},{\"args\":[[\"1995\"],{\"frame\":{\"duration\":0,\"redraw\":true},\"mode\":\"immediate\",\"fromcurrent\":true,\"transition\":{\"duration\":0,\"easing\":\"linear\"}}],\"label\":\"1995\",\"method\":\"animate\"},{\"args\":[[\"1996\"],{\"frame\":{\"duration\":0,\"redraw\":true},\"mode\":\"immediate\",\"fromcurrent\":true,\"transition\":{\"duration\":0,\"easing\":\"linear\"}}],\"label\":\"1996\",\"method\":\"animate\"},{\"args\":[[\"1997\"],{\"frame\":{\"duration\":0,\"redraw\":true},\"mode\":\"immediate\",\"fromcurrent\":true,\"transition\":{\"duration\":0,\"easing\":\"linear\"}}],\"label\":\"1997\",\"method\":\"animate\"},{\"args\":[[\"1998\"],{\"frame\":{\"duration\":0,\"redraw\":true},\"mode\":\"immediate\",\"fromcurrent\":true,\"transition\":{\"duration\":0,\"easing\":\"linear\"}}],\"label\":\"1998\",\"method\":\"animate\"},{\"args\":[[\"1999\"],{\"frame\":{\"duration\":0,\"redraw\":true},\"mode\":\"immediate\",\"fromcurrent\":true,\"transition\":{\"duration\":0,\"easing\":\"linear\"}}],\"label\":\"1999\",\"method\":\"animate\"},{\"args\":[[\"2000\"],{\"frame\":{\"duration\":0,\"redraw\":true},\"mode\":\"immediate\",\"fromcurrent\":true,\"transition\":{\"duration\":0,\"easing\":\"linear\"}}],\"label\":\"2000\",\"method\":\"animate\"},{\"args\":[[\"2001\"],{\"frame\":{\"duration\":0,\"redraw\":true},\"mode\":\"immediate\",\"fromcurrent\":true,\"transition\":{\"duration\":0,\"easing\":\"linear\"}}],\"label\":\"2001\",\"method\":\"animate\"},{\"args\":[[\"2002\"],{\"frame\":{\"duration\":0,\"redraw\":true},\"mode\":\"immediate\",\"fromcurrent\":true,\"transition\":{\"duration\":0,\"easing\":\"linear\"}}],\"label\":\"2002\",\"method\":\"animate\"},{\"args\":[[\"2003\"],{\"frame\":{\"duration\":0,\"redraw\":true},\"mode\":\"immediate\",\"fromcurrent\":true,\"transition\":{\"duration\":0,\"easing\":\"linear\"}}],\"label\":\"2003\",\"method\":\"animate\"},{\"args\":[[\"2004\"],{\"frame\":{\"duration\":0,\"redraw\":true},\"mode\":\"immediate\",\"fromcurrent\":true,\"transition\":{\"duration\":0,\"easing\":\"linear\"}}],\"label\":\"2004\",\"method\":\"animate\"},{\"args\":[[\"2005\"],{\"frame\":{\"duration\":0,\"redraw\":true},\"mode\":\"immediate\",\"fromcurrent\":true,\"transition\":{\"duration\":0,\"easing\":\"linear\"}}],\"label\":\"2005\",\"method\":\"animate\"},{\"args\":[[\"2006\"],{\"frame\":{\"duration\":0,\"redraw\":true},\"mode\":\"immediate\",\"fromcurrent\":true,\"transition\":{\"duration\":0,\"easing\":\"linear\"}}],\"label\":\"2006\",\"method\":\"animate\"},{\"args\":[[\"2007\"],{\"frame\":{\"duration\":0,\"redraw\":true},\"mode\":\"immediate\",\"fromcurrent\":true,\"transition\":{\"duration\":0,\"easing\":\"linear\"}}],\"label\":\"2007\",\"method\":\"animate\"},{\"args\":[[\"2008\"],{\"frame\":{\"duration\":0,\"redraw\":true},\"mode\":\"immediate\",\"fromcurrent\":true,\"transition\":{\"duration\":0,\"easing\":\"linear\"}}],\"label\":\"2008\",\"method\":\"animate\"},{\"args\":[[\"2009\"],{\"frame\":{\"duration\":0,\"redraw\":true},\"mode\":\"immediate\",\"fromcurrent\":true,\"transition\":{\"duration\":0,\"easing\":\"linear\"}}],\"label\":\"2009\",\"method\":\"animate\"},{\"args\":[[\"2010\"],{\"frame\":{\"duration\":0,\"redraw\":true},\"mode\":\"immediate\",\"fromcurrent\":true,\"transition\":{\"duration\":0,\"easing\":\"linear\"}}],\"label\":\"2010\",\"method\":\"animate\"},{\"args\":[[\"2011\"],{\"frame\":{\"duration\":0,\"redraw\":true},\"mode\":\"immediate\",\"fromcurrent\":true,\"transition\":{\"duration\":0,\"easing\":\"linear\"}}],\"label\":\"2011\",\"method\":\"animate\"},{\"args\":[[\"2012\"],{\"frame\":{\"duration\":0,\"redraw\":true},\"mode\":\"immediate\",\"fromcurrent\":true,\"transition\":{\"duration\":0,\"easing\":\"linear\"}}],\"label\":\"2012\",\"method\":\"animate\"},{\"args\":[[\"2013\"],{\"frame\":{\"duration\":0,\"redraw\":true},\"mode\":\"immediate\",\"fromcurrent\":true,\"transition\":{\"duration\":0,\"easing\":\"linear\"}}],\"label\":\"2013\",\"method\":\"animate\"},{\"args\":[[\"2019\"],{\"frame\":{\"duration\":0,\"redraw\":true},\"mode\":\"immediate\",\"fromcurrent\":true,\"transition\":{\"duration\":0,\"easing\":\"linear\"}}],\"label\":\"2019\",\"method\":\"animate\"}],\"x\":0.1,\"xanchor\":\"left\",\"y\":0,\"yanchor\":\"top\"}]},                        {\"responsive\": true}                    ).then(function(){\n",
       "                            Plotly.addFrames('86384e29-1070-42a7-ac6e-ab8528383f20', [{\"data\":[{\"alignmentgroup\":\"True\",\"hovertemplate\":\"sex=Female<br>year=1986<br>population=%{x}<br>age=%{y}<extra></extra>\",\"legendgroup\":\"Female\",\"marker\":{\"color\":\"#636efa\",\"pattern\":{\"shape\":\"\"}},\"name\":\"Female\",\"offsetgroup\":\"Female\",\"orientation\":\"h\",\"showlegend\":true,\"textposition\":\"auto\",\"x\":[20898.0,1704.0,1530.0,1993.0,2298.0,2016.0,1764.0,1319.0,1081.0,1496.0,1024.0,1003.0,862.0,592.0,483.0,1099.0],\"xaxis\":\"x\",\"y\":[\"Total\",\"10-14\",\"15-19\",\"20-24\",\"25-29\",\"30-34\",\"35-39\",\"40-44\",\"45-49\",\"5-9\",\"50-54\",\"55-59\",\"60-64\",\"65-69\",\"70-74\",\"<5\"],\"yaxis\":\"y\",\"type\":\"bar\"},{\"alignmentgroup\":\"True\",\"hovertemplate\":\"sex=Male<br>year=1986<br>population=%{x}<br>age=%{y}<extra></extra>\",\"legendgroup\":\"Male\",\"marker\":{\"color\":\"#EF553B\",\"pattern\":{\"shape\":\"\"}},\"name\":\"Male\",\"offsetgroup\":\"Male\",\"orientation\":\"h\",\"showlegend\":true,\"textposition\":\"auto\",\"x\":[23695.0,1819.0,1640.0,2156.0,2827.0,2474.0,2095.0,1661.0,1214.0,1651.0,1242.0,1017.0,891.0,667.0,572.0,1164.0],\"xaxis\":\"x\",\"y\":[\"Total\",\"10-14\",\"15-19\",\"20-24\",\"25-29\",\"30-34\",\"35-39\",\"40-44\",\"45-49\",\"5-9\",\"50-54\",\"55-59\",\"60-64\",\"65-69\",\"70-74\",\"<5\"],\"yaxis\":\"y\",\"type\":\"bar\"}],\"name\":\"1986\"},{\"data\":[{\"alignmentgroup\":\"True\",\"hovertemplate\":\"sex=Female<br>year=1987<br>population=%{x}<br>age=%{y}<extra></extra>\",\"legendgroup\":\"Female\",\"marker\":{\"color\":\"#636efa\",\"pattern\":{\"shape\":\"\"}},\"name\":\"Female\",\"offsetgroup\":\"Female\",\"orientation\":\"h\",\"showlegend\":true,\"textposition\":\"auto\",\"x\":[22148.0,1759.0,1619.0,2153.0,2387.0,2190.0,1828.0,1472.0,1117.0,1588.0,1079.0,1025.0,928.0,657.0,507.0,1153.0],\"xaxis\":\"x\",\"y\":[\"Total\",\"10-14\",\"15-19\",\"20-24\",\"25-29\",\"30-34\",\"35-39\",\"40-44\",\"45-49\",\"5-9\",\"50-54\",\"55-59\",\"60-64\",\"65-69\",\"70-74\",\"<5\"],\"yaxis\":\"y\",\"type\":\"bar\"},{\"alignmentgroup\":\"True\",\"hovertemplate\":\"sex=Male<br>year=1987<br>population=%{x}<br>age=%{y}<extra></extra>\",\"legendgroup\":\"Male\",\"marker\":{\"color\":\"#EF553B\",\"pattern\":{\"shape\":\"\"}},\"name\":\"Male\",\"offsetgroup\":\"Male\",\"orientation\":\"h\",\"showlegend\":true,\"textposition\":\"auto\",\"x\":[24828.0,1903.0,1725.0,2214.0,2904.0,2645.0,2226.0,1773.0,1263.0,1641.0,1261.0,1114.0,933.0,720.0,579.0,1247.0],\"xaxis\":\"x\",\"y\":[\"Total\",\"10-14\",\"15-19\",\"20-24\",\"25-29\",\"30-34\",\"35-39\",\"40-44\",\"45-49\",\"5-9\",\"50-54\",\"55-59\",\"60-64\",\"65-69\",\"70-74\",\"<5\"],\"yaxis\":\"y\",\"type\":\"bar\"}],\"name\":\"1987\"},{\"data\":[{\"alignmentgroup\":\"True\",\"hovertemplate\":\"sex=Female<br>year=1988<br>population=%{x}<br>age=%{y}<extra></extra>\",\"legendgroup\":\"Female\",\"marker\":{\"color\":\"#636efa\",\"pattern\":{\"shape\":\"\"}},\"name\":\"Female\",\"offsetgroup\":\"Female\",\"orientation\":\"h\",\"showlegend\":true,\"textposition\":\"auto\",\"x\":[22814.0,1772.0,1685.0,2057.0,2527.0,2257.0,1883.0,1565.0,1163.0,1574.0,1117.0,1058.0,954.0,784.0,521.0,1129.0],\"xaxis\":\"x\",\"y\":[\"Total\",\"10-14\",\"15-19\",\"20-24\",\"25-29\",\"30-34\",\"35-39\",\"40-44\",\"45-49\",\"5-9\",\"50-54\",\"55-59\",\"60-64\",\"65-69\",\"70-74\",\"<5\"],\"yaxis\":\"y\",\"type\":\"bar\"},{\"alignmentgroup\":\"True\",\"hovertemplate\":\"sex=Male<br>year=1988<br>population=%{x}<br>age=%{y}<extra></extra>\",\"legendgroup\":\"Male\",\"marker\":{\"color\":\"#EF553B\",\"pattern\":{\"shape\":\"\"}},\"name\":\"Male\",\"offsetgroup\":\"Male\",\"orientation\":\"h\",\"showlegend\":true,\"textposition\":\"auto\",\"x\":[25637.0,1914.0,1812.0,2193.0,2857.0,2769.0,2325.0,1946.0,1312.0,1690.0,1288.0,1189.0,983.0,796.0,594.0,1227.0],\"xaxis\":\"x\",\"y\":[\"Total\",\"10-14\",\"15-19\",\"20-24\",\"25-29\",\"30-34\",\"35-39\",\"40-44\",\"45-49\",\"5-9\",\"50-54\",\"55-59\",\"60-64\",\"65-69\",\"70-74\",\"<5\"],\"yaxis\":\"y\",\"type\":\"bar\"}],\"name\":\"1988\"},{\"data\":[{\"alignmentgroup\":\"True\",\"hovertemplate\":\"sex=Female<br>year=1989<br>population=%{x}<br>age=%{y}<extra></extra>\",\"legendgroup\":\"Female\",\"marker\":{\"color\":\"#636efa\",\"pattern\":{\"shape\":\"\"}},\"name\":\"Female\",\"offsetgroup\":\"Female\",\"orientation\":\"h\",\"showlegend\":true,\"textposition\":\"auto\",\"x\":[23813.0,1795.0,1747.0,2070.0,2586.0,2406.0,1984.0,1690.0,1329.0,1606.0,1120.0,1149.0,993.0,849.0,537.0,1099.0],\"xaxis\":\"x\",\"y\":[\"Total\",\"10-14\",\"15-19\",\"20-24\",\"25-29\",\"30-34\",\"35-39\",\"40-44\",\"45-49\",\"5-9\",\"50-54\",\"55-59\",\"60-64\",\"65-69\",\"70-74\",\"<5\"],\"yaxis\":\"y\",\"type\":\"bar\"},{\"alignmentgroup\":\"True\",\"hovertemplate\":\"sex=Male<br>year=1989<br>population=%{x}<br>age=%{y}<extra></extra>\",\"legendgroup\":\"Male\",\"marker\":{\"color\":\"#EF553B\",\"pattern\":{\"shape\":\"\"}},\"name\":\"Male\",\"offsetgroup\":\"Male\",\"orientation\":\"h\",\"showlegend\":true,\"textposition\":\"auto\",\"x\":[26715.0,1946.0,1853.0,2189.0,2924.0,2882.0,2455.0,2122.0,1501.0,1690.0,1307.0,1263.0,1054.0,892.0,626.0,1186.0],\"xaxis\":\"x\",\"y\":[\"Total\",\"10-14\",\"15-19\",\"20-24\",\"25-29\",\"30-34\",\"35-39\",\"40-44\",\"45-49\",\"5-9\",\"50-54\",\"55-59\",\"60-64\",\"65-69\",\"70-74\",\"<5\"],\"yaxis\":\"y\",\"type\":\"bar\"}],\"name\":\"1989\"},{\"data\":[{\"alignmentgroup\":\"True\",\"hovertemplate\":\"sex=Female<br>year=1990<br>population=%{x}<br>age=%{y}<extra></extra>\",\"legendgroup\":\"Female\",\"marker\":{\"color\":\"#636efa\",\"pattern\":{\"shape\":\"\"}},\"name\":\"Female\",\"offsetgroup\":\"Female\",\"orientation\":\"h\",\"showlegend\":true,\"textposition\":\"auto\",\"x\":[24171.0,1712.0,1798.0,1997.0,2558.0,2417.0,2019.0,1759.0,1450.0,1562.0,1135.0,1134.0,1031.0,924.0,544.0,949.0,1182.0],\"xaxis\":\"x\",\"y\":[\"Total\",\"10-14\",\"15-19\",\"20-24\",\"25-29\",\"30-34\",\"35-39\",\"40-44\",\"45-49\",\"5-9\",\"50-54\",\"55-59\",\"60-64\",\"65-69\",\"70-74\",\"75<\",\"<5\"],\"yaxis\":\"y\",\"type\":\"bar\"},{\"alignmentgroup\":\"True\",\"hovertemplate\":\"sex=Male<br>year=1990<br>population=%{x}<br>age=%{y}<extra></extra>\",\"legendgroup\":\"Male\",\"marker\":{\"color\":\"#EF553B\",\"pattern\":{\"shape\":\"\"}},\"name\":\"Male\",\"offsetgroup\":\"Male\",\"orientation\":\"h\",\"showlegend\":true,\"textposition\":\"auto\",\"x\":[26716.0,1916.0,1936.0,2068.0,2769.0,2808.0,2429.0,2109.0,1649.0,1610.0,1272.0,1260.0,1110.0,937.0,639.0,923.0,1281.0],\"xaxis\":\"x\",\"y\":[\"Total\",\"10-14\",\"15-19\",\"20-24\",\"25-29\",\"30-34\",\"35-39\",\"40-44\",\"45-49\",\"5-9\",\"50-54\",\"55-59\",\"60-64\",\"65-69\",\"70-74\",\"75<\",\"<5\"],\"yaxis\":\"y\",\"type\":\"bar\"}],\"name\":\"1990\"},{\"data\":[{\"alignmentgroup\":\"True\",\"hovertemplate\":\"sex=Female<br>year=1991<br>population=%{x}<br>age=%{y}<extra></extra>\",\"legendgroup\":\"Female\",\"marker\":{\"color\":\"#636efa\",\"pattern\":{\"shape\":\"\"}},\"name\":\"Female\",\"offsetgroup\":\"Female\",\"orientation\":\"h\",\"showlegend\":true,\"textposition\":\"auto\",\"x\":[25542.0,1760.0,1895.0,2111.0,2742.0,2596.0,2181.0,1877.0,1502.0,1536.0,1210.0,1133.0,1104.0,945.0,637.0,1019.0,1294.0],\"xaxis\":\"x\",\"y\":[\"Total\",\"10-14\",\"15-19\",\"20-24\",\"25-29\",\"30-34\",\"35-39\",\"40-44\",\"45-49\",\"5-9\",\"50-54\",\"55-59\",\"60-64\",\"65-69\",\"70-74\",\"75<\",\"<5\"],\"yaxis\":\"y\",\"type\":\"bar\"},{\"alignmentgroup\":\"True\",\"hovertemplate\":\"sex=Male<br>year=1991<br>population=%{x}<br>age=%{y}<extra></extra>\",\"legendgroup\":\"Male\",\"marker\":{\"color\":\"#EF553B\",\"pattern\":{\"shape\":\"\"}},\"name\":\"Male\",\"offsetgroup\":\"Male\",\"orientation\":\"h\",\"showlegend\":true,\"textposition\":\"auto\",\"x\":[28965.0,1881.0,2064.0,2414.0,3180.0,3196.0,2626.0,2211.0,1816.0,1620.0,1370.0,1336.0,1142.0,1011.0,676.0,999.0,1423.0],\"xaxis\":\"x\",\"y\":[\"Total\",\"10-14\",\"15-19\",\"20-24\",\"25-29\",\"30-34\",\"35-39\",\"40-44\",\"45-49\",\"5-9\",\"50-54\",\"55-59\",\"60-64\",\"65-69\",\"70-74\",\"75<\",\"<5\"],\"yaxis\":\"y\",\"type\":\"bar\"}],\"name\":\"1991\"},{\"data\":[{\"alignmentgroup\":\"True\",\"hovertemplate\":\"sex=Female<br>year=1992<br>population=%{x}<br>age=%{y}<extra></extra>\",\"legendgroup\":\"Female\",\"marker\":{\"color\":\"#636efa\",\"pattern\":{\"shape\":\"\"}},\"name\":\"Female\",\"offsetgroup\":\"Female\",\"orientation\":\"h\",\"showlegend\":true,\"textposition\":\"auto\",\"x\":[27572.0,1755.0,1980.0,2592.0,3153.0,2842.0,2332.0,1943.0,1648.0,1550.0,1235.0,1227.0,1122.0,984.0,688.0,1069.0,1452.0],\"xaxis\":\"x\",\"y\":[\"Total\",\"10-14\",\"15-19\",\"20-24\",\"25-29\",\"30-34\",\"35-39\",\"40-44\",\"45-49\",\"5-9\",\"50-54\",\"55-59\",\"60-64\",\"65-69\",\"70-74\",\"75<\",\"<5\"],\"yaxis\":\"y\",\"type\":\"bar\"},{\"alignmentgroup\":\"True\",\"hovertemplate\":\"sex=Male<br>year=1992<br>population=%{x}<br>age=%{y}<extra></extra>\",\"legendgroup\":\"Male\",\"marker\":{\"color\":\"#EF553B\",\"pattern\":{\"shape\":\"\"}},\"name\":\"Male\",\"offsetgroup\":\"Male\",\"orientation\":\"h\",\"showlegend\":true,\"textposition\":\"auto\",\"x\":[31476.0,1874.0,2185.0,2896.0,3705.0,3570.0,2868.0,2399.0,1915.0,1655.0,1395.0,1374.0,1254.0,1028.0,736.0,1061.0,1561.0],\"xaxis\":\"x\",\"y\":[\"Total\",\"10-14\",\"15-19\",\"20-24\",\"25-29\",\"30-34\",\"35-39\",\"40-44\",\"45-49\",\"5-9\",\"50-54\",\"55-59\",\"60-64\",\"65-69\",\"70-74\",\"75<\",\"<5\"],\"yaxis\":\"y\",\"type\":\"bar\"}],\"name\":\"1992\"},{\"data\":[{\"alignmentgroup\":\"True\",\"hovertemplate\":\"sex=Female<br>year=1993<br>population=%{x}<br>age=%{y}<extra></extra>\",\"legendgroup\":\"Female\",\"marker\":{\"color\":\"#636efa\",\"pattern\":{\"shape\":\"\"}},\"name\":\"Female\",\"offsetgroup\":\"Female\",\"orientation\":\"h\",\"showlegend\":true,\"textposition\":\"auto\",\"x\":[28864.0,1775.0,1970.0,2780.0,3325.0,3060.0,2430.0,2051.0,1713.0,1495.0,1331.0,1248.0,1159.0,989.0,795.0,1165.0,1578.0],\"xaxis\":\"x\",\"y\":[\"Total\",\"10-14\",\"15-19\",\"20-24\",\"25-29\",\"30-34\",\"35-39\",\"40-44\",\"45-49\",\"5-9\",\"50-54\",\"55-59\",\"60-64\",\"65-69\",\"70-74\",\"75<\",\"<5\"],\"yaxis\":\"y\",\"type\":\"bar\"},{\"alignmentgroup\":\"True\",\"hovertemplate\":\"sex=Male<br>year=1993<br>population=%{x}<br>age=%{y}<extra></extra>\",\"legendgroup\":\"Male\",\"marker\":{\"color\":\"#EF553B\",\"pattern\":{\"shape\":\"\"}},\"name\":\"Male\",\"offsetgroup\":\"Male\",\"orientation\":\"h\",\"showlegend\":true,\"textposition\":\"auto\",\"x\":[32735.0,1884.0,2123.0,3039.0,3824.0,3681.0,2990.0,2548.0,2121.0,1637.0,1437.0,1432.0,1297.0,1070.0,808.0,1176.0,1668.0],\"xaxis\":\"x\",\"y\":[\"Total\",\"10-14\",\"15-19\",\"20-24\",\"25-29\",\"30-34\",\"35-39\",\"40-44\",\"45-49\",\"5-9\",\"50-54\",\"55-59\",\"60-64\",\"65-69\",\"70-74\",\"75<\",\"<5\"],\"yaxis\":\"y\",\"type\":\"bar\"}],\"name\":\"1993\"},{\"data\":[{\"alignmentgroup\":\"True\",\"hovertemplate\":\"sex=Female<br>year=1994<br>population=%{x}<br>age=%{y}<extra></extra>\",\"legendgroup\":\"Female\",\"marker\":{\"color\":\"#636efa\",\"pattern\":{\"shape\":\"\"}},\"name\":\"Female\",\"offsetgroup\":\"Female\",\"orientation\":\"h\",\"showlegend\":true,\"textposition\":\"auto\",\"x\":[30406.0,1818.0,1996.0,2714.0,3450.0,3296.0,2725.0,2229.0,1848.0,1514.0,1519.0,1258.0,1239.0,1061.0,839.0,1266.0,1634.0],\"xaxis\":\"x\",\"y\":[\"Total\",\"10-14\",\"15-19\",\"20-24\",\"25-29\",\"30-34\",\"35-39\",\"40-44\",\"45-49\",\"5-9\",\"50-54\",\"55-59\",\"60-64\",\"65-69\",\"70-74\",\"75<\",\"<5\"],\"yaxis\":\"y\",\"type\":\"bar\"},{\"alignmentgroup\":\"True\",\"hovertemplate\":\"sex=Male<br>year=1994<br>population=%{x}<br>age=%{y}<extra></extra>\",\"legendgroup\":\"Male\",\"marker\":{\"color\":\"#EF553B\",\"pattern\":{\"shape\":\"\"}},\"name\":\"Male\",\"offsetgroup\":\"Male\",\"orientation\":\"h\",\"showlegend\":true,\"textposition\":\"auto\",\"x\":[34820.0,1946.0,2143.0,2912.0,3875.0,3988.0,3385.0,2873.0,2402.0,1663.0,1674.0,1489.0,1386.0,1147.0,898.0,1315.0,1724.0],\"xaxis\":\"x\",\"y\":[\"Total\",\"10-14\",\"15-19\",\"20-24\",\"25-29\",\"30-34\",\"35-39\",\"40-44\",\"45-49\",\"5-9\",\"50-54\",\"55-59\",\"60-64\",\"65-69\",\"70-74\",\"75<\",\"<5\"],\"yaxis\":\"y\",\"type\":\"bar\"}],\"name\":\"1994\"},{\"data\":[{\"alignmentgroup\":\"True\",\"hovertemplate\":\"sex=Female<br>year=1995<br>population=%{x}<br>age=%{y}<extra></extra>\",\"legendgroup\":\"Female\",\"marker\":{\"color\":\"#636efa\",\"pattern\":{\"shape\":\"\"}},\"name\":\"Female\",\"offsetgroup\":\"Female\",\"orientation\":\"h\",\"showlegend\":true,\"textposition\":\"auto\",\"x\":[30228.0,1718.0,1869.0,2586.0,3392.0,3309.0,2766.0,2218.0,1907.0,1546.0,1596.0,1242.0,1214.0,1086.0,905.0,1285.0,1589.0],\"xaxis\":\"x\",\"y\":[\"Total\",\"10-14\",\"15-19\",\"20-24\",\"25-29\",\"30-34\",\"35-39\",\"40-44\",\"45-49\",\"5-9\",\"50-54\",\"55-59\",\"60-64\",\"65-69\",\"70-74\",\"75<\",\"<5\"],\"yaxis\":\"y\",\"type\":\"bar\"},{\"alignmentgroup\":\"True\",\"hovertemplate\":\"sex=Male<br>year=1995<br>population=%{x}<br>age=%{y}<extra></extra>\",\"legendgroup\":\"Male\",\"marker\":{\"color\":\"#EF553B\",\"pattern\":{\"shape\":\"\"}},\"name\":\"Male\",\"offsetgroup\":\"Male\",\"orientation\":\"h\",\"showlegend\":true,\"textposition\":\"auto\",\"x\":[34083.0,1795.0,2074.0,2726.0,3608.0,3822.0,3394.0,2840.0,2389.0,1697.0,1845.0,1417.0,1375.0,1181.0,911.0,1284.0,1725.0],\"xaxis\":\"x\",\"y\":[\"Total\",\"10-14\",\"15-19\",\"20-24\",\"25-29\",\"30-34\",\"35-39\",\"40-44\",\"45-49\",\"5-9\",\"50-54\",\"55-59\",\"60-64\",\"65-69\",\"70-74\",\"75<\",\"<5\"],\"yaxis\":\"y\",\"type\":\"bar\"}],\"name\":\"1995\"},{\"data\":[{\"alignmentgroup\":\"True\",\"hovertemplate\":\"sex=Female<br>year=1996<br>population=%{x}<br>age=%{y}<extra></extra>\",\"legendgroup\":\"Female\",\"marker\":{\"color\":\"#636efa\",\"pattern\":{\"shape\":\"\"}},\"name\":\"Female\",\"offsetgroup\":\"Female\",\"orientation\":\"h\",\"showlegend\":true,\"textposition\":\"auto\",\"x\":[30200.0,1653.0,1801.0,2508.0,3257.0,3288.0,2820.0,2248.0,2010.0,1541.0,1585.0,1293.0,1167.0,1138.0,902.0,1386.0,1603.0],\"xaxis\":\"x\",\"y\":[\"Total\",\"10-14\",\"15-19\",\"20-24\",\"25-29\",\"30-34\",\"35-39\",\"40-44\",\"45-49\",\"5-9\",\"50-54\",\"55-59\",\"60-64\",\"65-69\",\"70-74\",\"75<\",\"<5\"],\"yaxis\":\"y\",\"type\":\"bar\"},{\"alignmentgroup\":\"True\",\"hovertemplate\":\"sex=Male<br>year=1996<br>population=%{x}<br>age=%{y}<extra></extra>\",\"legendgroup\":\"Male\",\"marker\":{\"color\":\"#EF553B\",\"pattern\":{\"shape\":\"\"}},\"name\":\"Male\",\"offsetgroup\":\"Male\",\"orientation\":\"h\",\"showlegend\":true,\"textposition\":\"auto\",\"x\":[33659.0,1724.0,1994.0,2566.0,3387.0,3683.0,3382.0,2756.0,2480.0,1714.0,1904.0,1437.0,1401.0,1167.0,970.0,1348.0,1746.0],\"xaxis\":\"x\",\"y\":[\"Total\",\"10-14\",\"15-19\",\"20-24\",\"25-29\",\"30-34\",\"35-39\",\"40-44\",\"45-49\",\"5-9\",\"50-54\",\"55-59\",\"60-64\",\"65-69\",\"70-74\",\"75<\",\"<5\"],\"yaxis\":\"y\",\"type\":\"bar\"}],\"name\":\"1996\"},{\"data\":[{\"alignmentgroup\":\"True\",\"hovertemplate\":\"sex=Female<br>year=1997<br>population=%{x}<br>age=%{y}<extra></extra>\",\"legendgroup\":\"Female\",\"marker\":{\"color\":\"#636efa\",\"pattern\":{\"shape\":\"\"}},\"name\":\"Female\",\"offsetgroup\":\"Female\",\"orientation\":\"h\",\"showlegend\":true,\"textposition\":\"auto\",\"x\":[30627.0,1625.0,1802.0,2470.0,3219.0,3365.0,2854.0,2350.0,2044.0,1600.0,1678.0,1272.0,1224.0,1124.0,946.0,1496.0,1558.0],\"xaxis\":\"x\",\"y\":[\"Total\",\"10-14\",\"15-19\",\"20-24\",\"25-29\",\"30-34\",\"35-39\",\"40-44\",\"45-49\",\"5-9\",\"50-54\",\"55-59\",\"60-64\",\"65-69\",\"70-74\",\"75<\",\"<5\"],\"yaxis\":\"y\",\"type\":\"bar\"},{\"alignmentgroup\":\"True\",\"hovertemplate\":\"sex=Male<br>year=1997<br>population=%{x}<br>age=%{y}<extra></extra>\",\"legendgroup\":\"Male\",\"marker\":{\"color\":\"#EF553B\",\"pattern\":{\"shape\":\"\"}},\"name\":\"Male\",\"offsetgroup\":\"Male\",\"orientation\":\"h\",\"showlegend\":true,\"textposition\":\"auto\",\"x\":[33852.0,1697.0,1930.0,2475.0,3256.0,3712.0,3456.0,2865.0,2522.0,1737.0,1991.0,1405.0,1393.0,1239.0,978.0,1432.0,1764.0],\"xaxis\":\"x\",\"y\":[\"Total\",\"10-14\",\"15-19\",\"20-24\",\"25-29\",\"30-34\",\"35-39\",\"40-44\",\"45-49\",\"5-9\",\"50-54\",\"55-59\",\"60-64\",\"65-69\",\"70-74\",\"75<\",\"<5\"],\"yaxis\":\"y\",\"type\":\"bar\"}],\"name\":\"1997\"},{\"data\":[{\"alignmentgroup\":\"True\",\"hovertemplate\":\"sex=Female<br>year=1998<br>population=%{x}<br>age=%{y}<extra></extra>\",\"legendgroup\":\"Female\",\"marker\":{\"color\":\"#636efa\",\"pattern\":{\"shape\":\"\"}},\"name\":\"Female\",\"offsetgroup\":\"Female\",\"orientation\":\"h\",\"showlegend\":true,\"textposition\":\"auto\",\"x\":[31025.0,1517.0,1786.0,2381.0,3225.0,3385.0,2986.0,2430.0,2072.0,1687.0,1729.0,1334.0,1206.0,1141.0,967.0,1633.0,1546.0],\"xaxis\":\"x\",\"y\":[\"Total\",\"10-14\",\"15-19\",\"20-24\",\"25-29\",\"30-34\",\"35-39\",\"40-44\",\"45-49\",\"5-9\",\"50-54\",\"55-59\",\"60-64\",\"65-69\",\"70-74\",\"75<\",\"<5\"],\"yaxis\":\"y\",\"type\":\"bar\"},{\"alignmentgroup\":\"True\",\"hovertemplate\":\"sex=Male<br>year=1998<br>population=%{x}<br>age=%{y}<extra></extra>\",\"legendgroup\":\"Male\",\"marker\":{\"color\":\"#EF553B\",\"pattern\":{\"shape\":\"\"}},\"name\":\"Male\",\"offsetgroup\":\"Male\",\"orientation\":\"h\",\"showlegend\":true,\"textposition\":\"auto\",\"x\":[34281.0,1689.0,1908.0,2425.0,3193.0,3696.0,3491.0,2971.0,2594.0,1795.0,2126.0,1459.0,1392.0,1259.0,989.0,1526.0,1768.0],\"xaxis\":\"x\",\"y\":[\"Total\",\"10-14\",\"15-19\",\"20-24\",\"25-29\",\"30-34\",\"35-39\",\"40-44\",\"45-49\",\"5-9\",\"50-54\",\"55-59\",\"60-64\",\"65-69\",\"70-74\",\"75<\",\"<5\"],\"yaxis\":\"y\",\"type\":\"bar\"}],\"name\":\"1998\"},{\"data\":[{\"alignmentgroup\":\"True\",\"hovertemplate\":\"sex=Female<br>year=1999<br>population=%{x}<br>age=%{y}<extra></extra>\",\"legendgroup\":\"Female\",\"marker\":{\"color\":\"#636efa\",\"pattern\":{\"shape\":\"\"}},\"name\":\"Female\",\"offsetgroup\":\"Female\",\"orientation\":\"h\",\"showlegend\":true,\"textposition\":\"auto\",\"x\":[31384.0,1512.0,1760.0,2341.0,3092.0,3404.0,3072.0,2527.0,2090.0,1716.0,1788.0,1474.0,1181.0,1154.0,995.0,1721.0,1557.0],\"xaxis\":\"x\",\"y\":[\"Total\",\"10-14\",\"15-19\",\"20-24\",\"25-29\",\"30-34\",\"35-39\",\"40-44\",\"45-49\",\"5-9\",\"50-54\",\"55-59\",\"60-64\",\"65-69\",\"70-74\",\"75<\",\"<5\"],\"yaxis\":\"y\",\"type\":\"bar\"},{\"alignmentgroup\":\"True\",\"hovertemplate\":\"sex=Male<br>year=1999<br>population=%{x}<br>age=%{y}<extra></extra>\",\"legendgroup\":\"Male\",\"marker\":{\"color\":\"#EF553B\",\"pattern\":{\"shape\":\"\"}},\"name\":\"Male\",\"offsetgroup\":\"Male\",\"orientation\":\"h\",\"showlegend\":true,\"textposition\":\"auto\",\"x\":[34493.0,1642.0,1871.0,2343.0,3069.0,3720.0,3534.0,3035.0,2625.0,1830.0,2232.0,1583.0,1373.0,1241.0,1034.0,1605.0,1756.0],\"xaxis\":\"x\",\"y\":[\"Total\",\"10-14\",\"15-19\",\"20-24\",\"25-29\",\"30-34\",\"35-39\",\"40-44\",\"45-49\",\"5-9\",\"50-54\",\"55-59\",\"60-64\",\"65-69\",\"70-74\",\"75<\",\"<5\"],\"yaxis\":\"y\",\"type\":\"bar\"}],\"name\":\"1999\"},{\"data\":[{\"alignmentgroup\":\"True\",\"hovertemplate\":\"sex=Female<br>year=2000<br>population=%{x}<br>age=%{y}<extra></extra>\",\"legendgroup\":\"Female\",\"marker\":{\"color\":\"#636efa\",\"pattern\":{\"shape\":\"\"}},\"name\":\"Female\",\"offsetgroup\":\"Female\",\"orientation\":\"h\",\"showlegend\":true,\"textposition\":\"auto\",\"x\":[31538.0,1571.0,1672.0,2123.0,3027.0,3373.0,3142.0,2614.0,2108.0,1679.0,1877.0,1549.0,1166.0,1149.0,1015.0,1833.0,1640.0],\"xaxis\":\"x\",\"y\":[\"Total\",\"10-14\",\"15-19\",\"20-24\",\"25-29\",\"30-34\",\"35-39\",\"40-44\",\"45-49\",\"5-9\",\"50-54\",\"55-59\",\"60-64\",\"65-69\",\"70-74\",\"75<\",\"<5\"],\"yaxis\":\"y\",\"type\":\"bar\"},{\"alignmentgroup\":\"True\",\"hovertemplate\":\"sex=Male<br>year=2000<br>population=%{x}<br>age=%{y}<extra></extra>\",\"legendgroup\":\"Male\",\"marker\":{\"color\":\"#EF553B\",\"pattern\":{\"shape\":\"\"}},\"name\":\"Male\",\"offsetgroup\":\"Male\",\"orientation\":\"h\",\"showlegend\":true,\"textposition\":\"auto\",\"x\":[34433.0,1671.0,1776.0,2255.0,2941.0,3528.0,3540.0,3133.0,2679.0,1793.0,2278.0,1770.0,1311.0,1245.0,1063.0,1672.0,1778.0],\"xaxis\":\"x\",\"y\":[\"Total\",\"10-14\",\"15-19\",\"20-24\",\"25-29\",\"30-34\",\"35-39\",\"40-44\",\"45-49\",\"5-9\",\"50-54\",\"55-59\",\"60-64\",\"65-69\",\"70-74\",\"75<\",\"<5\"],\"yaxis\":\"y\",\"type\":\"bar\"}],\"name\":\"2000\"},{\"data\":[{\"alignmentgroup\":\"True\",\"hovertemplate\":\"sex=Female<br>year=2001<br>population=%{x}<br>age=%{y}<extra></extra>\",\"legendgroup\":\"Female\",\"marker\":{\"color\":\"#636efa\",\"pattern\":{\"shape\":\"\"}},\"name\":\"Female\",\"offsetgroup\":\"Female\",\"orientation\":\"h\",\"showlegend\":true,\"textposition\":\"auto\",\"x\":[31576.0,1572.0,1646.0,1965.0,2843.0,3290.0,3162.0,2703.0,2196.0,1650.0,1983.0,1560.0,1244.0,1109.0,1087.0,1920.0,1646.0],\"xaxis\":\"x\",\"y\":[\"Total\",\"10-14\",\"15-19\",\"20-24\",\"25-29\",\"30-34\",\"35-39\",\"40-44\",\"45-49\",\"5-9\",\"50-54\",\"55-59\",\"60-64\",\"65-69\",\"70-74\",\"75<\",\"<5\"],\"yaxis\":\"y\",\"type\":\"bar\"},{\"alignmentgroup\":\"True\",\"hovertemplate\":\"sex=Male<br>year=2001<br>population=%{x}<br>age=%{y}<extra></extra>\",\"legendgroup\":\"Male\",\"marker\":{\"color\":\"#EF553B\",\"pattern\":{\"shape\":\"\"}},\"name\":\"Male\",\"offsetgroup\":\"Male\",\"orientation\":\"h\",\"showlegend\":true,\"textposition\":\"auto\",\"x\":[34268.0,1671.0,1725.0,2110.0,2755.0,3333.0,3518.0,3186.0,2634.0,1803.0,2446.0,1839.0,1369.0,1276.0,1070.0,1772.0,1761.0],\"xaxis\":\"x\",\"y\":[\"Total\",\"10-14\",\"15-19\",\"20-24\",\"25-29\",\"30-34\",\"35-39\",\"40-44\",\"45-49\",\"5-9\",\"50-54\",\"55-59\",\"60-64\",\"65-69\",\"70-74\",\"75<\",\"<5\"],\"yaxis\":\"y\",\"type\":\"bar\"}],\"name\":\"2001\"},{\"data\":[{\"alignmentgroup\":\"True\",\"hovertemplate\":\"sex=Female<br>year=2002<br>population=%{x}<br>age=%{y}<extra></extra>\",\"legendgroup\":\"Female\",\"marker\":{\"color\":\"#636efa\",\"pattern\":{\"shape\":\"\"}},\"name\":\"Female\",\"offsetgroup\":\"Female\",\"orientation\":\"h\",\"showlegend\":true,\"textposition\":\"auto\",\"x\":[31915.0,1619.0,1600.0,1908.0,2711.0,3204.0,3243.0,2798.0,2329.0,1594.0,2037.0,1661.0,1249.0,1150.0,1084.0,2078.0,1650.0],\"xaxis\":\"x\",\"y\":[\"Total\",\"10-14\",\"15-19\",\"20-24\",\"25-29\",\"30-34\",\"35-39\",\"40-44\",\"45-49\",\"5-9\",\"50-54\",\"55-59\",\"60-64\",\"65-69\",\"70-74\",\"75<\",\"<5\"],\"yaxis\":\"y\",\"type\":\"bar\"},{\"alignmentgroup\":\"True\",\"hovertemplate\":\"sex=Male<br>year=2002<br>population=%{x}<br>age=%{y}<extra></extra>\",\"legendgroup\":\"Male\",\"marker\":{\"color\":\"#EF553B\",\"pattern\":{\"shape\":\"\"}},\"name\":\"Male\",\"offsetgroup\":\"Male\",\"orientation\":\"h\",\"showlegend\":true,\"textposition\":\"auto\",\"x\":[34419.0,1689.0,1677.0,1991.0,2645.0,3188.0,3531.0,3311.0,2769.0,1796.0,2484.0,1953.0,1353.0,1304.0,1129.0,1854.0,1745.0],\"xaxis\":\"x\",\"y\":[\"Total\",\"10-14\",\"15-19\",\"20-24\",\"25-29\",\"30-34\",\"35-39\",\"40-44\",\"45-49\",\"5-9\",\"50-54\",\"55-59\",\"60-64\",\"65-69\",\"70-74\",\"75<\",\"<5\"],\"yaxis\":\"y\",\"type\":\"bar\"}],\"name\":\"2002\"},{\"data\":[{\"alignmentgroup\":\"True\",\"hovertemplate\":\"sex=Female<br>year=2003<br>population=%{x}<br>age=%{y}<extra></extra>\",\"legendgroup\":\"Female\",\"marker\":{\"color\":\"#636efa\",\"pattern\":{\"shape\":\"\"}},\"name\":\"Female\",\"offsetgroup\":\"Female\",\"orientation\":\"h\",\"showlegend\":true,\"textposition\":\"auto\",\"x\":[32354.0,1692.0,1504.0,1882.0,2605.0,3236.0,3297.0,2920.0,2416.0,1571.0,2071.0,1729.0,1311.0,1149.0,1110.0,2204.0,1657.0],\"xaxis\":\"x\",\"y\":[\"Total\",\"10-14\",\"15-19\",\"20-24\",\"25-29\",\"30-34\",\"35-39\",\"40-44\",\"45-49\",\"5-9\",\"50-54\",\"55-59\",\"60-64\",\"65-69\",\"70-74\",\"75<\",\"<5\"],\"yaxis\":\"y\",\"type\":\"bar\"},{\"alignmentgroup\":\"True\",\"hovertemplate\":\"sex=Male<br>year=2003<br>population=%{x}<br>age=%{y}<extra></extra>\",\"legendgroup\":\"Male\",\"marker\":{\"color\":\"#EF553B\",\"pattern\":{\"shape\":\"\"}},\"name\":\"Male\",\"offsetgroup\":\"Male\",\"orientation\":\"h\",\"showlegend\":true,\"textposition\":\"auto\",\"x\":[34805.0,1726.0,1641.0,1932.0,2559.0,3165.0,3531.0,3362.0,2897.0,1813.0,2539.0,2096.0,1396.0,1315.0,1152.0,1974.0,1707.0],\"xaxis\":\"x\",\"y\":[\"Total\",\"10-14\",\"15-19\",\"20-24\",\"25-29\",\"30-34\",\"35-39\",\"40-44\",\"45-49\",\"5-9\",\"50-54\",\"55-59\",\"60-64\",\"65-69\",\"70-74\",\"75<\",\"<5\"],\"yaxis\":\"y\",\"type\":\"bar\"}],\"name\":\"2003\"},{\"data\":[{\"alignmentgroup\":\"True\",\"hovertemplate\":\"sex=Female<br>year=2004<br>population=%{x}<br>age=%{y}<extra></extra>\",\"legendgroup\":\"Female\",\"marker\":{\"color\":\"#636efa\",\"pattern\":{\"shape\":\"\"}},\"name\":\"Female\",\"offsetgroup\":\"Female\",\"orientation\":\"h\",\"showlegend\":true,\"textposition\":\"auto\",\"x\":[34738.0,1751.0,1577.0,2189.0,2998.0,3470.0,3503.0,3168.0,2649.0,1696.0,2157.0,1795.0,1456.0,1139.0,1113.0,2337.0,1740.0],\"xaxis\":\"x\",\"y\":[\"Total\",\"10-14\",\"15-19\",\"20-24\",\"25-29\",\"30-34\",\"35-39\",\"40-44\",\"45-49\",\"5-9\",\"50-54\",\"55-59\",\"60-64\",\"65-69\",\"70-74\",\"75<\",\"<5\"],\"yaxis\":\"y\",\"type\":\"bar\"},{\"alignmentgroup\":\"True\",\"hovertemplate\":\"sex=Male<br>year=2004<br>population=%{x}<br>age=%{y}<extra></extra>\",\"legendgroup\":\"Male\",\"marker\":{\"color\":\"#EF553B\",\"pattern\":{\"shape\":\"\"}},\"name\":\"Male\",\"offsetgroup\":\"Male\",\"orientation\":\"h\",\"showlegend\":true,\"textposition\":\"auto\",\"x\":[37582.0,1841.0,1710.0,2215.0,2967.0,3491.0,3809.0,3611.0,3153.0,1904.0,2650.0,2292.0,1555.0,1295.0,1149.0,2095.0,1845.0],\"xaxis\":\"x\",\"y\":[\"Total\",\"10-14\",\"15-19\",\"20-24\",\"25-29\",\"30-34\",\"35-39\",\"40-44\",\"45-49\",\"5-9\",\"50-54\",\"55-59\",\"60-64\",\"65-69\",\"70-74\",\"75<\",\"<5\"],\"yaxis\":\"y\",\"type\":\"bar\"}],\"name\":\"2004\"},{\"data\":[{\"alignmentgroup\":\"True\",\"hovertemplate\":\"sex=Female<br>year=2005<br>population=%{x}<br>age=%{y}<extra></extra>\",\"legendgroup\":\"Female\",\"marker\":{\"color\":\"#636efa\",\"pattern\":{\"shape\":\"\"}},\"name\":\"Female\",\"offsetgroup\":\"Female\",\"orientation\":\"h\",\"showlegend\":true,\"textposition\":\"auto\",\"x\":[36790.0,1781.0,1680.0,2375.0,3228.0,3761.0,3707.0,3381.0,2846.0,1903.0,2210.0,1917.0,1556.0,1136.0,1102.0,2415.0,1792.0],\"xaxis\":\"x\",\"y\":[\"Total\",\"10-14\",\"15-19\",\"20-24\",\"25-29\",\"30-34\",\"35-39\",\"40-44\",\"45-49\",\"5-9\",\"50-54\",\"55-59\",\"60-64\",\"65-69\",\"70-74\",\"75<\",\"<5\"],\"yaxis\":\"y\",\"type\":\"bar\"},{\"alignmentgroup\":\"True\",\"hovertemplate\":\"sex=Male<br>year=2005<br>population=%{x}<br>age=%{y}<extra></extra>\",\"legendgroup\":\"Male\",\"marker\":{\"color\":\"#EF553B\",\"pattern\":{\"shape\":\"\"}},\"name\":\"Male\",\"offsetgroup\":\"Male\",\"orientation\":\"h\",\"showlegend\":true,\"textposition\":\"auto\",\"x\":[40085.0,1943.0,1845.0,2383.0,3418.0,3840.0,3997.0,3850.0,3389.0,2050.0,2794.0,2364.0,1748.0,1236.0,1146.0,2153.0,1929.0],\"xaxis\":\"x\",\"y\":[\"Total\",\"10-14\",\"15-19\",\"20-24\",\"25-29\",\"30-34\",\"35-39\",\"40-44\",\"45-49\",\"5-9\",\"50-54\",\"55-59\",\"60-64\",\"65-69\",\"70-74\",\"75<\",\"<5\"],\"yaxis\":\"y\",\"type\":\"bar\"}],\"name\":\"2005\"},{\"data\":[{\"alignmentgroup\":\"True\",\"hovertemplate\":\"sex=Female<br>year=2006<br>population=%{x}<br>age=%{y}<extra></extra>\",\"legendgroup\":\"Female\",\"marker\":{\"color\":\"#636efa\",\"pattern\":{\"shape\":\"\"}},\"name\":\"Female\",\"offsetgroup\":\"Female\",\"orientation\":\"h\",\"showlegend\":true,\"textposition\":\"auto\",\"x\":[37575.0,1816.0,1731.0,2411.0,3331.0,3849.0,3711.0,3453.0,2905.0,2005.0,2321.0,1989.0,1533.0,1203.0,1014.0,2469.0,1834.0],\"xaxis\":\"x\",\"y\":[\"Total\",\"10-14\",\"15-19\",\"20-24\",\"25-29\",\"30-34\",\"35-39\",\"40-44\",\"45-49\",\"5-9\",\"50-54\",\"55-59\",\"60-64\",\"65-69\",\"70-74\",\"75<\",\"<5\"],\"yaxis\":\"y\",\"type\":\"bar\"},{\"alignmentgroup\":\"True\",\"hovertemplate\":\"sex=Male<br>year=2006<br>population=%{x}<br>age=%{y}<extra></extra>\",\"legendgroup\":\"Male\",\"marker\":{\"color\":\"#EF553B\",\"pattern\":{\"shape\":\"\"}},\"name\":\"Male\",\"offsetgroup\":\"Male\",\"orientation\":\"h\",\"showlegend\":true,\"textposition\":\"auto\",\"x\":[40974.0,2013.0,1884.0,2438.0,3571.0,4024.0,4013.0,3932.0,3403.0,2157.0,2713.0,2428.0,1801.0,1268.0,1157.0,2165.0,2007.0],\"xaxis\":\"x\",\"y\":[\"Total\",\"10-14\",\"15-19\",\"20-24\",\"25-29\",\"30-34\",\"35-39\",\"40-44\",\"45-49\",\"5-9\",\"50-54\",\"55-59\",\"60-64\",\"65-69\",\"70-74\",\"75<\",\"<5\"],\"yaxis\":\"y\",\"type\":\"bar\"}],\"name\":\"2006\"},{\"data\":[{\"alignmentgroup\":\"True\",\"hovertemplate\":\"sex=Female<br>year=2007<br>population=%{x}<br>age=%{y}<extra></extra>\",\"legendgroup\":\"Female\",\"marker\":{\"color\":\"#636efa\",\"pattern\":{\"shape\":\"\"}},\"name\":\"Female\",\"offsetgroup\":\"Female\",\"orientation\":\"h\",\"showlegend\":true,\"textposition\":\"auto\",\"x\":[38705.0,1821.0,1798.0,2429.0,3419.0,3962.0,3781.0,3604.0,3044.0,2091.0,2447.0,2043.0,1647.0,1195.0,1055.0,2579.0,1790.0],\"xaxis\":\"x\",\"y\":[\"Total\",\"10-14\",\"15-19\",\"20-24\",\"25-29\",\"30-34\",\"35-39\",\"40-44\",\"45-49\",\"5-9\",\"50-54\",\"55-59\",\"60-64\",\"65-69\",\"70-74\",\"75<\",\"<5\"],\"yaxis\":\"y\",\"type\":\"bar\"},{\"alignmentgroup\":\"True\",\"hovertemplate\":\"sex=Male<br>year=2007<br>population=%{x}<br>age=%{y}<extra></extra>\",\"legendgroup\":\"Male\",\"marker\":{\"color\":\"#EF553B\",\"pattern\":{\"shape\":\"\"}},\"name\":\"Male\",\"offsetgroup\":\"Male\",\"orientation\":\"h\",\"showlegend\":true,\"textposition\":\"auto\",\"x\":[42517.0,2091.0,1934.0,2554.0,3632.0,4172.0,4090.0,4102.0,3573.0,2263.0,2970.0,2464.0,1930.0,1256.0,1172.0,2303.0,2011.0],\"xaxis\":\"x\",\"y\":[\"Total\",\"10-14\",\"15-19\",\"20-24\",\"25-29\",\"30-34\",\"35-39\",\"40-44\",\"45-49\",\"5-9\",\"50-54\",\"55-59\",\"60-64\",\"65-69\",\"70-74\",\"75<\",\"<5\"],\"yaxis\":\"y\",\"type\":\"bar\"}],\"name\":\"2007\"},{\"data\":[{\"alignmentgroup\":\"True\",\"hovertemplate\":\"sex=Female<br>year=2008<br>population=%{x}<br>age=%{y}<extra></extra>\",\"legendgroup\":\"Female\",\"marker\":{\"color\":\"#636efa\",\"pattern\":{\"shape\":\"\"}},\"name\":\"Female\",\"offsetgroup\":\"Female\",\"orientation\":\"h\",\"showlegend\":true,\"textposition\":\"auto\",\"x\":[39622.0,1829.0,1896.0,2311.0,3407.0,3986.0,3940.0,3693.0,3229.0,2133.0,2588.0,2092.0,1706.0,1253.0,1060.0,2714.0,1785.0],\"xaxis\":\"x\",\"y\":[\"Total\",\"10-14\",\"15-19\",\"20-24\",\"25-29\",\"30-34\",\"35-39\",\"40-44\",\"45-49\",\"5-9\",\"50-54\",\"55-59\",\"60-64\",\"65-69\",\"70-74\",\"75<\",\"<5\"],\"yaxis\":\"y\",\"type\":\"bar\"},{\"alignmentgroup\":\"True\",\"hovertemplate\":\"sex=Male<br>year=2008<br>population=%{x}<br>age=%{y}<extra></extra>\",\"legendgroup\":\"Male\",\"marker\":{\"color\":\"#EF553B\",\"pattern\":{\"shape\":\"\"}},\"name\":\"Male\",\"offsetgroup\":\"Male\",\"orientation\":\"h\",\"showlegend\":true,\"textposition\":\"auto\",\"x\":[43515.0,2138.0,2028.0,2479.0,3622.0,4195.0,4200.0,4196.0,3715.0,2285.0,3126.0,2566.0,2069.0,1302.0,1183.0,2426.0,1985.0],\"xaxis\":\"x\",\"y\":[\"Total\",\"10-14\",\"15-19\",\"20-24\",\"25-29\",\"30-34\",\"35-39\",\"40-44\",\"45-49\",\"5-9\",\"50-54\",\"55-59\",\"60-64\",\"65-69\",\"70-74\",\"75<\",\"<5\"],\"yaxis\":\"y\",\"type\":\"bar\"}],\"name\":\"2008\"},{\"data\":[{\"alignmentgroup\":\"True\",\"hovertemplate\":\"sex=Female<br>year=2009<br>population=%{x}<br>age=%{y}<extra></extra>\",\"legendgroup\":\"Female\",\"marker\":{\"color\":\"#636efa\",\"pattern\":{\"shape\":\"\"}},\"name\":\"Female\",\"offsetgroup\":\"Female\",\"orientation\":\"h\",\"showlegend\":true,\"textposition\":\"auto\",\"x\":[40303.0,1888.0,1898.0,2264.0,3360.0,4001.0,3942.0,3795.0,3373.0,2111.0,2753.0,2148.0,1742.0,1383.0,1067.0,2803.0,1775.0],\"xaxis\":\"x\",\"y\":[\"Total\",\"10-14\",\"15-19\",\"20-24\",\"25-29\",\"30-34\",\"35-39\",\"40-44\",\"45-49\",\"5-9\",\"50-54\",\"55-59\",\"60-64\",\"65-69\",\"70-74\",\"75<\",\"<5\"],\"yaxis\":\"y\",\"type\":\"bar\"},{\"alignmentgroup\":\"True\",\"hovertemplate\":\"sex=Male<br>year=2009<br>population=%{x}<br>age=%{y}<extra></extra>\",\"legendgroup\":\"Male\",\"marker\":{\"color\":\"#EF553B\",\"pattern\":{\"shape\":\"\"}},\"name\":\"Male\",\"offsetgroup\":\"Male\",\"orientation\":\"h\",\"showlegend\":true,\"textposition\":\"auto\",\"x\":[44181.0,2161.0,2076.0,2366.0,3513.0,4234.0,4253.0,4262.0,3854.0,2282.0,3237.0,2622.0,2209.0,1421.0,1169.0,2528.0,1994.0],\"xaxis\":\"x\",\"y\":[\"Total\",\"10-14\",\"15-19\",\"20-24\",\"25-29\",\"30-34\",\"35-39\",\"40-44\",\"45-49\",\"5-9\",\"50-54\",\"55-59\",\"60-64\",\"65-69\",\"70-74\",\"75<\",\"<5\"],\"yaxis\":\"y\",\"type\":\"bar\"}],\"name\":\"2009\"},{\"data\":[{\"alignmentgroup\":\"True\",\"hovertemplate\":\"sex=Female<br>year=2010<br>population=%{x}<br>age=%{y}<extra></extra>\",\"legendgroup\":\"Female\",\"marker\":{\"color\":\"#636efa\",\"pattern\":{\"shape\":\"\"}},\"name\":\"Female\",\"offsetgroup\":\"Female\",\"orientation\":\"h\",\"showlegend\":true,\"textposition\":\"auto\",\"x\":[40296.0,1988.0,1832.0,2133.0,3141.0,3877.0,3937.0,3802.0,3470.0,2020.0,2828.0,2196.0,1817.0,1474.0,1081.0,2898.0,1802.0],\"xaxis\":\"x\",\"y\":[\"Total\",\"10-14\",\"15-19\",\"20-24\",\"25-29\",\"30-34\",\"35-39\",\"40-44\",\"45-49\",\"5-9\",\"50-54\",\"55-59\",\"60-64\",\"65-69\",\"70-74\",\"75<\",\"<5\"],\"yaxis\":\"y\",\"type\":\"bar\"},{\"alignmentgroup\":\"True\",\"hovertemplate\":\"sex=Male<br>year=2010<br>population=%{x}<br>age=%{y}<extra></extra>\",\"legendgroup\":\"Male\",\"marker\":{\"color\":\"#EF553B\",\"pattern\":{\"shape\":\"\"}},\"name\":\"Male\",\"offsetgroup\":\"Male\",\"orientation\":\"h\",\"showlegend\":true,\"textposition\":\"auto\",\"x\":[43786.0,2183.0,2060.0,2219.0,3158.0,4086.0,4239.0,4146.0,3922.0,2209.0,3335.0,2708.0,2216.0,1619.0,1135.0,2603.0,1948.0],\"xaxis\":\"x\",\"y\":[\"Total\",\"10-14\",\"15-19\",\"20-24\",\"25-29\",\"30-34\",\"35-39\",\"40-44\",\"45-49\",\"5-9\",\"50-54\",\"55-59\",\"60-64\",\"65-69\",\"70-74\",\"75<\",\"<5\"],\"yaxis\":\"y\",\"type\":\"bar\"}],\"name\":\"2010\"},{\"data\":[{\"alignmentgroup\":\"True\",\"hovertemplate\":\"sex=Female<br>year=2011<br>population=%{x}<br>age=%{y}<extra></extra>\",\"legendgroup\":\"Female\",\"marker\":{\"color\":\"#636efa\",\"pattern\":{\"shape\":\"\"}},\"name\":\"Female\",\"offsetgroup\":\"Female\",\"orientation\":\"h\",\"showlegend\":true,\"textposition\":\"auto\",\"x\":[38252.0,2059.0,1779.0,1893.0,2706.0,3450.0,3794.0,3571.0,3436.0,1942.0,2768.0,2177.0,1754.0,1383.0,1032.0,2657.0,1851.0],\"xaxis\":\"x\",\"y\":[\"Total\",\"10-14\",\"15-19\",\"20-24\",\"25-29\",\"30-34\",\"35-39\",\"40-44\",\"45-49\",\"5-9\",\"50-54\",\"55-59\",\"60-64\",\"65-69\",\"70-74\",\"75<\",\"<5\"],\"yaxis\":\"y\",\"type\":\"bar\"},{\"alignmentgroup\":\"True\",\"hovertemplate\":\"sex=Male<br>year=2011<br>population=%{x}<br>age=%{y}<extra></extra>\",\"legendgroup\":\"Male\",\"marker\":{\"color\":\"#EF553B\",\"pattern\":{\"shape\":\"\"}},\"name\":\"Male\",\"offsetgroup\":\"Male\",\"orientation\":\"h\",\"showlegend\":true,\"textposition\":\"auto\",\"x\":[39863.0,2225.0,2035.0,1950.0,2600.0,3488.0,3873.0,3731.0,3627.0,2139.0,3055.0,2473.0,2003.0,1552.0,998.0,2235.0,1879.0],\"xaxis\":\"x\",\"y\":[\"Total\",\"10-14\",\"15-19\",\"20-24\",\"25-29\",\"30-34\",\"35-39\",\"40-44\",\"45-49\",\"5-9\",\"50-54\",\"55-59\",\"60-64\",\"65-69\",\"70-74\",\"75<\",\"<5\"],\"yaxis\":\"y\",\"type\":\"bar\"}],\"name\":\"2011\"},{\"data\":[{\"alignmentgroup\":\"True\",\"hovertemplate\":\"sex=Female<br>year=2012<br>population=%{x}<br>age=%{y}<extra></extra>\",\"legendgroup\":\"Female\",\"marker\":{\"color\":\"#636efa\",\"pattern\":{\"shape\":\"\"}},\"name\":\"Female\",\"offsetgroup\":\"Female\",\"orientation\":\"h\",\"showlegend\":true,\"textposition\":\"auto\",\"x\":[38252.0,2059.0,1779.0,1893.0,2706.0,3450.0,3794.0,3571.0,3436.0,1942.0,2768.0,2177.0,1754.0,1383.0,1032.0,2657.0,1851.0],\"xaxis\":\"x\",\"y\":[\"Total\",\"10-14\",\"15-19\",\"20-24\",\"25-29\",\"30-34\",\"35-39\",\"40-44\",\"45-49\",\"5-9\",\"50-54\",\"55-59\",\"60-64\",\"65-69\",\"70-74\",\"75<\",\"<5\"],\"yaxis\":\"y\",\"type\":\"bar\"},{\"alignmentgroup\":\"True\",\"hovertemplate\":\"sex=Male<br>year=2012<br>population=%{x}<br>age=%{y}<extra></extra>\",\"legendgroup\":\"Male\",\"marker\":{\"color\":\"#EF553B\",\"pattern\":{\"shape\":\"\"}},\"name\":\"Male\",\"offsetgroup\":\"Male\",\"orientation\":\"h\",\"showlegend\":true,\"textposition\":\"auto\",\"x\":[39863.0,2225.0,2035.0,1950.0,2600.0,3488.0,3873.0,3731.0,3627.0,2139.0,3055.0,2473.0,2003.0,1552.0,998.0,2235.0,1879.0],\"xaxis\":\"x\",\"y\":[\"Total\",\"10-14\",\"15-19\",\"20-24\",\"25-29\",\"30-34\",\"35-39\",\"40-44\",\"45-49\",\"5-9\",\"50-54\",\"55-59\",\"60-64\",\"65-69\",\"70-74\",\"75<\",\"<5\"],\"yaxis\":\"y\",\"type\":\"bar\"}],\"name\":\"2012\"},{\"data\":[{\"alignmentgroup\":\"True\",\"hovertemplate\":\"sex=Female<br>year=2013<br>population=%{x}<br>age=%{y}<extra></extra>\",\"legendgroup\":\"Female\",\"marker\":{\"color\":\"#636efa\",\"pattern\":{\"shape\":\"\"}},\"name\":\"Female\",\"offsetgroup\":\"Female\",\"orientation\":\"h\",\"showlegend\":true,\"textposition\":\"auto\",\"x\":[37408.0,2045.0,1739.0,1871.0,2378.0,3299.0,3690.0,3568.0,3338.0,1866.0,2863.0,2177.0,1727.0,1355.0,1039.0,2612.0,1841.0],\"xaxis\":\"x\",\"y\":[\"Total\",\"10-14\",\"15-19\",\"20-24\",\"25-29\",\"30-34\",\"35-39\",\"40-44\",\"45-49\",\"5-9\",\"50-54\",\"55-59\",\"60-64\",\"65-69\",\"70-74\",\"75<\",\"<5\"],\"yaxis\":\"y\",\"type\":\"bar\"},{\"alignmentgroup\":\"True\",\"hovertemplate\":\"sex=Male<br>year=2013<br>population=%{x}<br>age=%{y}<extra></extra>\",\"legendgroup\":\"Male\",\"marker\":{\"color\":\"#EF553B\",\"pattern\":{\"shape\":\"\"}},\"name\":\"Male\",\"offsetgroup\":\"Male\",\"orientation\":\"h\",\"showlegend\":true,\"textposition\":\"auto\",\"x\":[38838.0,2163.0,2035.0,1954.0,2393.0,3299.0,3715.0,3692.0,3602.0,2085.0,3082.0,2465.0,1914.0,1534.0,948.0,2116.0,1841.0],\"xaxis\":\"x\",\"y\":[\"Total\",\"10-14\",\"15-19\",\"20-24\",\"25-29\",\"30-34\",\"35-39\",\"40-44\",\"45-49\",\"5-9\",\"50-54\",\"55-59\",\"60-64\",\"65-69\",\"70-74\",\"75<\",\"<5\"],\"yaxis\":\"y\",\"type\":\"bar\"}],\"name\":\"2013\"},{\"data\":[{\"alignmentgroup\":\"True\",\"hovertemplate\":\"sex=Female<br>year=2019<br>population=%{x}<br>age=%{y}<extra></extra>\",\"legendgroup\":\"Female\",\"marker\":{\"color\":\"#636efa\",\"pattern\":{\"shape\":\"\"}},\"name\":\"Female\",\"offsetgroup\":\"Female\",\"orientation\":\"h\",\"showlegend\":true,\"textposition\":\"auto\",\"x\":[37388.0,1903.0,1981.0,1841.0,2214.0,2499.0,3144.0,3524.0,3455.0,1911.0,3268.0,2864.0,2121.0,1614.0,1252.0,2469.0,1328.0],\"xaxis\":\"x\",\"y\":[\"Total\",\"10-14\",\"15-19\",\"20-24\",\"25-29\",\"30-34\",\"35-39\",\"40-44\",\"45-49\",\"5-9\",\"50-54\",\"55-59\",\"60-64\",\"65-69\",\"70-74\",\"75<\",\"<5\"],\"yaxis\":\"y\",\"type\":\"bar\"},{\"alignmentgroup\":\"True\",\"hovertemplate\":\"sex=Male<br>year=2019<br>population=%{x}<br>age=%{y}<extra></extra>\",\"legendgroup\":\"Male\",\"marker\":{\"color\":\"#EF553B\",\"pattern\":{\"shape\":\"\"}},\"name\":\"Male\",\"offsetgroup\":\"Male\",\"orientation\":\"h\",\"showlegend\":true,\"textposition\":\"auto\",\"x\":[38789.0,2124.0,2096.0,2164.0,2356.0,2563.0,3125.0,3511.0,3628.0,1912.0,3524.0,3062.0,2322.0,1719.0,1416.0,1876.0,1391.0],\"xaxis\":\"x\",\"y\":[\"Total\",\"10-14\",\"15-19\",\"20-24\",\"25-29\",\"30-34\",\"35-39\",\"40-44\",\"45-49\",\"5-9\",\"50-54\",\"55-59\",\"60-64\",\"65-69\",\"70-74\",\"75<\",\"<5\"],\"yaxis\":\"y\",\"type\":\"bar\"}],\"name\":\"2019\"}]);\n",
       "                        }).then(function(){\n",
       "                            \n",
       "var gd = document.getElementById('86384e29-1070-42a7-ac6e-ab8528383f20');\n",
       "var x = new MutationObserver(function (mutations, observer) {{\n",
       "        var display = window.getComputedStyle(gd).display;\n",
       "        if (!display || display === 'none') {{\n",
       "            console.log([gd, 'removed!']);\n",
       "            Plotly.purge(gd);\n",
       "            observer.disconnect();\n",
       "        }}\n",
       "}});\n",
       "\n",
       "// Listen for the removal of the full notebook cells\n",
       "var notebookContainer = gd.closest('#notebook-container');\n",
       "if (notebookContainer) {{\n",
       "    x.observe(notebookContainer, {childList: true});\n",
       "}}\n",
       "\n",
       "// Listen for the clearing of the current output cell\n",
       "var outputEl = gd.closest('.output');\n",
       "if (outputEl) {{\n",
       "    x.observe(outputEl, {childList: true});\n",
       "}}\n",
       "\n",
       "                        })                };                });            </script>        </div>"
      ]
     },
     "metadata": {},
     "output_type": "display_data"
    }
   ],
   "source": [
    "px.bar(data_frame = df[ (df.country == country) & (df.sex != 'Both') ],\n",
    "       x=\"population\", y=\"age\", orientation='h',\n",
    "       color='sex', animation_frame='year', barmode='group')"
   ]
  },
  {
   "cell_type": "code",
   "execution_count": null,
   "id": "7bacaaf3",
   "metadata": {},
   "outputs": [],
   "source": []
  }
 ],
 "metadata": {
  "kernelspec": {
   "display_name": "Python 3 (ipykernel)",
   "language": "python",
   "name": "python3"
  },
  "language_info": {
   "codemirror_mode": {
    "name": "ipython",
    "version": 3
   },
   "file_extension": ".py",
   "mimetype": "text/x-python",
   "name": "python",
   "nbconvert_exporter": "python",
   "pygments_lexer": "ipython3",
   "version": "3.11.2"
  }
 },
 "nbformat": 4,
 "nbformat_minor": 5
}
