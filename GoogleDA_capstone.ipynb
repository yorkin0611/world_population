{
 "cells": [
  {
   "cell_type": "code",
   "execution_count": 2,
   "id": "106166c3",
   "metadata": {},
   "outputs": [
    {
     "name": "stdout",
     "output_type": "stream",
     "text": [
      "Libraries imported!\n"
     ]
    }
   ],
   "source": [
    "import pandas as pd\n",
    "import numpy as np\n",
    "from countries import country_labels\n",
    "print(\"Libraries imported!\")"
   ]
  },
  {
   "cell_type": "markdown",
   "id": "906d2f7f",
   "metadata": {},
   "source": [
    "# Import of data"
   ]
  },
  {
   "cell_type": "code",
   "execution_count": 41,
   "id": "6a1a27da",
   "metadata": {},
   "outputs": [
    {
     "data": {
      "text/html": [
       "<div>\n",
       "<style scoped>\n",
       "    .dataframe tbody tr th:only-of-type {\n",
       "        vertical-align: middle;\n",
       "    }\n",
       "\n",
       "    .dataframe tbody tr th {\n",
       "        vertical-align: top;\n",
       "    }\n",
       "\n",
       "    .dataframe thead th {\n",
       "        text-align: right;\n",
       "    }\n",
       "</style>\n",
       "<table border=\"1\" class=\"dataframe\">\n",
       "  <thead>\n",
       "    <tr style=\"text-align: right;\">\n",
       "      <th></th>\n",
       "      <th>DATAFLOW</th>\n",
       "      <th>LAST UPDATE</th>\n",
       "      <th>freq</th>\n",
       "      <th>unit</th>\n",
       "      <th>sex</th>\n",
       "      <th>age</th>\n",
       "      <th>geo</th>\n",
       "      <th>TIME_PERIOD</th>\n",
       "      <th>OBS_VALUE</th>\n",
       "      <th>OBS_FLAG</th>\n",
       "    </tr>\n",
       "  </thead>\n",
       "  <tbody>\n",
       "    <tr>\n",
       "      <th>0</th>\n",
       "      <td>ESTAT:DEMO_PJANGROUP(1.0)</td>\n",
       "      <td>30/04/24 23:00:00</td>\n",
       "      <td>A</td>\n",
       "      <td>NR</td>\n",
       "      <td>F</td>\n",
       "      <td>TOTAL</td>\n",
       "      <td>AD</td>\n",
       "      <td>1986</td>\n",
       "      <td>20898.0</td>\n",
       "      <td>NaN</td>\n",
       "    </tr>\n",
       "    <tr>\n",
       "      <th>1</th>\n",
       "      <td>ESTAT:DEMO_PJANGROUP(1.0)</td>\n",
       "      <td>30/04/24 23:00:00</td>\n",
       "      <td>A</td>\n",
       "      <td>NR</td>\n",
       "      <td>F</td>\n",
       "      <td>TOTAL</td>\n",
       "      <td>AD</td>\n",
       "      <td>1987</td>\n",
       "      <td>22148.0</td>\n",
       "      <td>NaN</td>\n",
       "    </tr>\n",
       "    <tr>\n",
       "      <th>2</th>\n",
       "      <td>ESTAT:DEMO_PJANGROUP(1.0)</td>\n",
       "      <td>30/04/24 23:00:00</td>\n",
       "      <td>A</td>\n",
       "      <td>NR</td>\n",
       "      <td>F</td>\n",
       "      <td>TOTAL</td>\n",
       "      <td>AD</td>\n",
       "      <td>1988</td>\n",
       "      <td>22814.0</td>\n",
       "      <td>NaN</td>\n",
       "    </tr>\n",
       "  </tbody>\n",
       "</table>\n",
       "</div>"
      ],
      "text/plain": [
       "                    DATAFLOW        LAST UPDATE freq unit sex    age geo  \\\n",
       "0  ESTAT:DEMO_PJANGROUP(1.0)  30/04/24 23:00:00    A   NR   F  TOTAL  AD   \n",
       "1  ESTAT:DEMO_PJANGROUP(1.0)  30/04/24 23:00:00    A   NR   F  TOTAL  AD   \n",
       "2  ESTAT:DEMO_PJANGROUP(1.0)  30/04/24 23:00:00    A   NR   F  TOTAL  AD   \n",
       "\n",
       "   TIME_PERIOD  OBS_VALUE OBS_FLAG  \n",
       "0         1986    20898.0      NaN  \n",
       "1         1987    22148.0      NaN  \n",
       "2         1988    22814.0      NaN  "
      ]
     },
     "execution_count": 41,
     "metadata": {},
     "output_type": "execute_result"
    }
   ],
   "source": [
    "# Loading data\n",
    "raw_df = pd.read_csv('demo_pjangroup__custom_11197792_linear.csv')\n",
    "raw_df.head(3)"
   ]
  },
  {
   "cell_type": "code",
   "execution_count": 4,
   "id": "97d80855",
   "metadata": {},
   "outputs": [
    {
     "name": "stdout",
     "output_type": "stream",
     "text": [
      "<class 'pandas.core.frame.DataFrame'>\n",
      "RangeIndex: 113840 entries, 0 to 113839\n",
      "Data columns (total 10 columns):\n",
      " #   Column       Non-Null Count   Dtype  \n",
      "---  ------       --------------   -----  \n",
      " 0   DATAFLOW     113840 non-null  object \n",
      " 1   LAST UPDATE  113840 non-null  object \n",
      " 2   freq         113840 non-null  object \n",
      " 3   unit         113840 non-null  object \n",
      " 4   sex          113840 non-null  object \n",
      " 5   age          113840 non-null  object \n",
      " 6   geo          113840 non-null  object \n",
      " 7   TIME_PERIOD  113840 non-null  int64  \n",
      " 8   OBS_VALUE    113835 non-null  float64\n",
      " 9   OBS_FLAG     1872 non-null    object \n",
      "dtypes: float64(1), int64(1), object(8)\n",
      "memory usage: 8.7+ MB\n"
     ]
    }
   ],
   "source": [
    "# Basic information columns, entries and data types\n",
    "raw_df.info()"
   ]
  },
  {
   "cell_type": "markdown",
   "id": "df69b9fb",
   "metadata": {},
   "source": [
    "# Cleaning the database and pivoting..."
   ]
  },
  {
   "cell_type": "code",
   "execution_count": 77,
   "id": "6a254220",
   "metadata": {},
   "outputs": [],
   "source": [
    "# Removing first few columns which describe frequency of data acquisition (annual) and last data update\n",
    "df = raw_df.drop(['DATAFLOW', 'LAST UPDATE', 'freq', 'unit', 'OBS_FLAG'], axis=1)\n",
    "\n",
    "# ```df.set_index(['geo', 'sex', 'TIME_PERIOD'])``` could be used,\n",
    "# but .pivot() provided with easier defining of what is an index and what are columns and values\n",
    "df = df.pivot(index=['geo', 'sex', 'TIME_PERIOD'], columns='age', values='OBS_VALUE')\n",
    "\n",
    "# Re-ordering population age ranges\n",
    "cols_revised_order = ['TOTAL', 'Y_LT5', 'Y5-9', 'Y10-14', 'Y15-19', 'Y20-24', 'Y25-29', 'Y30-34', 'Y35-39',\n",
    "                      'Y40-44', 'Y45-49', 'Y50-54', 'Y55-59', 'Y60-64', 'Y65-69', 'Y70-74', 'Y_GE75']\n",
    "df = df[cols_revised_order]\n",
    "\n",
    "# Removing Y from age range columns\n",
    "new_columns = dict()\n",
    "for old_column in list(df.columns):\n",
    "    new_column = old_column.replace(\"Y\", \"\")\n",
    "    new_columns[old_column] = new_column\n",
    "    \n",
    "new_columns['Y_LT5'] = \"<5\"\n",
    "new_columns['Y_GE75'] = \"75<\"\n",
    "\n",
    "#print(new_columns)\n",
    "\n",
    "df.rename(new_columns, axis=1, inplace=True)\n",
    "\n",
    "# Replacing country and gender labels with their full names\n",
    "df = df.rename(country_labels()).rename({\"F\":\"Female\", \"M\":\"Male\", \"T\":\"Both\"}).reset_index()"
   ]
  },
  {
   "cell_type": "code",
   "execution_count": 89,
   "id": "a541a870",
   "metadata": {
    "scrolled": true
   },
   "outputs": [
    {
     "data": {
      "text/html": [
       "<div>\n",
       "<style scoped>\n",
       "    .dataframe tbody tr th:only-of-type {\n",
       "        vertical-align: middle;\n",
       "    }\n",
       "\n",
       "    .dataframe tbody tr th {\n",
       "        vertical-align: top;\n",
       "    }\n",
       "\n",
       "    .dataframe thead th {\n",
       "        text-align: right;\n",
       "    }\n",
       "</style>\n",
       "<table border=\"1\" class=\"dataframe\">\n",
       "  <thead>\n",
       "    <tr style=\"text-align: right;\">\n",
       "      <th>age</th>\n",
       "      <th>geo</th>\n",
       "      <th>sex</th>\n",
       "      <th>TIME_PERIOD</th>\n",
       "      <th>TOTAL</th>\n",
       "      <th>&lt;5</th>\n",
       "      <th>5-9</th>\n",
       "      <th>10-14</th>\n",
       "      <th>15-19</th>\n",
       "      <th>20-24</th>\n",
       "      <th>25-29</th>\n",
       "      <th>30-34</th>\n",
       "      <th>35-39</th>\n",
       "      <th>40-44</th>\n",
       "      <th>45-49</th>\n",
       "      <th>50-54</th>\n",
       "      <th>55-59</th>\n",
       "      <th>60-64</th>\n",
       "      <th>65-69</th>\n",
       "      <th>70-74</th>\n",
       "      <th>75&lt;</th>\n",
       "    </tr>\n",
       "  </thead>\n",
       "  <tbody>\n",
       "    <tr>\n",
       "      <th>0</th>\n",
       "      <td>Andorra</td>\n",
       "      <td>Female</td>\n",
       "      <td>1986</td>\n",
       "      <td>20898.0</td>\n",
       "      <td>1099.0</td>\n",
       "      <td>1496.0</td>\n",
       "      <td>1704.0</td>\n",
       "      <td>1530.0</td>\n",
       "      <td>1993.0</td>\n",
       "      <td>2298.0</td>\n",
       "      <td>2016.0</td>\n",
       "      <td>1764.0</td>\n",
       "      <td>1319.0</td>\n",
       "      <td>1081.0</td>\n",
       "      <td>1024.0</td>\n",
       "      <td>1003.0</td>\n",
       "      <td>862.0</td>\n",
       "      <td>592.0</td>\n",
       "      <td>483.0</td>\n",
       "      <td>NaN</td>\n",
       "    </tr>\n",
       "    <tr>\n",
       "      <th>1</th>\n",
       "      <td>Andorra</td>\n",
       "      <td>Female</td>\n",
       "      <td>1987</td>\n",
       "      <td>22148.0</td>\n",
       "      <td>1153.0</td>\n",
       "      <td>1588.0</td>\n",
       "      <td>1759.0</td>\n",
       "      <td>1619.0</td>\n",
       "      <td>2153.0</td>\n",
       "      <td>2387.0</td>\n",
       "      <td>2190.0</td>\n",
       "      <td>1828.0</td>\n",
       "      <td>1472.0</td>\n",
       "      <td>1117.0</td>\n",
       "      <td>1079.0</td>\n",
       "      <td>1025.0</td>\n",
       "      <td>928.0</td>\n",
       "      <td>657.0</td>\n",
       "      <td>507.0</td>\n",
       "      <td>NaN</td>\n",
       "    </tr>\n",
       "    <tr>\n",
       "      <th>2</th>\n",
       "      <td>Andorra</td>\n",
       "      <td>Female</td>\n",
       "      <td>1988</td>\n",
       "      <td>22814.0</td>\n",
       "      <td>1129.0</td>\n",
       "      <td>1574.0</td>\n",
       "      <td>1772.0</td>\n",
       "      <td>1685.0</td>\n",
       "      <td>2057.0</td>\n",
       "      <td>2527.0</td>\n",
       "      <td>2257.0</td>\n",
       "      <td>1883.0</td>\n",
       "      <td>1565.0</td>\n",
       "      <td>1163.0</td>\n",
       "      <td>1117.0</td>\n",
       "      <td>1058.0</td>\n",
       "      <td>954.0</td>\n",
       "      <td>784.0</td>\n",
       "      <td>521.0</td>\n",
       "      <td>NaN</td>\n",
       "    </tr>\n",
       "    <tr>\n",
       "      <th>3</th>\n",
       "      <td>Andorra</td>\n",
       "      <td>Female</td>\n",
       "      <td>1989</td>\n",
       "      <td>23813.0</td>\n",
       "      <td>1099.0</td>\n",
       "      <td>1606.0</td>\n",
       "      <td>1795.0</td>\n",
       "      <td>1747.0</td>\n",
       "      <td>2070.0</td>\n",
       "      <td>2586.0</td>\n",
       "      <td>2406.0</td>\n",
       "      <td>1984.0</td>\n",
       "      <td>1690.0</td>\n",
       "      <td>1329.0</td>\n",
       "      <td>1120.0</td>\n",
       "      <td>1149.0</td>\n",
       "      <td>993.0</td>\n",
       "      <td>849.0</td>\n",
       "      <td>537.0</td>\n",
       "      <td>NaN</td>\n",
       "    </tr>\n",
       "    <tr>\n",
       "      <th>4</th>\n",
       "      <td>Andorra</td>\n",
       "      <td>Female</td>\n",
       "      <td>1990</td>\n",
       "      <td>24171.0</td>\n",
       "      <td>1182.0</td>\n",
       "      <td>1562.0</td>\n",
       "      <td>1712.0</td>\n",
       "      <td>1798.0</td>\n",
       "      <td>1997.0</td>\n",
       "      <td>2558.0</td>\n",
       "      <td>2417.0</td>\n",
       "      <td>2019.0</td>\n",
       "      <td>1759.0</td>\n",
       "      <td>1450.0</td>\n",
       "      <td>1135.0</td>\n",
       "      <td>1134.0</td>\n",
       "      <td>1031.0</td>\n",
       "      <td>924.0</td>\n",
       "      <td>544.0</td>\n",
       "      <td>949.0</td>\n",
       "    </tr>\n",
       "    <tr>\n",
       "      <th>...</th>\n",
       "      <td>...</td>\n",
       "      <td>...</td>\n",
       "      <td>...</td>\n",
       "      <td>...</td>\n",
       "      <td>...</td>\n",
       "      <td>...</td>\n",
       "      <td>...</td>\n",
       "      <td>...</td>\n",
       "      <td>...</td>\n",
       "      <td>...</td>\n",
       "      <td>...</td>\n",
       "      <td>...</td>\n",
       "      <td>...</td>\n",
       "      <td>...</td>\n",
       "      <td>...</td>\n",
       "      <td>...</td>\n",
       "      <td>...</td>\n",
       "      <td>...</td>\n",
       "      <td>...</td>\n",
       "      <td>...</td>\n",
       "    </tr>\n",
       "    <tr>\n",
       "      <th>7410</th>\n",
       "      <td>Kosovo*</td>\n",
       "      <td>Both</td>\n",
       "      <td>2018</td>\n",
       "      <td>1798506.0</td>\n",
       "      <td>153526.0</td>\n",
       "      <td>147177.0</td>\n",
       "      <td>149641.0</td>\n",
       "      <td>172350.0</td>\n",
       "      <td>155673.0</td>\n",
       "      <td>144850.0</td>\n",
       "      <td>132532.0</td>\n",
       "      <td>124428.0</td>\n",
       "      <td>120832.0</td>\n",
       "      <td>108030.0</td>\n",
       "      <td>95156.0</td>\n",
       "      <td>81541.0</td>\n",
       "      <td>66810.0</td>\n",
       "      <td>49751.0</td>\n",
       "      <td>38929.0</td>\n",
       "      <td>57280.0</td>\n",
       "    </tr>\n",
       "    <tr>\n",
       "      <th>7411</th>\n",
       "      <td>Kosovo*</td>\n",
       "      <td>Both</td>\n",
       "      <td>2019</td>\n",
       "      <td>1795666.0</td>\n",
       "      <td>146042.0</td>\n",
       "      <td>150812.0</td>\n",
       "      <td>141325.0</td>\n",
       "      <td>166789.0</td>\n",
       "      <td>152483.0</td>\n",
       "      <td>143229.0</td>\n",
       "      <td>133788.0</td>\n",
       "      <td>123967.0</td>\n",
       "      <td>120343.0</td>\n",
       "      <td>110194.0</td>\n",
       "      <td>98362.0</td>\n",
       "      <td>85308.0</td>\n",
       "      <td>69773.0</td>\n",
       "      <td>53199.0</td>\n",
       "      <td>38945.0</td>\n",
       "      <td>61107.0</td>\n",
       "    </tr>\n",
       "    <tr>\n",
       "      <th>7412</th>\n",
       "      <td>Kosovo*</td>\n",
       "      <td>Both</td>\n",
       "      <td>2020</td>\n",
       "      <td>1782115.0</td>\n",
       "      <td>139433.0</td>\n",
       "      <td>150864.0</td>\n",
       "      <td>138268.0</td>\n",
       "      <td>163371.0</td>\n",
       "      <td>147970.0</td>\n",
       "      <td>139857.0</td>\n",
       "      <td>133504.0</td>\n",
       "      <td>122738.0</td>\n",
       "      <td>118526.0</td>\n",
       "      <td>111374.0</td>\n",
       "      <td>100248.0</td>\n",
       "      <td>87709.0</td>\n",
       "      <td>70225.0</td>\n",
       "      <td>55578.0</td>\n",
       "      <td>39612.0</td>\n",
       "      <td>62838.0</td>\n",
       "    </tr>\n",
       "    <tr>\n",
       "      <th>7413</th>\n",
       "      <td>Kosovo*</td>\n",
       "      <td>Both</td>\n",
       "      <td>2021</td>\n",
       "      <td>1798186.0</td>\n",
       "      <td>139507.0</td>\n",
       "      <td>151145.0</td>\n",
       "      <td>138118.0</td>\n",
       "      <td>151523.0</td>\n",
       "      <td>159614.0</td>\n",
       "      <td>141623.0</td>\n",
       "      <td>135642.0</td>\n",
       "      <td>124647.0</td>\n",
       "      <td>118049.0</td>\n",
       "      <td>115335.0</td>\n",
       "      <td>101022.0</td>\n",
       "      <td>88886.0</td>\n",
       "      <td>73646.0</td>\n",
       "      <td>56294.0</td>\n",
       "      <td>41132.0</td>\n",
       "      <td>62003.0</td>\n",
       "    </tr>\n",
       "    <tr>\n",
       "      <th>7414</th>\n",
       "      <td>Kosovo*</td>\n",
       "      <td>Both</td>\n",
       "      <td>2022</td>\n",
       "      <td>1773971.0</td>\n",
       "      <td>137290.0</td>\n",
       "      <td>144634.0</td>\n",
       "      <td>139918.0</td>\n",
       "      <td>142327.0</td>\n",
       "      <td>155397.0</td>\n",
       "      <td>137245.0</td>\n",
       "      <td>132490.0</td>\n",
       "      <td>123179.0</td>\n",
       "      <td>117012.0</td>\n",
       "      <td>114910.0</td>\n",
       "      <td>102901.0</td>\n",
       "      <td>89951.0</td>\n",
       "      <td>75124.0</td>\n",
       "      <td>58899.0</td>\n",
       "      <td>40466.0</td>\n",
       "      <td>62228.0</td>\n",
       "    </tr>\n",
       "  </tbody>\n",
       "</table>\n",
       "<p>7415 rows × 20 columns</p>\n",
       "</div>"
      ],
      "text/plain": [
       "age       geo     sex  TIME_PERIOD      TOTAL        <5       5-9     10-14  \\\n",
       "0     Andorra  Female         1986    20898.0    1099.0    1496.0    1704.0   \n",
       "1     Andorra  Female         1987    22148.0    1153.0    1588.0    1759.0   \n",
       "2     Andorra  Female         1988    22814.0    1129.0    1574.0    1772.0   \n",
       "3     Andorra  Female         1989    23813.0    1099.0    1606.0    1795.0   \n",
       "4     Andorra  Female         1990    24171.0    1182.0    1562.0    1712.0   \n",
       "...       ...     ...          ...        ...       ...       ...       ...   \n",
       "7410  Kosovo*    Both         2018  1798506.0  153526.0  147177.0  149641.0   \n",
       "7411  Kosovo*    Both         2019  1795666.0  146042.0  150812.0  141325.0   \n",
       "7412  Kosovo*    Both         2020  1782115.0  139433.0  150864.0  138268.0   \n",
       "7413  Kosovo*    Both         2021  1798186.0  139507.0  151145.0  138118.0   \n",
       "7414  Kosovo*    Both         2022  1773971.0  137290.0  144634.0  139918.0   \n",
       "\n",
       "age      15-19     20-24     25-29     30-34     35-39     40-44     45-49  \\\n",
       "0       1530.0    1993.0    2298.0    2016.0    1764.0    1319.0    1081.0   \n",
       "1       1619.0    2153.0    2387.0    2190.0    1828.0    1472.0    1117.0   \n",
       "2       1685.0    2057.0    2527.0    2257.0    1883.0    1565.0    1163.0   \n",
       "3       1747.0    2070.0    2586.0    2406.0    1984.0    1690.0    1329.0   \n",
       "4       1798.0    1997.0    2558.0    2417.0    2019.0    1759.0    1450.0   \n",
       "...        ...       ...       ...       ...       ...       ...       ...   \n",
       "7410  172350.0  155673.0  144850.0  132532.0  124428.0  120832.0  108030.0   \n",
       "7411  166789.0  152483.0  143229.0  133788.0  123967.0  120343.0  110194.0   \n",
       "7412  163371.0  147970.0  139857.0  133504.0  122738.0  118526.0  111374.0   \n",
       "7413  151523.0  159614.0  141623.0  135642.0  124647.0  118049.0  115335.0   \n",
       "7414  142327.0  155397.0  137245.0  132490.0  123179.0  117012.0  114910.0   \n",
       "\n",
       "age      50-54    55-59    60-64    65-69    70-74      75<  \n",
       "0       1024.0   1003.0    862.0    592.0    483.0      NaN  \n",
       "1       1079.0   1025.0    928.0    657.0    507.0      NaN  \n",
       "2       1117.0   1058.0    954.0    784.0    521.0      NaN  \n",
       "3       1120.0   1149.0    993.0    849.0    537.0      NaN  \n",
       "4       1135.0   1134.0   1031.0    924.0    544.0    949.0  \n",
       "...        ...      ...      ...      ...      ...      ...  \n",
       "7410   95156.0  81541.0  66810.0  49751.0  38929.0  57280.0  \n",
       "7411   98362.0  85308.0  69773.0  53199.0  38945.0  61107.0  \n",
       "7412  100248.0  87709.0  70225.0  55578.0  39612.0  62838.0  \n",
       "7413  101022.0  88886.0  73646.0  56294.0  41132.0  62003.0  \n",
       "7414  102901.0  89951.0  75124.0  58899.0  40466.0  62228.0  \n",
       "\n",
       "[7415 rows x 20 columns]"
      ]
     },
     "execution_count": 89,
     "metadata": {},
     "output_type": "execute_result"
    }
   ],
   "source": [
    "df"
   ]
  },
  {
   "cell_type": "code",
   "execution_count": 90,
   "id": "6788291a",
   "metadata": {},
   "outputs": [],
   "source": [
    "# Un-comment line below to export to Excel file\n",
    "df.to_excel('arranged_table.xlsx', engine='openpyxl', sheet_name='Sheet1')"
   ]
  },
  {
   "cell_type": "markdown",
   "id": "2fa6bb1b",
   "metadata": {},
   "source": [
    "# First drawings...\n"
   ]
  },
  {
   "cell_type": "code",
   "execution_count": 91,
   "id": "9638c203",
   "metadata": {},
   "outputs": [
    {
     "name": "stdout",
     "output_type": "stream",
     "text": [
      "Libraries imported!\n"
     ]
    }
   ],
   "source": [
    "# Libraries needed for interactive dashboards\n",
    "import plotly.express as px\n",
    "import plotly.graph_objects as go\n",
    "from plotly.subplots import make_subplots\n",
    "print(\"Libraries imported!\")"
   ]
  },
  {
   "cell_type": "code",
   "execution_count": 92,
   "id": "99aba3e3",
   "metadata": {},
   "outputs": [],
   "source": [
    "country, year = \"Croatia\", 2001"
   ]
  },
  {
   "cell_type": "code",
   "execution_count": 94,
   "id": "eb5476fb",
   "metadata": {},
   "outputs": [
    {
     "data": {
      "text/html": [
       "<div>\n",
       "<style scoped>\n",
       "    .dataframe tbody tr th:only-of-type {\n",
       "        vertical-align: middle;\n",
       "    }\n",
       "\n",
       "    .dataframe tbody tr th {\n",
       "        vertical-align: top;\n",
       "    }\n",
       "\n",
       "    .dataframe thead th {\n",
       "        text-align: right;\n",
       "    }\n",
       "</style>\n",
       "<table border=\"1\" class=\"dataframe\">\n",
       "  <thead>\n",
       "    <tr style=\"text-align: right;\">\n",
       "      <th>age</th>\n",
       "      <th>geo</th>\n",
       "      <th>sex</th>\n",
       "      <th>TIME_PERIOD</th>\n",
       "      <th>TOTAL</th>\n",
       "      <th>&lt;5</th>\n",
       "      <th>5-9</th>\n",
       "      <th>10-14</th>\n",
       "      <th>15-19</th>\n",
       "      <th>20-24</th>\n",
       "      <th>25-29</th>\n",
       "      <th>30-34</th>\n",
       "      <th>35-39</th>\n",
       "      <th>40-44</th>\n",
       "      <th>45-49</th>\n",
       "      <th>50-54</th>\n",
       "      <th>55-59</th>\n",
       "      <th>60-64</th>\n",
       "      <th>65-69</th>\n",
       "      <th>70-74</th>\n",
       "      <th>75&lt;</th>\n",
       "    </tr>\n",
       "  </thead>\n",
       "  <tbody>\n",
       "    <tr>\n",
       "      <th>3287</th>\n",
       "      <td>Croatia</td>\n",
       "      <td>Female</td>\n",
       "      <td>1981</td>\n",
       "      <td>2374579.0</td>\n",
       "      <td>NaN</td>\n",
       "      <td>NaN</td>\n",
       "      <td>NaN</td>\n",
       "      <td>NaN</td>\n",
       "      <td>NaN</td>\n",
       "      <td>NaN</td>\n",
       "      <td>NaN</td>\n",
       "      <td>NaN</td>\n",
       "      <td>NaN</td>\n",
       "      <td>NaN</td>\n",
       "      <td>NaN</td>\n",
       "      <td>NaN</td>\n",
       "      <td>NaN</td>\n",
       "      <td>NaN</td>\n",
       "      <td>NaN</td>\n",
       "      <td>NaN</td>\n",
       "    </tr>\n",
       "    <tr>\n",
       "      <th>3288</th>\n",
       "      <td>Croatia</td>\n",
       "      <td>Female</td>\n",
       "      <td>1982</td>\n",
       "      <td>2384760.0</td>\n",
       "      <td>NaN</td>\n",
       "      <td>NaN</td>\n",
       "      <td>NaN</td>\n",
       "      <td>NaN</td>\n",
       "      <td>NaN</td>\n",
       "      <td>NaN</td>\n",
       "      <td>NaN</td>\n",
       "      <td>NaN</td>\n",
       "      <td>NaN</td>\n",
       "      <td>NaN</td>\n",
       "      <td>NaN</td>\n",
       "      <td>NaN</td>\n",
       "      <td>NaN</td>\n",
       "      <td>NaN</td>\n",
       "      <td>NaN</td>\n",
       "      <td>NaN</td>\n",
       "    </tr>\n",
       "    <tr>\n",
       "      <th>3289</th>\n",
       "      <td>Croatia</td>\n",
       "      <td>Female</td>\n",
       "      <td>1983</td>\n",
       "      <td>2397661.0</td>\n",
       "      <td>NaN</td>\n",
       "      <td>NaN</td>\n",
       "      <td>NaN</td>\n",
       "      <td>NaN</td>\n",
       "      <td>NaN</td>\n",
       "      <td>NaN</td>\n",
       "      <td>NaN</td>\n",
       "      <td>NaN</td>\n",
       "      <td>NaN</td>\n",
       "      <td>NaN</td>\n",
       "      <td>NaN</td>\n",
       "      <td>NaN</td>\n",
       "      <td>NaN</td>\n",
       "      <td>NaN</td>\n",
       "      <td>NaN</td>\n",
       "      <td>NaN</td>\n",
       "    </tr>\n",
       "    <tr>\n",
       "      <th>3290</th>\n",
       "      <td>Croatia</td>\n",
       "      <td>Female</td>\n",
       "      <td>1984</td>\n",
       "      <td>2409164.0</td>\n",
       "      <td>NaN</td>\n",
       "      <td>NaN</td>\n",
       "      <td>NaN</td>\n",
       "      <td>NaN</td>\n",
       "      <td>NaN</td>\n",
       "      <td>NaN</td>\n",
       "      <td>NaN</td>\n",
       "      <td>NaN</td>\n",
       "      <td>NaN</td>\n",
       "      <td>NaN</td>\n",
       "      <td>NaN</td>\n",
       "      <td>NaN</td>\n",
       "      <td>NaN</td>\n",
       "      <td>NaN</td>\n",
       "      <td>NaN</td>\n",
       "      <td>NaN</td>\n",
       "    </tr>\n",
       "    <tr>\n",
       "      <th>3291</th>\n",
       "      <td>Croatia</td>\n",
       "      <td>Female</td>\n",
       "      <td>1985</td>\n",
       "      <td>2419923.0</td>\n",
       "      <td>NaN</td>\n",
       "      <td>NaN</td>\n",
       "      <td>NaN</td>\n",
       "      <td>NaN</td>\n",
       "      <td>NaN</td>\n",
       "      <td>NaN</td>\n",
       "      <td>NaN</td>\n",
       "      <td>NaN</td>\n",
       "      <td>NaN</td>\n",
       "      <td>NaN</td>\n",
       "      <td>NaN</td>\n",
       "      <td>NaN</td>\n",
       "      <td>NaN</td>\n",
       "      <td>NaN</td>\n",
       "      <td>NaN</td>\n",
       "      <td>NaN</td>\n",
       "    </tr>\n",
       "    <tr>\n",
       "      <th>...</th>\n",
       "      <td>...</td>\n",
       "      <td>...</td>\n",
       "      <td>...</td>\n",
       "      <td>...</td>\n",
       "      <td>...</td>\n",
       "      <td>...</td>\n",
       "      <td>...</td>\n",
       "      <td>...</td>\n",
       "      <td>...</td>\n",
       "      <td>...</td>\n",
       "      <td>...</td>\n",
       "      <td>...</td>\n",
       "      <td>...</td>\n",
       "      <td>...</td>\n",
       "      <td>...</td>\n",
       "      <td>...</td>\n",
       "      <td>...</td>\n",
       "      <td>...</td>\n",
       "      <td>...</td>\n",
       "      <td>...</td>\n",
       "    </tr>\n",
       "    <tr>\n",
       "      <th>3432</th>\n",
       "      <td>Croatia</td>\n",
       "      <td>Both</td>\n",
       "      <td>2019</td>\n",
       "      <td>4076246.0</td>\n",
       "      <td>185127.0</td>\n",
       "      <td>202194.0</td>\n",
       "      <td>200465.0</td>\n",
       "      <td>204449.0</td>\n",
       "      <td>240575.0</td>\n",
       "      <td>239413.0</td>\n",
       "      <td>262027.0</td>\n",
       "      <td>282031.0</td>\n",
       "      <td>275383.0</td>\n",
       "      <td>266771.0</td>\n",
       "      <td>285324.0</td>\n",
       "      <td>296230.0</td>\n",
       "      <td>297658.0</td>\n",
       "      <td>262779.0</td>\n",
       "      <td>190347.0</td>\n",
       "      <td>385473.0</td>\n",
       "    </tr>\n",
       "    <tr>\n",
       "      <th>3433</th>\n",
       "      <td>Croatia</td>\n",
       "      <td>Both</td>\n",
       "      <td>2020</td>\n",
       "      <td>4058165.0</td>\n",
       "      <td>182408.0</td>\n",
       "      <td>196674.0</td>\n",
       "      <td>202389.0</td>\n",
       "      <td>198576.0</td>\n",
       "      <td>238386.0</td>\n",
       "      <td>238457.0</td>\n",
       "      <td>255340.0</td>\n",
       "      <td>280875.0</td>\n",
       "      <td>277900.0</td>\n",
       "      <td>266906.0</td>\n",
       "      <td>280613.0</td>\n",
       "      <td>290286.0</td>\n",
       "      <td>295571.0</td>\n",
       "      <td>267320.0</td>\n",
       "      <td>203186.0</td>\n",
       "      <td>383278.0</td>\n",
       "    </tr>\n",
       "    <tr>\n",
       "      <th>3434</th>\n",
       "      <td>Croatia</td>\n",
       "      <td>Both</td>\n",
       "      <td>2021</td>\n",
       "      <td>4036355.0</td>\n",
       "      <td>181550.0</td>\n",
       "      <td>190992.0</td>\n",
       "      <td>202345.0</td>\n",
       "      <td>195840.0</td>\n",
       "      <td>233001.0</td>\n",
       "      <td>238148.0</td>\n",
       "      <td>250514.0</td>\n",
       "      <td>277405.0</td>\n",
       "      <td>280584.0</td>\n",
       "      <td>269356.0</td>\n",
       "      <td>271652.0</td>\n",
       "      <td>287473.0</td>\n",
       "      <td>292648.0</td>\n",
       "      <td>271071.0</td>\n",
       "      <td>218929.0</td>\n",
       "      <td>374847.0</td>\n",
       "    </tr>\n",
       "    <tr>\n",
       "      <th>3435</th>\n",
       "      <td>Croatia</td>\n",
       "      <td>Both</td>\n",
       "      <td>2022</td>\n",
       "      <td>3862305.0</td>\n",
       "      <td>175765.0</td>\n",
       "      <td>180825.0</td>\n",
       "      <td>195621.0</td>\n",
       "      <td>188897.0</td>\n",
       "      <td>206977.0</td>\n",
       "      <td>215051.0</td>\n",
       "      <td>226765.0</td>\n",
       "      <td>254062.0</td>\n",
       "      <td>267208.0</td>\n",
       "      <td>259426.0</td>\n",
       "      <td>258212.0</td>\n",
       "      <td>278654.0</td>\n",
       "      <td>286296.0</td>\n",
       "      <td>280555.0</td>\n",
       "      <td>227474.0</td>\n",
       "      <td>360517.0</td>\n",
       "    </tr>\n",
       "    <tr>\n",
       "      <th>3436</th>\n",
       "      <td>Croatia</td>\n",
       "      <td>Both</td>\n",
       "      <td>2023</td>\n",
       "      <td>3850894.0</td>\n",
       "      <td>175338.0</td>\n",
       "      <td>177702.0</td>\n",
       "      <td>195758.0</td>\n",
       "      <td>190162.0</td>\n",
       "      <td>201766.0</td>\n",
       "      <td>220875.0</td>\n",
       "      <td>223629.0</td>\n",
       "      <td>250617.0</td>\n",
       "      <td>267803.0</td>\n",
       "      <td>260154.0</td>\n",
       "      <td>254518.0</td>\n",
       "      <td>274000.0</td>\n",
       "      <td>282869.0</td>\n",
       "      <td>279112.0</td>\n",
       "      <td>233017.0</td>\n",
       "      <td>363574.0</td>\n",
       "    </tr>\n",
       "  </tbody>\n",
       "</table>\n",
       "<p>150 rows × 20 columns</p>\n",
       "</div>"
      ],
      "text/plain": [
       "age       geo     sex  TIME_PERIOD      TOTAL        <5       5-9     10-14  \\\n",
       "3287  Croatia  Female         1981  2374579.0       NaN       NaN       NaN   \n",
       "3288  Croatia  Female         1982  2384760.0       NaN       NaN       NaN   \n",
       "3289  Croatia  Female         1983  2397661.0       NaN       NaN       NaN   \n",
       "3290  Croatia  Female         1984  2409164.0       NaN       NaN       NaN   \n",
       "3291  Croatia  Female         1985  2419923.0       NaN       NaN       NaN   \n",
       "...       ...     ...          ...        ...       ...       ...       ...   \n",
       "3432  Croatia    Both         2019  4076246.0  185127.0  202194.0  200465.0   \n",
       "3433  Croatia    Both         2020  4058165.0  182408.0  196674.0  202389.0   \n",
       "3434  Croatia    Both         2021  4036355.0  181550.0  190992.0  202345.0   \n",
       "3435  Croatia    Both         2022  3862305.0  175765.0  180825.0  195621.0   \n",
       "3436  Croatia    Both         2023  3850894.0  175338.0  177702.0  195758.0   \n",
       "\n",
       "age      15-19     20-24     25-29     30-34     35-39     40-44     45-49  \\\n",
       "3287       NaN       NaN       NaN       NaN       NaN       NaN       NaN   \n",
       "3288       NaN       NaN       NaN       NaN       NaN       NaN       NaN   \n",
       "3289       NaN       NaN       NaN       NaN       NaN       NaN       NaN   \n",
       "3290       NaN       NaN       NaN       NaN       NaN       NaN       NaN   \n",
       "3291       NaN       NaN       NaN       NaN       NaN       NaN       NaN   \n",
       "...        ...       ...       ...       ...       ...       ...       ...   \n",
       "3432  204449.0  240575.0  239413.0  262027.0  282031.0  275383.0  266771.0   \n",
       "3433  198576.0  238386.0  238457.0  255340.0  280875.0  277900.0  266906.0   \n",
       "3434  195840.0  233001.0  238148.0  250514.0  277405.0  280584.0  269356.0   \n",
       "3435  188897.0  206977.0  215051.0  226765.0  254062.0  267208.0  259426.0   \n",
       "3436  190162.0  201766.0  220875.0  223629.0  250617.0  267803.0  260154.0   \n",
       "\n",
       "age      50-54     55-59     60-64     65-69     70-74       75<  \n",
       "3287       NaN       NaN       NaN       NaN       NaN       NaN  \n",
       "3288       NaN       NaN       NaN       NaN       NaN       NaN  \n",
       "3289       NaN       NaN       NaN       NaN       NaN       NaN  \n",
       "3290       NaN       NaN       NaN       NaN       NaN       NaN  \n",
       "3291       NaN       NaN       NaN       NaN       NaN       NaN  \n",
       "...        ...       ...       ...       ...       ...       ...  \n",
       "3432  285324.0  296230.0  297658.0  262779.0  190347.0  385473.0  \n",
       "3433  280613.0  290286.0  295571.0  267320.0  203186.0  383278.0  \n",
       "3434  271652.0  287473.0  292648.0  271071.0  218929.0  374847.0  \n",
       "3435  258212.0  278654.0  286296.0  280555.0  227474.0  360517.0  \n",
       "3436  254518.0  274000.0  282869.0  279112.0  233017.0  363574.0  \n",
       "\n",
       "[150 rows x 20 columns]"
      ]
     },
     "execution_count": 94,
     "metadata": {},
     "output_type": "execute_result"
    }
   ],
   "source": [
    "df_country = df[ df[\"geo\"] == country]\n",
    "df_country"
   ]
  },
  {
   "cell_type": "code",
   "execution_count": 140,
   "id": "e25a7937",
   "metadata": {},
   "outputs": [],
   "source": [
    "fem_bar = px.bar(data_frame = df_fem_anno.index[1:],\n",
    "       y=df_fem_anno.index[1:], x=df_fem_anno.values[1:],\n",
    "       labels = {\"y\": \"Age ranges (years)\", \"x\":\"Population\"},\n",
    "       title=f\"Female Population of {country} in Year {year}\")\n",
    "\n",
    "male_bar = px.bar(data_frame = df_male_anno.index[1:],\n",
    "       y=df_male_anno.index[1:], x=df_male_anno.values[1:]/df_male_anno.values[0]*100,\n",
    "       labels = {\"y\": \"Age ranges (years)\", \"x\":\"Population\"},\n",
    "       title=f\"Male Population of {country} in Year {year}\")"
   ]
  },
  {
   "cell_type": "code",
   "execution_count": 137,
   "id": "189db043",
   "metadata": {},
   "outputs": [
    {
     "data": {
      "application/vnd.plotly.v1+json": {
       "config": {
        "plotlyServerURL": "https://plot.ly"
       },
       "data": [
        {
         "name": "Male",
         "orientation": "h",
         "type": "bar",
         "x": [
          118513,
          121795,
          129972,
          142902,
          146256,
          140288,
          142916,
          153938,
          164319,
          165416,
          141586,
          109726,
          122390,
          111035,
          80833,
          72129
         ],
         "y": [
          "<5",
          "5-9",
          "10-14",
          "15-19",
          "20-24",
          "25-29",
          "30-34",
          "35-39",
          "40-44",
          "45-49",
          "50-54",
          "55-59",
          "60-64",
          "65-69",
          "70-74",
          "75<"
         ]
        },
        {
         "name": "Female",
         "orientation": "h",
         "type": "bar",
         "x": [
          112567,
          116157,
          124471,
          136343,
          139561,
          137525,
          142872,
          154870,
          164073,
          160531,
          148056,
          122710,
          143283,
          143770,
          121109,
          163369
         ],
         "y": [
          "<5",
          "5-9",
          "10-14",
          "15-19",
          "20-24",
          "25-29",
          "30-34",
          "35-39",
          "40-44",
          "45-49",
          "50-54",
          "55-59",
          "60-64",
          "65-69",
          "70-74",
          "75<"
         ]
        }
       ],
       "layout": {
        "barmode": "group",
        "template": {
         "data": {
          "bar": [
           {
            "error_x": {
             "color": "#2a3f5f"
            },
            "error_y": {
             "color": "#2a3f5f"
            },
            "marker": {
             "line": {
              "color": "#E5ECF6",
              "width": 0.5
             },
             "pattern": {
              "fillmode": "overlay",
              "size": 10,
              "solidity": 0.2
             }
            },
            "type": "bar"
           }
          ],
          "barpolar": [
           {
            "marker": {
             "line": {
              "color": "#E5ECF6",
              "width": 0.5
             },
             "pattern": {
              "fillmode": "overlay",
              "size": 10,
              "solidity": 0.2
             }
            },
            "type": "barpolar"
           }
          ],
          "carpet": [
           {
            "aaxis": {
             "endlinecolor": "#2a3f5f",
             "gridcolor": "white",
             "linecolor": "white",
             "minorgridcolor": "white",
             "startlinecolor": "#2a3f5f"
            },
            "baxis": {
             "endlinecolor": "#2a3f5f",
             "gridcolor": "white",
             "linecolor": "white",
             "minorgridcolor": "white",
             "startlinecolor": "#2a3f5f"
            },
            "type": "carpet"
           }
          ],
          "choropleth": [
           {
            "colorbar": {
             "outlinewidth": 0,
             "ticks": ""
            },
            "type": "choropleth"
           }
          ],
          "contour": [
           {
            "colorbar": {
             "outlinewidth": 0,
             "ticks": ""
            },
            "colorscale": [
             [
              0,
              "#0d0887"
             ],
             [
              0.1111111111111111,
              "#46039f"
             ],
             [
              0.2222222222222222,
              "#7201a8"
             ],
             [
              0.3333333333333333,
              "#9c179e"
             ],
             [
              0.4444444444444444,
              "#bd3786"
             ],
             [
              0.5555555555555556,
              "#d8576b"
             ],
             [
              0.6666666666666666,
              "#ed7953"
             ],
             [
              0.7777777777777778,
              "#fb9f3a"
             ],
             [
              0.8888888888888888,
              "#fdca26"
             ],
             [
              1,
              "#f0f921"
             ]
            ],
            "type": "contour"
           }
          ],
          "contourcarpet": [
           {
            "colorbar": {
             "outlinewidth": 0,
             "ticks": ""
            },
            "type": "contourcarpet"
           }
          ],
          "heatmap": [
           {
            "colorbar": {
             "outlinewidth": 0,
             "ticks": ""
            },
            "colorscale": [
             [
              0,
              "#0d0887"
             ],
             [
              0.1111111111111111,
              "#46039f"
             ],
             [
              0.2222222222222222,
              "#7201a8"
             ],
             [
              0.3333333333333333,
              "#9c179e"
             ],
             [
              0.4444444444444444,
              "#bd3786"
             ],
             [
              0.5555555555555556,
              "#d8576b"
             ],
             [
              0.6666666666666666,
              "#ed7953"
             ],
             [
              0.7777777777777778,
              "#fb9f3a"
             ],
             [
              0.8888888888888888,
              "#fdca26"
             ],
             [
              1,
              "#f0f921"
             ]
            ],
            "type": "heatmap"
           }
          ],
          "heatmapgl": [
           {
            "colorbar": {
             "outlinewidth": 0,
             "ticks": ""
            },
            "colorscale": [
             [
              0,
              "#0d0887"
             ],
             [
              0.1111111111111111,
              "#46039f"
             ],
             [
              0.2222222222222222,
              "#7201a8"
             ],
             [
              0.3333333333333333,
              "#9c179e"
             ],
             [
              0.4444444444444444,
              "#bd3786"
             ],
             [
              0.5555555555555556,
              "#d8576b"
             ],
             [
              0.6666666666666666,
              "#ed7953"
             ],
             [
              0.7777777777777778,
              "#fb9f3a"
             ],
             [
              0.8888888888888888,
              "#fdca26"
             ],
             [
              1,
              "#f0f921"
             ]
            ],
            "type": "heatmapgl"
           }
          ],
          "histogram": [
           {
            "marker": {
             "pattern": {
              "fillmode": "overlay",
              "size": 10,
              "solidity": 0.2
             }
            },
            "type": "histogram"
           }
          ],
          "histogram2d": [
           {
            "colorbar": {
             "outlinewidth": 0,
             "ticks": ""
            },
            "colorscale": [
             [
              0,
              "#0d0887"
             ],
             [
              0.1111111111111111,
              "#46039f"
             ],
             [
              0.2222222222222222,
              "#7201a8"
             ],
             [
              0.3333333333333333,
              "#9c179e"
             ],
             [
              0.4444444444444444,
              "#bd3786"
             ],
             [
              0.5555555555555556,
              "#d8576b"
             ],
             [
              0.6666666666666666,
              "#ed7953"
             ],
             [
              0.7777777777777778,
              "#fb9f3a"
             ],
             [
              0.8888888888888888,
              "#fdca26"
             ],
             [
              1,
              "#f0f921"
             ]
            ],
            "type": "histogram2d"
           }
          ],
          "histogram2dcontour": [
           {
            "colorbar": {
             "outlinewidth": 0,
             "ticks": ""
            },
            "colorscale": [
             [
              0,
              "#0d0887"
             ],
             [
              0.1111111111111111,
              "#46039f"
             ],
             [
              0.2222222222222222,
              "#7201a8"
             ],
             [
              0.3333333333333333,
              "#9c179e"
             ],
             [
              0.4444444444444444,
              "#bd3786"
             ],
             [
              0.5555555555555556,
              "#d8576b"
             ],
             [
              0.6666666666666666,
              "#ed7953"
             ],
             [
              0.7777777777777778,
              "#fb9f3a"
             ],
             [
              0.8888888888888888,
              "#fdca26"
             ],
             [
              1,
              "#f0f921"
             ]
            ],
            "type": "histogram2dcontour"
           }
          ],
          "mesh3d": [
           {
            "colorbar": {
             "outlinewidth": 0,
             "ticks": ""
            },
            "type": "mesh3d"
           }
          ],
          "parcoords": [
           {
            "line": {
             "colorbar": {
              "outlinewidth": 0,
              "ticks": ""
             }
            },
            "type": "parcoords"
           }
          ],
          "pie": [
           {
            "automargin": true,
            "type": "pie"
           }
          ],
          "scatter": [
           {
            "marker": {
             "colorbar": {
              "outlinewidth": 0,
              "ticks": ""
             }
            },
            "type": "scatter"
           }
          ],
          "scatter3d": [
           {
            "line": {
             "colorbar": {
              "outlinewidth": 0,
              "ticks": ""
             }
            },
            "marker": {
             "colorbar": {
              "outlinewidth": 0,
              "ticks": ""
             }
            },
            "type": "scatter3d"
           }
          ],
          "scattercarpet": [
           {
            "marker": {
             "colorbar": {
              "outlinewidth": 0,
              "ticks": ""
             }
            },
            "type": "scattercarpet"
           }
          ],
          "scattergeo": [
           {
            "marker": {
             "colorbar": {
              "outlinewidth": 0,
              "ticks": ""
             }
            },
            "type": "scattergeo"
           }
          ],
          "scattergl": [
           {
            "marker": {
             "colorbar": {
              "outlinewidth": 0,
              "ticks": ""
             }
            },
            "type": "scattergl"
           }
          ],
          "scattermapbox": [
           {
            "marker": {
             "colorbar": {
              "outlinewidth": 0,
              "ticks": ""
             }
            },
            "type": "scattermapbox"
           }
          ],
          "scatterpolar": [
           {
            "marker": {
             "colorbar": {
              "outlinewidth": 0,
              "ticks": ""
             }
            },
            "type": "scatterpolar"
           }
          ],
          "scatterpolargl": [
           {
            "marker": {
             "colorbar": {
              "outlinewidth": 0,
              "ticks": ""
             }
            },
            "type": "scatterpolargl"
           }
          ],
          "scatterternary": [
           {
            "marker": {
             "colorbar": {
              "outlinewidth": 0,
              "ticks": ""
             }
            },
            "type": "scatterternary"
           }
          ],
          "surface": [
           {
            "colorbar": {
             "outlinewidth": 0,
             "ticks": ""
            },
            "colorscale": [
             [
              0,
              "#0d0887"
             ],
             [
              0.1111111111111111,
              "#46039f"
             ],
             [
              0.2222222222222222,
              "#7201a8"
             ],
             [
              0.3333333333333333,
              "#9c179e"
             ],
             [
              0.4444444444444444,
              "#bd3786"
             ],
             [
              0.5555555555555556,
              "#d8576b"
             ],
             [
              0.6666666666666666,
              "#ed7953"
             ],
             [
              0.7777777777777778,
              "#fb9f3a"
             ],
             [
              0.8888888888888888,
              "#fdca26"
             ],
             [
              1,
              "#f0f921"
             ]
            ],
            "type": "surface"
           }
          ],
          "table": [
           {
            "cells": {
             "fill": {
              "color": "#EBF0F8"
             },
             "line": {
              "color": "white"
             }
            },
            "header": {
             "fill": {
              "color": "#C8D4E3"
             },
             "line": {
              "color": "white"
             }
            },
            "type": "table"
           }
          ]
         },
         "layout": {
          "annotationdefaults": {
           "arrowcolor": "#2a3f5f",
           "arrowhead": 0,
           "arrowwidth": 1
          },
          "autotypenumbers": "strict",
          "coloraxis": {
           "colorbar": {
            "outlinewidth": 0,
            "ticks": ""
           }
          },
          "colorscale": {
           "diverging": [
            [
             0,
             "#8e0152"
            ],
            [
             0.1,
             "#c51b7d"
            ],
            [
             0.2,
             "#de77ae"
            ],
            [
             0.3,
             "#f1b6da"
            ],
            [
             0.4,
             "#fde0ef"
            ],
            [
             0.5,
             "#f7f7f7"
            ],
            [
             0.6,
             "#e6f5d0"
            ],
            [
             0.7,
             "#b8e186"
            ],
            [
             0.8,
             "#7fbc41"
            ],
            [
             0.9,
             "#4d9221"
            ],
            [
             1,
             "#276419"
            ]
           ],
           "sequential": [
            [
             0,
             "#0d0887"
            ],
            [
             0.1111111111111111,
             "#46039f"
            ],
            [
             0.2222222222222222,
             "#7201a8"
            ],
            [
             0.3333333333333333,
             "#9c179e"
            ],
            [
             0.4444444444444444,
             "#bd3786"
            ],
            [
             0.5555555555555556,
             "#d8576b"
            ],
            [
             0.6666666666666666,
             "#ed7953"
            ],
            [
             0.7777777777777778,
             "#fb9f3a"
            ],
            [
             0.8888888888888888,
             "#fdca26"
            ],
            [
             1,
             "#f0f921"
            ]
           ],
           "sequentialminus": [
            [
             0,
             "#0d0887"
            ],
            [
             0.1111111111111111,
             "#46039f"
            ],
            [
             0.2222222222222222,
             "#7201a8"
            ],
            [
             0.3333333333333333,
             "#9c179e"
            ],
            [
             0.4444444444444444,
             "#bd3786"
            ],
            [
             0.5555555555555556,
             "#d8576b"
            ],
            [
             0.6666666666666666,
             "#ed7953"
            ],
            [
             0.7777777777777778,
             "#fb9f3a"
            ],
            [
             0.8888888888888888,
             "#fdca26"
            ],
            [
             1,
             "#f0f921"
            ]
           ]
          },
          "colorway": [
           "#636efa",
           "#EF553B",
           "#00cc96",
           "#ab63fa",
           "#FFA15A",
           "#19d3f3",
           "#FF6692",
           "#B6E880",
           "#FF97FF",
           "#FECB52"
          ],
          "font": {
           "color": "#2a3f5f"
          },
          "geo": {
           "bgcolor": "white",
           "lakecolor": "white",
           "landcolor": "#E5ECF6",
           "showlakes": true,
           "showland": true,
           "subunitcolor": "white"
          },
          "hoverlabel": {
           "align": "left"
          },
          "hovermode": "closest",
          "mapbox": {
           "style": "light"
          },
          "paper_bgcolor": "white",
          "plot_bgcolor": "#E5ECF6",
          "polar": {
           "angularaxis": {
            "gridcolor": "white",
            "linecolor": "white",
            "ticks": ""
           },
           "bgcolor": "#E5ECF6",
           "radialaxis": {
            "gridcolor": "white",
            "linecolor": "white",
            "ticks": ""
           }
          },
          "scene": {
           "xaxis": {
            "backgroundcolor": "#E5ECF6",
            "gridcolor": "white",
            "gridwidth": 2,
            "linecolor": "white",
            "showbackground": true,
            "ticks": "",
            "zerolinecolor": "white"
           },
           "yaxis": {
            "backgroundcolor": "#E5ECF6",
            "gridcolor": "white",
            "gridwidth": 2,
            "linecolor": "white",
            "showbackground": true,
            "ticks": "",
            "zerolinecolor": "white"
           },
           "zaxis": {
            "backgroundcolor": "#E5ECF6",
            "gridcolor": "white",
            "gridwidth": 2,
            "linecolor": "white",
            "showbackground": true,
            "ticks": "",
            "zerolinecolor": "white"
           }
          },
          "shapedefaults": {
           "line": {
            "color": "#2a3f5f"
           }
          },
          "ternary": {
           "aaxis": {
            "gridcolor": "white",
            "linecolor": "white",
            "ticks": ""
           },
           "baxis": {
            "gridcolor": "white",
            "linecolor": "white",
            "ticks": ""
           },
           "bgcolor": "#E5ECF6",
           "caxis": {
            "gridcolor": "white",
            "linecolor": "white",
            "ticks": ""
           }
          },
          "title": {
           "x": 0.05
          },
          "xaxis": {
           "automargin": true,
           "gridcolor": "white",
           "linecolor": "white",
           "ticks": "",
           "title": {
            "standoff": 15
           },
           "zerolinecolor": "white",
           "zerolinewidth": 2
          },
          "yaxis": {
           "automargin": true,
           "gridcolor": "white",
           "linecolor": "white",
           "ticks": "",
           "title": {
            "standoff": 15
           },
           "zerolinecolor": "white",
           "zerolinewidth": 2
          }
         }
        },
        "title": {
         "text": "Population Pyramid of Croatia in Year 2001"
        },
        "xaxis": {
         "title": {
          "text": "Population"
         }
        },
        "yaxis": {
         "title": {
          "text": "Age ranges (years)"
         }
        }
       }
      },
      "text/html": [
       "<div>                            <div id=\"1f3a3656-472a-4fc8-ab26-fa08c85d48d3\" class=\"plotly-graph-div\" style=\"height:525px; width:100%;\"></div>            <script type=\"text/javascript\">                require([\"plotly\"], function(Plotly) {                    window.PLOTLYENV=window.PLOTLYENV || {};                                    if (document.getElementById(\"1f3a3656-472a-4fc8-ab26-fa08c85d48d3\")) {                    Plotly.newPlot(                        \"1f3a3656-472a-4fc8-ab26-fa08c85d48d3\",                        [{\"name\":\"Male\",\"orientation\":\"h\",\"x\":[118513.0,121795.0,129972.0,142902.0,146256.0,140288.0,142916.0,153938.0,164319.0,165416.0,141586.0,109726.0,122390.0,111035.0,80833.0,72129.0],\"y\":[\"<5\",\"5-9\",\"10-14\",\"15-19\",\"20-24\",\"25-29\",\"30-34\",\"35-39\",\"40-44\",\"45-49\",\"50-54\",\"55-59\",\"60-64\",\"65-69\",\"70-74\",\"75<\"],\"type\":\"bar\"},{\"name\":\"Female\",\"orientation\":\"h\",\"x\":[112567.0,116157.0,124471.0,136343.0,139561.0,137525.0,142872.0,154870.0,164073.0,160531.0,148056.0,122710.0,143283.0,143770.0,121109.0,163369.0],\"y\":[\"<5\",\"5-9\",\"10-14\",\"15-19\",\"20-24\",\"25-29\",\"30-34\",\"35-39\",\"40-44\",\"45-49\",\"50-54\",\"55-59\",\"60-64\",\"65-69\",\"70-74\",\"75<\"],\"type\":\"bar\"}],                        {\"barmode\":\"group\",\"title\":{\"text\":\"Population Pyramid of Croatia in Year 2001\"},\"xaxis\":{\"title\":{\"text\":\"Population\"}},\"yaxis\":{\"title\":{\"text\":\"Age ranges (years)\"}},\"template\":{\"data\":{\"bar\":[{\"error_x\":{\"color\":\"#2a3f5f\"},\"error_y\":{\"color\":\"#2a3f5f\"},\"marker\":{\"line\":{\"color\":\"#E5ECF6\",\"width\":0.5},\"pattern\":{\"fillmode\":\"overlay\",\"size\":10,\"solidity\":0.2}},\"type\":\"bar\"}],\"barpolar\":[{\"marker\":{\"line\":{\"color\":\"#E5ECF6\",\"width\":0.5},\"pattern\":{\"fillmode\":\"overlay\",\"size\":10,\"solidity\":0.2}},\"type\":\"barpolar\"}],\"carpet\":[{\"aaxis\":{\"endlinecolor\":\"#2a3f5f\",\"gridcolor\":\"white\",\"linecolor\":\"white\",\"minorgridcolor\":\"white\",\"startlinecolor\":\"#2a3f5f\"},\"baxis\":{\"endlinecolor\":\"#2a3f5f\",\"gridcolor\":\"white\",\"linecolor\":\"white\",\"minorgridcolor\":\"white\",\"startlinecolor\":\"#2a3f5f\"},\"type\":\"carpet\"}],\"choropleth\":[{\"colorbar\":{\"outlinewidth\":0,\"ticks\":\"\"},\"type\":\"choropleth\"}],\"contour\":[{\"colorbar\":{\"outlinewidth\":0,\"ticks\":\"\"},\"colorscale\":[[0.0,\"#0d0887\"],[0.1111111111111111,\"#46039f\"],[0.2222222222222222,\"#7201a8\"],[0.3333333333333333,\"#9c179e\"],[0.4444444444444444,\"#bd3786\"],[0.5555555555555556,\"#d8576b\"],[0.6666666666666666,\"#ed7953\"],[0.7777777777777778,\"#fb9f3a\"],[0.8888888888888888,\"#fdca26\"],[1.0,\"#f0f921\"]],\"type\":\"contour\"}],\"contourcarpet\":[{\"colorbar\":{\"outlinewidth\":0,\"ticks\":\"\"},\"type\":\"contourcarpet\"}],\"heatmap\":[{\"colorbar\":{\"outlinewidth\":0,\"ticks\":\"\"},\"colorscale\":[[0.0,\"#0d0887\"],[0.1111111111111111,\"#46039f\"],[0.2222222222222222,\"#7201a8\"],[0.3333333333333333,\"#9c179e\"],[0.4444444444444444,\"#bd3786\"],[0.5555555555555556,\"#d8576b\"],[0.6666666666666666,\"#ed7953\"],[0.7777777777777778,\"#fb9f3a\"],[0.8888888888888888,\"#fdca26\"],[1.0,\"#f0f921\"]],\"type\":\"heatmap\"}],\"heatmapgl\":[{\"colorbar\":{\"outlinewidth\":0,\"ticks\":\"\"},\"colorscale\":[[0.0,\"#0d0887\"],[0.1111111111111111,\"#46039f\"],[0.2222222222222222,\"#7201a8\"],[0.3333333333333333,\"#9c179e\"],[0.4444444444444444,\"#bd3786\"],[0.5555555555555556,\"#d8576b\"],[0.6666666666666666,\"#ed7953\"],[0.7777777777777778,\"#fb9f3a\"],[0.8888888888888888,\"#fdca26\"],[1.0,\"#f0f921\"]],\"type\":\"heatmapgl\"}],\"histogram\":[{\"marker\":{\"pattern\":{\"fillmode\":\"overlay\",\"size\":10,\"solidity\":0.2}},\"type\":\"histogram\"}],\"histogram2d\":[{\"colorbar\":{\"outlinewidth\":0,\"ticks\":\"\"},\"colorscale\":[[0.0,\"#0d0887\"],[0.1111111111111111,\"#46039f\"],[0.2222222222222222,\"#7201a8\"],[0.3333333333333333,\"#9c179e\"],[0.4444444444444444,\"#bd3786\"],[0.5555555555555556,\"#d8576b\"],[0.6666666666666666,\"#ed7953\"],[0.7777777777777778,\"#fb9f3a\"],[0.8888888888888888,\"#fdca26\"],[1.0,\"#f0f921\"]],\"type\":\"histogram2d\"}],\"histogram2dcontour\":[{\"colorbar\":{\"outlinewidth\":0,\"ticks\":\"\"},\"colorscale\":[[0.0,\"#0d0887\"],[0.1111111111111111,\"#46039f\"],[0.2222222222222222,\"#7201a8\"],[0.3333333333333333,\"#9c179e\"],[0.4444444444444444,\"#bd3786\"],[0.5555555555555556,\"#d8576b\"],[0.6666666666666666,\"#ed7953\"],[0.7777777777777778,\"#fb9f3a\"],[0.8888888888888888,\"#fdca26\"],[1.0,\"#f0f921\"]],\"type\":\"histogram2dcontour\"}],\"mesh3d\":[{\"colorbar\":{\"outlinewidth\":0,\"ticks\":\"\"},\"type\":\"mesh3d\"}],\"parcoords\":[{\"line\":{\"colorbar\":{\"outlinewidth\":0,\"ticks\":\"\"}},\"type\":\"parcoords\"}],\"pie\":[{\"automargin\":true,\"type\":\"pie\"}],\"scatter\":[{\"marker\":{\"colorbar\":{\"outlinewidth\":0,\"ticks\":\"\"}},\"type\":\"scatter\"}],\"scatter3d\":[{\"line\":{\"colorbar\":{\"outlinewidth\":0,\"ticks\":\"\"}},\"marker\":{\"colorbar\":{\"outlinewidth\":0,\"ticks\":\"\"}},\"type\":\"scatter3d\"}],\"scattercarpet\":[{\"marker\":{\"colorbar\":{\"outlinewidth\":0,\"ticks\":\"\"}},\"type\":\"scattercarpet\"}],\"scattergeo\":[{\"marker\":{\"colorbar\":{\"outlinewidth\":0,\"ticks\":\"\"}},\"type\":\"scattergeo\"}],\"scattergl\":[{\"marker\":{\"colorbar\":{\"outlinewidth\":0,\"ticks\":\"\"}},\"type\":\"scattergl\"}],\"scattermapbox\":[{\"marker\":{\"colorbar\":{\"outlinewidth\":0,\"ticks\":\"\"}},\"type\":\"scattermapbox\"}],\"scatterpolar\":[{\"marker\":{\"colorbar\":{\"outlinewidth\":0,\"ticks\":\"\"}},\"type\":\"scatterpolar\"}],\"scatterpolargl\":[{\"marker\":{\"colorbar\":{\"outlinewidth\":0,\"ticks\":\"\"}},\"type\":\"scatterpolargl\"}],\"scatterternary\":[{\"marker\":{\"colorbar\":{\"outlinewidth\":0,\"ticks\":\"\"}},\"type\":\"scatterternary\"}],\"surface\":[{\"colorbar\":{\"outlinewidth\":0,\"ticks\":\"\"},\"colorscale\":[[0.0,\"#0d0887\"],[0.1111111111111111,\"#46039f\"],[0.2222222222222222,\"#7201a8\"],[0.3333333333333333,\"#9c179e\"],[0.4444444444444444,\"#bd3786\"],[0.5555555555555556,\"#d8576b\"],[0.6666666666666666,\"#ed7953\"],[0.7777777777777778,\"#fb9f3a\"],[0.8888888888888888,\"#fdca26\"],[1.0,\"#f0f921\"]],\"type\":\"surface\"}],\"table\":[{\"cells\":{\"fill\":{\"color\":\"#EBF0F8\"},\"line\":{\"color\":\"white\"}},\"header\":{\"fill\":{\"color\":\"#C8D4E3\"},\"line\":{\"color\":\"white\"}},\"type\":\"table\"}]},\"layout\":{\"annotationdefaults\":{\"arrowcolor\":\"#2a3f5f\",\"arrowhead\":0,\"arrowwidth\":1},\"autotypenumbers\":\"strict\",\"coloraxis\":{\"colorbar\":{\"outlinewidth\":0,\"ticks\":\"\"}},\"colorscale\":{\"diverging\":[[0,\"#8e0152\"],[0.1,\"#c51b7d\"],[0.2,\"#de77ae\"],[0.3,\"#f1b6da\"],[0.4,\"#fde0ef\"],[0.5,\"#f7f7f7\"],[0.6,\"#e6f5d0\"],[0.7,\"#b8e186\"],[0.8,\"#7fbc41\"],[0.9,\"#4d9221\"],[1,\"#276419\"]],\"sequential\":[[0.0,\"#0d0887\"],[0.1111111111111111,\"#46039f\"],[0.2222222222222222,\"#7201a8\"],[0.3333333333333333,\"#9c179e\"],[0.4444444444444444,\"#bd3786\"],[0.5555555555555556,\"#d8576b\"],[0.6666666666666666,\"#ed7953\"],[0.7777777777777778,\"#fb9f3a\"],[0.8888888888888888,\"#fdca26\"],[1.0,\"#f0f921\"]],\"sequentialminus\":[[0.0,\"#0d0887\"],[0.1111111111111111,\"#46039f\"],[0.2222222222222222,\"#7201a8\"],[0.3333333333333333,\"#9c179e\"],[0.4444444444444444,\"#bd3786\"],[0.5555555555555556,\"#d8576b\"],[0.6666666666666666,\"#ed7953\"],[0.7777777777777778,\"#fb9f3a\"],[0.8888888888888888,\"#fdca26\"],[1.0,\"#f0f921\"]]},\"colorway\":[\"#636efa\",\"#EF553B\",\"#00cc96\",\"#ab63fa\",\"#FFA15A\",\"#19d3f3\",\"#FF6692\",\"#B6E880\",\"#FF97FF\",\"#FECB52\"],\"font\":{\"color\":\"#2a3f5f\"},\"geo\":{\"bgcolor\":\"white\",\"lakecolor\":\"white\",\"landcolor\":\"#E5ECF6\",\"showlakes\":true,\"showland\":true,\"subunitcolor\":\"white\"},\"hoverlabel\":{\"align\":\"left\"},\"hovermode\":\"closest\",\"mapbox\":{\"style\":\"light\"},\"paper_bgcolor\":\"white\",\"plot_bgcolor\":\"#E5ECF6\",\"polar\":{\"angularaxis\":{\"gridcolor\":\"white\",\"linecolor\":\"white\",\"ticks\":\"\"},\"bgcolor\":\"#E5ECF6\",\"radialaxis\":{\"gridcolor\":\"white\",\"linecolor\":\"white\",\"ticks\":\"\"}},\"scene\":{\"xaxis\":{\"backgroundcolor\":\"#E5ECF6\",\"gridcolor\":\"white\",\"gridwidth\":2,\"linecolor\":\"white\",\"showbackground\":true,\"ticks\":\"\",\"zerolinecolor\":\"white\"},\"yaxis\":{\"backgroundcolor\":\"#E5ECF6\",\"gridcolor\":\"white\",\"gridwidth\":2,\"linecolor\":\"white\",\"showbackground\":true,\"ticks\":\"\",\"zerolinecolor\":\"white\"},\"zaxis\":{\"backgroundcolor\":\"#E5ECF6\",\"gridcolor\":\"white\",\"gridwidth\":2,\"linecolor\":\"white\",\"showbackground\":true,\"ticks\":\"\",\"zerolinecolor\":\"white\"}},\"shapedefaults\":{\"line\":{\"color\":\"#2a3f5f\"}},\"ternary\":{\"aaxis\":{\"gridcolor\":\"white\",\"linecolor\":\"white\",\"ticks\":\"\"},\"baxis\":{\"gridcolor\":\"white\",\"linecolor\":\"white\",\"ticks\":\"\"},\"bgcolor\":\"#E5ECF6\",\"caxis\":{\"gridcolor\":\"white\",\"linecolor\":\"white\",\"ticks\":\"\"}},\"title\":{\"x\":0.05},\"xaxis\":{\"automargin\":true,\"gridcolor\":\"white\",\"linecolor\":\"white\",\"ticks\":\"\",\"title\":{\"standoff\":15},\"zerolinecolor\":\"white\",\"zerolinewidth\":2},\"yaxis\":{\"automargin\":true,\"gridcolor\":\"white\",\"linecolor\":\"white\",\"ticks\":\"\",\"title\":{\"standoff\":15},\"zerolinecolor\":\"white\",\"zerolinewidth\":2}}}},                        {\"responsive\": true}                    ).then(function(){\n",
       "                            \n",
       "var gd = document.getElementById('1f3a3656-472a-4fc8-ab26-fa08c85d48d3');\n",
       "var x = new MutationObserver(function (mutations, observer) {{\n",
       "        var display = window.getComputedStyle(gd).display;\n",
       "        if (!display || display === 'none') {{\n",
       "            console.log([gd, 'removed!']);\n",
       "            Plotly.purge(gd);\n",
       "            observer.disconnect();\n",
       "        }}\n",
       "}});\n",
       "\n",
       "// Listen for the removal of the full notebook cells\n",
       "var notebookContainer = gd.closest('#notebook-container');\n",
       "if (notebookContainer) {{\n",
       "    x.observe(notebookContainer, {childList: true});\n",
       "}}\n",
       "\n",
       "// Listen for the clearing of the current output cell\n",
       "var outputEl = gd.closest('.output');\n",
       "if (outputEl) {{\n",
       "    x.observe(outputEl, {childList: true});\n",
       "}}\n",
       "\n",
       "                        })                };                });            </script>        </div>"
      ]
     },
     "metadata": {},
     "output_type": "display_data"
    }
   ],
   "source": [
    "trace_male = go.Bar(x=df_male_anno.values[1:], y=df_male_anno.index[1:],\n",
    "                    orientation=\"h\", name=\"Male\")\n",
    "\n",
    "trace_female = go.Bar(x=df_fem_anno.values[1:], y=df_fem_anno.index[1:],\n",
    "                      orientation=\"h\", name=\"Female\")\n",
    "\n",
    "layout = go.Layout(title=f\"Population Pyramid of {country} in Year {year}\", \n",
    "                   xaxis=dict(title=\"Population\"),\n",
    "                   yaxis=dict(title=\"Age ranges (years)\"),\n",
    "                   barmode=\"group\")\n",
    "\n",
    "fig = go.Figure(data=[trace_male, trace_female], layout=layout)\n",
    "fig.show()"
   ]
  },
  {
   "cell_type": "code",
   "execution_count": 257,
   "id": "7133ecf9",
   "metadata": {},
   "outputs": [
    {
     "data": {
      "text/plain": [
       "1982"
      ]
     },
     "execution_count": 257,
     "metadata": {},
     "output_type": "execute_result"
    }
   ],
   "source": [
    "df_country = df.loc[(country, slice(None), slice(None))]\n",
    "df_country.index[1][1]"
   ]
  },
  {
   "cell_type": "code",
   "execution_count": null,
   "id": "c7afa15a",
   "metadata": {},
   "outputs": [],
   "source": [
    "countries = set(df.index.get_level_values(0))\n",
    "print(f\"Number of countries: { len(countries) }\")"
   ]
  },
  {
   "cell_type": "code",
   "execution_count": null,
   "id": "084313c5",
   "metadata": {},
   "outputs": [],
   "source": [
    "geo_pops_annual = df.loc[('Andorra', 'Male', 1999)]\n",
    "print(geo_pops_annual)\n",
    "\n",
    "total = []\n",
    "for index, value in geo_pops_annual[1:].items():\n",
    "    if index != 'TOTAL':\n",
    "        #print(index, value)\n",
    "        total.append(value)\n",
    "print(sum(total))\n",
    "        "
   ]
  },
  {
   "cell_type": "code",
   "execution_count": null,
   "id": "ed046f16",
   "metadata": {},
   "outputs": [],
   "source": [
    "# Libraries needed for interactive dashboards\n",
    "import plotly.express as px\n",
    "import dash\n",
    "from dash import dcc, html\n",
    "from dash.dependencies import Input, Output\n",
    "print(\"Libraries imported!\")"
   ]
  }
 ],
 "metadata": {
  "kernelspec": {
   "display_name": "Python 3 (ipykernel)",
   "language": "python",
   "name": "python3"
  },
  "language_info": {
   "codemirror_mode": {
    "name": "ipython",
    "version": 3
   },
   "file_extension": ".py",
   "mimetype": "text/x-python",
   "name": "python",
   "nbconvert_exporter": "python",
   "pygments_lexer": "ipython3",
   "version": "3.11.2"
  }
 },
 "nbformat": 4,
 "nbformat_minor": 5
}
