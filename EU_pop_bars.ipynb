{
 "cells": [
  {
   "cell_type": "code",
   "execution_count": 1,
   "id": "25c8f629",
   "metadata": {},
   "outputs": [
    {
     "name": "stdout",
     "output_type": "stream",
     "text": [
      "Done!\n"
     ]
    }
   ],
   "source": [
    "import pandas as pd\n",
    "import plotly.express as px\n",
    "print(\"Done!\")"
   ]
  },
  {
   "cell_type": "code",
   "execution_count": 2,
   "id": "e89578fe",
   "metadata": {},
   "outputs": [],
   "source": [
    "# Un-comment this line if using online version of the document\n",
    "#df = pd.read_csv('https://raw.githubusercontent.com/yorkin0611/world_population/main/euro_pops_long.csv')\n",
    "\n",
    "# Un-comment this line if using local version of the document\n",
    "df = pd.read_json('euro_pops_long.json').dropna(axis=\"index\")"
   ]
  },
  {
   "cell_type": "markdown",
   "id": "85648678",
   "metadata": {},
   "source": [
    "Type in full name of one the following countries:\n",
    "```\n",
    "Belgium, Bulgaria, Czechia, Denmark, Germany, Germany with ex-GDR,\n",
    "Estonia, Ireland, Greece, Spain, France, Metropolitan France, Croatia,\n",
    "Italy, Cyprus, Latvia, Lithuania, Luxembourg, Hungary, Malta, Netherlands,\n",
    "Austria, Poland, Portugal, Romania, Slovenia, Slovakia, Finland, Sweden,\n",
    "Iceland, Liechtenstein, Norway, Switzerland, United Kingdom, Bosnia and Herzegovina,\n",
    "Montenegro, Moldova, North Macedonia, Albania, Serbia, Turkey, Ukraine, Kosovo,\n",
    "Georgia, Andorra, Belarus, Monaco, Russia, San Marino, Armenia, Azerbaijan\n",
    "```"
   ]
  },
  {
   "cell_type": "code",
   "execution_count": 5,
   "id": "3f71d08c",
   "metadata": {},
   "outputs": [
    {
     "name": "stdout",
     "output_type": "stream",
     "text": [
      "Type country name: United Kingdom\n"
     ]
    }
   ],
   "source": [
    "country = input(\"Type country name: \")"
   ]
  },
  {
   "cell_type": "code",
   "execution_count": 6,
   "id": "8ef4c079",
   "metadata": {},
   "outputs": [
    {
     "data": {
      "application/vnd.plotly.v1+json": {
       "config": {
        "plotlyServerURL": "https://plot.ly"
       },
       "data": [
        {
         "alignmentgroup": "True",
         "hovertemplate": "Sex=Female<br>Year=1960<br>Population=%{x}<br>Age range (years)=%{y}<extra></extra>",
         "legendgroup": "Female",
         "marker": {
          "color": "#636efa",
          "pattern": {
           "shape": ""
          }
         },
         "name": "Female",
         "offsetgroup": "Female",
         "orientation": "h",
         "showlegend": true,
         "textposition": "auto",
         "type": "bar",
         "x": [
          2000000,
          1900000,
          2100000,
          1700000,
          1700000,
          1600000,
          1700000,
          1900000,
          1700000,
          1900000,
          1900000,
          1700000,
          1500000,
          1300000,
          1000000
         ],
         "xaxis": "x",
         "y": [
          "<5",
          "5-9",
          "10-14",
          "15-19",
          "20-24",
          "25-29",
          "30-34",
          "35-39",
          "40-44",
          "45-49",
          "50-54",
          "55-59",
          "60-64",
          "65-69",
          "70-74"
         ],
         "yaxis": "y"
        },
        {
         "alignmentgroup": "True",
         "hovertemplate": "Sex=Male<br>Year=1960<br>Population=%{x}<br>Age range (years)=%{y}<extra></extra>",
         "legendgroup": "Male",
         "marker": {
          "color": "#EF553B",
          "pattern": {
           "shape": ""
          }
         },
         "name": "Male",
         "offsetgroup": "Male",
         "orientation": "h",
         "showlegend": true,
         "textposition": "auto",
         "type": "bar",
         "x": [
          2100000,
          2000000,
          2200000,
          1800000,
          1600000,
          1600000,
          1700000,
          1900000,
          1600000,
          1800000,
          1800000,
          1600000,
          1200000,
          900000,
          700000
         ],
         "xaxis": "x",
         "y": [
          "<5",
          "5-9",
          "10-14",
          "15-19",
          "20-24",
          "25-29",
          "30-34",
          "35-39",
          "40-44",
          "45-49",
          "50-54",
          "55-59",
          "60-64",
          "65-69",
          "70-74"
         ],
         "yaxis": "y"
        }
       ],
       "frames": [
        {
         "data": [
          {
           "alignmentgroup": "True",
           "hovertemplate": "Sex=Female<br>Year=1960<br>Population=%{x}<br>Age range (years)=%{y}<extra></extra>",
           "legendgroup": "Female",
           "marker": {
            "color": "#636efa",
            "pattern": {
             "shape": ""
            }
           },
           "name": "Female",
           "offsetgroup": "Female",
           "orientation": "h",
           "showlegend": true,
           "textposition": "auto",
           "type": "bar",
           "x": [
            2000000,
            1900000,
            2100000,
            1700000,
            1700000,
            1600000,
            1700000,
            1900000,
            1700000,
            1900000,
            1900000,
            1700000,
            1500000,
            1300000,
            1000000
           ],
           "xaxis": "x",
           "y": [
            "<5",
            "5-9",
            "10-14",
            "15-19",
            "20-24",
            "25-29",
            "30-34",
            "35-39",
            "40-44",
            "45-49",
            "50-54",
            "55-59",
            "60-64",
            "65-69",
            "70-74"
           ],
           "yaxis": "y"
          },
          {
           "alignmentgroup": "True",
           "hovertemplate": "Sex=Male<br>Year=1960<br>Population=%{x}<br>Age range (years)=%{y}<extra></extra>",
           "legendgroup": "Male",
           "marker": {
            "color": "#EF553B",
            "pattern": {
             "shape": ""
            }
           },
           "name": "Male",
           "offsetgroup": "Male",
           "orientation": "h",
           "showlegend": true,
           "textposition": "auto",
           "type": "bar",
           "x": [
            2100000,
            2000000,
            2200000,
            1800000,
            1600000,
            1600000,
            1700000,
            1900000,
            1600000,
            1800000,
            1800000,
            1600000,
            1200000,
            900000,
            700000
           ],
           "xaxis": "x",
           "y": [
            "<5",
            "5-9",
            "10-14",
            "15-19",
            "20-24",
            "25-29",
            "30-34",
            "35-39",
            "40-44",
            "45-49",
            "50-54",
            "55-59",
            "60-64",
            "65-69",
            "70-74"
           ],
           "yaxis": "y"
          }
         ],
         "name": "1960"
        },
        {
         "data": [
          {
           "alignmentgroup": "True",
           "hovertemplate": "Sex=Female<br>Year=1961<br>Population=%{x}<br>Age range (years)=%{y}<extra></extra>",
           "legendgroup": "Female",
           "marker": {
            "color": "#636efa",
            "pattern": {
             "shape": ""
            }
           },
           "name": "Female",
           "offsetgroup": "Female",
           "orientation": "h",
           "showlegend": true,
           "textposition": "auto",
           "type": "bar",
           "x": [
            2100000,
            1900000,
            2100000,
            1800000,
            1700000,
            1600000,
            1700000,
            1900000,
            1700000,
            1900000,
            1900000,
            1700000,
            1500000,
            1300000,
            1100000
           ],
           "xaxis": "x",
           "y": [
            "<5",
            "5-9",
            "10-14",
            "15-19",
            "20-24",
            "25-29",
            "30-34",
            "35-39",
            "40-44",
            "45-49",
            "50-54",
            "55-59",
            "60-64",
            "65-69",
            "70-74"
           ],
           "yaxis": "y"
          },
          {
           "alignmentgroup": "True",
           "hovertemplate": "Sex=Male<br>Year=1961<br>Population=%{x}<br>Age range (years)=%{y}<extra></extra>",
           "legendgroup": "Male",
           "marker": {
            "color": "#EF553B",
            "pattern": {
             "shape": ""
            }
           },
           "name": "Male",
           "offsetgroup": "Male",
           "orientation": "h",
           "showlegend": true,
           "textposition": "auto",
           "type": "bar",
           "x": [
            2200000,
            2000000,
            2200000,
            1900000,
            1600000,
            1600000,
            1700000,
            1800000,
            1700000,
            1800000,
            1800000,
            1600000,
            1200000,
            900000,
            700000
           ],
           "xaxis": "x",
           "y": [
            "<5",
            "5-9",
            "10-14",
            "15-19",
            "20-24",
            "25-29",
            "30-34",
            "35-39",
            "40-44",
            "45-49",
            "50-54",
            "55-59",
            "60-64",
            "65-69",
            "70-74"
           ],
           "yaxis": "y"
          }
         ],
         "name": "1961"
        },
        {
         "data": [
          {
           "alignmentgroup": "True",
           "hovertemplate": "Sex=Female<br>Year=1962<br>Population=%{x}<br>Age range (years)=%{y}<extra></extra>",
           "legendgroup": "Female",
           "marker": {
            "color": "#636efa",
            "pattern": {
             "shape": ""
            }
           },
           "name": "Female",
           "offsetgroup": "Female",
           "orientation": "h",
           "showlegend": true,
           "textposition": "auto",
           "type": "bar",
           "x": [
            2100000,
            1900000,
            2000000,
            1900000,
            1700000,
            1600000,
            1700000,
            1800000,
            1800000,
            1800000,
            1900000,
            1700000,
            1500000,
            1300000,
            1100000
           ],
           "xaxis": "x",
           "y": [
            "<5",
            "5-9",
            "10-14",
            "15-19",
            "20-24",
            "25-29",
            "30-34",
            "35-39",
            "40-44",
            "45-49",
            "50-54",
            "55-59",
            "60-64",
            "65-69",
            "70-74"
           ],
           "yaxis": "y"
          },
          {
           "alignmentgroup": "True",
           "hovertemplate": "Sex=Male<br>Year=1962<br>Population=%{x}<br>Age range (years)=%{y}<extra></extra>",
           "legendgroup": "Male",
           "marker": {
            "color": "#EF553B",
            "pattern": {
             "shape": ""
            }
           },
           "name": "Male",
           "offsetgroup": "Male",
           "orientation": "h",
           "showlegend": true,
           "textposition": "auto",
           "type": "bar",
           "x": [
            2200000,
            2000000,
            2100000,
            2000000,
            1700000,
            1700000,
            1700000,
            1800000,
            1800000,
            1800000,
            1800000,
            1600000,
            1300000,
            900000,
            700000
           ],
           "xaxis": "x",
           "y": [
            "<5",
            "5-9",
            "10-14",
            "15-19",
            "20-24",
            "25-29",
            "30-34",
            "35-39",
            "40-44",
            "45-49",
            "50-54",
            "55-59",
            "60-64",
            "65-69",
            "70-74"
           ],
           "yaxis": "y"
          }
         ],
         "name": "1962"
        },
        {
         "data": [
          {
           "alignmentgroup": "True",
           "hovertemplate": "Sex=Female<br>Year=1963<br>Population=%{x}<br>Age range (years)=%{y}<extra></extra>",
           "legendgroup": "Female",
           "marker": {
            "color": "#636efa",
            "pattern": {
             "shape": ""
            }
           },
           "name": "Female",
           "offsetgroup": "Female",
           "orientation": "h",
           "showlegend": true,
           "textposition": "auto",
           "type": "bar",
           "x": [
            2200000,
            1900000,
            1900000,
            2000000,
            1700000,
            1600000,
            1700000,
            1800000,
            1900000,
            1800000,
            1900000,
            1800000,
            1600000,
            1300000,
            1100000
           ],
           "xaxis": "x",
           "y": [
            "<5",
            "5-9",
            "10-14",
            "15-19",
            "20-24",
            "25-29",
            "30-34",
            "35-39",
            "40-44",
            "45-49",
            "50-54",
            "55-59",
            "60-64",
            "65-69",
            "70-74"
           ],
           "yaxis": "y"
          },
          {
           "alignmentgroup": "True",
           "hovertemplate": "Sex=Male<br>Year=1963<br>Population=%{x}<br>Age range (years)=%{y}<extra></extra>",
           "legendgroup": "Male",
           "marker": {
            "color": "#EF553B",
            "pattern": {
             "shape": ""
            }
           },
           "name": "Male",
           "offsetgroup": "Male",
           "orientation": "h",
           "showlegend": true,
           "textposition": "auto",
           "type": "bar",
           "x": [
            2300000,
            2000000,
            2000000,
            2100000,
            1700000,
            1700000,
            1700000,
            1800000,
            1800000,
            1700000,
            1800000,
            1600000,
            1300000,
            900000,
            700000
           ],
           "xaxis": "x",
           "y": [
            "<5",
            "5-9",
            "10-14",
            "15-19",
            "20-24",
            "25-29",
            "30-34",
            "35-39",
            "40-44",
            "45-49",
            "50-54",
            "55-59",
            "60-64",
            "65-69",
            "70-74"
           ],
           "yaxis": "y"
          }
         ],
         "name": "1963"
        },
        {
         "data": [
          {
           "alignmentgroup": "True",
           "hovertemplate": "Sex=Female<br>Year=1964<br>Population=%{x}<br>Age range (years)=%{y}<extra></extra>",
           "legendgroup": "Female",
           "marker": {
            "color": "#636efa",
            "pattern": {
             "shape": ""
            }
           },
           "name": "Female",
           "offsetgroup": "Female",
           "orientation": "h",
           "showlegend": true,
           "textposition": "auto",
           "type": "bar",
           "x": [
            2200000,
            1900000,
            1900000,
            2100000,
            1700000,
            1600000,
            1600000,
            1700000,
            1900000,
            1700000,
            1900000,
            1800000,
            1600000,
            1400000,
            1100000
           ],
           "xaxis": "x",
           "y": [
            "<5",
            "5-9",
            "10-14",
            "15-19",
            "20-24",
            "25-29",
            "30-34",
            "35-39",
            "40-44",
            "45-49",
            "50-54",
            "55-59",
            "60-64",
            "65-69",
            "70-74"
           ],
           "yaxis": "y"
          },
          {
           "alignmentgroup": "True",
           "hovertemplate": "Sex=Male<br>Year=1964<br>Population=%{x}<br>Age range (years)=%{y}<extra></extra>",
           "legendgroup": "Male",
           "marker": {
            "color": "#EF553B",
            "pattern": {
             "shape": ""
            }
           },
           "name": "Male",
           "offsetgroup": "Male",
           "orientation": "h",
           "showlegend": true,
           "textposition": "auto",
           "type": "bar",
           "x": [
            2400000,
            2100000,
            2000000,
            2100000,
            1700000,
            1700000,
            1700000,
            1700000,
            1900000,
            1600000,
            1800000,
            1600000,
            1400000,
            1000000,
            700000
           ],
           "xaxis": "x",
           "y": [
            "<5",
            "5-9",
            "10-14",
            "15-19",
            "20-24",
            "25-29",
            "30-34",
            "35-39",
            "40-44",
            "45-49",
            "50-54",
            "55-59",
            "60-64",
            "65-69",
            "70-74"
           ],
           "yaxis": "y"
          }
         ],
         "name": "1964"
        },
        {
         "data": [
          {
           "alignmentgroup": "True",
           "hovertemplate": "Sex=Female<br>Year=1965<br>Population=%{x}<br>Age range (years)=%{y}<extra></extra>",
           "legendgroup": "Female",
           "marker": {
            "color": "#636efa",
            "pattern": {
             "shape": ""
            }
           },
           "name": "Female",
           "offsetgroup": "Female",
           "orientation": "h",
           "showlegend": true,
           "textposition": "auto",
           "type": "bar",
           "x": [
            2300000,
            2000000,
            1900000,
            2100000,
            1800000,
            1700000,
            1600000,
            1700000,
            1900000,
            1700000,
            1900000,
            1800000,
            1600000,
            1400000,
            1100000
           ],
           "xaxis": "x",
           "y": [
            "<5",
            "5-9",
            "10-14",
            "15-19",
            "20-24",
            "25-29",
            "30-34",
            "35-39",
            "40-44",
            "45-49",
            "50-54",
            "55-59",
            "60-64",
            "65-69",
            "70-74"
           ],
           "yaxis": "y"
          },
          {
           "alignmentgroup": "True",
           "hovertemplate": "Sex=Male<br>Year=1965<br>Population=%{x}<br>Age range (years)=%{y}<extra></extra>",
           "legendgroup": "Male",
           "marker": {
            "color": "#EF553B",
            "pattern": {
             "shape": ""
            }
           },
           "name": "Male",
           "offsetgroup": "Male",
           "orientation": "h",
           "showlegend": true,
           "textposition": "auto",
           "type": "bar",
           "x": [
            2400000,
            2100000,
            2000000,
            2200000,
            1800000,
            1700000,
            1700000,
            1700000,
            1900000,
            1600000,
            1800000,
            1700000,
            1400000,
            1000000,
            700000
           ],
           "xaxis": "x",
           "y": [
            "<5",
            "5-9",
            "10-14",
            "15-19",
            "20-24",
            "25-29",
            "30-34",
            "35-39",
            "40-44",
            "45-49",
            "50-54",
            "55-59",
            "60-64",
            "65-69",
            "70-74"
           ],
           "yaxis": "y"
          }
         ],
         "name": "1965"
        },
        {
         "data": [
          {
           "alignmentgroup": "True",
           "hovertemplate": "Sex=Female<br>Year=1966<br>Population=%{x}<br>Age range (years)=%{y}<extra></extra>",
           "legendgroup": "Female",
           "marker": {
            "color": "#636efa",
            "pattern": {
             "shape": ""
            }
           },
           "name": "Female",
           "offsetgroup": "Female",
           "orientation": "h",
           "showlegend": true,
           "textposition": "auto",
           "type": "bar",
           "x": [
            2329500,
            2031800,
            1858200,
            2080000,
            1819400,
            1666200,
            1607000,
            1697200,
            1847300,
            1707200,
            1833000,
            1803600,
            1651200,
            1403600,
            1118700
           ],
           "xaxis": "x",
           "y": [
            "<5",
            "5-9",
            "10-14",
            "15-19",
            "20-24",
            "25-29",
            "30-34",
            "35-39",
            "40-44",
            "45-49",
            "50-54",
            "55-59",
            "60-64",
            "65-69",
            "70-74"
           ],
           "yaxis": "y"
          },
          {
           "alignmentgroup": "True",
           "hovertemplate": "Sex=Male<br>Year=1966<br>Population=%{x}<br>Age range (years)=%{y}<extra></extra>",
           "legendgroup": "Male",
           "marker": {
            "color": "#EF553B",
            "pattern": {
             "shape": ""
            }
           },
           "name": "Male",
           "offsetgroup": "Male",
           "orientation": "h",
           "showlegend": true,
           "textposition": "auto",
           "type": "bar",
           "x": [
            2437900,
            2158600,
            1962700,
            2164000,
            1832500,
            1695600,
            1653300,
            1703200,
            1820400,
            1650500,
            1737500,
            1667400,
            1429500,
            1022400,
            704100
           ],
           "xaxis": "x",
           "y": [
            "<5",
            "5-9",
            "10-14",
            "15-19",
            "20-24",
            "25-29",
            "30-34",
            "35-39",
            "40-44",
            "45-49",
            "50-54",
            "55-59",
            "60-64",
            "65-69",
            "70-74"
           ],
           "yaxis": "y"
          }
         ],
         "name": "1966"
        },
        {
         "data": [
          {
           "alignmentgroup": "True",
           "hovertemplate": "Sex=Female<br>Year=1967<br>Population=%{x}<br>Age range (years)=%{y}<extra></extra>",
           "legendgroup": "Female",
           "marker": {
            "color": "#636efa",
            "pattern": {
             "shape": ""
            }
           },
           "name": "Female",
           "offsetgroup": "Female",
           "orientation": "h",
           "showlegend": true,
           "textposition": "auto",
           "type": "bar",
           "x": [
            2342800,
            2091400,
            1862900,
            2035000,
            1918400,
            1663900,
            1601100,
            1675500,
            1793900,
            1767000,
            1790200,
            1803500,
            1664500,
            1426700,
            1136500
           ],
           "xaxis": "x",
           "y": [
            "<5",
            "5-9",
            "10-14",
            "15-19",
            "20-24",
            "25-29",
            "30-34",
            "35-39",
            "40-44",
            "45-49",
            "50-54",
            "55-59",
            "60-64",
            "65-69",
            "70-74"
           ],
           "yaxis": "y"
          },
          {
           "alignmentgroup": "True",
           "hovertemplate": "Sex=Male<br>Year=1967<br>Population=%{x}<br>Age range (years)=%{y}<extra></extra>",
           "legendgroup": "Male",
           "marker": {
            "color": "#EF553B",
            "pattern": {
             "shape": ""
            }
           },
           "name": "Male",
           "offsetgroup": "Male",
           "orientation": "h",
           "showlegend": true,
           "textposition": "auto",
           "type": "bar",
           "x": [
            2452800,
            2211200,
            1975100,
            2107100,
            1940600,
            1695600,
            1655400,
            1691100,
            1773800,
            1712500,
            1691500,
            1666800,
            1444400,
            1061200,
            708800
           ],
           "xaxis": "x",
           "y": [
            "<5",
            "5-9",
            "10-14",
            "15-19",
            "20-24",
            "25-29",
            "30-34",
            "35-39",
            "40-44",
            "45-49",
            "50-54",
            "55-59",
            "60-64",
            "65-69",
            "70-74"
           ],
           "yaxis": "y"
          }
         ],
         "name": "1967"
        },
        {
         "data": [
          {
           "alignmentgroup": "True",
           "hovertemplate": "Sex=Female<br>Year=1968<br>Population=%{x}<br>Age range (years)=%{y}<extra></extra>",
           "legendgroup": "Female",
           "marker": {
            "color": "#636efa",
            "pattern": {
             "shape": ""
            }
           },
           "name": "Female",
           "offsetgroup": "Female",
           "orientation": "h",
           "showlegend": true,
           "textposition": "auto",
           "type": "bar",
           "x": [
            2343500,
            2154300,
            1887300,
            1954900,
            2022600,
            1675000,
            1603500,
            1654100,
            1752600,
            1832100,
            1718000,
            1799100,
            1681700,
            1453400,
            1153200
           ],
           "xaxis": "x",
           "y": [
            "<5",
            "5-9",
            "10-14",
            "15-19",
            "20-24",
            "25-29",
            "30-34",
            "35-39",
            "40-44",
            "45-49",
            "50-54",
            "55-59",
            "60-64",
            "65-69",
            "70-74"
           ],
           "yaxis": "y"
          },
          {
           "alignmentgroup": "True",
           "hovertemplate": "Sex=Male<br>Year=1968<br>Population=%{x}<br>Age range (years)=%{y}<extra></extra>",
           "legendgroup": "Male",
           "marker": {
            "color": "#EF553B",
            "pattern": {
             "shape": ""
            }
           },
           "name": "Male",
           "offsetgroup": "Male",
           "orientation": "h",
           "showlegend": true,
           "textposition": "auto",
           "type": "bar",
           "x": [
            2446600,
            2266100,
            2008700,
            2027600,
            2045500,
            1706700,
            1658300,
            1673800,
            1736900,
            1774300,
            1621900,
            1663100,
            1463700,
            1103500,
            716300
           ],
           "xaxis": "x",
           "y": [
            "<5",
            "5-9",
            "10-14",
            "15-19",
            "20-24",
            "25-29",
            "30-34",
            "35-39",
            "40-44",
            "45-49",
            "50-54",
            "55-59",
            "60-64",
            "65-69",
            "70-74"
           ],
           "yaxis": "y"
          }
         ],
         "name": "1968"
        },
        {
         "data": [
          {
           "alignmentgroup": "True",
           "hovertemplate": "Sex=Female<br>Year=1969<br>Population=%{x}<br>Age range (years)=%{y}<extra></extra>",
           "legendgroup": "Female",
           "marker": {
            "color": "#636efa",
            "pattern": {
             "shape": ""
            }
           },
           "name": "Female",
           "offsetgroup": "Female",
           "orientation": "h",
           "showlegend": true,
           "textposition": "auto",
           "type": "bar",
           "x": [
            2330000,
            2214000,
            1920300,
            1912000,
            2076000,
            1702100,
            1614000,
            1629100,
            1720700,
            1894500,
            1629800,
            1793800,
            1697100,
            1482900,
            1170400
           ],
           "xaxis": "x",
           "y": [
            "<5",
            "5-9",
            "10-14",
            "15-19",
            "20-24",
            "25-29",
            "30-34",
            "35-39",
            "40-44",
            "45-49",
            "50-54",
            "55-59",
            "60-64",
            "65-69",
            "70-74"
           ],
           "yaxis": "y"
          },
          {
           "alignmentgroup": "True",
           "hovertemplate": "Sex=Male<br>Year=1969<br>Population=%{x}<br>Age range (years)=%{y}<extra></extra>",
           "legendgroup": "Male",
           "marker": {
            "color": "#EF553B",
            "pattern": {
             "shape": ""
            }
           },
           "name": "Male",
           "offsetgroup": "Male",
           "orientation": "h",
           "showlegend": true,
           "textposition": "auto",
           "type": "bar",
           "x": [
            2422900,
            2320700,
            2050400,
            1987800,
            2098000,
            1733900,
            1667700,
            1649600,
            1708000,
            1836000,
            1538600,
            1658200,
            1481900,
            1143200,
            725600
           ],
           "xaxis": "x",
           "y": [
            "<5",
            "5-9",
            "10-14",
            "15-19",
            "20-24",
            "25-29",
            "30-34",
            "35-39",
            "40-44",
            "45-49",
            "50-54",
            "55-59",
            "60-64",
            "65-69",
            "70-74"
           ],
           "yaxis": "y"
          }
         ],
         "name": "1969"
        },
        {
         "data": [
          {
           "alignmentgroup": "True",
           "hovertemplate": "Sex=Female<br>Year=1970<br>Population=%{x}<br>Age range (years)=%{y}<extra></extra>",
           "legendgroup": "Female",
           "marker": {
            "color": "#636efa",
            "pattern": {
             "shape": ""
            }
           },
           "name": "Female",
           "offsetgroup": "Female",
           "orientation": "h",
           "showlegend": true,
           "textposition": "auto",
           "type": "bar",
           "x": [
            2291500,
            2266200,
            1962100,
            1890000,
            2102000,
            1736800,
            1624300,
            1602200,
            1696700,
            1884200,
            1611600,
            1786400,
            1707200,
            1504300,
            1193200
           ],
           "xaxis": "x",
           "y": [
            "<5",
            "5-9",
            "10-14",
            "15-19",
            "20-24",
            "25-29",
            "30-34",
            "35-39",
            "40-44",
            "45-49",
            "50-54",
            "55-59",
            "60-64",
            "65-69",
            "70-74"
           ],
           "yaxis": "y"
          },
          {
           "alignmentgroup": "True",
           "hovertemplate": "Sex=Male<br>Year=1970<br>Population=%{x}<br>Age range (years)=%{y}<extra></extra>",
           "legendgroup": "Male",
           "marker": {
            "color": "#EF553B",
            "pattern": {
             "shape": ""
            }
           },
           "name": "Male",
           "offsetgroup": "Male",
           "orientation": "h",
           "showlegend": true,
           "textposition": "auto",
           "type": "bar",
           "x": [
            2380500,
            2367200,
            2097300,
            1971300,
            2128800,
            1769900,
            1674100,
            1627600,
            1684400,
            1828500,
            1523400,
            1650800,
            1495400,
            1173700,
            744400
           ],
           "xaxis": "x",
           "y": [
            "<5",
            "5-9",
            "10-14",
            "15-19",
            "20-24",
            "25-29",
            "30-34",
            "35-39",
            "40-44",
            "45-49",
            "50-54",
            "55-59",
            "60-64",
            "65-69",
            "70-74"
           ],
           "yaxis": "y"
          }
         ],
         "name": "1970"
        },
        {
         "data": [
          {
           "alignmentgroup": "True",
           "hovertemplate": "Sex=Female<br>Year=1971<br>Population=%{x}<br>Age range (years)=%{y}<extra></extra>",
           "legendgroup": "Female",
           "marker": {
            "color": "#636efa",
            "pattern": {
             "shape": ""
            }
           },
           "name": "Female",
           "offsetgroup": "Female",
           "orientation": "h",
           "showlegend": true,
           "textposition": "auto",
           "type": "bar",
           "x": [
            2240500,
            2286500,
            2022200,
            1884900,
            2116700,
            1789300,
            1622400,
            1582100,
            1676700,
            1815300,
            1666200,
            1765500,
            1712600,
            1519400,
            1222200
           ],
           "xaxis": "x",
           "y": [
            "<5",
            "5-9",
            "10-14",
            "15-19",
            "20-24",
            "25-29",
            "30-34",
            "35-39",
            "40-44",
            "45-49",
            "50-54",
            "55-59",
            "60-64",
            "65-69",
            "70-74"
           ],
           "yaxis": "y"
          },
          {
           "alignmentgroup": "True",
           "hovertemplate": "Sex=Male<br>Year=1971<br>Population=%{x}<br>Age range (years)=%{y}<extra></extra>",
           "legendgroup": "Male",
           "marker": {
            "color": "#EF553B",
            "pattern": {
             "shape": ""
            }
           },
           "name": "Male",
           "offsetgroup": "Male",
           "orientation": "h",
           "showlegend": true,
           "textposition": "auto",
           "type": "bar",
           "x": [
            2344700,
            2393900,
            2149400,
            1970400,
            2151800,
            1825700,
            1670800,
            1615400,
            1666700,
            1769500,
            1577300,
            1630900,
            1503300,
            1197000,
            773200
           ],
           "xaxis": "x",
           "y": [
            "<5",
            "5-9",
            "10-14",
            "15-19",
            "20-24",
            "25-29",
            "30-34",
            "35-39",
            "40-44",
            "45-49",
            "50-54",
            "55-59",
            "60-64",
            "65-69",
            "70-74"
           ],
           "yaxis": "y"
          }
         ],
         "name": "1971"
        },
        {
         "data": [
          {
           "alignmentgroup": "True",
           "hovertemplate": "Sex=Female<br>Year=1972<br>Population=%{x}<br>Age range (years)=%{y}<extra></extra>",
           "legendgroup": "Female",
           "marker": {
            "color": "#636efa",
            "pattern": {
             "shape": ""
            }
           },
           "name": "Female",
           "offsetgroup": "Female",
           "orientation": "h",
           "showlegend": true,
           "textposition": "auto",
           "type": "bar",
           "x": [
            2189219,
            2288791,
            2086671,
            1895105,
            2067950,
            1895727,
            1618573,
            1574051,
            1656184,
            1761560,
            1726009,
            1725425,
            1712108,
            1534839,
            1247692
           ],
           "xaxis": "x",
           "y": [
            "<5",
            "5-9",
            "10-14",
            "15-19",
            "20-24",
            "25-29",
            "30-34",
            "35-39",
            "40-44",
            "45-49",
            "50-54",
            "55-59",
            "60-64",
            "65-69",
            "70-74"
           ],
           "yaxis": "y"
          },
          {
           "alignmentgroup": "True",
           "hovertemplate": "Sex=Male<br>Year=1972<br>Population=%{x}<br>Age range (years)=%{y}<extra></extra>",
           "legendgroup": "Male",
           "marker": {
            "color": "#EF553B",
            "pattern": {
             "shape": ""
            }
           },
           "name": "Male",
           "offsetgroup": "Male",
           "orientation": "h",
           "showlegend": true,
           "textposition": "auto",
           "type": "bar",
           "x": [
            2306014,
            2409770,
            2201088,
            1986731,
            2110783,
            1937765,
            1665923,
            1612451,
            1652421,
            1726830,
            1637339,
            1590942,
            1506416,
            1217474,
            805550
           ],
           "xaxis": "x",
           "y": [
            "<5",
            "5-9",
            "10-14",
            "15-19",
            "20-24",
            "25-29",
            "30-34",
            "35-39",
            "40-44",
            "45-49",
            "50-54",
            "55-59",
            "60-64",
            "65-69",
            "70-74"
           ],
           "yaxis": "y"
          }
         ],
         "name": "1972"
        },
        {
         "data": [
          {
           "alignmentgroup": "True",
           "hovertemplate": "Sex=Female<br>Year=1973<br>Population=%{x}<br>Age range (years)=%{y}<extra></extra>",
           "legendgroup": "Female",
           "marker": {
            "color": "#636efa",
            "pattern": {
             "shape": ""
            }
           },
           "name": "Female",
           "offsetgroup": "Female",
           "orientation": "h",
           "showlegend": true,
           "textposition": "auto",
           "type": "bar",
           "x": [
            2127654,
            2290896,
            2143919,
            1916906,
            1983954,
            2006461,
            1635347,
            1579606,
            1634193,
            1721291,
            1789523,
            1657700,
            1706941,
            1550112,
            1269348
           ],
           "xaxis": "x",
           "y": [
            "<5",
            "5-9",
            "10-14",
            "15-19",
            "20-24",
            "25-29",
            "30-34",
            "35-39",
            "40-44",
            "45-49",
            "50-54",
            "55-59",
            "60-64",
            "65-69",
            "70-74"
           ],
           "yaxis": "y"
          },
          {
           "alignmentgroup": "True",
           "hovertemplate": "Sex=Male<br>Year=1973<br>Population=%{x}<br>Age range (years)=%{y}<extra></extra>",
           "legendgroup": "Male",
           "marker": {
            "color": "#EF553B",
            "pattern": {
             "shape": ""
            }
           },
           "name": "Male",
           "offsetgroup": "Male",
           "orientation": "h",
           "showlegend": true,
           "textposition": "auto",
           "type": "bar",
           "x": [
            2242884,
            2414751,
            2254119,
            2010006,
            2034521,
            2049962,
            1677920,
            1621098,
            1637903,
            1693742,
            1703779,
            1524038,
            1505222,
            1235108,
            838083
           ],
           "xaxis": "x",
           "y": [
            "<5",
            "5-9",
            "10-14",
            "15-19",
            "20-24",
            "25-29",
            "30-34",
            "35-39",
            "40-44",
            "45-49",
            "50-54",
            "55-59",
            "60-64",
            "65-69",
            "70-74"
           ],
           "yaxis": "y"
          }
         ],
         "name": "1973"
        },
        {
         "data": [
          {
           "alignmentgroup": "True",
           "hovertemplate": "Sex=Female<br>Year=1974<br>Population=%{x}<br>Age range (years)=%{y}<extra></extra>",
           "legendgroup": "Female",
           "marker": {
            "color": "#636efa",
            "pattern": {
             "shape": ""
            }
           },
           "name": "Female",
           "offsetgroup": "Female",
           "orientation": "h",
           "showlegend": true,
           "textposition": "auto",
           "type": "bar",
           "x": [
            2047461,
            2273468,
            2198367,
            1947133,
            1938063,
            2058133,
            1669325,
            1593867,
            1607891,
            1690466,
            1850966,
            1572854,
            1702952,
            1564017,
            1293634
           ],
           "xaxis": "x",
           "y": [
            "<5",
            "5-9",
            "10-14",
            "15-19",
            "20-24",
            "25-29",
            "30-34",
            "35-39",
            "40-44",
            "45-49",
            "50-54",
            "55-59",
            "60-64",
            "65-69",
            "70-74"
           ],
           "yaxis": "y"
          },
          {
           "alignmentgroup": "True",
           "hovertemplate": "Sex=Male<br>Year=1974<br>Population=%{x}<br>Age range (years)=%{y}<extra></extra>",
           "legendgroup": "Male",
           "marker": {
            "color": "#EF553B",
            "pattern": {
             "shape": ""
            }
           },
           "name": "Male",
           "offsetgroup": "Male",
           "orientation": "h",
           "showlegend": true,
           "textposition": "auto",
           "type": "bar",
           "x": [
            2162282,
            2395188,
            2310992,
            2037401,
            1997965,
            2101059,
            1711802,
            1637576,
            1618525,
            1668175,
            1769362,
            1444252,
            1502378,
            1252398,
            870616
           ],
           "xaxis": "x",
           "y": [
            "<5",
            "5-9",
            "10-14",
            "15-19",
            "20-24",
            "25-29",
            "30-34",
            "35-39",
            "40-44",
            "45-49",
            "50-54",
            "55-59",
            "60-64",
            "65-69",
            "70-74"
           ],
           "yaxis": "y"
          }
         ],
         "name": "1974"
        },
        {
         "data": [
          {
           "alignmentgroup": "True",
           "hovertemplate": "Sex=Female<br>Year=1975<br>Population=%{x}<br>Age range (years)=%{y}<extra></extra>",
           "legendgroup": "Female",
           "marker": {
            "color": "#636efa",
            "pattern": {
             "shape": ""
            }
           },
           "name": "Female",
           "offsetgroup": "Female",
           "orientation": "h",
           "showlegend": true,
           "textposition": "auto",
           "type": "bar",
           "x": [
            1958000,
            2235043,
            2247015,
            1990506,
            1911363,
            2079315,
            1706161,
            1604950,
            1580224,
            1667030,
            1838205,
            1556429,
            1697822,
            1572739,
            1313716
           ],
           "xaxis": "x",
           "y": [
            "<5",
            "5-9",
            "10-14",
            "15-19",
            "20-24",
            "25-29",
            "30-34",
            "35-39",
            "40-44",
            "45-49",
            "50-54",
            "55-59",
            "60-64",
            "65-69",
            "70-74"
           ],
           "yaxis": "y"
          },
          {
           "alignmentgroup": "True",
           "hovertemplate": "Sex=Male<br>Year=1975<br>Population=%{x}<br>Age range (years)=%{y}<extra></extra>",
           "legendgroup": "Male",
           "marker": {
            "color": "#EF553B",
            "pattern": {
             "shape": ""
            }
           },
           "name": "Male",
           "offsetgroup": "Male",
           "orientation": "h",
           "showlegend": true,
           "textposition": "auto",
           "type": "bar",
           "x": [
            2070031,
            2354068,
            2365312,
            2080476,
            1977249,
            2125863,
            1752054,
            1648981,
            1600088,
            1647624,
            1765442,
            1432226,
            1496480,
            1266432,
            897152
           ],
           "xaxis": "x",
           "y": [
            "<5",
            "5-9",
            "10-14",
            "15-19",
            "20-24",
            "25-29",
            "30-34",
            "35-39",
            "40-44",
            "45-49",
            "50-54",
            "55-59",
            "60-64",
            "65-69",
            "70-74"
           ],
           "yaxis": "y"
          }
         ],
         "name": "1975"
        },
        {
         "data": [
          {
           "alignmentgroup": "True",
           "hovertemplate": "Sex=Female<br>Year=1976<br>Population=%{x}<br>Age range (years)=%{y}<extra></extra>",
           "legendgroup": "Female",
           "marker": {
            "color": "#636efa",
            "pattern": {
             "shape": ""
            }
           },
           "name": "Female",
           "offsetgroup": "Female",
           "orientation": "h",
           "showlegend": true,
           "textposition": "auto",
           "type": "bar",
           "x": [
            1861562,
            2195768,
            2276549,
            2047429,
            1901055,
            2091472,
            1758298,
            1600659,
            1560611,
            1648290,
            1768615,
            1609427,
            1679884,
            1574957,
            1327332
           ],
           "xaxis": "x",
           "y": [
            "<5",
            "5-9",
            "10-14",
            "15-19",
            "20-24",
            "25-29",
            "30-34",
            "35-39",
            "40-44",
            "45-49",
            "50-54",
            "55-59",
            "60-64",
            "65-69",
            "70-74"
           ],
           "yaxis": "y"
          },
          {
           "alignmentgroup": "True",
           "hovertemplate": "Sex=Male<br>Year=1976<br>Population=%{x}<br>Age range (years)=%{y}<extra></extra>",
           "legendgroup": "Male",
           "marker": {
            "color": "#EF553B",
            "pattern": {
             "shape": ""
            }
           },
           "name": "Male",
           "offsetgroup": "Male",
           "orientation": "h",
           "showlegend": true,
           "textposition": "auto",
           "type": "bar",
           "x": [
            1968642,
            2315257,
            2399356,
            2137405,
            1972903,
            2140248,
            1804390,
            1641881,
            1587696,
            1631304,
            1708342,
            1485479,
            1479347,
            1274218,
            917893
           ],
           "xaxis": "x",
           "y": [
            "<5",
            "5-9",
            "10-14",
            "15-19",
            "20-24",
            "25-29",
            "30-34",
            "35-39",
            "40-44",
            "45-49",
            "50-54",
            "55-59",
            "60-64",
            "65-69",
            "70-74"
           ],
           "yaxis": "y"
          }
         ],
         "name": "1976"
        },
        {
         "data": [
          {
           "alignmentgroup": "True",
           "hovertemplate": "Sex=Female<br>Year=1977<br>Population=%{x}<br>Age range (years)=%{y}<extra></extra>",
           "legendgroup": "Female",
           "marker": {
            "color": "#636efa",
            "pattern": {
             "shape": ""
            }
           },
           "name": "Female",
           "offsetgroup": "Female",
           "orientation": "h",
           "showlegend": true,
           "textposition": "auto",
           "type": "bar",
           "x": [
            1759897,
            2154829,
            2287229,
            2107367,
            1913349,
            2046280,
            1865092,
            1594954,
            1553358,
            1629245,
            1716151,
            1666912,
            1641317,
            1574057,
            1340863
           ],
           "xaxis": "x",
           "y": [
            "<5",
            "5-9",
            "10-14",
            "15-19",
            "20-24",
            "25-29",
            "30-34",
            "35-39",
            "40-44",
            "45-49",
            "50-54",
            "55-59",
            "60-64",
            "65-69",
            "70-74"
           ],
           "yaxis": "y"
          },
          {
           "alignmentgroup": "True",
           "hovertemplate": "Sex=Male<br>Year=1977<br>Population=%{x}<br>Age range (years)=%{y}<extra></extra>",
           "legendgroup": "Male",
           "marker": {
            "color": "#EF553B",
            "pattern": {
             "shape": ""
            }
           },
           "name": "Male",
           "offsetgroup": "Male",
           "orientation": "h",
           "showlegend": true,
           "textposition": "auto",
           "type": "bar",
           "x": [
            1861192,
            2273331,
            2415247,
            2193813,
            1991576,
            2091001,
            1910629,
            1631036,
            1583113,
            1615970,
            1664508,
            1542268,
            1443521,
            1277403,
            936506
           ],
           "xaxis": "x",
           "y": [
            "<5",
            "5-9",
            "10-14",
            "15-19",
            "20-24",
            "25-29",
            "30-34",
            "35-39",
            "40-44",
            "45-49",
            "50-54",
            "55-59",
            "60-64",
            "65-69",
            "70-74"
           ],
           "yaxis": "y"
          }
         ],
         "name": "1977"
        },
        {
         "data": [
          {
           "alignmentgroup": "True",
           "hovertemplate": "Sex=Female<br>Year=1978<br>Population=%{x}<br>Age range (years)=%{y}<extra></extra>",
           "legendgroup": "Female",
           "marker": {
            "color": "#636efa",
            "pattern": {
             "shape": ""
            }
           },
           "name": "Female",
           "offsetgroup": "Female",
           "orientation": "h",
           "showlegend": true,
           "textposition": "auto",
           "type": "bar",
           "x": [
            1681302,
            2096205,
            2284424,
            2164317,
            1939377,
            1969324,
            1976113,
            1611518,
            1559632,
            1609420,
            1677467,
            1728556,
            1575417,
            1572484,
            1356866
           ],
           "xaxis": "x",
           "y": [
            "<5",
            "5-9",
            "10-14",
            "15-19",
            "20-24",
            "25-29",
            "30-34",
            "35-39",
            "40-44",
            "45-49",
            "50-54",
            "55-59",
            "60-64",
            "65-69",
            "70-74"
           ],
           "yaxis": "y"
          },
          {
           "alignmentgroup": "True",
           "hovertemplate": "Sex=Male<br>Year=1978<br>Population=%{x}<br>Age range (years)=%{y}<extra></extra>",
           "legendgroup": "Male",
           "marker": {
            "color": "#EF553B",
            "pattern": {
             "shape": ""
            }
           },
           "name": "Male",
           "offsetgroup": "Male",
           "orientation": "h",
           "showlegend": true,
           "textposition": "auto",
           "type": "bar",
           "x": [
            1776068,
            2212174,
            2414626,
            2249213,
            2016765,
            2009826,
            2020683,
            1642764,
            1591724,
            1600714,
            1631461,
            1605061,
            1381580,
            1279435,
            954346
           ],
           "xaxis": "x",
           "y": [
            "<5",
            "5-9",
            "10-14",
            "15-19",
            "20-24",
            "25-29",
            "30-34",
            "35-39",
            "40-44",
            "45-49",
            "50-54",
            "55-59",
            "60-64",
            "65-69",
            "70-74"
           ],
           "yaxis": "y"
          }
         ],
         "name": "1978"
        },
        {
         "data": [
          {
           "alignmentgroup": "True",
           "hovertemplate": "Sex=Female<br>Year=1979<br>Population=%{x}<br>Age range (years)=%{y}<extra></extra>",
           "legendgroup": "Female",
           "marker": {
            "color": "#636efa",
            "pattern": {
             "shape": ""
            }
           },
           "name": "Female",
           "offsetgroup": "Female",
           "orientation": "h",
           "showlegend": true,
           "textposition": "auto",
           "type": "bar",
           "x": [
            1646898,
            2019435,
            2265317,
            2219437,
            1971869,
            1928172,
            2030879,
            1648668,
            1576681,
            1585843,
            1649258,
            1787360,
            1494740,
            1571466,
            1371464
           ],
           "xaxis": "x",
           "y": [
            "<5",
            "5-9",
            "10-14",
            "15-19",
            "20-24",
            "25-29",
            "30-34",
            "35-39",
            "40-44",
            "45-49",
            "50-54",
            "55-59",
            "60-64",
            "65-69",
            "70-74"
           ],
           "yaxis": "y"
          },
          {
           "alignmentgroup": "True",
           "hovertemplate": "Sex=Male<br>Year=1979<br>Population=%{x}<br>Age range (years)=%{y}<extra></extra>",
           "legendgroup": "Male",
           "marker": {
            "color": "#EF553B",
            "pattern": {
             "shape": ""
            }
           },
           "name": "Male",
           "offsetgroup": "Male",
           "orientation": "h",
           "showlegend": true,
           "textposition": "auto",
           "type": "bar",
           "x": [
            1736954,
            2134775,
            2392284,
            2310978,
            2046336,
            1970096,
            2073030,
            1679290,
            1608200,
            1583694,
            1608038,
            1665859,
            1309103,
            1280690,
            971388
           ],
           "xaxis": "x",
           "y": [
            "<5",
            "5-9",
            "10-14",
            "15-19",
            "20-24",
            "25-29",
            "30-34",
            "35-39",
            "40-44",
            "45-49",
            "50-54",
            "55-59",
            "60-64",
            "65-69",
            "70-74"
           ],
           "yaxis": "y"
          }
         ],
         "name": "1979"
        },
        {
         "data": [
          {
           "alignmentgroup": "True",
           "hovertemplate": "Sex=Female<br>Year=1980<br>Population=%{x}<br>Age range (years)=%{y}<extra></extra>",
           "legendgroup": "Female",
           "marker": {
            "color": "#636efa",
            "pattern": {
             "shape": ""
            }
           },
           "name": "Female",
           "offsetgroup": "Female",
           "orientation": "h",
           "showlegend": true,
           "textposition": "auto",
           "type": "bar",
           "x": [
            1649856,
            1933535,
            2229198,
            2271243,
            2018858,
            1905110,
            2059892,
            1692714,
            1591697,
            1562696,
            1630330,
            1776047,
            1480778,
            1569613,
            1381885
           ],
           "xaxis": "x",
           "y": [
            "<5",
            "5-9",
            "10-14",
            "15-19",
            "20-24",
            "25-29",
            "30-34",
            "35-39",
            "40-44",
            "45-49",
            "50-54",
            "55-59",
            "60-64",
            "65-69",
            "70-74"
           ],
           "yaxis": "y"
          },
          {
           "alignmentgroup": "True",
           "hovertemplate": "Sex=Male<br>Year=1980<br>Population=%{x}<br>Age range (years)=%{y}<extra></extra>",
           "legendgroup": "Male",
           "marker": {
            "color": "#EF553B",
            "pattern": {
             "shape": ""
            }
           },
           "name": "Male",
           "offsetgroup": "Male",
           "orientation": "h",
           "showlegend": true,
           "textposition": "auto",
           "type": "bar",
           "x": [
            1739162,
            2045003,
            2351328,
            2372616,
            2090096,
            1947626,
            2098019,
            1724847,
            1620411,
            1568467,
            1590904,
            1662547,
            1301553,
            1279751,
            987388
           ],
           "xaxis": "x",
           "y": [
            "<5",
            "5-9",
            "10-14",
            "15-19",
            "20-24",
            "25-29",
            "30-34",
            "35-39",
            "40-44",
            "45-49",
            "50-54",
            "55-59",
            "60-64",
            "65-69",
            "70-74"
           ],
           "yaxis": "y"
          }
         ],
         "name": "1980"
        },
        {
         "data": [
          {
           "alignmentgroup": "True",
           "hovertemplate": "Sex=Female<br>Year=1981<br>Population=%{x}<br>Age range (years)=%{y}<extra></extra>",
           "legendgroup": "Female",
           "marker": {
            "color": "#636efa",
            "pattern": {
             "shape": ""
            }
           },
           "name": "Female",
           "offsetgroup": "Female",
           "orientation": "h",
           "showlegend": true,
           "textposition": "auto",
           "type": "bar",
           "x": [
            1670166,
            1840329,
            2190667,
            2302936,
            2080516,
            1896135,
            2075000,
            1748085,
            1589775,
            1546718,
            1615566,
            1709592,
            1532207,
            1554307,
            1388030
           ],
           "xaxis": "x",
           "y": [
            "<5",
            "5-9",
            "10-14",
            "15-19",
            "20-24",
            "25-29",
            "30-34",
            "35-39",
            "40-44",
            "45-49",
            "50-54",
            "55-59",
            "60-64",
            "65-69",
            "70-74"
           ],
           "yaxis": "y"
          },
          {
           "alignmentgroup": "True",
           "hovertemplate": "Sex=Male<br>Year=1981<br>Population=%{x}<br>Age range (years)=%{y}<extra></extra>",
           "legendgroup": "Male",
           "marker": {
            "color": "#EF553B",
            "pattern": {
             "shape": ""
            }
           },
           "name": "Male",
           "offsetgroup": "Male",
           "orientation": "h",
           "showlegend": true,
           "textposition": "auto",
           "type": "bar",
           "x": [
            1759766,
            1944423,
            2310316,
            2412294,
            2144264,
            1933914,
            2105707,
            1776787,
            1612817,
            1555443,
            1577970,
            1611085,
            1351719,
            1269514,
            999302
           ],
           "xaxis": "x",
           "y": [
            "<5",
            "5-9",
            "10-14",
            "15-19",
            "20-24",
            "25-29",
            "30-34",
            "35-39",
            "40-44",
            "45-49",
            "50-54",
            "55-59",
            "60-64",
            "65-69",
            "70-74"
           ],
           "yaxis": "y"
          }
         ],
         "name": "1981"
        },
        {
         "data": [
          {
           "alignmentgroup": "True",
           "hovertemplate": "Sex=Female<br>Year=1982<br>Population=%{x}<br>Age range (years)=%{y}<extra></extra>",
           "legendgroup": "Female",
           "marker": {
            "color": "#636efa",
            "pattern": {
             "shape": ""
            }
           },
           "name": "Female",
           "offsetgroup": "Female",
           "orientation": "h",
           "showlegend": true,
           "textposition": "auto",
           "type": "bar",
           "x": [
            1699227,
            1742405,
            2147383,
            2313350,
            2137473,
            1902029,
            2024744,
            1853282,
            1583692,
            1539638,
            1599158,
            1658682,
            1586604,
            1516566,
            1389800
           ],
           "xaxis": "x",
           "y": [
            "<5",
            "5-9",
            "10-14",
            "15-19",
            "20-24",
            "25-29",
            "30-34",
            "35-39",
            "40-44",
            "45-49",
            "50-54",
            "55-59",
            "60-64",
            "65-69",
            "70-74"
           ],
           "yaxis": "y"
          },
          {
           "alignmentgroup": "True",
           "hovertemplate": "Sex=Male<br>Year=1982<br>Population=%{x}<br>Age range (years)=%{y}<extra></extra>",
           "legendgroup": "Male",
           "marker": {
            "color": "#EF553B",
            "pattern": {
             "shape": ""
            }
           },
           "name": "Male",
           "offsetgroup": "Male",
           "orientation": "h",
           "showlegend": true,
           "textposition": "auto",
           "type": "bar",
           "x": [
            1788717,
            1840320,
            2262444,
            2430890,
            2189438,
            1933191,
            2046799,
            1876077,
            1602264,
            1548204,
            1565576,
            1573193,
            1404746,
            1240980,
            1005862
           ],
           "xaxis": "x",
           "y": [
            "<5",
            "5-9",
            "10-14",
            "15-19",
            "20-24",
            "25-29",
            "30-34",
            "35-39",
            "40-44",
            "45-49",
            "50-54",
            "55-59",
            "60-64",
            "65-69",
            "70-74"
           ],
           "yaxis": "y"
          }
         ],
         "name": "1982"
        },
        {
         "data": [
          {
           "alignmentgroup": "True",
           "hovertemplate": "Sex=Female<br>Year=1983<br>Population=%{x}<br>Age range (years)=%{y}<extra></extra>",
           "legendgroup": "Female",
           "marker": {
            "color": "#636efa",
            "pattern": {
             "shape": ""
            }
           },
           "name": "Female",
           "offsetgroup": "Female",
           "orientation": "h",
           "showlegend": true,
           "textposition": "auto",
           "type": "bar",
           "x": [
            1730121,
            1666293,
            2086481,
            2309414,
            2190925,
            1918185,
            1941830,
            1964113,
            1598031,
            1545007,
            1580531,
            1622421,
            1645795,
            1453628,
            1388974
           ],
           "xaxis": "x",
           "y": [
            "<5",
            "5-9",
            "10-14",
            "15-19",
            "20-24",
            "25-29",
            "30-34",
            "35-39",
            "40-44",
            "45-49",
            "50-54",
            "55-59",
            "60-64",
            "65-69",
            "70-74"
           ],
           "yaxis": "y"
          },
          {
           "alignmentgroup": "True",
           "hovertemplate": "Sex=Male<br>Year=1983<br>Population=%{x}<br>Age range (years)=%{y}<extra></extra>",
           "legendgroup": "Male",
           "marker": {
            "color": "#EF553B",
            "pattern": {
             "shape": ""
            }
           },
           "name": "Male",
           "offsetgroup": "Male",
           "orientation": "h",
           "showlegend": true,
           "textposition": "auto",
           "type": "bar",
           "x": [
            1819420,
            1758936,
            2195009,
            2428375,
            2234174,
            1946191,
            1960938,
            1979919,
            1616357,
            1554891,
            1551242,
            1545565,
            1464784,
            1188648,
            1010343
           ],
           "xaxis": "x",
           "y": [
            "<5",
            "5-9",
            "10-14",
            "15-19",
            "20-24",
            "25-29",
            "30-34",
            "35-39",
            "40-44",
            "45-49",
            "50-54",
            "55-59",
            "60-64",
            "65-69",
            "70-74"
           ],
           "yaxis": "y"
          }
         ],
         "name": "1983"
        },
        {
         "data": [
          {
           "alignmentgroup": "True",
           "hovertemplate": "Sex=Female<br>Year=1984<br>Population=%{x}<br>Age range (years)=%{y}<extra></extra>",
           "legendgroup": "Female",
           "marker": {
            "color": "#636efa",
            "pattern": {
             "shape": ""
            }
           },
           "name": "Female",
           "offsetgroup": "Female",
           "orientation": "h",
           "showlegend": true,
           "textposition": "auto",
           "type": "bar",
           "x": [
            1748468,
            1633505,
            2009635,
            2284527,
            2249655,
            1950539,
            1898836,
            2021787,
            1632817,
            1560782,
            1557854,
            1597648,
            1702427,
            1380044,
            1388991
           ],
           "xaxis": "x",
           "y": [
            "<5",
            "5-9",
            "10-14",
            "15-19",
            "20-24",
            "25-29",
            "30-34",
            "35-39",
            "40-44",
            "45-49",
            "50-54",
            "55-59",
            "60-64",
            "65-69",
            "70-74"
           ],
           "yaxis": "y"
          },
          {
           "alignmentgroup": "True",
           "hovertemplate": "Sex=Male<br>Year=1984<br>Population=%{x}<br>Age range (years)=%{y}<extra></extra>",
           "legendgroup": "Male",
           "marker": {
            "color": "#EF553B",
            "pattern": {
             "shape": ""
            }
           },
           "name": "Male",
           "offsetgroup": "Male",
           "orientation": "h",
           "showlegend": true,
           "textposition": "auto",
           "type": "bar",
           "x": [
            1836647,
            1722996,
            2114486,
            2392270,
            2297307,
            1979764,
            1921104,
            2032463,
            1652278,
            1570579,
            1534443,
            1526831,
            1522487,
            1128887,
            1014939
           ],
           "xaxis": "x",
           "y": [
            "<5",
            "5-9",
            "10-14",
            "15-19",
            "20-24",
            "25-29",
            "30-34",
            "35-39",
            "40-44",
            "45-49",
            "50-54",
            "55-59",
            "60-64",
            "65-69",
            "70-74"
           ],
           "yaxis": "y"
          }
         ],
         "name": "1984"
        },
        {
         "data": [
          {
           "alignmentgroup": "True",
           "hovertemplate": "Sex=Female<br>Year=1985<br>Population=%{x}<br>Age range (years)=%{y}<extra></extra>",
           "legendgroup": "Female",
           "marker": {
            "color": "#636efa",
            "pattern": {
             "shape": ""
            }
           },
           "name": "Female",
           "offsetgroup": "Female",
           "orientation": "h",
           "showlegend": true,
           "textposition": "auto",
           "type": "bar",
           "x": [
            1755543,
            1641695,
            1927161,
            2241935,
            2305503,
            2002570,
            1878166,
            2054390,
            1676762,
            1574286,
            1535365,
            1581764,
            1692373,
            1370505,
            1388100
           ],
           "xaxis": "x",
           "y": [
            "<5",
            "5-9",
            "10-14",
            "15-19",
            "20-24",
            "25-29",
            "30-34",
            "35-39",
            "40-44",
            "45-49",
            "50-54",
            "55-59",
            "60-64",
            "65-69",
            "70-74"
           ],
           "yaxis": "y"
          },
          {
           "alignmentgroup": "True",
           "hovertemplate": "Sex=Male<br>Year=1985<br>Population=%{x}<br>Age range (years)=%{y}<extra></extra>",
           "legendgroup": "Male",
           "marker": {
            "color": "#EF553B",
            "pattern": {
             "shape": ""
            }
           },
           "name": "Male",
           "offsetgroup": "Male",
           "orientation": "h",
           "showlegend": true,
           "textposition": "auto",
           "type": "bar",
           "x": [
            1842116,
            1730675,
            2027539,
            2337801,
            2357548,
            2031176,
            1903127,
            2061154,
            1696798,
            1582425,
            1520425,
            1513170,
            1522407,
            1127138,
            1017668
           ],
           "xaxis": "x",
           "y": [
            "<5",
            "5-9",
            "10-14",
            "15-19",
            "20-24",
            "25-29",
            "30-34",
            "35-39",
            "40-44",
            "45-49",
            "50-54",
            "55-59",
            "60-64",
            "65-69",
            "70-74"
           ],
           "yaxis": "y"
          }
         ],
         "name": "1985"
        },
        {
         "data": [
          {
           "alignmentgroup": "True",
           "hovertemplate": "Sex=Female<br>Year=1986<br>Population=%{x}<br>Age range (years)=%{y}<extra></extra>",
           "legendgroup": "Female",
           "marker": {
            "color": "#636efa",
            "pattern": {
             "shape": ""
            }
           },
           "name": "Female",
           "offsetgroup": "Female",
           "orientation": "h",
           "showlegend": true,
           "textposition": "auto",
           "type": "bar",
           "x": [
            1766042,
            1669478,
            1840790,
            2201087,
            2342025,
            2068391,
            1875894,
            2073484,
            1733966,
            1570961,
            1519119,
            1569707,
            1631814,
            1421464,
            1376495
           ],
           "xaxis": "x",
           "y": [
            "<5",
            "5-9",
            "10-14",
            "15-19",
            "20-24",
            "25-29",
            "30-34",
            "35-39",
            "40-44",
            "45-49",
            "50-54",
            "55-59",
            "60-64",
            "65-69",
            "70-74"
           ],
           "yaxis": "y"
          },
          {
           "alignmentgroup": "True",
           "hovertemplate": "Sex=Male<br>Year=1986<br>Population=%{x}<br>Age range (years)=%{y}<extra></extra>",
           "legendgroup": "Male",
           "marker": {
            "color": "#EF553B",
            "pattern": {
             "shape": ""
            }
           },
           "name": "Male",
           "offsetgroup": "Male",
           "orientation": "h",
           "showlegend": true,
           "textposition": "auto",
           "type": "bar",
           "x": [
            1853401,
            1757895,
            1937693,
            2290808,
            2386511,
            2090265,
            1899184,
            2075573,
            1752221,
            1577854,
            1510809,
            1502094,
            1479489,
            1176141,
            1012215
           ],
           "xaxis": "x",
           "y": [
            "<5",
            "5-9",
            "10-14",
            "15-19",
            "20-24",
            "25-29",
            "30-34",
            "35-39",
            "40-44",
            "45-49",
            "50-54",
            "55-59",
            "60-64",
            "65-69",
            "70-74"
           ],
           "yaxis": "y"
          }
         ],
         "name": "1986"
        },
        {
         "data": [
          {
           "alignmentgroup": "True",
           "hovertemplate": "Sex=Female<br>Year=1987<br>Population=%{x}<br>Age range (years)=%{y}<extra></extra>",
           "legendgroup": "Female",
           "marker": {
            "color": "#636efa",
            "pattern": {
             "shape": ""
            }
           },
           "name": "Female",
           "offsetgroup": "Female",
           "orientation": "h",
           "showlegend": true,
           "textposition": "auto",
           "type": "bar",
           "x": [
            1783716,
            1706402,
            1750643,
            2158508,
            2352249,
            2135467,
            1894968,
            2029399,
            1841991,
            1565483,
            1512348,
            1555300,
            1586117,
            1474548,
            1345562
           ],
           "xaxis": "x",
           "y": [
            "<5",
            "5-9",
            "10-14",
            "15-19",
            "20-24",
            "25-29",
            "30-34",
            "35-39",
            "40-44",
            "45-49",
            "50-54",
            "55-59",
            "60-64",
            "65-69",
            "70-74"
           ],
           "yaxis": "y"
          },
          {
           "alignmentgroup": "True",
           "hovertemplate": "Sex=Male<br>Year=1987<br>Population=%{x}<br>Age range (years)=%{y}<extra></extra>",
           "legendgroup": "Male",
           "marker": {
            "color": "#EF553B",
            "pattern": {
             "shape": ""
            }
           },
           "name": "Male",
           "offsetgroup": "Male",
           "orientation": "h",
           "showlegend": true,
           "textposition": "auto",
           "type": "bar",
           "x": [
            1871582,
            1793773,
            1844282,
            2244123,
            2391852,
            2150225,
            1912884,
            2027174,
            1857731,
            1571241,
            1506195,
            1491013,
            1447268,
            1226763,
            991617
           ],
           "xaxis": "x",
           "y": [
            "<5",
            "5-9",
            "10-14",
            "15-19",
            "20-24",
            "25-29",
            "30-34",
            "35-39",
            "40-44",
            "45-49",
            "50-54",
            "55-59",
            "60-64",
            "65-69",
            "70-74"
           ],
           "yaxis": "y"
          }
         ],
         "name": "1987"
        },
        {
         "data": [
          {
           "alignmentgroup": "True",
           "hovertemplate": "Sex=Female<br>Year=1988<br>Population=%{x}<br>Age range (years)=%{y}<extra></extra>",
           "legendgroup": "Female",
           "marker": {
            "color": "#636efa",
            "pattern": {
             "shape": ""
            }
           },
           "name": "Female",
           "offsetgroup": "Female",
           "orientation": "h",
           "showlegend": true,
           "textposition": "auto",
           "type": "bar",
           "x": [
            1809510,
            1743023,
            1679642,
            2099270,
            2338516,
            2195124,
            1925392,
            1952948,
            1956012,
            1581757,
            1518675,
            1537835,
            1552388,
            1531787,
            1291667
           ],
           "xaxis": "x",
           "y": [
            "<5",
            "5-9",
            "10-14",
            "15-19",
            "20-24",
            "25-29",
            "30-34",
            "35-39",
            "40-44",
            "45-49",
            "50-54",
            "55-59",
            "60-64",
            "65-69",
            "70-74"
           ],
           "yaxis": "y"
          },
          {
           "alignmentgroup": "True",
           "hovertemplate": "Sex=Male<br>Year=1988<br>Population=%{x}<br>Age range (years)=%{y}<extra></extra>",
           "legendgroup": "Male",
           "marker": {
            "color": "#EF553B",
            "pattern": {
             "shape": ""
            }
           },
           "name": "Male",
           "offsetgroup": "Male",
           "orientation": "h",
           "showlegend": true,
           "textposition": "auto",
           "type": "bar",
           "x": [
            1896687,
            1829842,
            1768103,
            2184683,
            2378393,
            2205981,
            1935795,
            1947511,
            1966507,
            1586603,
            1513691,
            1479184,
            1423892,
            1282037,
            951486
           ],
           "xaxis": "x",
           "y": [
            "<5",
            "5-9",
            "10-14",
            "15-19",
            "20-24",
            "25-29",
            "30-34",
            "35-39",
            "40-44",
            "45-49",
            "50-54",
            "55-59",
            "60-64",
            "65-69",
            "70-74"
           ],
           "yaxis": "y"
          }
         ],
         "name": "1988"
        },
        {
         "data": [
          {
           "alignmentgroup": "True",
           "hovertemplate": "Sex=Female<br>Year=1989<br>Population=%{x}<br>Age range (years)=%{y}<extra></extra>",
           "legendgroup": "Female",
           "marker": {
            "color": "#636efa",
            "pattern": {
             "shape": ""
            }
           },
           "name": "Female",
           "offsetgroup": "Female",
           "orientation": "h",
           "showlegend": true,
           "textposition": "auto",
           "type": "bar",
           "x": [
            1839006,
            1763213,
            1648929,
            2024287,
            2308723,
            2251694,
            1963252,
            1912410,
            2015439,
            1618135,
            1535242,
            1516721,
            1529383,
            1585811,
            1228260
           ],
           "xaxis": "x",
           "y": [
            "<5",
            "5-9",
            "10-14",
            "15-19",
            "20-24",
            "25-29",
            "30-34",
            "35-39",
            "40-44",
            "45-49",
            "50-54",
            "55-59",
            "60-64",
            "65-69",
            "70-74"
           ],
           "yaxis": "y"
          },
          {
           "alignmentgroup": "True",
           "hovertemplate": "Sex=Male<br>Year=1989<br>Population=%{x}<br>Age range (years)=%{y}<extra></extra>",
           "legendgroup": "Male",
           "marker": {
            "color": "#EF553B",
            "pattern": {
             "shape": ""
            }
           },
           "name": "Male",
           "offsetgroup": "Male",
           "orientation": "h",
           "showlegend": true,
           "textposition": "auto",
           "type": "bar",
           "x": [
            1926062,
            1848617,
            1734286,
            2110152,
            2344419,
            2259172,
            1965562,
            1906477,
            2019068,
            1623191,
            1529990,
            1466159,
            1410001,
            1334056,
            906293
           ],
           "xaxis": "x",
           "y": [
            "<5",
            "5-9",
            "10-14",
            "15-19",
            "20-24",
            "25-29",
            "30-34",
            "35-39",
            "40-44",
            "45-49",
            "50-54",
            "55-59",
            "60-64",
            "65-69",
            "70-74"
           ],
           "yaxis": "y"
          }
         ],
         "name": "1989"
        },
        {
         "data": [
          {
           "alignmentgroup": "True",
           "hovertemplate": "Sex=Female<br>Year=1990<br>Population=%{x}<br>Age range (years)=%{y}<extra></extra>",
           "legendgroup": "Female",
           "marker": {
            "color": "#636efa",
            "pattern": {
             "shape": ""
            }
           },
           "name": "Female",
           "offsetgroup": "Female",
           "orientation": "h",
           "showlegend": true,
           "textposition": "auto",
           "type": "bar",
           "x": [
            1861260,
            1770568,
            1657227,
            1943723,
            2265805,
            2304610,
            2014544,
            1892209,
            2048133,
            1663599,
            1548958,
            1494861,
            1514734,
            1577049,
            1222937,
            2603067
           ],
           "xaxis": "x",
           "y": [
            "<5",
            "5-9",
            "10-14",
            "15-19",
            "20-24",
            "25-29",
            "30-34",
            "35-39",
            "40-44",
            "45-49",
            "50-54",
            "55-59",
            "60-64",
            "65-69",
            "70-74",
            "75<"
           ],
           "yaxis": "y"
          },
          {
           "alignmentgroup": "True",
           "hovertemplate": "Sex=Male<br>Year=1990<br>Population=%{x}<br>Age range (years)=%{y}<extra></extra>",
           "legendgroup": "Male",
           "marker": {
            "color": "#EF553B",
            "pattern": {
             "shape": ""
            }
           },
           "name": "Male",
           "offsetgroup": "Male",
           "orientation": "h",
           "showlegend": true,
           "textposition": "auto",
           "type": "bar",
           "x": [
            1947658,
            1854154,
            1742149,
            2030436,
            2302040,
            2308953,
            2009072,
            1886255,
            2046163,
            1667730,
            1542089,
            1455494,
            1400746,
            1336117,
            911290,
            1333342
           ],
           "xaxis": "x",
           "y": [
            "<5",
            "5-9",
            "10-14",
            "15-19",
            "20-24",
            "25-29",
            "30-34",
            "35-39",
            "40-44",
            "45-49",
            "50-54",
            "55-59",
            "60-64",
            "65-69",
            "70-74",
            "75<"
           ],
           "yaxis": "y"
          }
         ],
         "name": "1990"
        },
        {
         "data": [
          {
           "alignmentgroup": "True",
           "hovertemplate": "Sex=Female<br>Year=1991<br>Population=%{x}<br>Age range (years)=%{y}<extra></extra>",
           "legendgroup": "Female",
           "marker": {
            "color": "#636efa",
            "pattern": {
             "shape": ""
            }
           },
           "name": "Female",
           "offsetgroup": "Female",
           "orientation": "h",
           "showlegend": true,
           "textposition": "auto",
           "type": "bar",
           "x": [
            1880719,
            1780141,
            1684351,
            1859745,
            2223157,
            2341053,
            2078433,
            1889727,
            2067762,
            1722000,
            1546100,
            1478405,
            1503947,
            1521177,
            1272489,
            2625160
           ],
           "xaxis": "x",
           "y": [
            "<5",
            "5-9",
            "10-14",
            "15-19",
            "20-24",
            "25-29",
            "30-34",
            "35-39",
            "40-44",
            "45-49",
            "50-54",
            "55-59",
            "60-64",
            "65-69",
            "70-74",
            "75<"
           ],
           "yaxis": "y"
          },
          {
           "alignmentgroup": "True",
           "hovertemplate": "Sex=Male<br>Year=1991<br>Population=%{x}<br>Age range (years)=%{y}<extra></extra>",
           "legendgroup": "Male",
           "marker": {
            "color": "#EF553B",
            "pattern": {
             "shape": ""
            }
           },
           "name": "Male",
           "offsetgroup": "Male",
           "orientation": "h",
           "showlegend": true,
           "textposition": "auto",
           "type": "bar",
           "x": [
            1964607,
            1864027,
            1768370,
            1949082,
            2260575,
            2334124,
            2064951,
            1881481,
            2061431,
            1722976,
            1538085,
            1448100,
            1393646,
            1302144,
            959207,
            1351027
           ],
           "xaxis": "x",
           "y": [
            "<5",
            "5-9",
            "10-14",
            "15-19",
            "20-24",
            "25-29",
            "30-34",
            "35-39",
            "40-44",
            "45-49",
            "50-54",
            "55-59",
            "60-64",
            "65-69",
            "70-74",
            "75<"
           ],
           "yaxis": "y"
          }
         ],
         "name": "1991"
        },
        {
         "data": [
          {
           "alignmentgroup": "True",
           "hovertemplate": "Sex=Female<br>Year=1992<br>Population=%{x}<br>Age range (years)=%{y}<extra></extra>",
           "legendgroup": "Female",
           "marker": {
            "color": "#636efa",
            "pattern": {
             "shape": ""
            }
           },
           "name": "Female",
           "offsetgroup": "Female",
           "orientation": "h",
           "showlegend": true,
           "textposition": "auto",
           "type": "bar",
           "x": [
            1897720,
            1795874,
            1719897,
            1771763,
            2182028,
            2353119,
            2139900,
            1908790,
            2025367,
            1830526,
            1543127,
            1473751,
            1491511,
            1480568,
            1321727,
            2633001
           ],
           "xaxis": "x",
           "y": [
            "<5",
            "5-9",
            "10-14",
            "15-19",
            "20-24",
            "25-29",
            "30-34",
            "35-39",
            "40-44",
            "45-49",
            "50-54",
            "55-59",
            "60-64",
            "65-69",
            "70-74",
            "75<"
           ],
           "yaxis": "y"
          },
          {
           "alignmentgroup": "True",
           "hovertemplate": "Sex=Male<br>Year=1992<br>Population=%{x}<br>Age range (years)=%{y}<extra></extra>",
           "legendgroup": "Male",
           "marker": {
            "color": "#EF553B",
            "pattern": {
             "shape": ""
            }
           },
           "name": "Male",
           "offsetgroup": "Male",
           "orientation": "h",
           "showlegend": true,
           "textposition": "auto",
           "type": "bar",
           "x": [
            1981446,
            1879715,
            1801862,
            1853546,
            2217229,
            2337451,
            2121767,
            1895439,
            2013412,
            1828616,
            1533299,
            1446779,
            1387010,
            1279157,
            1005573,
            1360624
           ],
           "xaxis": "x",
           "y": [
            "<5",
            "5-9",
            "10-14",
            "15-19",
            "20-24",
            "25-29",
            "30-34",
            "35-39",
            "40-44",
            "45-49",
            "50-54",
            "55-59",
            "60-64",
            "65-69",
            "70-74",
            "75<"
           ],
           "yaxis": "y"
          }
         ],
         "name": "1992"
        },
        {
         "data": [
          {
           "alignmentgroup": "True",
           "hovertemplate": "Sex=Female<br>Year=1993<br>Population=%{x}<br>Age range (years)=%{y}<extra></extra>",
           "legendgroup": "Female",
           "marker": {
            "color": "#636efa",
            "pattern": {
             "shape": ""
            }
           },
           "name": "Female",
           "offsetgroup": "Female",
           "orientation": "h",
           "showlegend": true,
           "textposition": "auto",
           "type": "bar",
           "x": [
            1896662,
            1820334,
            1755395,
            1700518,
            2127260,
            2343218,
            2193504,
            1940518,
            1949980,
            1944849,
            1562627,
            1483570,
            1476548,
            1451041,
            1374107,
            2621018
           ],
           "xaxis": "x",
           "y": [
            "<5",
            "5-9",
            "10-14",
            "15-19",
            "20-24",
            "25-29",
            "30-34",
            "35-39",
            "40-44",
            "45-49",
            "50-54",
            "55-59",
            "60-64",
            "65-69",
            "70-74",
            "75<"
           ],
           "yaxis": "y"
          },
          {
           "alignmentgroup": "True",
           "hovertemplate": "Sex=Male<br>Year=1993<br>Population=%{x}<br>Age range (years)=%{y}<extra></extra>",
           "legendgroup": "Male",
           "marker": {
            "color": "#EF553B",
            "pattern": {
             "shape": ""
            }
           },
           "name": "Male",
           "offsetgroup": "Male",
           "orientation": "h",
           "showlegend": true,
           "textposition": "auto",
           "type": "bar",
           "x": [
            1982304,
            1904248,
            1835252,
            1767821,
            2163875,
            2328210,
            2172484,
            1920939,
            1933593,
            1938469,
            1550485,
            1457657,
            1379394,
            1262480,
            1053320,
            1357530
           ],
           "xaxis": "x",
           "y": [
            "<5",
            "5-9",
            "10-14",
            "15-19",
            "20-24",
            "25-29",
            "30-34",
            "35-39",
            "40-44",
            "45-49",
            "50-54",
            "55-59",
            "60-64",
            "65-69",
            "70-74",
            "75<"
           ],
           "yaxis": "y"
          }
         ],
         "name": "1993"
        },
        {
         "data": [
          {
           "alignmentgroup": "True",
           "hovertemplate": "Sex=Female<br>Year=1994<br>Population=%{x}<br>Age range (years)=%{y}<extra></extra>",
           "legendgroup": "Female",
           "marker": {
            "color": "#636efa",
            "pattern": {
             "shape": ""
            }
           },
           "name": "Female",
           "offsetgroup": "Female",
           "orientation": "h",
           "showlegend": true,
           "textposition": "auto",
           "type": "bar",
           "x": [
            1885913,
            1847564,
            1774906,
            1669069,
            2058982,
            2322131,
            2247989,
            1979456,
            1912114,
            2004839,
            1600494,
            1502598,
            1458499,
            1430875,
            1421709,
            2597077
           ],
           "xaxis": "x",
           "y": [
            "<5",
            "5-9",
            "10-14",
            "15-19",
            "20-24",
            "25-29",
            "30-34",
            "35-39",
            "40-44",
            "45-49",
            "50-54",
            "55-59",
            "60-64",
            "65-69",
            "70-74",
            "75<"
           ],
           "yaxis": "y"
          },
          {
           "alignmentgroup": "True",
           "hovertemplate": "Sex=Male<br>Year=1994<br>Population=%{x}<br>Age range (years)=%{y}<extra></extra>",
           "legendgroup": "Male",
           "marker": {
            "color": "#EF553B",
            "pattern": {
             "shape": ""
            }
           },
           "name": "Male",
           "offsetgroup": "Male",
           "orientation": "h",
           "showlegend": true,
           "textposition": "auto",
           "type": "bar",
           "x": [
            1973404,
            1932803,
            1853130,
            1727122,
            2093964,
            2304025,
            2221234,
            1952598,
            1893491,
            1992982,
            1587189,
            1476037,
            1370049,
            1252191,
            1096325,
            1347258
           ],
           "xaxis": "x",
           "y": [
            "<5",
            "5-9",
            "10-14",
            "15-19",
            "20-24",
            "25-29",
            "30-34",
            "35-39",
            "40-44",
            "45-49",
            "50-54",
            "55-59",
            "60-64",
            "65-69",
            "70-74",
            "75<"
           ],
           "yaxis": "y"
          }
         ],
         "name": "1994"
        },
        {
         "data": [
          {
           "alignmentgroup": "True",
           "hovertemplate": "Sex=Female<br>Year=1995<br>Population=%{x}<br>Age range (years)=%{y}<extra></extra>",
           "legendgroup": "Female",
           "marker": {
            "color": "#636efa",
            "pattern": {
             "shape": ""
            }
           },
           "name": "Female",
           "offsetgroup": "Female",
           "orientation": "h",
           "showlegend": true,
           "textposition": "auto",
           "type": "bar",
           "x": [
            1870568,
            1866689,
            1781389,
            1676425,
            1985833,
            2290194,
            2300038,
            2025915,
            1894093,
            2035717,
            1647241,
            1518336,
            1440748,
            1419008,
            1415458,
            2619804
           ],
           "xaxis": "x",
           "y": [
            "<5",
            "5-9",
            "10-14",
            "15-19",
            "20-24",
            "25-29",
            "30-34",
            "35-39",
            "40-44",
            "45-49",
            "50-54",
            "55-59",
            "60-64",
            "65-69",
            "70-74",
            "75<"
           ],
           "yaxis": "y"
          },
          {
           "alignmentgroup": "True",
           "hovertemplate": "Sex=Male<br>Year=1995<br>Population=%{x}<br>Age range (years)=%{y}<extra></extra>",
           "legendgroup": "Male",
           "marker": {
            "color": "#EF553B",
            "pattern": {
             "shape": ""
            }
           },
           "name": "Male",
           "offsetgroup": "Male",
           "orientation": "h",
           "showlegend": true,
           "textposition": "auto",
           "type": "bar",
           "x": [
            1960584,
            1952586,
            1859703,
            1728890,
            2015843,
            2272419,
            2268033,
            1996284,
            1874199,
            2020520,
            1633044,
            1489743,
            1363414,
            1246694,
            1100296,
            1373764
           ],
           "xaxis": "x",
           "y": [
            "<5",
            "5-9",
            "10-14",
            "15-19",
            "20-24",
            "25-29",
            "30-34",
            "35-39",
            "40-44",
            "45-49",
            "50-54",
            "55-59",
            "60-64",
            "65-69",
            "70-74",
            "75<"
           ],
           "yaxis": "y"
          }
         ],
         "name": "1995"
        },
        {
         "data": [
          {
           "alignmentgroup": "True",
           "hovertemplate": "Sex=Female<br>Year=1996<br>Population=%{x}<br>Age range (years)=%{y}<extra></extra>",
           "legendgroup": "Female",
           "marker": {
            "color": "#636efa",
            "pattern": {
             "shape": ""
            }
           },
           "name": "Female",
           "offsetgroup": "Female",
           "orientation": "h",
           "showlegend": true,
           "textposition": "auto",
           "type": "bar",
           "x": [
            1840604,
            1883387,
            1789024,
            1701495,
            1906722,
            2255701,
            2336402,
            2079651,
            1891566,
            2050832,
            1706234,
            1518939,
            1429178,
            1410950,
            1369047,
            2679432
           ],
           "xaxis": "x",
           "y": [
            "<5",
            "5-9",
            "10-14",
            "15-19",
            "20-24",
            "25-29",
            "30-34",
            "35-39",
            "40-44",
            "45-49",
            "50-54",
            "55-59",
            "60-64",
            "65-69",
            "70-74",
            "75<"
           ],
           "yaxis": "y"
          },
          {
           "alignmentgroup": "True",
           "hovertemplate": "Sex=Male<br>Year=1996<br>Population=%{x}<br>Age range (years)=%{y}<extra></extra>",
           "legendgroup": "Male",
           "marker": {
            "color": "#EF553B",
            "pattern": {
             "shape": ""
            }
           },
           "name": "Male",
           "offsetgroup": "Male",
           "orientation": "h",
           "showlegend": true,
           "textposition": "auto",
           "type": "bar",
           "x": [
            1933353,
            1970160,
            1870040,
            1750147,
            1933769,
            2241369,
            2301311,
            2050428,
            1871134,
            2033151,
            1690920,
            1488833,
            1360692,
            1244366,
            1076619,
            1429131
           ],
           "xaxis": "x",
           "y": [
            "<5",
            "5-9",
            "10-14",
            "15-19",
            "20-24",
            "25-29",
            "30-34",
            "35-39",
            "40-44",
            "45-49",
            "50-54",
            "55-59",
            "60-64",
            "65-69",
            "70-74",
            "75<"
           ],
           "yaxis": "y"
          }
         ],
         "name": "1996"
        },
        {
         "data": [
          {
           "alignmentgroup": "True",
           "hovertemplate": "Sex=Female<br>Year=1997<br>Population=%{x}<br>Age range (years)=%{y}<extra></extra>",
           "legendgroup": "Female",
           "marker": {
            "color": "#636efa",
            "pattern": {
             "shape": ""
            }
           },
           "name": "Female",
           "offsetgroup": "Female",
           "orientation": "h",
           "showlegend": true,
           "textposition": "auto",
           "type": "bar",
           "x": [
            1809056,
            1897983,
            1803341,
            1734259,
            1821161,
            2221432,
            2355428,
            2135946,
            1910183,
            2009669,
            1811122,
            1517693,
            1427592,
            1401786,
            1333725,
            2719846
           ],
           "xaxis": "x",
           "y": [
            "<5",
            "5-9",
            "10-14",
            "15-19",
            "20-24",
            "25-29",
            "30-34",
            "35-39",
            "40-44",
            "45-49",
            "50-54",
            "55-59",
            "60-64",
            "65-69",
            "70-74",
            "75<"
           ],
           "yaxis": "y"
          },
          {
           "alignmentgroup": "True",
           "hovertemplate": "Sex=Male<br>Year=1997<br>Population=%{x}<br>Age range (years)=%{y}<extra></extra>",
           "legendgroup": "Male",
           "marker": {
            "color": "#EF553B",
            "pattern": {
             "shape": ""
            }
           },
           "name": "Male",
           "offsetgroup": "Male",
           "orientation": "h",
           "showlegend": true,
           "textposition": "auto",
           "type": "bar",
           "x": [
            1903305,
            1987346,
            1887324,
            1781353,
            1844296,
            2204975,
            2319011,
            2103912,
            1887474,
            1987958,
            1794404,
            1485676,
            1364021,
            1242984,
            1061814,
            1473237
           ],
           "xaxis": "x",
           "y": [
            "<5",
            "5-9",
            "10-14",
            "15-19",
            "20-24",
            "25-29",
            "30-34",
            "35-39",
            "40-44",
            "45-49",
            "50-54",
            "55-59",
            "60-64",
            "65-69",
            "70-74",
            "75<"
           ],
           "yaxis": "y"
          }
         ],
         "name": "1997"
        },
        {
         "data": [
          {
           "alignmentgroup": "True",
           "hovertemplate": "Sex=Female<br>Year=1998<br>Population=%{x}<br>Age range (years)=%{y}<extra></extra>",
           "legendgroup": "Female",
           "marker": {
            "color": "#636efa",
            "pattern": {
             "shape": ""
            }
           },
           "name": "Female",
           "offsetgroup": "Female",
           "orientation": "h",
           "showlegend": true,
           "textposition": "auto",
           "type": "bar",
           "x": [
            1785667,
            1896450,
            1827915,
            1766256,
            1754132,
            2175709,
            2357606,
            2189900,
            1941946,
            1938113,
            1921744,
            1536274,
            1438110,
            1391760,
            1308970,
            2749347
           ],
           "xaxis": "x",
           "y": [
            "<5",
            "5-9",
            "10-14",
            "15-19",
            "20-24",
            "25-29",
            "30-34",
            "35-39",
            "40-44",
            "45-49",
            "50-54",
            "55-59",
            "60-64",
            "65-69",
            "70-74",
            "75<"
           ],
           "yaxis": "y"
          },
          {
           "alignmentgroup": "True",
           "hovertemplate": "Sex=Male<br>Year=1998<br>Population=%{x}<br>Age range (years)=%{y}<extra></extra>",
           "legendgroup": "Male",
           "marker": {
            "color": "#EF553B",
            "pattern": {
             "shape": ""
            }
           },
           "name": "Male",
           "offsetgroup": "Male",
           "orientation": "h",
           "showlegend": true,
           "textposition": "auto",
           "type": "bar",
           "x": [
            1879054,
            1988071,
            1915741,
            1814423,
            1770239,
            2155120,
            2320779,
            2153184,
            1915879,
            1913626,
            1901546,
            1502125,
            1378198,
            1241913,
            1054068,
            1510731
           ],
           "xaxis": "x",
           "y": [
            "<5",
            "5-9",
            "10-14",
            "15-19",
            "20-24",
            "25-29",
            "30-34",
            "35-39",
            "40-44",
            "45-49",
            "50-54",
            "55-59",
            "60-64",
            "65-69",
            "70-74",
            "75<"
           ],
           "yaxis": "y"
          }
         ],
         "name": "1998"
        },
        {
         "data": [
          {
           "alignmentgroup": "True",
           "hovertemplate": "Sex=Female<br>Year=1999<br>Population=%{x}<br>Age range (years)=%{y}<extra></extra>",
           "legendgroup": "Female",
           "marker": {
            "color": "#636efa",
            "pattern": {
             "shape": ""
            }
           },
           "name": "Female",
           "offsetgroup": "Female",
           "orientation": "h",
           "showlegend": true,
           "textposition": "auto",
           "type": "bar",
           "x": [
            1764921,
            1886011,
            1855431,
            1783199,
            1727583,
            2119646,
            2346228,
            2244779,
            1980071,
            1901142,
            1981724,
            1572831,
            1457073,
            1379235,
            1293077,
            2768317
           ],
           "xaxis": "x",
           "y": [
            "<5",
            "5-9",
            "10-14",
            "15-19",
            "20-24",
            "25-29",
            "30-34",
            "35-39",
            "40-44",
            "45-49",
            "50-54",
            "55-59",
            "60-64",
            "65-69",
            "70-74",
            "75<"
           ],
           "yaxis": "y"
          },
          {
           "alignmentgroup": "True",
           "hovertemplate": "Sex=Male<br>Year=1999<br>Population=%{x}<br>Age range (years)=%{y}<extra></extra>",
           "legendgroup": "Male",
           "marker": {
            "color": "#EF553B",
            "pattern": {
             "shape": ""
            }
           },
           "name": "Male",
           "offsetgroup": "Male",
           "orientation": "h",
           "showlegend": true,
           "textposition": "auto",
           "type": "bar",
           "x": [
            1856700,
            1978715,
            1946133,
            1834425,
            1739124,
            2097063,
            2308423,
            2203513,
            1951126,
            1875377,
            1957467,
            1538336,
            1398878,
            1239331,
            1051746,
            1542060
           ],
           "xaxis": "x",
           "y": [
            "<5",
            "5-9",
            "10-14",
            "15-19",
            "20-24",
            "25-29",
            "30-34",
            "35-39",
            "40-44",
            "45-49",
            "50-54",
            "55-59",
            "60-64",
            "65-69",
            "70-74",
            "75<"
           ],
           "yaxis": "y"
          }
         ],
         "name": "1999"
        },
        {
         "data": [
          {
           "alignmentgroup": "True",
           "hovertemplate": "Sex=Female<br>Year=2000<br>Population=%{x}<br>Age range (years)=%{y}<extra></extra>",
           "legendgroup": "Female",
           "marker": {
            "color": "#636efa",
            "pattern": {
             "shape": ""
            }
           },
           "name": "Female",
           "offsetgroup": "Female",
           "orientation": "h",
           "showlegend": true,
           "textposition": "auto",
           "type": "bar",
           "x": [
            1743526,
            1867762,
            1873216,
            1784565,
            1738409,
            2064205,
            2326481,
            2300062,
            2026744,
            1887102,
            2014287,
            1618946,
            1474065,
            1367026,
            1285351,
            2779037
           ],
           "xaxis": "x",
           "y": [
            "<5",
            "5-9",
            "10-14",
            "15-19",
            "20-24",
            "25-29",
            "30-34",
            "35-39",
            "40-44",
            "45-49",
            "50-54",
            "55-59",
            "60-64",
            "65-69",
            "70-74",
            "75<"
           ],
           "yaxis": "y"
          },
          {
           "alignmentgroup": "True",
           "hovertemplate": "Sex=Male<br>Year=2000<br>Population=%{x}<br>Age range (years)=%{y}<extra></extra>",
           "legendgroup": "Male",
           "marker": {
            "color": "#EF553B",
            "pattern": {
             "shape": ""
            }
           },
           "name": "Male",
           "offsetgroup": "Male",
           "orientation": "h",
           "showlegend": true,
           "textposition": "auto",
           "type": "bar",
           "x": [
            1832435,
            1962222,
            1965032,
            1844518,
            1747015,
            2040541,
            2289224,
            2253732,
            1995571,
            1858412,
            1985469,
            1584455,
            1414596,
            1238284,
            1053178,
            1569778
           ],
           "xaxis": "x",
           "y": [
            "<5",
            "5-9",
            "10-14",
            "15-19",
            "20-24",
            "25-29",
            "30-34",
            "35-39",
            "40-44",
            "45-49",
            "50-54",
            "55-59",
            "60-64",
            "65-69",
            "70-74",
            "75<"
           ],
           "yaxis": "y"
          }
         ],
         "name": "2000"
        },
        {
         "data": [
          {
           "alignmentgroup": "True",
           "hovertemplate": "Sex=Female<br>Year=2001<br>Population=%{x}<br>Age range (years)=%{y}<extra></extra>",
           "legendgroup": "Female",
           "marker": {
            "color": "#636efa",
            "pattern": {
             "shape": ""
            }
           },
           "name": "Female",
           "offsetgroup": "Female",
           "orientation": "h",
           "showlegend": true,
           "textposition": "auto",
           "type": "bar",
           "x": [
            1715396,
            1837790,
            1887369,
            1790839,
            1770221,
            2001786,
            2304770,
            2341920,
            2080504,
            1887566,
            2027664,
            1678717,
            1476522,
            1360256,
            1282541,
            2794485
           ],
           "xaxis": "x",
           "y": [
            "<5",
            "5-9",
            "10-14",
            "15-19",
            "20-24",
            "25-29",
            "30-34",
            "35-39",
            "40-44",
            "45-49",
            "50-54",
            "55-59",
            "60-64",
            "65-69",
            "70-74",
            "75<"
           ],
           "yaxis": "y"
          },
          {
           "alignmentgroup": "True",
           "hovertemplate": "Sex=Male<br>Year=2001<br>Population=%{x}<br>Age range (years)=%{y}<extra></extra>",
           "legendgroup": "Male",
           "marker": {
            "color": "#EF553B",
            "pattern": {
             "shape": ""
            }
           },
           "name": "Male",
           "offsetgroup": "Male",
           "orientation": "h",
           "showlegend": true,
           "textposition": "auto",
           "type": "bar",
           "x": [
            1801197,
            1931321,
            1981954,
            1864473,
            1774532,
            1983452,
            2270391,
            2292905,
            2047027,
            1857721,
            1994387,
            1643306,
            1415790,
            1242360,
            1058525,
            1602094
           ],
           "xaxis": "x",
           "y": [
            "<5",
            "5-9",
            "10-14",
            "15-19",
            "20-24",
            "25-29",
            "30-34",
            "35-39",
            "40-44",
            "45-49",
            "50-54",
            "55-59",
            "60-64",
            "65-69",
            "70-74",
            "75<"
           ],
           "yaxis": "y"
          }
         ],
         "name": "2001"
        },
        {
         "data": [
          {
           "alignmentgroup": "True",
           "hovertemplate": "Sex=Female<br>Year=2002<br>Population=%{x}<br>Age range (years)=%{y}<extra></extra>",
           "legendgroup": "Female",
           "marker": {
            "color": "#636efa",
            "pattern": {
             "shape": ""
            }
           },
           "name": "Female",
           "offsetgroup": "Female",
           "orientation": "h",
           "showlegend": true,
           "textposition": "auto",
           "type": "bar",
           "x": [
            1686405,
            1812668,
            1902869,
            1811810,
            1812314,
            1927780,
            2281318,
            2367967,
            2136466,
            1904457,
            1987280,
            1781118,
            1474701,
            1360957,
            1279258,
            2809582
           ],
           "xaxis": "x",
           "y": [
            "<5",
            "5-9",
            "10-14",
            "15-19",
            "20-24",
            "25-29",
            "30-34",
            "35-39",
            "40-44",
            "45-49",
            "50-54",
            "55-59",
            "60-64",
            "65-69",
            "70-74",
            "75<"
           ],
           "yaxis": "y"
          },
          {
           "alignmentgroup": "True",
           "hovertemplate": "Sex=Male<br>Year=2002<br>Population=%{x}<br>Age range (years)=%{y}<extra></extra>",
           "legendgroup": "Male",
           "marker": {
            "color": "#EF553B",
            "pattern": {
             "shape": ""
            }
           },
           "name": "Male",
           "offsetgroup": "Male",
           "orientation": "h",
           "showlegend": true,
           "textposition": "auto",
           "type": "bar",
           "x": [
            1767791,
            1905047,
            1996672,
            1899913,
            1811025,
            1922414,
            2243929,
            2320700,
            2103820,
            1872136,
            1951068,
            1743437,
            1413072,
            1251202,
            1064817,
            1635571
           ],
           "xaxis": "x",
           "y": [
            "<5",
            "5-9",
            "10-14",
            "15-19",
            "20-24",
            "25-29",
            "30-34",
            "35-39",
            "40-44",
            "45-49",
            "50-54",
            "55-59",
            "60-64",
            "65-69",
            "70-74",
            "75<"
           ],
           "yaxis": "y"
          }
         ],
         "name": "2002"
        },
        {
         "data": [
          {
           "alignmentgroup": "True",
           "hovertemplate": "Sex=Female<br>Year=2003<br>Population=%{x}<br>Age range (years)=%{y}<extra></extra>",
           "legendgroup": "Female",
           "marker": {
            "color": "#636efa",
            "pattern": {
             "shape": ""
            }
           },
           "name": "Female",
           "offsetgroup": "Female",
           "orientation": "h",
           "showlegend": true,
           "textposition": "auto",
           "type": "bar",
           "x": [
            1666986,
            1798839,
            1905977,
            1846821,
            1854933,
            1871602,
            2245825,
            2376950,
            2192186,
            1934774,
            1917886,
            1885994,
            1492119,
            1371588,
            1274587,
            2815173
           ],
           "xaxis": "x",
           "y": [
            "<5",
            "5-9",
            "10-14",
            "15-19",
            "20-24",
            "25-29",
            "30-34",
            "35-39",
            "40-44",
            "45-49",
            "50-54",
            "55-59",
            "60-64",
            "65-69",
            "70-74",
            "75<"
           ],
           "yaxis": "y"
          },
          {
           "alignmentgroup": "True",
           "hovertemplate": "Sex=Male<br>Year=2003<br>Population=%{x}<br>Age range (years)=%{y}<extra></extra>",
           "legendgroup": "Male",
           "marker": {
            "color": "#EF553B",
            "pattern": {
             "shape": ""
            }
           },
           "name": "Male",
           "offsetgroup": "Male",
           "orientation": "h",
           "showlegend": true,
           "textposition": "auto",
           "type": "bar",
           "x": [
            1747455,
            1890798,
            1996273,
            1937537,
            1852054,
            1872514,
            2205049,
            2335438,
            2158224,
            1900361,
            1881578,
            1845756,
            1427762,
            1265894,
            1069453,
            1663008
           ],
           "xaxis": "x",
           "y": [
            "<5",
            "5-9",
            "10-14",
            "15-19",
            "20-24",
            "25-29",
            "30-34",
            "35-39",
            "40-44",
            "45-49",
            "50-54",
            "55-59",
            "60-64",
            "65-69",
            "70-74",
            "75<"
           ],
           "yaxis": "y"
          }
         ],
         "name": "2003"
        },
        {
         "data": [
          {
           "alignmentgroup": "True",
           "hovertemplate": "Sex=Female<br>Year=2004<br>Population=%{x}<br>Age range (years)=%{y}<extra></extra>",
           "legendgroup": "Female",
           "marker": {
            "color": "#636efa",
            "pattern": {
             "shape": ""
            }
           },
           "name": "Female",
           "offsetgroup": "Female",
           "orientation": "h",
           "showlegend": true,
           "textposition": "auto",
           "type": "bar",
           "x": [
            1660068,
            1787189,
            1898347,
            1884315,
            1892988,
            1857532,
            2192597,
            2370437,
            2248063,
            1971420,
            1877455,
            1941033,
            1527297,
            1388964,
            1266565,
            2818221
           ],
           "xaxis": "x",
           "y": [
            "<5",
            "5-9",
            "10-14",
            "15-19",
            "20-24",
            "25-29",
            "30-34",
            "35-39",
            "40-44",
            "45-49",
            "50-54",
            "55-59",
            "60-64",
            "65-69",
            "70-74",
            "75<"
           ],
           "yaxis": "y"
          },
          {
           "alignmentgroup": "True",
           "hovertemplate": "Sex=Male<br>Year=2004<br>Population=%{x}<br>Age range (years)=%{y}<extra></extra>",
           "legendgroup": "Male",
           "marker": {
            "color": "#EF553B",
            "pattern": {
             "shape": ""
            }
           },
           "name": "Male",
           "offsetgroup": "Male",
           "orientation": "h",
           "showlegend": true,
           "textposition": "auto",
           "type": "bar",
           "x": [
            1745077,
            1877320,
            1989442,
            1962592,
            1901812,
            1852619,
            2157989,
            2330308,
            2205927,
            1940070,
            1841268,
            1899192,
            1461816,
            1284104,
            1071837,
            1689895
           ],
           "xaxis": "x",
           "y": [
            "<5",
            "5-9",
            "10-14",
            "15-19",
            "20-24",
            "25-29",
            "30-34",
            "35-39",
            "40-44",
            "45-49",
            "50-54",
            "55-59",
            "60-64",
            "65-69",
            "70-74",
            "75<"
           ],
           "yaxis": "y"
          }
         ],
         "name": "2004"
        },
        {
         "data": [
          {
           "alignmentgroup": "True",
           "hovertemplate": "Sex=Female<br>Year=2005<br>Population=%{x}<br>Age range (years)=%{y}<extra></extra>",
           "legendgroup": "Female",
           "marker": {
            "color": "#636efa",
            "pattern": {
             "shape": ""
            }
           },
           "name": "Female",
           "offsetgroup": "Female",
           "orientation": "h",
           "showlegend": true,
           "textposition": "auto",
           "type": "bar",
           "x": [
            1669420,
            1771496,
            1886308,
            1911386,
            1936368,
            1892523,
            2139213,
            2352806,
            2304192,
            2015253,
            1859128,
            1968819,
            1568631,
            1402976,
            1257365,
            2827076
           ],
           "xaxis": "x",
           "y": [
            "<5",
            "5-9",
            "10-14",
            "15-19",
            "20-24",
            "25-29",
            "30-34",
            "35-39",
            "40-44",
            "45-49",
            "50-54",
            "55-59",
            "60-64",
            "65-69",
            "70-74",
            "75<"
           ],
           "yaxis": "y"
          },
          {
           "alignmentgroup": "True",
           "hovertemplate": "Sex=Male<br>Year=2005<br>Population=%{x}<br>Age range (years)=%{y}<extra></extra>",
           "legendgroup": "Male",
           "marker": {
            "color": "#EF553B",
            "pattern": {
             "shape": ""
            }
           },
           "name": "Male",
           "offsetgroup": "Male",
           "orientation": "h",
           "showlegend": true,
           "textposition": "auto",
           "type": "bar",
           "x": [
            1755357,
            1860683,
            1979199,
            1973938,
            1953418,
            1879098,
            2109304,
            2314161,
            2256968,
            1986301,
            1824384,
            1926002,
            1505374,
            1297888,
            1075863,
            1721152
           ],
           "xaxis": "x",
           "y": [
            "<5",
            "5-9",
            "10-14",
            "15-19",
            "20-24",
            "25-29",
            "30-34",
            "35-39",
            "40-44",
            "45-49",
            "50-54",
            "55-59",
            "60-64",
            "65-69",
            "70-74",
            "75<"
           ],
           "yaxis": "y"
          }
         ],
         "name": "2005"
        },
        {
         "data": [
          {
           "alignmentgroup": "True",
           "hovertemplate": "Sex=Female<br>Year=2006<br>Population=%{x}<br>Age range (years)=%{y}<extra></extra>",
           "legendgroup": "Female",
           "marker": {
            "color": "#636efa",
            "pattern": {
             "shape": ""
            }
           },
           "name": "Female",
           "offsetgroup": "Female",
           "orientation": "h",
           "showlegend": true,
           "textposition": "auto",
           "type": "bar",
           "x": [
            1693873,
            1750388,
            1868452,
            1929856,
            1983089,
            1950158,
            2087709,
            2332974,
            2347387,
            2068326,
            1858043,
            1981849,
            1621675,
            1400557,
            1251686,
            2842961
           ],
           "xaxis": "x",
           "y": [
            "<5",
            "5-9",
            "10-14",
            "15-19",
            "20-24",
            "25-29",
            "30-34",
            "35-39",
            "40-44",
            "45-49",
            "50-54",
            "55-59",
            "60-64",
            "65-69",
            "70-74",
            "75<"
           ],
           "yaxis": "y"
          },
          {
           "alignmentgroup": "True",
           "hovertemplate": "Sex=Male<br>Year=2006<br>Population=%{x}<br>Age range (years)=%{y}<extra></extra>",
           "legendgroup": "Male",
           "marker": {
            "color": "#EF553B",
            "pattern": {
             "shape": ""
            }
           },
           "name": "Male",
           "offsetgroup": "Male",
           "orientation": "h",
           "showlegend": true,
           "textposition": "auto",
           "type": "bar",
           "x": [
            1778413,
            1836634,
            1959986,
            1993663,
            1991480,
            1933946,
            2058325,
            2296857,
            2298628,
            2040649,
            1824879,
            1937619,
            1560856,
            1297685,
            1083633,
            1758125
           ],
           "xaxis": "x",
           "y": [
            "<5",
            "5-9",
            "10-14",
            "15-19",
            "20-24",
            "25-29",
            "30-34",
            "35-39",
            "40-44",
            "45-49",
            "50-54",
            "55-59",
            "60-64",
            "65-69",
            "70-74",
            "75<"
           ],
           "yaxis": "y"
          }
         ],
         "name": "2006"
        },
        {
         "data": [
          {
           "alignmentgroup": "True",
           "hovertemplate": "Sex=Female<br>Year=2007<br>Population=%{x}<br>Age range (years)=%{y}<extra></extra>",
           "legendgroup": "Female",
           "marker": {
            "color": "#636efa",
            "pattern": {
             "shape": ""
            }
           },
           "name": "Female",
           "offsetgroup": "Female",
           "orientation": "h",
           "showlegend": true,
           "textposition": "auto",
           "type": "bar",
           "x": [
            1732577,
            1723358,
            1852519,
            1947548,
            2020147,
            2014361,
            2025042,
            2315031,
            2374811,
            2125279,
            1876708,
            1942298,
            1719555,
            1395616,
            1252507,
            2861088
           ],
           "xaxis": "x",
           "y": [
            "<5",
            "5-9",
            "10-14",
            "15-19",
            "20-24",
            "25-29",
            "30-34",
            "35-39",
            "40-44",
            "45-49",
            "50-54",
            "55-59",
            "60-64",
            "65-69",
            "70-74",
            "75<"
           ],
           "yaxis": "y"
          },
          {
           "alignmentgroup": "True",
           "hovertemplate": "Sex=Male<br>Year=2007<br>Population=%{x}<br>Age range (years)=%{y}<extra></extra>",
           "legendgroup": "Male",
           "marker": {
            "color": "#EF553B",
            "pattern": {
             "shape": ""
            }
           },
           "name": "Male",
           "offsetgroup": "Male",
           "orientation": "h",
           "showlegend": true,
           "textposition": "auto",
           "type": "bar",
           "x": [
            1819500,
            1805674,
            1943333,
            2022660,
            2027309,
            1997156,
            2002034,
            2276610,
            2323005,
            2093641,
            1843050,
            1894554,
            1656856,
            1295782,
            1095360,
            1798310
           ],
           "xaxis": "x",
           "y": [
            "<5",
            "5-9",
            "10-14",
            "15-19",
            "20-24",
            "25-29",
            "30-34",
            "35-39",
            "40-44",
            "45-49",
            "50-54",
            "55-59",
            "60-64",
            "65-69",
            "70-74",
            "75<"
           ],
           "yaxis": "y"
          }
         ],
         "name": "2007"
        },
        {
         "data": [
          {
           "alignmentgroup": "True",
           "hovertemplate": "Sex=Female<br>Year=2008<br>Population=%{x}<br>Age range (years)=%{y}<extra></extra>",
           "legendgroup": "Female",
           "marker": {
            "color": "#636efa",
            "pattern": {
             "shape": ""
            }
           },
           "name": "Female",
           "offsetgroup": "Female",
           "orientation": "h",
           "showlegend": true,
           "textposition": "auto",
           "type": "bar",
           "x": [
            1783918,
            1698966,
            1841539,
            1959771,
            2053778,
            2077955,
            1980208,
            2284903,
            2383866,
            2183344,
            1908783,
            1873319,
            1824311,
            1413237,
            1264358,
            2875042
           ],
           "xaxis": "x",
           "y": [
            "<5",
            "5-9",
            "10-14",
            "15-19",
            "20-24",
            "25-29",
            "30-34",
            "35-39",
            "40-44",
            "45-49",
            "50-54",
            "55-59",
            "60-64",
            "65-69",
            "70-74",
            "75<"
           ],
           "yaxis": "y"
          },
          {
           "alignmentgroup": "True",
           "hovertemplate": "Sex=Male<br>Year=2008<br>Population=%{x}<br>Age range (years)=%{y}<extra></extra>",
           "legendgroup": "Male",
           "marker": {
            "color": "#EF553B",
            "pattern": {
             "shape": ""
            }
           },
           "name": "Male",
           "offsetgroup": "Male",
           "orientation": "h",
           "showlegend": true,
           "textposition": "auto",
           "type": "bar",
           "x": [
            1872843,
            1780827,
            1932950,
            2035250,
            2059209,
            2066421,
            1965650,
            2247452,
            2334215,
            2143086,
            1877146,
            1825350,
            1758229,
            1314291,
            1114933,
            1836497
           ],
           "xaxis": "x",
           "y": [
            "<5",
            "5-9",
            "10-14",
            "15-19",
            "20-24",
            "25-29",
            "30-34",
            "35-39",
            "40-44",
            "45-49",
            "50-54",
            "55-59",
            "60-64",
            "65-69",
            "70-74",
            "75<"
           ],
           "yaxis": "y"
          }
         ],
         "name": "2008"
        },
        {
         "data": [
          {
           "alignmentgroup": "True",
           "hovertemplate": "Sex=Female<br>Year=2009<br>Population=%{x}<br>Age range (years)=%{y}<extra></extra>",
           "legendgroup": "Female",
           "marker": {
            "color": "#636efa",
            "pattern": {
             "shape": ""
            }
           },
           "name": "Female",
           "offsetgroup": "Female",
           "orientation": "h",
           "showlegend": true,
           "textposition": "auto",
           "type": "bar",
           "x": [
            1832083,
            1687836,
            1828160,
            1965817,
            2075257,
            2118573,
            1973565,
            2240758,
            2377248,
            2241079,
            1947800,
            1838031,
            1880727,
            1450517,
            1283104,
            2885265
           ],
           "xaxis": "x",
           "y": [
            "<5",
            "5-9",
            "10-14",
            "15-19",
            "20-24",
            "25-29",
            "30-34",
            "35-39",
            "40-44",
            "45-49",
            "50-54",
            "55-59",
            "60-64",
            "65-69",
            "70-74",
            "75<"
           ],
           "yaxis": "y"
          },
          {
           "alignmentgroup": "True",
           "hovertemplate": "Sex=Male<br>Year=2009<br>Population=%{x}<br>Age range (years)=%{y}<extra></extra>",
           "legendgroup": "Male",
           "marker": {
            "color": "#EF553B",
            "pattern": {
             "shape": ""
            }
           },
           "name": "Male",
           "offsetgroup": "Male",
           "orientation": "h",
           "showlegend": true,
           "textposition": "auto",
           "type": "bar",
           "x": [
            1920388,
            1770875,
            1920388,
            2040878,
            2068549,
            2108397,
            1969369,
            2202707,
            2332457,
            2195022,
            1918428,
            1791846,
            1813329,
            1353102,
            1138549,
            1872239
           ],
           "xaxis": "x",
           "y": [
            "<5",
            "5-9",
            "10-14",
            "15-19",
            "20-24",
            "25-29",
            "30-34",
            "35-39",
            "40-44",
            "45-49",
            "50-54",
            "55-59",
            "60-64",
            "65-69",
            "70-74",
            "75<"
           ],
           "yaxis": "y"
          }
         ],
         "name": "2009"
        },
        {
         "data": [
          {
           "alignmentgroup": "True",
           "hovertemplate": "Sex=Female<br>Year=2010<br>Population=%{x}<br>Age range (years)=%{y}<extra></extra>",
           "legendgroup": "Female",
           "marker": {
            "color": "#636efa",
            "pattern": {
             "shape": ""
            }
           },
           "name": "Female",
           "offsetgroup": "Female",
           "orientation": "h",
           "showlegend": true,
           "textposition": "auto",
           "type": "bar",
           "x": [
            1871199,
            1692237,
            1813130,
            1963973,
            2086317,
            2141415,
            2001261,
            2189684,
            2360906,
            2296236,
            1993483,
            1824530,
            1911209,
            1494893,
            1297672,
            2903083
           ],
           "xaxis": "x",
           "y": [
            "<5",
            "5-9",
            "10-14",
            "15-19",
            "20-24",
            "25-29",
            "30-34",
            "35-39",
            "40-44",
            "45-49",
            "50-54",
            "55-59",
            "60-64",
            "65-69",
            "70-74",
            "75<"
           ],
           "yaxis": "y"
          },
          {
           "alignmentgroup": "True",
           "hovertemplate": "Sex=Male<br>Year=2010<br>Population=%{x}<br>Age range (years)=%{y}<extra></extra>",
           "legendgroup": "Male",
           "marker": {
            "color": "#EF553B",
            "pattern": {
             "shape": ""
            }
           },
           "name": "Male",
           "offsetgroup": "Male",
           "orientation": "h",
           "showlegend": true,
           "textposition": "auto",
           "type": "bar",
           "x": [
            1960550,
            1774087,
            1906557,
            2045372,
            2088259,
            2120889,
            2001720,
            2152112,
            2314337,
            2247173,
            1963797,
            1779353,
            1843084,
            1400854,
            1156770,
            1914055
           ],
           "xaxis": "x",
           "y": [
            "<5",
            "5-9",
            "10-14",
            "15-19",
            "20-24",
            "25-29",
            "30-34",
            "35-39",
            "40-44",
            "45-49",
            "50-54",
            "55-59",
            "60-64",
            "65-69",
            "70-74",
            "75<"
           ],
           "yaxis": "y"
          }
         ],
         "name": "2010"
        },
        {
         "data": [
          {
           "alignmentgroup": "True",
           "hovertemplate": "Sex=Female<br>Year=2011<br>Population=%{x}<br>Age range (years)=%{y}<extra></extra>",
           "legendgroup": "Female",
           "marker": {
            "color": "#636efa",
            "pattern": {
             "shape": ""
            }
           },
           "name": "Female",
           "offsetgroup": "Female",
           "orientation": "h",
           "showlegend": true,
           "textposition": "auto",
           "type": "bar",
           "x": [
            1903578,
            1712282,
            1794086,
            1949581,
            2111579,
            2157040,
            2050468,
            2127742,
            2343321,
            2339091,
            2048775,
            1826384,
            1928815,
            1549824,
            1298598,
            2929878
           ],
           "xaxis": "x",
           "y": [
            "<5",
            "5-9",
            "10-14",
            "15-19",
            "20-24",
            "25-29",
            "30-34",
            "35-39",
            "40-44",
            "45-49",
            "50-54",
            "55-59",
            "60-64",
            "65-69",
            "70-74",
            "75<"
           ],
           "yaxis": "y"
          },
          {
           "alignmentgroup": "True",
           "hovertemplate": "Sex=Male<br>Year=2011<br>Population=%{x}<br>Age range (years)=%{y}<extra></extra>",
           "legendgroup": "Male",
           "marker": {
            "color": "#EF553B",
            "pattern": {
             "shape": ""
            }
           },
           "name": "Male",
           "offsetgroup": "Male",
           "orientation": "h",
           "showlegend": true,
           "textposition": "auto",
           "type": "bar",
           "x": [
            1995144,
            1794664,
            1884975,
            2037802,
            2139495,
            2138977,
            2046042,
            2098838,
            2290136,
            2286310,
            2014744,
            1782604,
            1859544,
            1458333,
            1160846,
            1963036
           ],
           "xaxis": "x",
           "y": [
            "<5",
            "5-9",
            "10-14",
            "15-19",
            "20-24",
            "25-29",
            "30-34",
            "35-39",
            "40-44",
            "45-49",
            "50-54",
            "55-59",
            "60-64",
            "65-69",
            "70-74",
            "75<"
           ],
           "yaxis": "y"
          }
         ],
         "name": "2011"
        },
        {
         "data": [
          {
           "alignmentgroup": "True",
           "hovertemplate": "Sex=Female<br>Year=2012<br>Population=%{x}<br>Age range (years)=%{y}<extra></extra>",
           "legendgroup": "Female",
           "marker": {
            "color": "#636efa",
            "pattern": {
             "shape": ""
            }
           },
           "name": "Female",
           "offsetgroup": "Female",
           "orientation": "h",
           "showlegend": true,
           "textposition": "auto",
           "type": "bar",
           "x": [
            1934192,
            1751440,
            1763603,
            1927128,
            2135262,
            2164300,
            2104106,
            2059516,
            2325890,
            2364225,
            2108313,
            1848669,
            1891022,
            1650553,
            1300262,
            2960366
           ],
           "xaxis": "x",
           "y": [
            "<5",
            "5-9",
            "10-14",
            "15-19",
            "20-24",
            "25-29",
            "30-34",
            "35-39",
            "40-44",
            "45-49",
            "50-54",
            "55-59",
            "60-64",
            "65-69",
            "70-74",
            "75<"
           ],
           "yaxis": "y"
          },
          {
           "alignmentgroup": "True",
           "hovertemplate": "Sex=Male<br>Year=2012<br>Population=%{x}<br>Age range (years)=%{y}<extra></extra>",
           "legendgroup": "Male",
           "marker": {
            "color": "#EF553B",
            "pattern": {
             "shape": ""
            }
           },
           "name": "Male",
           "offsetgroup": "Male",
           "orientation": "h",
           "showlegend": true,
           "textposition": "auto",
           "type": "bar",
           "x": [
            2027410,
            1837440,
            1850884,
            2022223,
            2180938,
            2151886,
            2090267,
            2038861,
            2267535,
            2306390,
            2069605,
            1804636,
            1819815,
            1558693,
            1164212,
            2015446
           ],
           "xaxis": "x",
           "y": [
            "<5",
            "5-9",
            "10-14",
            "15-19",
            "20-24",
            "25-29",
            "30-34",
            "35-39",
            "40-44",
            "45-49",
            "50-54",
            "55-59",
            "60-64",
            "65-69",
            "70-74",
            "75<"
           ],
           "yaxis": "y"
          }
         ],
         "name": "2012"
        },
        {
         "data": [
          {
           "alignmentgroup": "True",
           "hovertemplate": "Sex=Female<br>Year=2013<br>Population=%{x}<br>Age range (years)=%{y}<extra></extra>",
           "legendgroup": "Female",
           "marker": {
            "color": "#636efa",
            "pattern": {
             "shape": ""
            }
           },
           "name": "Female",
           "offsetgroup": "Female",
           "orientation": "h",
           "showlegend": true,
           "textposition": "auto",
           "type": "bar",
           "x": [
            1954664,
            1806296,
            1734282,
            1901359,
            2133989,
            2172450,
            2154357,
            2009696,
            2294249,
            2374381,
            2166430,
            1883076,
            1827209,
            1756350,
            1321668,
            2990765
           ],
           "xaxis": "x",
           "y": [
            "<5",
            "5-9",
            "10-14",
            "15-19",
            "20-24",
            "25-29",
            "30-34",
            "35-39",
            "40-44",
            "45-49",
            "50-54",
            "55-59",
            "60-64",
            "65-69",
            "70-74",
            "75<"
           ],
           "yaxis": "y"
          },
          {
           "alignmentgroup": "True",
           "hovertemplate": "Sex=Male<br>Year=2013<br>Population=%{x}<br>Age range (years)=%{y}<extra></extra>",
           "legendgroup": "Male",
           "marker": {
            "color": "#EF553B",
            "pattern": {
             "shape": ""
            }
           },
           "name": "Male",
           "offsetgroup": "Male",
           "orientation": "h",
           "showlegend": true,
           "textposition": "auto",
           "type": "bar",
           "x": [
            2050309,
            1894959,
            1819965,
            2003099,
            2189575,
            2161970,
            2129087,
            1991879,
            2237554,
            2311777,
            2123597,
            1837377,
            1755394,
            1661932,
            1185900,
            2069747
           ],
           "xaxis": "x",
           "y": [
            "<5",
            "5-9",
            "10-14",
            "15-19",
            "20-24",
            "25-29",
            "30-34",
            "35-39",
            "40-44",
            "45-49",
            "50-54",
            "55-59",
            "60-64",
            "65-69",
            "70-74",
            "75<"
           ],
           "yaxis": "y"
          }
         ],
         "name": "2013"
        },
        {
         "data": [
          {
           "alignmentgroup": "True",
           "hovertemplate": "Sex=Female<br>Year=2014<br>Population=%{x}<br>Age range (years)=%{y}<extra></extra>",
           "legendgroup": "Female",
           "marker": {
            "color": "#636efa",
            "pattern": {
             "shape": ""
            }
           },
           "name": "Female",
           "offsetgroup": "Female",
           "orientation": "h",
           "showlegend": true,
           "textposition": "auto",
           "type": "bar",
           "x": [
            1961058,
            1859869,
            1721267,
            1881457,
            2123220,
            2187111,
            2185584,
            1998547,
            2247070,
            2372908,
            2225250,
            1923542,
            1799515,
            1812293,
            1360478,
            3028647
           ],
           "xaxis": "x",
           "y": [
            "<5",
            "5-9",
            "10-14",
            "15-19",
            "20-24",
            "25-29",
            "30-34",
            "35-39",
            "40-44",
            "45-49",
            "50-54",
            "55-59",
            "60-64",
            "65-69",
            "70-74",
            "75<"
           ],
           "yaxis": "y"
          },
          {
           "alignmentgroup": "True",
           "hovertemplate": "Sex=Male<br>Year=2014<br>Population=%{x}<br>Age range (years)=%{y}<extra></extra>",
           "legendgroup": "Male",
           "marker": {
            "color": "#EF553B",
            "pattern": {
             "shape": ""
            }
           },
           "name": "Male",
           "offsetgroup": "Male",
           "orientation": "h",
           "showlegend": true,
           "textposition": "auto",
           "type": "bar",
           "x": [
            2058891,
            1950487,
            1805804,
            1984988,
            2190914,
            2184459,
            2156111,
            1981951,
            2196324,
            2306726,
            2175898,
            1876268,
            1726684,
            1714376,
            1225894,
            2127612
           ],
           "xaxis": "x",
           "y": [
            "<5",
            "5-9",
            "10-14",
            "15-19",
            "20-24",
            "25-29",
            "30-34",
            "35-39",
            "40-44",
            "45-49",
            "50-54",
            "55-59",
            "60-64",
            "65-69",
            "70-74",
            "75<"
           ],
           "yaxis": "y"
          }
         ],
         "name": "2014"
        },
        {
         "data": [
          {
           "alignmentgroup": "True",
           "hovertemplate": "Sex=Female<br>Year=2015<br>Population=%{x}<br>Age range (years)=%{y}<extra></extra>",
           "legendgroup": "Female",
           "marker": {
            "color": "#636efa",
            "pattern": {
             "shape": ""
            }
           },
           "name": "Female",
           "offsetgroup": "Female",
           "orientation": "h",
           "showlegend": true,
           "textposition": "auto",
           "type": "bar",
           "x": [
            1963633,
            1907223,
            1725856,
            1866310,
            2113258,
            2203622,
            2197786,
            2027366,
            2195049,
            2359143,
            2284487,
            1972676,
            1789960,
            1845275,
            1406104,
            3061546
           ],
           "xaxis": "x",
           "y": [
            "<5",
            "5-9",
            "10-14",
            "15-19",
            "20-24",
            "25-29",
            "30-34",
            "35-39",
            "40-44",
            "45-49",
            "50-54",
            "55-59",
            "60-64",
            "65-69",
            "70-74",
            "75<"
           ],
           "yaxis": "y"
          },
          {
           "alignmentgroup": "True",
           "hovertemplate": "Sex=Male<br>Year=2015<br>Population=%{x}<br>Age range (years)=%{y}<extra></extra>",
           "legendgroup": "Male",
           "marker": {
            "color": "#EF553B",
            "pattern": {
             "shape": ""
            }
           },
           "name": "Male",
           "offsetgroup": "Male",
           "orientation": "h",
           "showlegend": true,
           "textposition": "auto",
           "type": "bar",
           "x": [
            2063051,
            1999633,
            1809768,
            1970469,
            2191123,
            2213209,
            2171169,
            2009196,
            2149873,
            2292537,
            2227217,
            1924116,
            1716701,
            1742944,
            1273262,
            2179831
           ],
           "xaxis": "x",
           "y": [
            "<5",
            "5-9",
            "10-14",
            "15-19",
            "20-24",
            "25-29",
            "30-34",
            "35-39",
            "40-44",
            "45-49",
            "50-54",
            "55-59",
            "60-64",
            "65-69",
            "70-74",
            "75<"
           ],
           "yaxis": "y"
          }
         ],
         "name": "2015"
        },
        {
         "data": [
          {
           "alignmentgroup": "True",
           "hovertemplate": "Sex=Female<br>Year=2016<br>Population=%{x}<br>Age range (years)=%{y}<extra></extra>",
           "legendgroup": "Female",
           "marker": {
            "color": "#636efa",
            "pattern": {
             "shape": ""
            }
           },
           "name": "Female",
           "offsetgroup": "Female",
           "orientation": "h",
           "showlegend": true,
           "textposition": "auto",
           "type": "bar",
           "x": [
            1959900,
            1950547,
            1750577,
            1849486,
            2092141,
            2223920,
            2205667,
            2074376,
            2138004,
            2345281,
            2331812,
            2029780,
            1795021,
            1866055,
            1460281,
            3080136
           ],
           "xaxis": "x",
           "y": [
            "<5",
            "5-9",
            "10-14",
            "15-19",
            "20-24",
            "25-29",
            "30-34",
            "35-39",
            "40-44",
            "45-49",
            "50-54",
            "55-59",
            "60-64",
            "65-69",
            "70-74",
            "75<"
           ],
           "yaxis": "y"
          },
          {
           "alignmentgroup": "True",
           "hovertemplate": "Sex=Male<br>Year=2016<br>Population=%{x}<br>Age range (years)=%{y}<extra></extra>",
           "legendgroup": "Male",
           "marker": {
            "color": "#EF553B",
            "pattern": {
             "shape": ""
            }
           },
           "name": "Male",
           "offsetgroup": "Male",
           "orientation": "h",
           "showlegend": true,
           "textposition": "auto",
           "type": "bar",
           "x": [
            2060805,
            2045408,
            1836583,
            1951918,
            2182078,
            2252023,
            2189178,
            2054863,
            2098713,
            2279668,
            2266849,
            1978895,
            1722959,
            1759500,
            1328334,
            2218286
           ],
           "xaxis": "x",
           "y": [
            "<5",
            "5-9",
            "10-14",
            "15-19",
            "20-24",
            "25-29",
            "30-34",
            "35-39",
            "40-44",
            "45-49",
            "50-54",
            "55-59",
            "60-64",
            "65-69",
            "70-74",
            "75<"
           ],
           "yaxis": "y"
          }
         ],
         "name": "2016"
        },
        {
         "data": [
          {
           "alignmentgroup": "True",
           "hovertemplate": "Sex=Female<br>Year=2017<br>Population=%{x}<br>Age range (years)=%{y}<extra></extra>",
           "legendgroup": "Female",
           "marker": {
            "color": "#636efa",
            "pattern": {
             "shape": ""
            }
           },
           "name": "Female",
           "offsetgroup": "Female",
           "orientation": "h",
           "showlegend": true,
           "textposition": "auto",
           "type": "bar",
           "x": [
            1943028,
            1989369,
            1794302,
            1820983,
            2063047,
            2241664,
            2213966,
            2127714,
            2075460,
            2331027,
            2359929,
            2090005,
            1819074,
            1831935,
            1557545,
            3105356
           ],
           "xaxis": "x",
           "y": [
            "<5",
            "5-9",
            "10-14",
            "15-19",
            "20-24",
            "25-29",
            "30-34",
            "35-39",
            "40-44",
            "45-49",
            "50-54",
            "55-59",
            "60-64",
            "65-69",
            "70-74",
            "75<"
           ],
           "yaxis": "y"
          },
          {
           "alignmentgroup": "True",
           "hovertemplate": "Sex=Male<br>Year=2017<br>Population=%{x}<br>Age range (years)=%{y}<extra></extra>",
           "legendgroup": "Male",
           "marker": {
            "color": "#EF553B",
            "pattern": {
             "shape": ""
            }
           },
           "name": "Male",
           "offsetgroup": "Male",
           "orientation": "h",
           "showlegend": true,
           "textposition": "auto",
           "type": "bar",
           "x": [
            2044502,
            2086084,
            1884926,
            1920600,
            2167448,
            2284657,
            2201259,
            2103158,
            2041259,
            2266013,
            2290122,
            2035497,
            1747377,
            1723123,
            1424021,
            2259692
           ],
           "xaxis": "x",
           "y": [
            "<5",
            "5-9",
            "10-14",
            "15-19",
            "20-24",
            "25-29",
            "30-34",
            "35-39",
            "40-44",
            "45-49",
            "50-54",
            "55-59",
            "60-64",
            "65-69",
            "70-74",
            "75<"
           ],
           "yaxis": "y"
          }
         ],
         "name": "2017"
        },
        {
         "data": [
          {
           "alignmentgroup": "True",
           "hovertemplate": "Sex=Female<br>Year=2018<br>Population=%{x}<br>Age range (years)=%{y}<extra></extra>",
           "legendgroup": "Female",
           "marker": {
            "color": "#636efa",
            "pattern": {
             "shape": ""
            }
           },
           "name": "Female",
           "offsetgroup": "Female",
           "orientation": "h",
           "showlegend": true,
           "textposition": "auto",
           "type": "bar",
           "x": [
            1924376,
            2014615,
            1851034,
            1790119,
            2040934,
            2243383,
            2228358,
            2179624,
            2028805,
            2301931,
            2371992,
            2149526,
            1855081,
            1772974,
            1660102,
            3150766
           ],
           "xaxis": "x",
           "y": [
            "<5",
            "5-9",
            "10-14",
            "15-19",
            "20-24",
            "25-29",
            "30-34",
            "35-39",
            "40-44",
            "45-49",
            "50-54",
            "55-59",
            "60-64",
            "65-69",
            "70-74",
            "75<"
           ],
           "yaxis": "y"
          },
          {
           "alignmentgroup": "True",
           "hovertemplate": "Sex=Male<br>Year=2018<br>Population=%{x}<br>Age range (years)=%{y}<extra></extra>",
           "legendgroup": "Male",
           "marker": {
            "color": "#EF553B",
            "pattern": {
             "shape": ""
            }
           },
           "name": "Male",
           "offsetgroup": "Male",
           "orientation": "h",
           "showlegend": true,
           "textposition": "auto",
           "type": "bar",
           "x": [
            2024378,
            2112519,
            1944627,
            1888733,
            2153737,
            2301315,
            2219685,
            2148457,
            1996585,
            2239582,
            2299522,
            2090524,
            1782067,
            1665214,
            1522470,
            2320541
           ],
           "xaxis": "x",
           "y": [
            "<5",
            "5-9",
            "10-14",
            "15-19",
            "20-24",
            "25-29",
            "30-34",
            "35-39",
            "40-44",
            "45-49",
            "50-54",
            "55-59",
            "60-64",
            "65-69",
            "70-74",
            "75<"
           ],
           "yaxis": "y"
          }
         ],
         "name": "2018"
        },
        {
         "data": [
          {
           "alignmentgroup": "True",
           "hovertemplate": "Sex=Female<br>Year=2019<br>Population=%{x}<br>Age range (years)=%{y}<extra></extra>",
           "legendgroup": "Female",
           "marker": {
            "color": "#636efa",
            "pattern": {
             "shape": ""
            }
           },
           "name": "Female",
           "offsetgroup": "Female",
           "orientation": "h",
           "showlegend": true,
           "textposition": "auto",
           "type": "bar",
           "x": [
            1892507,
            2023822,
            1905838,
            1781153,
            2025916,
            2230480,
            2247810,
            2214048,
            2018718,
            2258056,
            2371789,
            2209719,
            1895601,
            1746144,
            1714332,
            3210143
           ],
           "xaxis": "x",
           "y": [
            "<5",
            "5-9",
            "10-14",
            "15-19",
            "20-24",
            "25-29",
            "30-34",
            "35-39",
            "40-44",
            "45-49",
            "50-54",
            "55-59",
            "60-64",
            "65-69",
            "70-74",
            "75<"
           ],
           "yaxis": "y"
          },
          {
           "alignmentgroup": "True",
           "hovertemplate": "Sex=Male<br>Year=2019<br>Population=%{x}<br>Age range (years)=%{y}<extra></extra>",
           "legendgroup": "Male",
           "marker": {
            "color": "#EF553B",
            "pattern": {
             "shape": ""
            }
           },
           "name": "Male",
           "offsetgroup": "Male",
           "orientation": "h",
           "showlegend": true,
           "textposition": "auto",
           "type": "bar",
           "x": [
            1992500,
            2122724,
            2002557,
            1880569,
            2144598,
            2296526,
            2237370,
            2173731,
            1989487,
            2199183,
            2297033,
            2142088,
            1820911,
            1638388,
            1572057,
            2391314
           ],
           "xaxis": "x",
           "y": [
            "<5",
            "5-9",
            "10-14",
            "15-19",
            "20-24",
            "25-29",
            "30-34",
            "35-39",
            "40-44",
            "45-49",
            "50-54",
            "55-59",
            "60-64",
            "65-69",
            "70-74",
            "75<"
           ],
           "yaxis": "y"
          }
         ],
         "name": "2019"
        }
       ],
       "layout": {
        "barmode": "group",
        "legend": {
         "title": {
          "text": "Sex"
         },
         "tracegroupgap": 0
        },
        "sliders": [
         {
          "active": 0,
          "currentvalue": {
           "prefix": "Year="
          },
          "len": 0.9,
          "pad": {
           "b": 10,
           "t": 60
          },
          "steps": [
           {
            "args": [
             [
              "1960"
             ],
             {
              "frame": {
               "duration": 0,
               "redraw": true
              },
              "fromcurrent": true,
              "mode": "immediate",
              "transition": {
               "duration": 0,
               "easing": "linear"
              }
             }
            ],
            "label": "1960",
            "method": "animate"
           },
           {
            "args": [
             [
              "1961"
             ],
             {
              "frame": {
               "duration": 0,
               "redraw": true
              },
              "fromcurrent": true,
              "mode": "immediate",
              "transition": {
               "duration": 0,
               "easing": "linear"
              }
             }
            ],
            "label": "1961",
            "method": "animate"
           },
           {
            "args": [
             [
              "1962"
             ],
             {
              "frame": {
               "duration": 0,
               "redraw": true
              },
              "fromcurrent": true,
              "mode": "immediate",
              "transition": {
               "duration": 0,
               "easing": "linear"
              }
             }
            ],
            "label": "1962",
            "method": "animate"
           },
           {
            "args": [
             [
              "1963"
             ],
             {
              "frame": {
               "duration": 0,
               "redraw": true
              },
              "fromcurrent": true,
              "mode": "immediate",
              "transition": {
               "duration": 0,
               "easing": "linear"
              }
             }
            ],
            "label": "1963",
            "method": "animate"
           },
           {
            "args": [
             [
              "1964"
             ],
             {
              "frame": {
               "duration": 0,
               "redraw": true
              },
              "fromcurrent": true,
              "mode": "immediate",
              "transition": {
               "duration": 0,
               "easing": "linear"
              }
             }
            ],
            "label": "1964",
            "method": "animate"
           },
           {
            "args": [
             [
              "1965"
             ],
             {
              "frame": {
               "duration": 0,
               "redraw": true
              },
              "fromcurrent": true,
              "mode": "immediate",
              "transition": {
               "duration": 0,
               "easing": "linear"
              }
             }
            ],
            "label": "1965",
            "method": "animate"
           },
           {
            "args": [
             [
              "1966"
             ],
             {
              "frame": {
               "duration": 0,
               "redraw": true
              },
              "fromcurrent": true,
              "mode": "immediate",
              "transition": {
               "duration": 0,
               "easing": "linear"
              }
             }
            ],
            "label": "1966",
            "method": "animate"
           },
           {
            "args": [
             [
              "1967"
             ],
             {
              "frame": {
               "duration": 0,
               "redraw": true
              },
              "fromcurrent": true,
              "mode": "immediate",
              "transition": {
               "duration": 0,
               "easing": "linear"
              }
             }
            ],
            "label": "1967",
            "method": "animate"
           },
           {
            "args": [
             [
              "1968"
             ],
             {
              "frame": {
               "duration": 0,
               "redraw": true
              },
              "fromcurrent": true,
              "mode": "immediate",
              "transition": {
               "duration": 0,
               "easing": "linear"
              }
             }
            ],
            "label": "1968",
            "method": "animate"
           },
           {
            "args": [
             [
              "1969"
             ],
             {
              "frame": {
               "duration": 0,
               "redraw": true
              },
              "fromcurrent": true,
              "mode": "immediate",
              "transition": {
               "duration": 0,
               "easing": "linear"
              }
             }
            ],
            "label": "1969",
            "method": "animate"
           },
           {
            "args": [
             [
              "1970"
             ],
             {
              "frame": {
               "duration": 0,
               "redraw": true
              },
              "fromcurrent": true,
              "mode": "immediate",
              "transition": {
               "duration": 0,
               "easing": "linear"
              }
             }
            ],
            "label": "1970",
            "method": "animate"
           },
           {
            "args": [
             [
              "1971"
             ],
             {
              "frame": {
               "duration": 0,
               "redraw": true
              },
              "fromcurrent": true,
              "mode": "immediate",
              "transition": {
               "duration": 0,
               "easing": "linear"
              }
             }
            ],
            "label": "1971",
            "method": "animate"
           },
           {
            "args": [
             [
              "1972"
             ],
             {
              "frame": {
               "duration": 0,
               "redraw": true
              },
              "fromcurrent": true,
              "mode": "immediate",
              "transition": {
               "duration": 0,
               "easing": "linear"
              }
             }
            ],
            "label": "1972",
            "method": "animate"
           },
           {
            "args": [
             [
              "1973"
             ],
             {
              "frame": {
               "duration": 0,
               "redraw": true
              },
              "fromcurrent": true,
              "mode": "immediate",
              "transition": {
               "duration": 0,
               "easing": "linear"
              }
             }
            ],
            "label": "1973",
            "method": "animate"
           },
           {
            "args": [
             [
              "1974"
             ],
             {
              "frame": {
               "duration": 0,
               "redraw": true
              },
              "fromcurrent": true,
              "mode": "immediate",
              "transition": {
               "duration": 0,
               "easing": "linear"
              }
             }
            ],
            "label": "1974",
            "method": "animate"
           },
           {
            "args": [
             [
              "1975"
             ],
             {
              "frame": {
               "duration": 0,
               "redraw": true
              },
              "fromcurrent": true,
              "mode": "immediate",
              "transition": {
               "duration": 0,
               "easing": "linear"
              }
             }
            ],
            "label": "1975",
            "method": "animate"
           },
           {
            "args": [
             [
              "1976"
             ],
             {
              "frame": {
               "duration": 0,
               "redraw": true
              },
              "fromcurrent": true,
              "mode": "immediate",
              "transition": {
               "duration": 0,
               "easing": "linear"
              }
             }
            ],
            "label": "1976",
            "method": "animate"
           },
           {
            "args": [
             [
              "1977"
             ],
             {
              "frame": {
               "duration": 0,
               "redraw": true
              },
              "fromcurrent": true,
              "mode": "immediate",
              "transition": {
               "duration": 0,
               "easing": "linear"
              }
             }
            ],
            "label": "1977",
            "method": "animate"
           },
           {
            "args": [
             [
              "1978"
             ],
             {
              "frame": {
               "duration": 0,
               "redraw": true
              },
              "fromcurrent": true,
              "mode": "immediate",
              "transition": {
               "duration": 0,
               "easing": "linear"
              }
             }
            ],
            "label": "1978",
            "method": "animate"
           },
           {
            "args": [
             [
              "1979"
             ],
             {
              "frame": {
               "duration": 0,
               "redraw": true
              },
              "fromcurrent": true,
              "mode": "immediate",
              "transition": {
               "duration": 0,
               "easing": "linear"
              }
             }
            ],
            "label": "1979",
            "method": "animate"
           },
           {
            "args": [
             [
              "1980"
             ],
             {
              "frame": {
               "duration": 0,
               "redraw": true
              },
              "fromcurrent": true,
              "mode": "immediate",
              "transition": {
               "duration": 0,
               "easing": "linear"
              }
             }
            ],
            "label": "1980",
            "method": "animate"
           },
           {
            "args": [
             [
              "1981"
             ],
             {
              "frame": {
               "duration": 0,
               "redraw": true
              },
              "fromcurrent": true,
              "mode": "immediate",
              "transition": {
               "duration": 0,
               "easing": "linear"
              }
             }
            ],
            "label": "1981",
            "method": "animate"
           },
           {
            "args": [
             [
              "1982"
             ],
             {
              "frame": {
               "duration": 0,
               "redraw": true
              },
              "fromcurrent": true,
              "mode": "immediate",
              "transition": {
               "duration": 0,
               "easing": "linear"
              }
             }
            ],
            "label": "1982",
            "method": "animate"
           },
           {
            "args": [
             [
              "1983"
             ],
             {
              "frame": {
               "duration": 0,
               "redraw": true
              },
              "fromcurrent": true,
              "mode": "immediate",
              "transition": {
               "duration": 0,
               "easing": "linear"
              }
             }
            ],
            "label": "1983",
            "method": "animate"
           },
           {
            "args": [
             [
              "1984"
             ],
             {
              "frame": {
               "duration": 0,
               "redraw": true
              },
              "fromcurrent": true,
              "mode": "immediate",
              "transition": {
               "duration": 0,
               "easing": "linear"
              }
             }
            ],
            "label": "1984",
            "method": "animate"
           },
           {
            "args": [
             [
              "1985"
             ],
             {
              "frame": {
               "duration": 0,
               "redraw": true
              },
              "fromcurrent": true,
              "mode": "immediate",
              "transition": {
               "duration": 0,
               "easing": "linear"
              }
             }
            ],
            "label": "1985",
            "method": "animate"
           },
           {
            "args": [
             [
              "1986"
             ],
             {
              "frame": {
               "duration": 0,
               "redraw": true
              },
              "fromcurrent": true,
              "mode": "immediate",
              "transition": {
               "duration": 0,
               "easing": "linear"
              }
             }
            ],
            "label": "1986",
            "method": "animate"
           },
           {
            "args": [
             [
              "1987"
             ],
             {
              "frame": {
               "duration": 0,
               "redraw": true
              },
              "fromcurrent": true,
              "mode": "immediate",
              "transition": {
               "duration": 0,
               "easing": "linear"
              }
             }
            ],
            "label": "1987",
            "method": "animate"
           },
           {
            "args": [
             [
              "1988"
             ],
             {
              "frame": {
               "duration": 0,
               "redraw": true
              },
              "fromcurrent": true,
              "mode": "immediate",
              "transition": {
               "duration": 0,
               "easing": "linear"
              }
             }
            ],
            "label": "1988",
            "method": "animate"
           },
           {
            "args": [
             [
              "1989"
             ],
             {
              "frame": {
               "duration": 0,
               "redraw": true
              },
              "fromcurrent": true,
              "mode": "immediate",
              "transition": {
               "duration": 0,
               "easing": "linear"
              }
             }
            ],
            "label": "1989",
            "method": "animate"
           },
           {
            "args": [
             [
              "1990"
             ],
             {
              "frame": {
               "duration": 0,
               "redraw": true
              },
              "fromcurrent": true,
              "mode": "immediate",
              "transition": {
               "duration": 0,
               "easing": "linear"
              }
             }
            ],
            "label": "1990",
            "method": "animate"
           },
           {
            "args": [
             [
              "1991"
             ],
             {
              "frame": {
               "duration": 0,
               "redraw": true
              },
              "fromcurrent": true,
              "mode": "immediate",
              "transition": {
               "duration": 0,
               "easing": "linear"
              }
             }
            ],
            "label": "1991",
            "method": "animate"
           },
           {
            "args": [
             [
              "1992"
             ],
             {
              "frame": {
               "duration": 0,
               "redraw": true
              },
              "fromcurrent": true,
              "mode": "immediate",
              "transition": {
               "duration": 0,
               "easing": "linear"
              }
             }
            ],
            "label": "1992",
            "method": "animate"
           },
           {
            "args": [
             [
              "1993"
             ],
             {
              "frame": {
               "duration": 0,
               "redraw": true
              },
              "fromcurrent": true,
              "mode": "immediate",
              "transition": {
               "duration": 0,
               "easing": "linear"
              }
             }
            ],
            "label": "1993",
            "method": "animate"
           },
           {
            "args": [
             [
              "1994"
             ],
             {
              "frame": {
               "duration": 0,
               "redraw": true
              },
              "fromcurrent": true,
              "mode": "immediate",
              "transition": {
               "duration": 0,
               "easing": "linear"
              }
             }
            ],
            "label": "1994",
            "method": "animate"
           },
           {
            "args": [
             [
              "1995"
             ],
             {
              "frame": {
               "duration": 0,
               "redraw": true
              },
              "fromcurrent": true,
              "mode": "immediate",
              "transition": {
               "duration": 0,
               "easing": "linear"
              }
             }
            ],
            "label": "1995",
            "method": "animate"
           },
           {
            "args": [
             [
              "1996"
             ],
             {
              "frame": {
               "duration": 0,
               "redraw": true
              },
              "fromcurrent": true,
              "mode": "immediate",
              "transition": {
               "duration": 0,
               "easing": "linear"
              }
             }
            ],
            "label": "1996",
            "method": "animate"
           },
           {
            "args": [
             [
              "1997"
             ],
             {
              "frame": {
               "duration": 0,
               "redraw": true
              },
              "fromcurrent": true,
              "mode": "immediate",
              "transition": {
               "duration": 0,
               "easing": "linear"
              }
             }
            ],
            "label": "1997",
            "method": "animate"
           },
           {
            "args": [
             [
              "1998"
             ],
             {
              "frame": {
               "duration": 0,
               "redraw": true
              },
              "fromcurrent": true,
              "mode": "immediate",
              "transition": {
               "duration": 0,
               "easing": "linear"
              }
             }
            ],
            "label": "1998",
            "method": "animate"
           },
           {
            "args": [
             [
              "1999"
             ],
             {
              "frame": {
               "duration": 0,
               "redraw": true
              },
              "fromcurrent": true,
              "mode": "immediate",
              "transition": {
               "duration": 0,
               "easing": "linear"
              }
             }
            ],
            "label": "1999",
            "method": "animate"
           },
           {
            "args": [
             [
              "2000"
             ],
             {
              "frame": {
               "duration": 0,
               "redraw": true
              },
              "fromcurrent": true,
              "mode": "immediate",
              "transition": {
               "duration": 0,
               "easing": "linear"
              }
             }
            ],
            "label": "2000",
            "method": "animate"
           },
           {
            "args": [
             [
              "2001"
             ],
             {
              "frame": {
               "duration": 0,
               "redraw": true
              },
              "fromcurrent": true,
              "mode": "immediate",
              "transition": {
               "duration": 0,
               "easing": "linear"
              }
             }
            ],
            "label": "2001",
            "method": "animate"
           },
           {
            "args": [
             [
              "2002"
             ],
             {
              "frame": {
               "duration": 0,
               "redraw": true
              },
              "fromcurrent": true,
              "mode": "immediate",
              "transition": {
               "duration": 0,
               "easing": "linear"
              }
             }
            ],
            "label": "2002",
            "method": "animate"
           },
           {
            "args": [
             [
              "2003"
             ],
             {
              "frame": {
               "duration": 0,
               "redraw": true
              },
              "fromcurrent": true,
              "mode": "immediate",
              "transition": {
               "duration": 0,
               "easing": "linear"
              }
             }
            ],
            "label": "2003",
            "method": "animate"
           },
           {
            "args": [
             [
              "2004"
             ],
             {
              "frame": {
               "duration": 0,
               "redraw": true
              },
              "fromcurrent": true,
              "mode": "immediate",
              "transition": {
               "duration": 0,
               "easing": "linear"
              }
             }
            ],
            "label": "2004",
            "method": "animate"
           },
           {
            "args": [
             [
              "2005"
             ],
             {
              "frame": {
               "duration": 0,
               "redraw": true
              },
              "fromcurrent": true,
              "mode": "immediate",
              "transition": {
               "duration": 0,
               "easing": "linear"
              }
             }
            ],
            "label": "2005",
            "method": "animate"
           },
           {
            "args": [
             [
              "2006"
             ],
             {
              "frame": {
               "duration": 0,
               "redraw": true
              },
              "fromcurrent": true,
              "mode": "immediate",
              "transition": {
               "duration": 0,
               "easing": "linear"
              }
             }
            ],
            "label": "2006",
            "method": "animate"
           },
           {
            "args": [
             [
              "2007"
             ],
             {
              "frame": {
               "duration": 0,
               "redraw": true
              },
              "fromcurrent": true,
              "mode": "immediate",
              "transition": {
               "duration": 0,
               "easing": "linear"
              }
             }
            ],
            "label": "2007",
            "method": "animate"
           },
           {
            "args": [
             [
              "2008"
             ],
             {
              "frame": {
               "duration": 0,
               "redraw": true
              },
              "fromcurrent": true,
              "mode": "immediate",
              "transition": {
               "duration": 0,
               "easing": "linear"
              }
             }
            ],
            "label": "2008",
            "method": "animate"
           },
           {
            "args": [
             [
              "2009"
             ],
             {
              "frame": {
               "duration": 0,
               "redraw": true
              },
              "fromcurrent": true,
              "mode": "immediate",
              "transition": {
               "duration": 0,
               "easing": "linear"
              }
             }
            ],
            "label": "2009",
            "method": "animate"
           },
           {
            "args": [
             [
              "2010"
             ],
             {
              "frame": {
               "duration": 0,
               "redraw": true
              },
              "fromcurrent": true,
              "mode": "immediate",
              "transition": {
               "duration": 0,
               "easing": "linear"
              }
             }
            ],
            "label": "2010",
            "method": "animate"
           },
           {
            "args": [
             [
              "2011"
             ],
             {
              "frame": {
               "duration": 0,
               "redraw": true
              },
              "fromcurrent": true,
              "mode": "immediate",
              "transition": {
               "duration": 0,
               "easing": "linear"
              }
             }
            ],
            "label": "2011",
            "method": "animate"
           },
           {
            "args": [
             [
              "2012"
             ],
             {
              "frame": {
               "duration": 0,
               "redraw": true
              },
              "fromcurrent": true,
              "mode": "immediate",
              "transition": {
               "duration": 0,
               "easing": "linear"
              }
             }
            ],
            "label": "2012",
            "method": "animate"
           },
           {
            "args": [
             [
              "2013"
             ],
             {
              "frame": {
               "duration": 0,
               "redraw": true
              },
              "fromcurrent": true,
              "mode": "immediate",
              "transition": {
               "duration": 0,
               "easing": "linear"
              }
             }
            ],
            "label": "2013",
            "method": "animate"
           },
           {
            "args": [
             [
              "2014"
             ],
             {
              "frame": {
               "duration": 0,
               "redraw": true
              },
              "fromcurrent": true,
              "mode": "immediate",
              "transition": {
               "duration": 0,
               "easing": "linear"
              }
             }
            ],
            "label": "2014",
            "method": "animate"
           },
           {
            "args": [
             [
              "2015"
             ],
             {
              "frame": {
               "duration": 0,
               "redraw": true
              },
              "fromcurrent": true,
              "mode": "immediate",
              "transition": {
               "duration": 0,
               "easing": "linear"
              }
             }
            ],
            "label": "2015",
            "method": "animate"
           },
           {
            "args": [
             [
              "2016"
             ],
             {
              "frame": {
               "duration": 0,
               "redraw": true
              },
              "fromcurrent": true,
              "mode": "immediate",
              "transition": {
               "duration": 0,
               "easing": "linear"
              }
             }
            ],
            "label": "2016",
            "method": "animate"
           },
           {
            "args": [
             [
              "2017"
             ],
             {
              "frame": {
               "duration": 0,
               "redraw": true
              },
              "fromcurrent": true,
              "mode": "immediate",
              "transition": {
               "duration": 0,
               "easing": "linear"
              }
             }
            ],
            "label": "2017",
            "method": "animate"
           },
           {
            "args": [
             [
              "2018"
             ],
             {
              "frame": {
               "duration": 0,
               "redraw": true
              },
              "fromcurrent": true,
              "mode": "immediate",
              "transition": {
               "duration": 0,
               "easing": "linear"
              }
             }
            ],
            "label": "2018",
            "method": "animate"
           },
           {
            "args": [
             [
              "2019"
             ],
             {
              "frame": {
               "duration": 0,
               "redraw": true
              },
              "fromcurrent": true,
              "mode": "immediate",
              "transition": {
               "duration": 0,
               "easing": "linear"
              }
             }
            ],
            "label": "2019",
            "method": "animate"
           }
          ],
          "x": 0.1,
          "xanchor": "left",
          "y": 0,
          "yanchor": "top"
         }
        ],
        "template": {
         "data": {
          "bar": [
           {
            "error_x": {
             "color": "#2a3f5f"
            },
            "error_y": {
             "color": "#2a3f5f"
            },
            "marker": {
             "line": {
              "color": "#E5ECF6",
              "width": 0.5
             },
             "pattern": {
              "fillmode": "overlay",
              "size": 10,
              "solidity": 0.2
             }
            },
            "type": "bar"
           }
          ],
          "barpolar": [
           {
            "marker": {
             "line": {
              "color": "#E5ECF6",
              "width": 0.5
             },
             "pattern": {
              "fillmode": "overlay",
              "size": 10,
              "solidity": 0.2
             }
            },
            "type": "barpolar"
           }
          ],
          "carpet": [
           {
            "aaxis": {
             "endlinecolor": "#2a3f5f",
             "gridcolor": "white",
             "linecolor": "white",
             "minorgridcolor": "white",
             "startlinecolor": "#2a3f5f"
            },
            "baxis": {
             "endlinecolor": "#2a3f5f",
             "gridcolor": "white",
             "linecolor": "white",
             "minorgridcolor": "white",
             "startlinecolor": "#2a3f5f"
            },
            "type": "carpet"
           }
          ],
          "choropleth": [
           {
            "colorbar": {
             "outlinewidth": 0,
             "ticks": ""
            },
            "type": "choropleth"
           }
          ],
          "contour": [
           {
            "colorbar": {
             "outlinewidth": 0,
             "ticks": ""
            },
            "colorscale": [
             [
              0,
              "#0d0887"
             ],
             [
              0.1111111111111111,
              "#46039f"
             ],
             [
              0.2222222222222222,
              "#7201a8"
             ],
             [
              0.3333333333333333,
              "#9c179e"
             ],
             [
              0.4444444444444444,
              "#bd3786"
             ],
             [
              0.5555555555555556,
              "#d8576b"
             ],
             [
              0.6666666666666666,
              "#ed7953"
             ],
             [
              0.7777777777777778,
              "#fb9f3a"
             ],
             [
              0.8888888888888888,
              "#fdca26"
             ],
             [
              1,
              "#f0f921"
             ]
            ],
            "type": "contour"
           }
          ],
          "contourcarpet": [
           {
            "colorbar": {
             "outlinewidth": 0,
             "ticks": ""
            },
            "type": "contourcarpet"
           }
          ],
          "heatmap": [
           {
            "colorbar": {
             "outlinewidth": 0,
             "ticks": ""
            },
            "colorscale": [
             [
              0,
              "#0d0887"
             ],
             [
              0.1111111111111111,
              "#46039f"
             ],
             [
              0.2222222222222222,
              "#7201a8"
             ],
             [
              0.3333333333333333,
              "#9c179e"
             ],
             [
              0.4444444444444444,
              "#bd3786"
             ],
             [
              0.5555555555555556,
              "#d8576b"
             ],
             [
              0.6666666666666666,
              "#ed7953"
             ],
             [
              0.7777777777777778,
              "#fb9f3a"
             ],
             [
              0.8888888888888888,
              "#fdca26"
             ],
             [
              1,
              "#f0f921"
             ]
            ],
            "type": "heatmap"
           }
          ],
          "heatmapgl": [
           {
            "colorbar": {
             "outlinewidth": 0,
             "ticks": ""
            },
            "colorscale": [
             [
              0,
              "#0d0887"
             ],
             [
              0.1111111111111111,
              "#46039f"
             ],
             [
              0.2222222222222222,
              "#7201a8"
             ],
             [
              0.3333333333333333,
              "#9c179e"
             ],
             [
              0.4444444444444444,
              "#bd3786"
             ],
             [
              0.5555555555555556,
              "#d8576b"
             ],
             [
              0.6666666666666666,
              "#ed7953"
             ],
             [
              0.7777777777777778,
              "#fb9f3a"
             ],
             [
              0.8888888888888888,
              "#fdca26"
             ],
             [
              1,
              "#f0f921"
             ]
            ],
            "type": "heatmapgl"
           }
          ],
          "histogram": [
           {
            "marker": {
             "pattern": {
              "fillmode": "overlay",
              "size": 10,
              "solidity": 0.2
             }
            },
            "type": "histogram"
           }
          ],
          "histogram2d": [
           {
            "colorbar": {
             "outlinewidth": 0,
             "ticks": ""
            },
            "colorscale": [
             [
              0,
              "#0d0887"
             ],
             [
              0.1111111111111111,
              "#46039f"
             ],
             [
              0.2222222222222222,
              "#7201a8"
             ],
             [
              0.3333333333333333,
              "#9c179e"
             ],
             [
              0.4444444444444444,
              "#bd3786"
             ],
             [
              0.5555555555555556,
              "#d8576b"
             ],
             [
              0.6666666666666666,
              "#ed7953"
             ],
             [
              0.7777777777777778,
              "#fb9f3a"
             ],
             [
              0.8888888888888888,
              "#fdca26"
             ],
             [
              1,
              "#f0f921"
             ]
            ],
            "type": "histogram2d"
           }
          ],
          "histogram2dcontour": [
           {
            "colorbar": {
             "outlinewidth": 0,
             "ticks": ""
            },
            "colorscale": [
             [
              0,
              "#0d0887"
             ],
             [
              0.1111111111111111,
              "#46039f"
             ],
             [
              0.2222222222222222,
              "#7201a8"
             ],
             [
              0.3333333333333333,
              "#9c179e"
             ],
             [
              0.4444444444444444,
              "#bd3786"
             ],
             [
              0.5555555555555556,
              "#d8576b"
             ],
             [
              0.6666666666666666,
              "#ed7953"
             ],
             [
              0.7777777777777778,
              "#fb9f3a"
             ],
             [
              0.8888888888888888,
              "#fdca26"
             ],
             [
              1,
              "#f0f921"
             ]
            ],
            "type": "histogram2dcontour"
           }
          ],
          "mesh3d": [
           {
            "colorbar": {
             "outlinewidth": 0,
             "ticks": ""
            },
            "type": "mesh3d"
           }
          ],
          "parcoords": [
           {
            "line": {
             "colorbar": {
              "outlinewidth": 0,
              "ticks": ""
             }
            },
            "type": "parcoords"
           }
          ],
          "pie": [
           {
            "automargin": true,
            "type": "pie"
           }
          ],
          "scatter": [
           {
            "marker": {
             "colorbar": {
              "outlinewidth": 0,
              "ticks": ""
             }
            },
            "type": "scatter"
           }
          ],
          "scatter3d": [
           {
            "line": {
             "colorbar": {
              "outlinewidth": 0,
              "ticks": ""
             }
            },
            "marker": {
             "colorbar": {
              "outlinewidth": 0,
              "ticks": ""
             }
            },
            "type": "scatter3d"
           }
          ],
          "scattercarpet": [
           {
            "marker": {
             "colorbar": {
              "outlinewidth": 0,
              "ticks": ""
             }
            },
            "type": "scattercarpet"
           }
          ],
          "scattergeo": [
           {
            "marker": {
             "colorbar": {
              "outlinewidth": 0,
              "ticks": ""
             }
            },
            "type": "scattergeo"
           }
          ],
          "scattergl": [
           {
            "marker": {
             "colorbar": {
              "outlinewidth": 0,
              "ticks": ""
             }
            },
            "type": "scattergl"
           }
          ],
          "scattermapbox": [
           {
            "marker": {
             "colorbar": {
              "outlinewidth": 0,
              "ticks": ""
             }
            },
            "type": "scattermapbox"
           }
          ],
          "scatterpolar": [
           {
            "marker": {
             "colorbar": {
              "outlinewidth": 0,
              "ticks": ""
             }
            },
            "type": "scatterpolar"
           }
          ],
          "scatterpolargl": [
           {
            "marker": {
             "colorbar": {
              "outlinewidth": 0,
              "ticks": ""
             }
            },
            "type": "scatterpolargl"
           }
          ],
          "scatterternary": [
           {
            "marker": {
             "colorbar": {
              "outlinewidth": 0,
              "ticks": ""
             }
            },
            "type": "scatterternary"
           }
          ],
          "surface": [
           {
            "colorbar": {
             "outlinewidth": 0,
             "ticks": ""
            },
            "colorscale": [
             [
              0,
              "#0d0887"
             ],
             [
              0.1111111111111111,
              "#46039f"
             ],
             [
              0.2222222222222222,
              "#7201a8"
             ],
             [
              0.3333333333333333,
              "#9c179e"
             ],
             [
              0.4444444444444444,
              "#bd3786"
             ],
             [
              0.5555555555555556,
              "#d8576b"
             ],
             [
              0.6666666666666666,
              "#ed7953"
             ],
             [
              0.7777777777777778,
              "#fb9f3a"
             ],
             [
              0.8888888888888888,
              "#fdca26"
             ],
             [
              1,
              "#f0f921"
             ]
            ],
            "type": "surface"
           }
          ],
          "table": [
           {
            "cells": {
             "fill": {
              "color": "#EBF0F8"
             },
             "line": {
              "color": "white"
             }
            },
            "header": {
             "fill": {
              "color": "#C8D4E3"
             },
             "line": {
              "color": "white"
             }
            },
            "type": "table"
           }
          ]
         },
         "layout": {
          "annotationdefaults": {
           "arrowcolor": "#2a3f5f",
           "arrowhead": 0,
           "arrowwidth": 1
          },
          "autotypenumbers": "strict",
          "coloraxis": {
           "colorbar": {
            "outlinewidth": 0,
            "ticks": ""
           }
          },
          "colorscale": {
           "diverging": [
            [
             0,
             "#8e0152"
            ],
            [
             0.1,
             "#c51b7d"
            ],
            [
             0.2,
             "#de77ae"
            ],
            [
             0.3,
             "#f1b6da"
            ],
            [
             0.4,
             "#fde0ef"
            ],
            [
             0.5,
             "#f7f7f7"
            ],
            [
             0.6,
             "#e6f5d0"
            ],
            [
             0.7,
             "#b8e186"
            ],
            [
             0.8,
             "#7fbc41"
            ],
            [
             0.9,
             "#4d9221"
            ],
            [
             1,
             "#276419"
            ]
           ],
           "sequential": [
            [
             0,
             "#0d0887"
            ],
            [
             0.1111111111111111,
             "#46039f"
            ],
            [
             0.2222222222222222,
             "#7201a8"
            ],
            [
             0.3333333333333333,
             "#9c179e"
            ],
            [
             0.4444444444444444,
             "#bd3786"
            ],
            [
             0.5555555555555556,
             "#d8576b"
            ],
            [
             0.6666666666666666,
             "#ed7953"
            ],
            [
             0.7777777777777778,
             "#fb9f3a"
            ],
            [
             0.8888888888888888,
             "#fdca26"
            ],
            [
             1,
             "#f0f921"
            ]
           ],
           "sequentialminus": [
            [
             0,
             "#0d0887"
            ],
            [
             0.1111111111111111,
             "#46039f"
            ],
            [
             0.2222222222222222,
             "#7201a8"
            ],
            [
             0.3333333333333333,
             "#9c179e"
            ],
            [
             0.4444444444444444,
             "#bd3786"
            ],
            [
             0.5555555555555556,
             "#d8576b"
            ],
            [
             0.6666666666666666,
             "#ed7953"
            ],
            [
             0.7777777777777778,
             "#fb9f3a"
            ],
            [
             0.8888888888888888,
             "#fdca26"
            ],
            [
             1,
             "#f0f921"
            ]
           ]
          },
          "colorway": [
           "#636efa",
           "#EF553B",
           "#00cc96",
           "#ab63fa",
           "#FFA15A",
           "#19d3f3",
           "#FF6692",
           "#B6E880",
           "#FF97FF",
           "#FECB52"
          ],
          "font": {
           "color": "#2a3f5f"
          },
          "geo": {
           "bgcolor": "white",
           "lakecolor": "white",
           "landcolor": "#E5ECF6",
           "showlakes": true,
           "showland": true,
           "subunitcolor": "white"
          },
          "hoverlabel": {
           "align": "left"
          },
          "hovermode": "closest",
          "mapbox": {
           "style": "light"
          },
          "paper_bgcolor": "white",
          "plot_bgcolor": "#E5ECF6",
          "polar": {
           "angularaxis": {
            "gridcolor": "white",
            "linecolor": "white",
            "ticks": ""
           },
           "bgcolor": "#E5ECF6",
           "radialaxis": {
            "gridcolor": "white",
            "linecolor": "white",
            "ticks": ""
           }
          },
          "scene": {
           "xaxis": {
            "backgroundcolor": "#E5ECF6",
            "gridcolor": "white",
            "gridwidth": 2,
            "linecolor": "white",
            "showbackground": true,
            "ticks": "",
            "zerolinecolor": "white"
           },
           "yaxis": {
            "backgroundcolor": "#E5ECF6",
            "gridcolor": "white",
            "gridwidth": 2,
            "linecolor": "white",
            "showbackground": true,
            "ticks": "",
            "zerolinecolor": "white"
           },
           "zaxis": {
            "backgroundcolor": "#E5ECF6",
            "gridcolor": "white",
            "gridwidth": 2,
            "linecolor": "white",
            "showbackground": true,
            "ticks": "",
            "zerolinecolor": "white"
           }
          },
          "shapedefaults": {
           "line": {
            "color": "#2a3f5f"
           }
          },
          "ternary": {
           "aaxis": {
            "gridcolor": "white",
            "linecolor": "white",
            "ticks": ""
           },
           "baxis": {
            "gridcolor": "white",
            "linecolor": "white",
            "ticks": ""
           },
           "bgcolor": "#E5ECF6",
           "caxis": {
            "gridcolor": "white",
            "linecolor": "white",
            "ticks": ""
           }
          },
          "title": {
           "x": 0.05
          },
          "xaxis": {
           "automargin": true,
           "gridcolor": "white",
           "linecolor": "white",
           "ticks": "",
           "title": {
            "standoff": 15
           },
           "zerolinecolor": "white",
           "zerolinewidth": 2
          },
          "yaxis": {
           "automargin": true,
           "gridcolor": "white",
           "linecolor": "white",
           "ticks": "",
           "title": {
            "standoff": 15
           },
           "zerolinecolor": "white",
           "zerolinewidth": 2
          }
         }
        },
        "title": {
         "text": "Population distribution in United Kingdom"
        },
        "updatemenus": [
         {
          "buttons": [
           {
            "args": [
             null,
             {
              "frame": {
               "duration": 500,
               "redraw": true
              },
              "fromcurrent": true,
              "mode": "immediate",
              "transition": {
               "duration": 500,
               "easing": "linear"
              }
             }
            ],
            "label": "&#9654;",
            "method": "animate"
           },
           {
            "args": [
             [
              null
             ],
             {
              "frame": {
               "duration": 0,
               "redraw": true
              },
              "fromcurrent": true,
              "mode": "immediate",
              "transition": {
               "duration": 0,
               "easing": "linear"
              }
             }
            ],
            "label": "&#9724;",
            "method": "animate"
           }
          ],
          "direction": "left",
          "pad": {
           "r": 10,
           "t": 70
          },
          "showactive": false,
          "type": "buttons",
          "x": 0.1,
          "xanchor": "right",
          "y": 0,
          "yanchor": "top"
         }
        ],
        "xaxis": {
         "anchor": "y",
         "domain": [
          0,
          1
         ],
         "title": {
          "text": "Population"
         }
        },
        "yaxis": {
         "anchor": "x",
         "domain": [
          0,
          1
         ],
         "title": {
          "text": "Age range (years)"
         }
        }
       }
      },
      "text/html": [
       "<div>                            <div id=\"ce23deff-3cd3-44c0-b1fc-ef6d552b47d3\" class=\"plotly-graph-div\" style=\"height:525px; width:100%;\"></div>            <script type=\"text/javascript\">                require([\"plotly\"], function(Plotly) {                    window.PLOTLYENV=window.PLOTLYENV || {};                                    if (document.getElementById(\"ce23deff-3cd3-44c0-b1fc-ef6d552b47d3\")) {                    Plotly.newPlot(                        \"ce23deff-3cd3-44c0-b1fc-ef6d552b47d3\",                        [{\"alignmentgroup\":\"True\",\"hovertemplate\":\"Sex=Female<br>Year=1960<br>Population=%{x}<br>Age range (years)=%{y}<extra></extra>\",\"legendgroup\":\"Female\",\"marker\":{\"color\":\"#636efa\",\"pattern\":{\"shape\":\"\"}},\"name\":\"Female\",\"offsetgroup\":\"Female\",\"orientation\":\"h\",\"showlegend\":true,\"textposition\":\"auto\",\"x\":[2000000.0,1900000.0,2100000.0,1700000.0,1700000.0,1600000.0,1700000.0,1900000.0,1700000.0,1900000.0,1900000.0,1700000.0,1500000.0,1300000.0,1000000.0],\"xaxis\":\"x\",\"y\":[\"<5\",\"5-9\",\"10-14\",\"15-19\",\"20-24\",\"25-29\",\"30-34\",\"35-39\",\"40-44\",\"45-49\",\"50-54\",\"55-59\",\"60-64\",\"65-69\",\"70-74\"],\"yaxis\":\"y\",\"type\":\"bar\"},{\"alignmentgroup\":\"True\",\"hovertemplate\":\"Sex=Male<br>Year=1960<br>Population=%{x}<br>Age range (years)=%{y}<extra></extra>\",\"legendgroup\":\"Male\",\"marker\":{\"color\":\"#EF553B\",\"pattern\":{\"shape\":\"\"}},\"name\":\"Male\",\"offsetgroup\":\"Male\",\"orientation\":\"h\",\"showlegend\":true,\"textposition\":\"auto\",\"x\":[2100000.0,2000000.0,2200000.0,1800000.0,1600000.0,1600000.0,1700000.0,1900000.0,1600000.0,1800000.0,1800000.0,1600000.0,1200000.0,900000.0,700000.0],\"xaxis\":\"x\",\"y\":[\"<5\",\"5-9\",\"10-14\",\"15-19\",\"20-24\",\"25-29\",\"30-34\",\"35-39\",\"40-44\",\"45-49\",\"50-54\",\"55-59\",\"60-64\",\"65-69\",\"70-74\"],\"yaxis\":\"y\",\"type\":\"bar\"}],                        {\"template\":{\"data\":{\"bar\":[{\"error_x\":{\"color\":\"#2a3f5f\"},\"error_y\":{\"color\":\"#2a3f5f\"},\"marker\":{\"line\":{\"color\":\"#E5ECF6\",\"width\":0.5},\"pattern\":{\"fillmode\":\"overlay\",\"size\":10,\"solidity\":0.2}},\"type\":\"bar\"}],\"barpolar\":[{\"marker\":{\"line\":{\"color\":\"#E5ECF6\",\"width\":0.5},\"pattern\":{\"fillmode\":\"overlay\",\"size\":10,\"solidity\":0.2}},\"type\":\"barpolar\"}],\"carpet\":[{\"aaxis\":{\"endlinecolor\":\"#2a3f5f\",\"gridcolor\":\"white\",\"linecolor\":\"white\",\"minorgridcolor\":\"white\",\"startlinecolor\":\"#2a3f5f\"},\"baxis\":{\"endlinecolor\":\"#2a3f5f\",\"gridcolor\":\"white\",\"linecolor\":\"white\",\"minorgridcolor\":\"white\",\"startlinecolor\":\"#2a3f5f\"},\"type\":\"carpet\"}],\"choropleth\":[{\"colorbar\":{\"outlinewidth\":0,\"ticks\":\"\"},\"type\":\"choropleth\"}],\"contour\":[{\"colorbar\":{\"outlinewidth\":0,\"ticks\":\"\"},\"colorscale\":[[0.0,\"#0d0887\"],[0.1111111111111111,\"#46039f\"],[0.2222222222222222,\"#7201a8\"],[0.3333333333333333,\"#9c179e\"],[0.4444444444444444,\"#bd3786\"],[0.5555555555555556,\"#d8576b\"],[0.6666666666666666,\"#ed7953\"],[0.7777777777777778,\"#fb9f3a\"],[0.8888888888888888,\"#fdca26\"],[1.0,\"#f0f921\"]],\"type\":\"contour\"}],\"contourcarpet\":[{\"colorbar\":{\"outlinewidth\":0,\"ticks\":\"\"},\"type\":\"contourcarpet\"}],\"heatmap\":[{\"colorbar\":{\"outlinewidth\":0,\"ticks\":\"\"},\"colorscale\":[[0.0,\"#0d0887\"],[0.1111111111111111,\"#46039f\"],[0.2222222222222222,\"#7201a8\"],[0.3333333333333333,\"#9c179e\"],[0.4444444444444444,\"#bd3786\"],[0.5555555555555556,\"#d8576b\"],[0.6666666666666666,\"#ed7953\"],[0.7777777777777778,\"#fb9f3a\"],[0.8888888888888888,\"#fdca26\"],[1.0,\"#f0f921\"]],\"type\":\"heatmap\"}],\"heatmapgl\":[{\"colorbar\":{\"outlinewidth\":0,\"ticks\":\"\"},\"colorscale\":[[0.0,\"#0d0887\"],[0.1111111111111111,\"#46039f\"],[0.2222222222222222,\"#7201a8\"],[0.3333333333333333,\"#9c179e\"],[0.4444444444444444,\"#bd3786\"],[0.5555555555555556,\"#d8576b\"],[0.6666666666666666,\"#ed7953\"],[0.7777777777777778,\"#fb9f3a\"],[0.8888888888888888,\"#fdca26\"],[1.0,\"#f0f921\"]],\"type\":\"heatmapgl\"}],\"histogram\":[{\"marker\":{\"pattern\":{\"fillmode\":\"overlay\",\"size\":10,\"solidity\":0.2}},\"type\":\"histogram\"}],\"histogram2d\":[{\"colorbar\":{\"outlinewidth\":0,\"ticks\":\"\"},\"colorscale\":[[0.0,\"#0d0887\"],[0.1111111111111111,\"#46039f\"],[0.2222222222222222,\"#7201a8\"],[0.3333333333333333,\"#9c179e\"],[0.4444444444444444,\"#bd3786\"],[0.5555555555555556,\"#d8576b\"],[0.6666666666666666,\"#ed7953\"],[0.7777777777777778,\"#fb9f3a\"],[0.8888888888888888,\"#fdca26\"],[1.0,\"#f0f921\"]],\"type\":\"histogram2d\"}],\"histogram2dcontour\":[{\"colorbar\":{\"outlinewidth\":0,\"ticks\":\"\"},\"colorscale\":[[0.0,\"#0d0887\"],[0.1111111111111111,\"#46039f\"],[0.2222222222222222,\"#7201a8\"],[0.3333333333333333,\"#9c179e\"],[0.4444444444444444,\"#bd3786\"],[0.5555555555555556,\"#d8576b\"],[0.6666666666666666,\"#ed7953\"],[0.7777777777777778,\"#fb9f3a\"],[0.8888888888888888,\"#fdca26\"],[1.0,\"#f0f921\"]],\"type\":\"histogram2dcontour\"}],\"mesh3d\":[{\"colorbar\":{\"outlinewidth\":0,\"ticks\":\"\"},\"type\":\"mesh3d\"}],\"parcoords\":[{\"line\":{\"colorbar\":{\"outlinewidth\":0,\"ticks\":\"\"}},\"type\":\"parcoords\"}],\"pie\":[{\"automargin\":true,\"type\":\"pie\"}],\"scatter\":[{\"marker\":{\"colorbar\":{\"outlinewidth\":0,\"ticks\":\"\"}},\"type\":\"scatter\"}],\"scatter3d\":[{\"line\":{\"colorbar\":{\"outlinewidth\":0,\"ticks\":\"\"}},\"marker\":{\"colorbar\":{\"outlinewidth\":0,\"ticks\":\"\"}},\"type\":\"scatter3d\"}],\"scattercarpet\":[{\"marker\":{\"colorbar\":{\"outlinewidth\":0,\"ticks\":\"\"}},\"type\":\"scattercarpet\"}],\"scattergeo\":[{\"marker\":{\"colorbar\":{\"outlinewidth\":0,\"ticks\":\"\"}},\"type\":\"scattergeo\"}],\"scattergl\":[{\"marker\":{\"colorbar\":{\"outlinewidth\":0,\"ticks\":\"\"}},\"type\":\"scattergl\"}],\"scattermapbox\":[{\"marker\":{\"colorbar\":{\"outlinewidth\":0,\"ticks\":\"\"}},\"type\":\"scattermapbox\"}],\"scatterpolar\":[{\"marker\":{\"colorbar\":{\"outlinewidth\":0,\"ticks\":\"\"}},\"type\":\"scatterpolar\"}],\"scatterpolargl\":[{\"marker\":{\"colorbar\":{\"outlinewidth\":0,\"ticks\":\"\"}},\"type\":\"scatterpolargl\"}],\"scatterternary\":[{\"marker\":{\"colorbar\":{\"outlinewidth\":0,\"ticks\":\"\"}},\"type\":\"scatterternary\"}],\"surface\":[{\"colorbar\":{\"outlinewidth\":0,\"ticks\":\"\"},\"colorscale\":[[0.0,\"#0d0887\"],[0.1111111111111111,\"#46039f\"],[0.2222222222222222,\"#7201a8\"],[0.3333333333333333,\"#9c179e\"],[0.4444444444444444,\"#bd3786\"],[0.5555555555555556,\"#d8576b\"],[0.6666666666666666,\"#ed7953\"],[0.7777777777777778,\"#fb9f3a\"],[0.8888888888888888,\"#fdca26\"],[1.0,\"#f0f921\"]],\"type\":\"surface\"}],\"table\":[{\"cells\":{\"fill\":{\"color\":\"#EBF0F8\"},\"line\":{\"color\":\"white\"}},\"header\":{\"fill\":{\"color\":\"#C8D4E3\"},\"line\":{\"color\":\"white\"}},\"type\":\"table\"}]},\"layout\":{\"annotationdefaults\":{\"arrowcolor\":\"#2a3f5f\",\"arrowhead\":0,\"arrowwidth\":1},\"autotypenumbers\":\"strict\",\"coloraxis\":{\"colorbar\":{\"outlinewidth\":0,\"ticks\":\"\"}},\"colorscale\":{\"diverging\":[[0,\"#8e0152\"],[0.1,\"#c51b7d\"],[0.2,\"#de77ae\"],[0.3,\"#f1b6da\"],[0.4,\"#fde0ef\"],[0.5,\"#f7f7f7\"],[0.6,\"#e6f5d0\"],[0.7,\"#b8e186\"],[0.8,\"#7fbc41\"],[0.9,\"#4d9221\"],[1,\"#276419\"]],\"sequential\":[[0.0,\"#0d0887\"],[0.1111111111111111,\"#46039f\"],[0.2222222222222222,\"#7201a8\"],[0.3333333333333333,\"#9c179e\"],[0.4444444444444444,\"#bd3786\"],[0.5555555555555556,\"#d8576b\"],[0.6666666666666666,\"#ed7953\"],[0.7777777777777778,\"#fb9f3a\"],[0.8888888888888888,\"#fdca26\"],[1.0,\"#f0f921\"]],\"sequentialminus\":[[0.0,\"#0d0887\"],[0.1111111111111111,\"#46039f\"],[0.2222222222222222,\"#7201a8\"],[0.3333333333333333,\"#9c179e\"],[0.4444444444444444,\"#bd3786\"],[0.5555555555555556,\"#d8576b\"],[0.6666666666666666,\"#ed7953\"],[0.7777777777777778,\"#fb9f3a\"],[0.8888888888888888,\"#fdca26\"],[1.0,\"#f0f921\"]]},\"colorway\":[\"#636efa\",\"#EF553B\",\"#00cc96\",\"#ab63fa\",\"#FFA15A\",\"#19d3f3\",\"#FF6692\",\"#B6E880\",\"#FF97FF\",\"#FECB52\"],\"font\":{\"color\":\"#2a3f5f\"},\"geo\":{\"bgcolor\":\"white\",\"lakecolor\":\"white\",\"landcolor\":\"#E5ECF6\",\"showlakes\":true,\"showland\":true,\"subunitcolor\":\"white\"},\"hoverlabel\":{\"align\":\"left\"},\"hovermode\":\"closest\",\"mapbox\":{\"style\":\"light\"},\"paper_bgcolor\":\"white\",\"plot_bgcolor\":\"#E5ECF6\",\"polar\":{\"angularaxis\":{\"gridcolor\":\"white\",\"linecolor\":\"white\",\"ticks\":\"\"},\"bgcolor\":\"#E5ECF6\",\"radialaxis\":{\"gridcolor\":\"white\",\"linecolor\":\"white\",\"ticks\":\"\"}},\"scene\":{\"xaxis\":{\"backgroundcolor\":\"#E5ECF6\",\"gridcolor\":\"white\",\"gridwidth\":2,\"linecolor\":\"white\",\"showbackground\":true,\"ticks\":\"\",\"zerolinecolor\":\"white\"},\"yaxis\":{\"backgroundcolor\":\"#E5ECF6\",\"gridcolor\":\"white\",\"gridwidth\":2,\"linecolor\":\"white\",\"showbackground\":true,\"ticks\":\"\",\"zerolinecolor\":\"white\"},\"zaxis\":{\"backgroundcolor\":\"#E5ECF6\",\"gridcolor\":\"white\",\"gridwidth\":2,\"linecolor\":\"white\",\"showbackground\":true,\"ticks\":\"\",\"zerolinecolor\":\"white\"}},\"shapedefaults\":{\"line\":{\"color\":\"#2a3f5f\"}},\"ternary\":{\"aaxis\":{\"gridcolor\":\"white\",\"linecolor\":\"white\",\"ticks\":\"\"},\"baxis\":{\"gridcolor\":\"white\",\"linecolor\":\"white\",\"ticks\":\"\"},\"bgcolor\":\"#E5ECF6\",\"caxis\":{\"gridcolor\":\"white\",\"linecolor\":\"white\",\"ticks\":\"\"}},\"title\":{\"x\":0.05},\"xaxis\":{\"automargin\":true,\"gridcolor\":\"white\",\"linecolor\":\"white\",\"ticks\":\"\",\"title\":{\"standoff\":15},\"zerolinecolor\":\"white\",\"zerolinewidth\":2},\"yaxis\":{\"automargin\":true,\"gridcolor\":\"white\",\"linecolor\":\"white\",\"ticks\":\"\",\"title\":{\"standoff\":15},\"zerolinecolor\":\"white\",\"zerolinewidth\":2}}},\"xaxis\":{\"anchor\":\"y\",\"domain\":[0.0,1.0],\"title\":{\"text\":\"Population\"}},\"yaxis\":{\"anchor\":\"x\",\"domain\":[0.0,1.0],\"title\":{\"text\":\"Age range (years)\"}},\"legend\":{\"title\":{\"text\":\"Sex\"},\"tracegroupgap\":0},\"title\":{\"text\":\"Population distribution in United Kingdom\"},\"barmode\":\"group\",\"updatemenus\":[{\"buttons\":[{\"args\":[null,{\"frame\":{\"duration\":500,\"redraw\":true},\"mode\":\"immediate\",\"fromcurrent\":true,\"transition\":{\"duration\":500,\"easing\":\"linear\"}}],\"label\":\"&#9654;\",\"method\":\"animate\"},{\"args\":[[null],{\"frame\":{\"duration\":0,\"redraw\":true},\"mode\":\"immediate\",\"fromcurrent\":true,\"transition\":{\"duration\":0,\"easing\":\"linear\"}}],\"label\":\"&#9724;\",\"method\":\"animate\"}],\"direction\":\"left\",\"pad\":{\"r\":10,\"t\":70},\"showactive\":false,\"type\":\"buttons\",\"x\":0.1,\"xanchor\":\"right\",\"y\":0,\"yanchor\":\"top\"}],\"sliders\":[{\"active\":0,\"currentvalue\":{\"prefix\":\"Year=\"},\"len\":0.9,\"pad\":{\"b\":10,\"t\":60},\"steps\":[{\"args\":[[\"1960\"],{\"frame\":{\"duration\":0,\"redraw\":true},\"mode\":\"immediate\",\"fromcurrent\":true,\"transition\":{\"duration\":0,\"easing\":\"linear\"}}],\"label\":\"1960\",\"method\":\"animate\"},{\"args\":[[\"1961\"],{\"frame\":{\"duration\":0,\"redraw\":true},\"mode\":\"immediate\",\"fromcurrent\":true,\"transition\":{\"duration\":0,\"easing\":\"linear\"}}],\"label\":\"1961\",\"method\":\"animate\"},{\"args\":[[\"1962\"],{\"frame\":{\"duration\":0,\"redraw\":true},\"mode\":\"immediate\",\"fromcurrent\":true,\"transition\":{\"duration\":0,\"easing\":\"linear\"}}],\"label\":\"1962\",\"method\":\"animate\"},{\"args\":[[\"1963\"],{\"frame\":{\"duration\":0,\"redraw\":true},\"mode\":\"immediate\",\"fromcurrent\":true,\"transition\":{\"duration\":0,\"easing\":\"linear\"}}],\"label\":\"1963\",\"method\":\"animate\"},{\"args\":[[\"1964\"],{\"frame\":{\"duration\":0,\"redraw\":true},\"mode\":\"immediate\",\"fromcurrent\":true,\"transition\":{\"duration\":0,\"easing\":\"linear\"}}],\"label\":\"1964\",\"method\":\"animate\"},{\"args\":[[\"1965\"],{\"frame\":{\"duration\":0,\"redraw\":true},\"mode\":\"immediate\",\"fromcurrent\":true,\"transition\":{\"duration\":0,\"easing\":\"linear\"}}],\"label\":\"1965\",\"method\":\"animate\"},{\"args\":[[\"1966\"],{\"frame\":{\"duration\":0,\"redraw\":true},\"mode\":\"immediate\",\"fromcurrent\":true,\"transition\":{\"duration\":0,\"easing\":\"linear\"}}],\"label\":\"1966\",\"method\":\"animate\"},{\"args\":[[\"1967\"],{\"frame\":{\"duration\":0,\"redraw\":true},\"mode\":\"immediate\",\"fromcurrent\":true,\"transition\":{\"duration\":0,\"easing\":\"linear\"}}],\"label\":\"1967\",\"method\":\"animate\"},{\"args\":[[\"1968\"],{\"frame\":{\"duration\":0,\"redraw\":true},\"mode\":\"immediate\",\"fromcurrent\":true,\"transition\":{\"duration\":0,\"easing\":\"linear\"}}],\"label\":\"1968\",\"method\":\"animate\"},{\"args\":[[\"1969\"],{\"frame\":{\"duration\":0,\"redraw\":true},\"mode\":\"immediate\",\"fromcurrent\":true,\"transition\":{\"duration\":0,\"easing\":\"linear\"}}],\"label\":\"1969\",\"method\":\"animate\"},{\"args\":[[\"1970\"],{\"frame\":{\"duration\":0,\"redraw\":true},\"mode\":\"immediate\",\"fromcurrent\":true,\"transition\":{\"duration\":0,\"easing\":\"linear\"}}],\"label\":\"1970\",\"method\":\"animate\"},{\"args\":[[\"1971\"],{\"frame\":{\"duration\":0,\"redraw\":true},\"mode\":\"immediate\",\"fromcurrent\":true,\"transition\":{\"duration\":0,\"easing\":\"linear\"}}],\"label\":\"1971\",\"method\":\"animate\"},{\"args\":[[\"1972\"],{\"frame\":{\"duration\":0,\"redraw\":true},\"mode\":\"immediate\",\"fromcurrent\":true,\"transition\":{\"duration\":0,\"easing\":\"linear\"}}],\"label\":\"1972\",\"method\":\"animate\"},{\"args\":[[\"1973\"],{\"frame\":{\"duration\":0,\"redraw\":true},\"mode\":\"immediate\",\"fromcurrent\":true,\"transition\":{\"duration\":0,\"easing\":\"linear\"}}],\"label\":\"1973\",\"method\":\"animate\"},{\"args\":[[\"1974\"],{\"frame\":{\"duration\":0,\"redraw\":true},\"mode\":\"immediate\",\"fromcurrent\":true,\"transition\":{\"duration\":0,\"easing\":\"linear\"}}],\"label\":\"1974\",\"method\":\"animate\"},{\"args\":[[\"1975\"],{\"frame\":{\"duration\":0,\"redraw\":true},\"mode\":\"immediate\",\"fromcurrent\":true,\"transition\":{\"duration\":0,\"easing\":\"linear\"}}],\"label\":\"1975\",\"method\":\"animate\"},{\"args\":[[\"1976\"],{\"frame\":{\"duration\":0,\"redraw\":true},\"mode\":\"immediate\",\"fromcurrent\":true,\"transition\":{\"duration\":0,\"easing\":\"linear\"}}],\"label\":\"1976\",\"method\":\"animate\"},{\"args\":[[\"1977\"],{\"frame\":{\"duration\":0,\"redraw\":true},\"mode\":\"immediate\",\"fromcurrent\":true,\"transition\":{\"duration\":0,\"easing\":\"linear\"}}],\"label\":\"1977\",\"method\":\"animate\"},{\"args\":[[\"1978\"],{\"frame\":{\"duration\":0,\"redraw\":true},\"mode\":\"immediate\",\"fromcurrent\":true,\"transition\":{\"duration\":0,\"easing\":\"linear\"}}],\"label\":\"1978\",\"method\":\"animate\"},{\"args\":[[\"1979\"],{\"frame\":{\"duration\":0,\"redraw\":true},\"mode\":\"immediate\",\"fromcurrent\":true,\"transition\":{\"duration\":0,\"easing\":\"linear\"}}],\"label\":\"1979\",\"method\":\"animate\"},{\"args\":[[\"1980\"],{\"frame\":{\"duration\":0,\"redraw\":true},\"mode\":\"immediate\",\"fromcurrent\":true,\"transition\":{\"duration\":0,\"easing\":\"linear\"}}],\"label\":\"1980\",\"method\":\"animate\"},{\"args\":[[\"1981\"],{\"frame\":{\"duration\":0,\"redraw\":true},\"mode\":\"immediate\",\"fromcurrent\":true,\"transition\":{\"duration\":0,\"easing\":\"linear\"}}],\"label\":\"1981\",\"method\":\"animate\"},{\"args\":[[\"1982\"],{\"frame\":{\"duration\":0,\"redraw\":true},\"mode\":\"immediate\",\"fromcurrent\":true,\"transition\":{\"duration\":0,\"easing\":\"linear\"}}],\"label\":\"1982\",\"method\":\"animate\"},{\"args\":[[\"1983\"],{\"frame\":{\"duration\":0,\"redraw\":true},\"mode\":\"immediate\",\"fromcurrent\":true,\"transition\":{\"duration\":0,\"easing\":\"linear\"}}],\"label\":\"1983\",\"method\":\"animate\"},{\"args\":[[\"1984\"],{\"frame\":{\"duration\":0,\"redraw\":true},\"mode\":\"immediate\",\"fromcurrent\":true,\"transition\":{\"duration\":0,\"easing\":\"linear\"}}],\"label\":\"1984\",\"method\":\"animate\"},{\"args\":[[\"1985\"],{\"frame\":{\"duration\":0,\"redraw\":true},\"mode\":\"immediate\",\"fromcurrent\":true,\"transition\":{\"duration\":0,\"easing\":\"linear\"}}],\"label\":\"1985\",\"method\":\"animate\"},{\"args\":[[\"1986\"],{\"frame\":{\"duration\":0,\"redraw\":true},\"mode\":\"immediate\",\"fromcurrent\":true,\"transition\":{\"duration\":0,\"easing\":\"linear\"}}],\"label\":\"1986\",\"method\":\"animate\"},{\"args\":[[\"1987\"],{\"frame\":{\"duration\":0,\"redraw\":true},\"mode\":\"immediate\",\"fromcurrent\":true,\"transition\":{\"duration\":0,\"easing\":\"linear\"}}],\"label\":\"1987\",\"method\":\"animate\"},{\"args\":[[\"1988\"],{\"frame\":{\"duration\":0,\"redraw\":true},\"mode\":\"immediate\",\"fromcurrent\":true,\"transition\":{\"duration\":0,\"easing\":\"linear\"}}],\"label\":\"1988\",\"method\":\"animate\"},{\"args\":[[\"1989\"],{\"frame\":{\"duration\":0,\"redraw\":true},\"mode\":\"immediate\",\"fromcurrent\":true,\"transition\":{\"duration\":0,\"easing\":\"linear\"}}],\"label\":\"1989\",\"method\":\"animate\"},{\"args\":[[\"1990\"],{\"frame\":{\"duration\":0,\"redraw\":true},\"mode\":\"immediate\",\"fromcurrent\":true,\"transition\":{\"duration\":0,\"easing\":\"linear\"}}],\"label\":\"1990\",\"method\":\"animate\"},{\"args\":[[\"1991\"],{\"frame\":{\"duration\":0,\"redraw\":true},\"mode\":\"immediate\",\"fromcurrent\":true,\"transition\":{\"duration\":0,\"easing\":\"linear\"}}],\"label\":\"1991\",\"method\":\"animate\"},{\"args\":[[\"1992\"],{\"frame\":{\"duration\":0,\"redraw\":true},\"mode\":\"immediate\",\"fromcurrent\":true,\"transition\":{\"duration\":0,\"easing\":\"linear\"}}],\"label\":\"1992\",\"method\":\"animate\"},{\"args\":[[\"1993\"],{\"frame\":{\"duration\":0,\"redraw\":true},\"mode\":\"immediate\",\"fromcurrent\":true,\"transition\":{\"duration\":0,\"easing\":\"linear\"}}],\"label\":\"1993\",\"method\":\"animate\"},{\"args\":[[\"1994\"],{\"frame\":{\"duration\":0,\"redraw\":true},\"mode\":\"immediate\",\"fromcurrent\":true,\"transition\":{\"duration\":0,\"easing\":\"linear\"}}],\"label\":\"1994\",\"method\":\"animate\"},{\"args\":[[\"1995\"],{\"frame\":{\"duration\":0,\"redraw\":true},\"mode\":\"immediate\",\"fromcurrent\":true,\"transition\":{\"duration\":0,\"easing\":\"linear\"}}],\"label\":\"1995\",\"method\":\"animate\"},{\"args\":[[\"1996\"],{\"frame\":{\"duration\":0,\"redraw\":true},\"mode\":\"immediate\",\"fromcurrent\":true,\"transition\":{\"duration\":0,\"easing\":\"linear\"}}],\"label\":\"1996\",\"method\":\"animate\"},{\"args\":[[\"1997\"],{\"frame\":{\"duration\":0,\"redraw\":true},\"mode\":\"immediate\",\"fromcurrent\":true,\"transition\":{\"duration\":0,\"easing\":\"linear\"}}],\"label\":\"1997\",\"method\":\"animate\"},{\"args\":[[\"1998\"],{\"frame\":{\"duration\":0,\"redraw\":true},\"mode\":\"immediate\",\"fromcurrent\":true,\"transition\":{\"duration\":0,\"easing\":\"linear\"}}],\"label\":\"1998\",\"method\":\"animate\"},{\"args\":[[\"1999\"],{\"frame\":{\"duration\":0,\"redraw\":true},\"mode\":\"immediate\",\"fromcurrent\":true,\"transition\":{\"duration\":0,\"easing\":\"linear\"}}],\"label\":\"1999\",\"method\":\"animate\"},{\"args\":[[\"2000\"],{\"frame\":{\"duration\":0,\"redraw\":true},\"mode\":\"immediate\",\"fromcurrent\":true,\"transition\":{\"duration\":0,\"easing\":\"linear\"}}],\"label\":\"2000\",\"method\":\"animate\"},{\"args\":[[\"2001\"],{\"frame\":{\"duration\":0,\"redraw\":true},\"mode\":\"immediate\",\"fromcurrent\":true,\"transition\":{\"duration\":0,\"easing\":\"linear\"}}],\"label\":\"2001\",\"method\":\"animate\"},{\"args\":[[\"2002\"],{\"frame\":{\"duration\":0,\"redraw\":true},\"mode\":\"immediate\",\"fromcurrent\":true,\"transition\":{\"duration\":0,\"easing\":\"linear\"}}],\"label\":\"2002\",\"method\":\"animate\"},{\"args\":[[\"2003\"],{\"frame\":{\"duration\":0,\"redraw\":true},\"mode\":\"immediate\",\"fromcurrent\":true,\"transition\":{\"duration\":0,\"easing\":\"linear\"}}],\"label\":\"2003\",\"method\":\"animate\"},{\"args\":[[\"2004\"],{\"frame\":{\"duration\":0,\"redraw\":true},\"mode\":\"immediate\",\"fromcurrent\":true,\"transition\":{\"duration\":0,\"easing\":\"linear\"}}],\"label\":\"2004\",\"method\":\"animate\"},{\"args\":[[\"2005\"],{\"frame\":{\"duration\":0,\"redraw\":true},\"mode\":\"immediate\",\"fromcurrent\":true,\"transition\":{\"duration\":0,\"easing\":\"linear\"}}],\"label\":\"2005\",\"method\":\"animate\"},{\"args\":[[\"2006\"],{\"frame\":{\"duration\":0,\"redraw\":true},\"mode\":\"immediate\",\"fromcurrent\":true,\"transition\":{\"duration\":0,\"easing\":\"linear\"}}],\"label\":\"2006\",\"method\":\"animate\"},{\"args\":[[\"2007\"],{\"frame\":{\"duration\":0,\"redraw\":true},\"mode\":\"immediate\",\"fromcurrent\":true,\"transition\":{\"duration\":0,\"easing\":\"linear\"}}],\"label\":\"2007\",\"method\":\"animate\"},{\"args\":[[\"2008\"],{\"frame\":{\"duration\":0,\"redraw\":true},\"mode\":\"immediate\",\"fromcurrent\":true,\"transition\":{\"duration\":0,\"easing\":\"linear\"}}],\"label\":\"2008\",\"method\":\"animate\"},{\"args\":[[\"2009\"],{\"frame\":{\"duration\":0,\"redraw\":true},\"mode\":\"immediate\",\"fromcurrent\":true,\"transition\":{\"duration\":0,\"easing\":\"linear\"}}],\"label\":\"2009\",\"method\":\"animate\"},{\"args\":[[\"2010\"],{\"frame\":{\"duration\":0,\"redraw\":true},\"mode\":\"immediate\",\"fromcurrent\":true,\"transition\":{\"duration\":0,\"easing\":\"linear\"}}],\"label\":\"2010\",\"method\":\"animate\"},{\"args\":[[\"2011\"],{\"frame\":{\"duration\":0,\"redraw\":true},\"mode\":\"immediate\",\"fromcurrent\":true,\"transition\":{\"duration\":0,\"easing\":\"linear\"}}],\"label\":\"2011\",\"method\":\"animate\"},{\"args\":[[\"2012\"],{\"frame\":{\"duration\":0,\"redraw\":true},\"mode\":\"immediate\",\"fromcurrent\":true,\"transition\":{\"duration\":0,\"easing\":\"linear\"}}],\"label\":\"2012\",\"method\":\"animate\"},{\"args\":[[\"2013\"],{\"frame\":{\"duration\":0,\"redraw\":true},\"mode\":\"immediate\",\"fromcurrent\":true,\"transition\":{\"duration\":0,\"easing\":\"linear\"}}],\"label\":\"2013\",\"method\":\"animate\"},{\"args\":[[\"2014\"],{\"frame\":{\"duration\":0,\"redraw\":true},\"mode\":\"immediate\",\"fromcurrent\":true,\"transition\":{\"duration\":0,\"easing\":\"linear\"}}],\"label\":\"2014\",\"method\":\"animate\"},{\"args\":[[\"2015\"],{\"frame\":{\"duration\":0,\"redraw\":true},\"mode\":\"immediate\",\"fromcurrent\":true,\"transition\":{\"duration\":0,\"easing\":\"linear\"}}],\"label\":\"2015\",\"method\":\"animate\"},{\"args\":[[\"2016\"],{\"frame\":{\"duration\":0,\"redraw\":true},\"mode\":\"immediate\",\"fromcurrent\":true,\"transition\":{\"duration\":0,\"easing\":\"linear\"}}],\"label\":\"2016\",\"method\":\"animate\"},{\"args\":[[\"2017\"],{\"frame\":{\"duration\":0,\"redraw\":true},\"mode\":\"immediate\",\"fromcurrent\":true,\"transition\":{\"duration\":0,\"easing\":\"linear\"}}],\"label\":\"2017\",\"method\":\"animate\"},{\"args\":[[\"2018\"],{\"frame\":{\"duration\":0,\"redraw\":true},\"mode\":\"immediate\",\"fromcurrent\":true,\"transition\":{\"duration\":0,\"easing\":\"linear\"}}],\"label\":\"2018\",\"method\":\"animate\"},{\"args\":[[\"2019\"],{\"frame\":{\"duration\":0,\"redraw\":true},\"mode\":\"immediate\",\"fromcurrent\":true,\"transition\":{\"duration\":0,\"easing\":\"linear\"}}],\"label\":\"2019\",\"method\":\"animate\"}],\"x\":0.1,\"xanchor\":\"left\",\"y\":0,\"yanchor\":\"top\"}]},                        {\"responsive\": true}                    ).then(function(){\n",
       "                            Plotly.addFrames('ce23deff-3cd3-44c0-b1fc-ef6d552b47d3', [{\"data\":[{\"alignmentgroup\":\"True\",\"hovertemplate\":\"Sex=Female<br>Year=1960<br>Population=%{x}<br>Age range (years)=%{y}<extra></extra>\",\"legendgroup\":\"Female\",\"marker\":{\"color\":\"#636efa\",\"pattern\":{\"shape\":\"\"}},\"name\":\"Female\",\"offsetgroup\":\"Female\",\"orientation\":\"h\",\"showlegend\":true,\"textposition\":\"auto\",\"x\":[2000000.0,1900000.0,2100000.0,1700000.0,1700000.0,1600000.0,1700000.0,1900000.0,1700000.0,1900000.0,1900000.0,1700000.0,1500000.0,1300000.0,1000000.0],\"xaxis\":\"x\",\"y\":[\"<5\",\"5-9\",\"10-14\",\"15-19\",\"20-24\",\"25-29\",\"30-34\",\"35-39\",\"40-44\",\"45-49\",\"50-54\",\"55-59\",\"60-64\",\"65-69\",\"70-74\"],\"yaxis\":\"y\",\"type\":\"bar\"},{\"alignmentgroup\":\"True\",\"hovertemplate\":\"Sex=Male<br>Year=1960<br>Population=%{x}<br>Age range (years)=%{y}<extra></extra>\",\"legendgroup\":\"Male\",\"marker\":{\"color\":\"#EF553B\",\"pattern\":{\"shape\":\"\"}},\"name\":\"Male\",\"offsetgroup\":\"Male\",\"orientation\":\"h\",\"showlegend\":true,\"textposition\":\"auto\",\"x\":[2100000.0,2000000.0,2200000.0,1800000.0,1600000.0,1600000.0,1700000.0,1900000.0,1600000.0,1800000.0,1800000.0,1600000.0,1200000.0,900000.0,700000.0],\"xaxis\":\"x\",\"y\":[\"<5\",\"5-9\",\"10-14\",\"15-19\",\"20-24\",\"25-29\",\"30-34\",\"35-39\",\"40-44\",\"45-49\",\"50-54\",\"55-59\",\"60-64\",\"65-69\",\"70-74\"],\"yaxis\":\"y\",\"type\":\"bar\"}],\"name\":\"1960\"},{\"data\":[{\"alignmentgroup\":\"True\",\"hovertemplate\":\"Sex=Female<br>Year=1961<br>Population=%{x}<br>Age range (years)=%{y}<extra></extra>\",\"legendgroup\":\"Female\",\"marker\":{\"color\":\"#636efa\",\"pattern\":{\"shape\":\"\"}},\"name\":\"Female\",\"offsetgroup\":\"Female\",\"orientation\":\"h\",\"showlegend\":true,\"textposition\":\"auto\",\"x\":[2100000.0,1900000.0,2100000.0,1800000.0,1700000.0,1600000.0,1700000.0,1900000.0,1700000.0,1900000.0,1900000.0,1700000.0,1500000.0,1300000.0,1100000.0],\"xaxis\":\"x\",\"y\":[\"<5\",\"5-9\",\"10-14\",\"15-19\",\"20-24\",\"25-29\",\"30-34\",\"35-39\",\"40-44\",\"45-49\",\"50-54\",\"55-59\",\"60-64\",\"65-69\",\"70-74\"],\"yaxis\":\"y\",\"type\":\"bar\"},{\"alignmentgroup\":\"True\",\"hovertemplate\":\"Sex=Male<br>Year=1961<br>Population=%{x}<br>Age range (years)=%{y}<extra></extra>\",\"legendgroup\":\"Male\",\"marker\":{\"color\":\"#EF553B\",\"pattern\":{\"shape\":\"\"}},\"name\":\"Male\",\"offsetgroup\":\"Male\",\"orientation\":\"h\",\"showlegend\":true,\"textposition\":\"auto\",\"x\":[2200000.0,2000000.0,2200000.0,1900000.0,1600000.0,1600000.0,1700000.0,1800000.0,1700000.0,1800000.0,1800000.0,1600000.0,1200000.0,900000.0,700000.0],\"xaxis\":\"x\",\"y\":[\"<5\",\"5-9\",\"10-14\",\"15-19\",\"20-24\",\"25-29\",\"30-34\",\"35-39\",\"40-44\",\"45-49\",\"50-54\",\"55-59\",\"60-64\",\"65-69\",\"70-74\"],\"yaxis\":\"y\",\"type\":\"bar\"}],\"name\":\"1961\"},{\"data\":[{\"alignmentgroup\":\"True\",\"hovertemplate\":\"Sex=Female<br>Year=1962<br>Population=%{x}<br>Age range (years)=%{y}<extra></extra>\",\"legendgroup\":\"Female\",\"marker\":{\"color\":\"#636efa\",\"pattern\":{\"shape\":\"\"}},\"name\":\"Female\",\"offsetgroup\":\"Female\",\"orientation\":\"h\",\"showlegend\":true,\"textposition\":\"auto\",\"x\":[2100000.0,1900000.0,2000000.0,1900000.0,1700000.0,1600000.0,1700000.0,1800000.0,1800000.0,1800000.0,1900000.0,1700000.0,1500000.0,1300000.0,1100000.0],\"xaxis\":\"x\",\"y\":[\"<5\",\"5-9\",\"10-14\",\"15-19\",\"20-24\",\"25-29\",\"30-34\",\"35-39\",\"40-44\",\"45-49\",\"50-54\",\"55-59\",\"60-64\",\"65-69\",\"70-74\"],\"yaxis\":\"y\",\"type\":\"bar\"},{\"alignmentgroup\":\"True\",\"hovertemplate\":\"Sex=Male<br>Year=1962<br>Population=%{x}<br>Age range (years)=%{y}<extra></extra>\",\"legendgroup\":\"Male\",\"marker\":{\"color\":\"#EF553B\",\"pattern\":{\"shape\":\"\"}},\"name\":\"Male\",\"offsetgroup\":\"Male\",\"orientation\":\"h\",\"showlegend\":true,\"textposition\":\"auto\",\"x\":[2200000.0,2000000.0,2100000.0,2000000.0,1700000.0,1700000.0,1700000.0,1800000.0,1800000.0,1800000.0,1800000.0,1600000.0,1300000.0,900000.0,700000.0],\"xaxis\":\"x\",\"y\":[\"<5\",\"5-9\",\"10-14\",\"15-19\",\"20-24\",\"25-29\",\"30-34\",\"35-39\",\"40-44\",\"45-49\",\"50-54\",\"55-59\",\"60-64\",\"65-69\",\"70-74\"],\"yaxis\":\"y\",\"type\":\"bar\"}],\"name\":\"1962\"},{\"data\":[{\"alignmentgroup\":\"True\",\"hovertemplate\":\"Sex=Female<br>Year=1963<br>Population=%{x}<br>Age range (years)=%{y}<extra></extra>\",\"legendgroup\":\"Female\",\"marker\":{\"color\":\"#636efa\",\"pattern\":{\"shape\":\"\"}},\"name\":\"Female\",\"offsetgroup\":\"Female\",\"orientation\":\"h\",\"showlegend\":true,\"textposition\":\"auto\",\"x\":[2200000.0,1900000.0,1900000.0,2000000.0,1700000.0,1600000.0,1700000.0,1800000.0,1900000.0,1800000.0,1900000.0,1800000.0,1600000.0,1300000.0,1100000.0],\"xaxis\":\"x\",\"y\":[\"<5\",\"5-9\",\"10-14\",\"15-19\",\"20-24\",\"25-29\",\"30-34\",\"35-39\",\"40-44\",\"45-49\",\"50-54\",\"55-59\",\"60-64\",\"65-69\",\"70-74\"],\"yaxis\":\"y\",\"type\":\"bar\"},{\"alignmentgroup\":\"True\",\"hovertemplate\":\"Sex=Male<br>Year=1963<br>Population=%{x}<br>Age range (years)=%{y}<extra></extra>\",\"legendgroup\":\"Male\",\"marker\":{\"color\":\"#EF553B\",\"pattern\":{\"shape\":\"\"}},\"name\":\"Male\",\"offsetgroup\":\"Male\",\"orientation\":\"h\",\"showlegend\":true,\"textposition\":\"auto\",\"x\":[2300000.0,2000000.0,2000000.0,2100000.0,1700000.0,1700000.0,1700000.0,1800000.0,1800000.0,1700000.0,1800000.0,1600000.0,1300000.0,900000.0,700000.0],\"xaxis\":\"x\",\"y\":[\"<5\",\"5-9\",\"10-14\",\"15-19\",\"20-24\",\"25-29\",\"30-34\",\"35-39\",\"40-44\",\"45-49\",\"50-54\",\"55-59\",\"60-64\",\"65-69\",\"70-74\"],\"yaxis\":\"y\",\"type\":\"bar\"}],\"name\":\"1963\"},{\"data\":[{\"alignmentgroup\":\"True\",\"hovertemplate\":\"Sex=Female<br>Year=1964<br>Population=%{x}<br>Age range (years)=%{y}<extra></extra>\",\"legendgroup\":\"Female\",\"marker\":{\"color\":\"#636efa\",\"pattern\":{\"shape\":\"\"}},\"name\":\"Female\",\"offsetgroup\":\"Female\",\"orientation\":\"h\",\"showlegend\":true,\"textposition\":\"auto\",\"x\":[2200000.0,1900000.0,1900000.0,2100000.0,1700000.0,1600000.0,1600000.0,1700000.0,1900000.0,1700000.0,1900000.0,1800000.0,1600000.0,1400000.0,1100000.0],\"xaxis\":\"x\",\"y\":[\"<5\",\"5-9\",\"10-14\",\"15-19\",\"20-24\",\"25-29\",\"30-34\",\"35-39\",\"40-44\",\"45-49\",\"50-54\",\"55-59\",\"60-64\",\"65-69\",\"70-74\"],\"yaxis\":\"y\",\"type\":\"bar\"},{\"alignmentgroup\":\"True\",\"hovertemplate\":\"Sex=Male<br>Year=1964<br>Population=%{x}<br>Age range (years)=%{y}<extra></extra>\",\"legendgroup\":\"Male\",\"marker\":{\"color\":\"#EF553B\",\"pattern\":{\"shape\":\"\"}},\"name\":\"Male\",\"offsetgroup\":\"Male\",\"orientation\":\"h\",\"showlegend\":true,\"textposition\":\"auto\",\"x\":[2400000.0,2100000.0,2000000.0,2100000.0,1700000.0,1700000.0,1700000.0,1700000.0,1900000.0,1600000.0,1800000.0,1600000.0,1400000.0,1000000.0,700000.0],\"xaxis\":\"x\",\"y\":[\"<5\",\"5-9\",\"10-14\",\"15-19\",\"20-24\",\"25-29\",\"30-34\",\"35-39\",\"40-44\",\"45-49\",\"50-54\",\"55-59\",\"60-64\",\"65-69\",\"70-74\"],\"yaxis\":\"y\",\"type\":\"bar\"}],\"name\":\"1964\"},{\"data\":[{\"alignmentgroup\":\"True\",\"hovertemplate\":\"Sex=Female<br>Year=1965<br>Population=%{x}<br>Age range (years)=%{y}<extra></extra>\",\"legendgroup\":\"Female\",\"marker\":{\"color\":\"#636efa\",\"pattern\":{\"shape\":\"\"}},\"name\":\"Female\",\"offsetgroup\":\"Female\",\"orientation\":\"h\",\"showlegend\":true,\"textposition\":\"auto\",\"x\":[2300000.0,2000000.0,1900000.0,2100000.0,1800000.0,1700000.0,1600000.0,1700000.0,1900000.0,1700000.0,1900000.0,1800000.0,1600000.0,1400000.0,1100000.0],\"xaxis\":\"x\",\"y\":[\"<5\",\"5-9\",\"10-14\",\"15-19\",\"20-24\",\"25-29\",\"30-34\",\"35-39\",\"40-44\",\"45-49\",\"50-54\",\"55-59\",\"60-64\",\"65-69\",\"70-74\"],\"yaxis\":\"y\",\"type\":\"bar\"},{\"alignmentgroup\":\"True\",\"hovertemplate\":\"Sex=Male<br>Year=1965<br>Population=%{x}<br>Age range (years)=%{y}<extra></extra>\",\"legendgroup\":\"Male\",\"marker\":{\"color\":\"#EF553B\",\"pattern\":{\"shape\":\"\"}},\"name\":\"Male\",\"offsetgroup\":\"Male\",\"orientation\":\"h\",\"showlegend\":true,\"textposition\":\"auto\",\"x\":[2400000.0,2100000.0,2000000.0,2200000.0,1800000.0,1700000.0,1700000.0,1700000.0,1900000.0,1600000.0,1800000.0,1700000.0,1400000.0,1000000.0,700000.0],\"xaxis\":\"x\",\"y\":[\"<5\",\"5-9\",\"10-14\",\"15-19\",\"20-24\",\"25-29\",\"30-34\",\"35-39\",\"40-44\",\"45-49\",\"50-54\",\"55-59\",\"60-64\",\"65-69\",\"70-74\"],\"yaxis\":\"y\",\"type\":\"bar\"}],\"name\":\"1965\"},{\"data\":[{\"alignmentgroup\":\"True\",\"hovertemplate\":\"Sex=Female<br>Year=1966<br>Population=%{x}<br>Age range (years)=%{y}<extra></extra>\",\"legendgroup\":\"Female\",\"marker\":{\"color\":\"#636efa\",\"pattern\":{\"shape\":\"\"}},\"name\":\"Female\",\"offsetgroup\":\"Female\",\"orientation\":\"h\",\"showlegend\":true,\"textposition\":\"auto\",\"x\":[2329500.0,2031800.0,1858200.0,2080000.0,1819400.0,1666200.0,1607000.0,1697200.0,1847300.0,1707200.0,1833000.0,1803600.0,1651200.0,1403600.0,1118700.0],\"xaxis\":\"x\",\"y\":[\"<5\",\"5-9\",\"10-14\",\"15-19\",\"20-24\",\"25-29\",\"30-34\",\"35-39\",\"40-44\",\"45-49\",\"50-54\",\"55-59\",\"60-64\",\"65-69\",\"70-74\"],\"yaxis\":\"y\",\"type\":\"bar\"},{\"alignmentgroup\":\"True\",\"hovertemplate\":\"Sex=Male<br>Year=1966<br>Population=%{x}<br>Age range (years)=%{y}<extra></extra>\",\"legendgroup\":\"Male\",\"marker\":{\"color\":\"#EF553B\",\"pattern\":{\"shape\":\"\"}},\"name\":\"Male\",\"offsetgroup\":\"Male\",\"orientation\":\"h\",\"showlegend\":true,\"textposition\":\"auto\",\"x\":[2437900.0,2158600.0,1962700.0,2164000.0,1832500.0,1695600.0,1653300.0,1703200.0,1820400.0,1650500.0,1737500.0,1667400.0,1429500.0,1022400.0,704100.0],\"xaxis\":\"x\",\"y\":[\"<5\",\"5-9\",\"10-14\",\"15-19\",\"20-24\",\"25-29\",\"30-34\",\"35-39\",\"40-44\",\"45-49\",\"50-54\",\"55-59\",\"60-64\",\"65-69\",\"70-74\"],\"yaxis\":\"y\",\"type\":\"bar\"}],\"name\":\"1966\"},{\"data\":[{\"alignmentgroup\":\"True\",\"hovertemplate\":\"Sex=Female<br>Year=1967<br>Population=%{x}<br>Age range (years)=%{y}<extra></extra>\",\"legendgroup\":\"Female\",\"marker\":{\"color\":\"#636efa\",\"pattern\":{\"shape\":\"\"}},\"name\":\"Female\",\"offsetgroup\":\"Female\",\"orientation\":\"h\",\"showlegend\":true,\"textposition\":\"auto\",\"x\":[2342800.0,2091400.0,1862900.0,2035000.0,1918400.0,1663900.0,1601100.0,1675500.0,1793900.0,1767000.0,1790200.0,1803500.0,1664500.0,1426700.0,1136500.0],\"xaxis\":\"x\",\"y\":[\"<5\",\"5-9\",\"10-14\",\"15-19\",\"20-24\",\"25-29\",\"30-34\",\"35-39\",\"40-44\",\"45-49\",\"50-54\",\"55-59\",\"60-64\",\"65-69\",\"70-74\"],\"yaxis\":\"y\",\"type\":\"bar\"},{\"alignmentgroup\":\"True\",\"hovertemplate\":\"Sex=Male<br>Year=1967<br>Population=%{x}<br>Age range (years)=%{y}<extra></extra>\",\"legendgroup\":\"Male\",\"marker\":{\"color\":\"#EF553B\",\"pattern\":{\"shape\":\"\"}},\"name\":\"Male\",\"offsetgroup\":\"Male\",\"orientation\":\"h\",\"showlegend\":true,\"textposition\":\"auto\",\"x\":[2452800.0,2211200.0,1975100.0,2107100.0,1940600.0,1695600.0,1655400.0,1691100.0,1773800.0,1712500.0,1691500.0,1666800.0,1444400.0,1061200.0,708800.0],\"xaxis\":\"x\",\"y\":[\"<5\",\"5-9\",\"10-14\",\"15-19\",\"20-24\",\"25-29\",\"30-34\",\"35-39\",\"40-44\",\"45-49\",\"50-54\",\"55-59\",\"60-64\",\"65-69\",\"70-74\"],\"yaxis\":\"y\",\"type\":\"bar\"}],\"name\":\"1967\"},{\"data\":[{\"alignmentgroup\":\"True\",\"hovertemplate\":\"Sex=Female<br>Year=1968<br>Population=%{x}<br>Age range (years)=%{y}<extra></extra>\",\"legendgroup\":\"Female\",\"marker\":{\"color\":\"#636efa\",\"pattern\":{\"shape\":\"\"}},\"name\":\"Female\",\"offsetgroup\":\"Female\",\"orientation\":\"h\",\"showlegend\":true,\"textposition\":\"auto\",\"x\":[2343500.0,2154300.0,1887300.0,1954900.0,2022600.0,1675000.0,1603500.0,1654100.0,1752600.0,1832100.0,1718000.0,1799100.0,1681700.0,1453400.0,1153200.0],\"xaxis\":\"x\",\"y\":[\"<5\",\"5-9\",\"10-14\",\"15-19\",\"20-24\",\"25-29\",\"30-34\",\"35-39\",\"40-44\",\"45-49\",\"50-54\",\"55-59\",\"60-64\",\"65-69\",\"70-74\"],\"yaxis\":\"y\",\"type\":\"bar\"},{\"alignmentgroup\":\"True\",\"hovertemplate\":\"Sex=Male<br>Year=1968<br>Population=%{x}<br>Age range (years)=%{y}<extra></extra>\",\"legendgroup\":\"Male\",\"marker\":{\"color\":\"#EF553B\",\"pattern\":{\"shape\":\"\"}},\"name\":\"Male\",\"offsetgroup\":\"Male\",\"orientation\":\"h\",\"showlegend\":true,\"textposition\":\"auto\",\"x\":[2446600.0,2266100.0,2008700.0,2027600.0,2045500.0,1706700.0,1658300.0,1673800.0,1736900.0,1774300.0,1621900.0,1663100.0,1463700.0,1103500.0,716300.0],\"xaxis\":\"x\",\"y\":[\"<5\",\"5-9\",\"10-14\",\"15-19\",\"20-24\",\"25-29\",\"30-34\",\"35-39\",\"40-44\",\"45-49\",\"50-54\",\"55-59\",\"60-64\",\"65-69\",\"70-74\"],\"yaxis\":\"y\",\"type\":\"bar\"}],\"name\":\"1968\"},{\"data\":[{\"alignmentgroup\":\"True\",\"hovertemplate\":\"Sex=Female<br>Year=1969<br>Population=%{x}<br>Age range (years)=%{y}<extra></extra>\",\"legendgroup\":\"Female\",\"marker\":{\"color\":\"#636efa\",\"pattern\":{\"shape\":\"\"}},\"name\":\"Female\",\"offsetgroup\":\"Female\",\"orientation\":\"h\",\"showlegend\":true,\"textposition\":\"auto\",\"x\":[2330000.0,2214000.0,1920300.0,1912000.0,2076000.0,1702100.0,1614000.0,1629100.0,1720700.0,1894500.0,1629800.0,1793800.0,1697100.0,1482900.0,1170400.0],\"xaxis\":\"x\",\"y\":[\"<5\",\"5-9\",\"10-14\",\"15-19\",\"20-24\",\"25-29\",\"30-34\",\"35-39\",\"40-44\",\"45-49\",\"50-54\",\"55-59\",\"60-64\",\"65-69\",\"70-74\"],\"yaxis\":\"y\",\"type\":\"bar\"},{\"alignmentgroup\":\"True\",\"hovertemplate\":\"Sex=Male<br>Year=1969<br>Population=%{x}<br>Age range (years)=%{y}<extra></extra>\",\"legendgroup\":\"Male\",\"marker\":{\"color\":\"#EF553B\",\"pattern\":{\"shape\":\"\"}},\"name\":\"Male\",\"offsetgroup\":\"Male\",\"orientation\":\"h\",\"showlegend\":true,\"textposition\":\"auto\",\"x\":[2422900.0,2320700.0,2050400.0,1987800.0,2098000.0,1733900.0,1667700.0,1649600.0,1708000.0,1836000.0,1538600.0,1658200.0,1481900.0,1143200.0,725600.0],\"xaxis\":\"x\",\"y\":[\"<5\",\"5-9\",\"10-14\",\"15-19\",\"20-24\",\"25-29\",\"30-34\",\"35-39\",\"40-44\",\"45-49\",\"50-54\",\"55-59\",\"60-64\",\"65-69\",\"70-74\"],\"yaxis\":\"y\",\"type\":\"bar\"}],\"name\":\"1969\"},{\"data\":[{\"alignmentgroup\":\"True\",\"hovertemplate\":\"Sex=Female<br>Year=1970<br>Population=%{x}<br>Age range (years)=%{y}<extra></extra>\",\"legendgroup\":\"Female\",\"marker\":{\"color\":\"#636efa\",\"pattern\":{\"shape\":\"\"}},\"name\":\"Female\",\"offsetgroup\":\"Female\",\"orientation\":\"h\",\"showlegend\":true,\"textposition\":\"auto\",\"x\":[2291500.0,2266200.0,1962100.0,1890000.0,2102000.0,1736800.0,1624300.0,1602200.0,1696700.0,1884200.0,1611600.0,1786400.0,1707200.0,1504300.0,1193200.0],\"xaxis\":\"x\",\"y\":[\"<5\",\"5-9\",\"10-14\",\"15-19\",\"20-24\",\"25-29\",\"30-34\",\"35-39\",\"40-44\",\"45-49\",\"50-54\",\"55-59\",\"60-64\",\"65-69\",\"70-74\"],\"yaxis\":\"y\",\"type\":\"bar\"},{\"alignmentgroup\":\"True\",\"hovertemplate\":\"Sex=Male<br>Year=1970<br>Population=%{x}<br>Age range (years)=%{y}<extra></extra>\",\"legendgroup\":\"Male\",\"marker\":{\"color\":\"#EF553B\",\"pattern\":{\"shape\":\"\"}},\"name\":\"Male\",\"offsetgroup\":\"Male\",\"orientation\":\"h\",\"showlegend\":true,\"textposition\":\"auto\",\"x\":[2380500.0,2367200.0,2097300.0,1971300.0,2128800.0,1769900.0,1674100.0,1627600.0,1684400.0,1828500.0,1523400.0,1650800.0,1495400.0,1173700.0,744400.0],\"xaxis\":\"x\",\"y\":[\"<5\",\"5-9\",\"10-14\",\"15-19\",\"20-24\",\"25-29\",\"30-34\",\"35-39\",\"40-44\",\"45-49\",\"50-54\",\"55-59\",\"60-64\",\"65-69\",\"70-74\"],\"yaxis\":\"y\",\"type\":\"bar\"}],\"name\":\"1970\"},{\"data\":[{\"alignmentgroup\":\"True\",\"hovertemplate\":\"Sex=Female<br>Year=1971<br>Population=%{x}<br>Age range (years)=%{y}<extra></extra>\",\"legendgroup\":\"Female\",\"marker\":{\"color\":\"#636efa\",\"pattern\":{\"shape\":\"\"}},\"name\":\"Female\",\"offsetgroup\":\"Female\",\"orientation\":\"h\",\"showlegend\":true,\"textposition\":\"auto\",\"x\":[2240500.0,2286500.0,2022200.0,1884900.0,2116700.0,1789300.0,1622400.0,1582100.0,1676700.0,1815300.0,1666200.0,1765500.0,1712600.0,1519400.0,1222200.0],\"xaxis\":\"x\",\"y\":[\"<5\",\"5-9\",\"10-14\",\"15-19\",\"20-24\",\"25-29\",\"30-34\",\"35-39\",\"40-44\",\"45-49\",\"50-54\",\"55-59\",\"60-64\",\"65-69\",\"70-74\"],\"yaxis\":\"y\",\"type\":\"bar\"},{\"alignmentgroup\":\"True\",\"hovertemplate\":\"Sex=Male<br>Year=1971<br>Population=%{x}<br>Age range (years)=%{y}<extra></extra>\",\"legendgroup\":\"Male\",\"marker\":{\"color\":\"#EF553B\",\"pattern\":{\"shape\":\"\"}},\"name\":\"Male\",\"offsetgroup\":\"Male\",\"orientation\":\"h\",\"showlegend\":true,\"textposition\":\"auto\",\"x\":[2344700.0,2393900.0,2149400.0,1970400.0,2151800.0,1825700.0,1670800.0,1615400.0,1666700.0,1769500.0,1577300.0,1630900.0,1503300.0,1197000.0,773200.0],\"xaxis\":\"x\",\"y\":[\"<5\",\"5-9\",\"10-14\",\"15-19\",\"20-24\",\"25-29\",\"30-34\",\"35-39\",\"40-44\",\"45-49\",\"50-54\",\"55-59\",\"60-64\",\"65-69\",\"70-74\"],\"yaxis\":\"y\",\"type\":\"bar\"}],\"name\":\"1971\"},{\"data\":[{\"alignmentgroup\":\"True\",\"hovertemplate\":\"Sex=Female<br>Year=1972<br>Population=%{x}<br>Age range (years)=%{y}<extra></extra>\",\"legendgroup\":\"Female\",\"marker\":{\"color\":\"#636efa\",\"pattern\":{\"shape\":\"\"}},\"name\":\"Female\",\"offsetgroup\":\"Female\",\"orientation\":\"h\",\"showlegend\":true,\"textposition\":\"auto\",\"x\":[2189219.0,2288791.0,2086671.0,1895105.0,2067950.0,1895727.0,1618573.0,1574051.0,1656184.0,1761560.0,1726009.0,1725425.0,1712108.0,1534839.0,1247692.0],\"xaxis\":\"x\",\"y\":[\"<5\",\"5-9\",\"10-14\",\"15-19\",\"20-24\",\"25-29\",\"30-34\",\"35-39\",\"40-44\",\"45-49\",\"50-54\",\"55-59\",\"60-64\",\"65-69\",\"70-74\"],\"yaxis\":\"y\",\"type\":\"bar\"},{\"alignmentgroup\":\"True\",\"hovertemplate\":\"Sex=Male<br>Year=1972<br>Population=%{x}<br>Age range (years)=%{y}<extra></extra>\",\"legendgroup\":\"Male\",\"marker\":{\"color\":\"#EF553B\",\"pattern\":{\"shape\":\"\"}},\"name\":\"Male\",\"offsetgroup\":\"Male\",\"orientation\":\"h\",\"showlegend\":true,\"textposition\":\"auto\",\"x\":[2306014.0,2409770.0,2201088.0,1986731.0,2110783.0,1937765.0,1665923.0,1612451.0,1652421.0,1726830.0,1637339.0,1590942.0,1506416.0,1217474.0,805550.0],\"xaxis\":\"x\",\"y\":[\"<5\",\"5-9\",\"10-14\",\"15-19\",\"20-24\",\"25-29\",\"30-34\",\"35-39\",\"40-44\",\"45-49\",\"50-54\",\"55-59\",\"60-64\",\"65-69\",\"70-74\"],\"yaxis\":\"y\",\"type\":\"bar\"}],\"name\":\"1972\"},{\"data\":[{\"alignmentgroup\":\"True\",\"hovertemplate\":\"Sex=Female<br>Year=1973<br>Population=%{x}<br>Age range (years)=%{y}<extra></extra>\",\"legendgroup\":\"Female\",\"marker\":{\"color\":\"#636efa\",\"pattern\":{\"shape\":\"\"}},\"name\":\"Female\",\"offsetgroup\":\"Female\",\"orientation\":\"h\",\"showlegend\":true,\"textposition\":\"auto\",\"x\":[2127654.0,2290896.0,2143919.0,1916906.0,1983954.0,2006461.0,1635347.0,1579606.0,1634193.0,1721291.0,1789523.0,1657700.0,1706941.0,1550112.0,1269348.0],\"xaxis\":\"x\",\"y\":[\"<5\",\"5-9\",\"10-14\",\"15-19\",\"20-24\",\"25-29\",\"30-34\",\"35-39\",\"40-44\",\"45-49\",\"50-54\",\"55-59\",\"60-64\",\"65-69\",\"70-74\"],\"yaxis\":\"y\",\"type\":\"bar\"},{\"alignmentgroup\":\"True\",\"hovertemplate\":\"Sex=Male<br>Year=1973<br>Population=%{x}<br>Age range (years)=%{y}<extra></extra>\",\"legendgroup\":\"Male\",\"marker\":{\"color\":\"#EF553B\",\"pattern\":{\"shape\":\"\"}},\"name\":\"Male\",\"offsetgroup\":\"Male\",\"orientation\":\"h\",\"showlegend\":true,\"textposition\":\"auto\",\"x\":[2242884.0,2414751.0,2254119.0,2010006.0,2034521.0,2049962.0,1677920.0,1621098.0,1637903.0,1693742.0,1703779.0,1524038.0,1505222.0,1235108.0,838083.0],\"xaxis\":\"x\",\"y\":[\"<5\",\"5-9\",\"10-14\",\"15-19\",\"20-24\",\"25-29\",\"30-34\",\"35-39\",\"40-44\",\"45-49\",\"50-54\",\"55-59\",\"60-64\",\"65-69\",\"70-74\"],\"yaxis\":\"y\",\"type\":\"bar\"}],\"name\":\"1973\"},{\"data\":[{\"alignmentgroup\":\"True\",\"hovertemplate\":\"Sex=Female<br>Year=1974<br>Population=%{x}<br>Age range (years)=%{y}<extra></extra>\",\"legendgroup\":\"Female\",\"marker\":{\"color\":\"#636efa\",\"pattern\":{\"shape\":\"\"}},\"name\":\"Female\",\"offsetgroup\":\"Female\",\"orientation\":\"h\",\"showlegend\":true,\"textposition\":\"auto\",\"x\":[2047461.0,2273468.0,2198367.0,1947133.0,1938063.0,2058133.0,1669325.0,1593867.0,1607891.0,1690466.0,1850966.0,1572854.0,1702952.0,1564017.0,1293634.0],\"xaxis\":\"x\",\"y\":[\"<5\",\"5-9\",\"10-14\",\"15-19\",\"20-24\",\"25-29\",\"30-34\",\"35-39\",\"40-44\",\"45-49\",\"50-54\",\"55-59\",\"60-64\",\"65-69\",\"70-74\"],\"yaxis\":\"y\",\"type\":\"bar\"},{\"alignmentgroup\":\"True\",\"hovertemplate\":\"Sex=Male<br>Year=1974<br>Population=%{x}<br>Age range (years)=%{y}<extra></extra>\",\"legendgroup\":\"Male\",\"marker\":{\"color\":\"#EF553B\",\"pattern\":{\"shape\":\"\"}},\"name\":\"Male\",\"offsetgroup\":\"Male\",\"orientation\":\"h\",\"showlegend\":true,\"textposition\":\"auto\",\"x\":[2162282.0,2395188.0,2310992.0,2037401.0,1997965.0,2101059.0,1711802.0,1637576.0,1618525.0,1668175.0,1769362.0,1444252.0,1502378.0,1252398.0,870616.0],\"xaxis\":\"x\",\"y\":[\"<5\",\"5-9\",\"10-14\",\"15-19\",\"20-24\",\"25-29\",\"30-34\",\"35-39\",\"40-44\",\"45-49\",\"50-54\",\"55-59\",\"60-64\",\"65-69\",\"70-74\"],\"yaxis\":\"y\",\"type\":\"bar\"}],\"name\":\"1974\"},{\"data\":[{\"alignmentgroup\":\"True\",\"hovertemplate\":\"Sex=Female<br>Year=1975<br>Population=%{x}<br>Age range (years)=%{y}<extra></extra>\",\"legendgroup\":\"Female\",\"marker\":{\"color\":\"#636efa\",\"pattern\":{\"shape\":\"\"}},\"name\":\"Female\",\"offsetgroup\":\"Female\",\"orientation\":\"h\",\"showlegend\":true,\"textposition\":\"auto\",\"x\":[1958000.0,2235043.0,2247015.0,1990506.0,1911363.0,2079315.0,1706161.0,1604950.0,1580224.0,1667030.0,1838205.0,1556429.0,1697822.0,1572739.0,1313716.0],\"xaxis\":\"x\",\"y\":[\"<5\",\"5-9\",\"10-14\",\"15-19\",\"20-24\",\"25-29\",\"30-34\",\"35-39\",\"40-44\",\"45-49\",\"50-54\",\"55-59\",\"60-64\",\"65-69\",\"70-74\"],\"yaxis\":\"y\",\"type\":\"bar\"},{\"alignmentgroup\":\"True\",\"hovertemplate\":\"Sex=Male<br>Year=1975<br>Population=%{x}<br>Age range (years)=%{y}<extra></extra>\",\"legendgroup\":\"Male\",\"marker\":{\"color\":\"#EF553B\",\"pattern\":{\"shape\":\"\"}},\"name\":\"Male\",\"offsetgroup\":\"Male\",\"orientation\":\"h\",\"showlegend\":true,\"textposition\":\"auto\",\"x\":[2070031.0,2354068.0,2365312.0,2080476.0,1977249.0,2125863.0,1752054.0,1648981.0,1600088.0,1647624.0,1765442.0,1432226.0,1496480.0,1266432.0,897152.0],\"xaxis\":\"x\",\"y\":[\"<5\",\"5-9\",\"10-14\",\"15-19\",\"20-24\",\"25-29\",\"30-34\",\"35-39\",\"40-44\",\"45-49\",\"50-54\",\"55-59\",\"60-64\",\"65-69\",\"70-74\"],\"yaxis\":\"y\",\"type\":\"bar\"}],\"name\":\"1975\"},{\"data\":[{\"alignmentgroup\":\"True\",\"hovertemplate\":\"Sex=Female<br>Year=1976<br>Population=%{x}<br>Age range (years)=%{y}<extra></extra>\",\"legendgroup\":\"Female\",\"marker\":{\"color\":\"#636efa\",\"pattern\":{\"shape\":\"\"}},\"name\":\"Female\",\"offsetgroup\":\"Female\",\"orientation\":\"h\",\"showlegend\":true,\"textposition\":\"auto\",\"x\":[1861562.0,2195768.0,2276549.0,2047429.0,1901055.0,2091472.0,1758298.0,1600659.0,1560611.0,1648290.0,1768615.0,1609427.0,1679884.0,1574957.0,1327332.0],\"xaxis\":\"x\",\"y\":[\"<5\",\"5-9\",\"10-14\",\"15-19\",\"20-24\",\"25-29\",\"30-34\",\"35-39\",\"40-44\",\"45-49\",\"50-54\",\"55-59\",\"60-64\",\"65-69\",\"70-74\"],\"yaxis\":\"y\",\"type\":\"bar\"},{\"alignmentgroup\":\"True\",\"hovertemplate\":\"Sex=Male<br>Year=1976<br>Population=%{x}<br>Age range (years)=%{y}<extra></extra>\",\"legendgroup\":\"Male\",\"marker\":{\"color\":\"#EF553B\",\"pattern\":{\"shape\":\"\"}},\"name\":\"Male\",\"offsetgroup\":\"Male\",\"orientation\":\"h\",\"showlegend\":true,\"textposition\":\"auto\",\"x\":[1968642.0,2315257.0,2399356.0,2137405.0,1972903.0,2140248.0,1804390.0,1641881.0,1587696.0,1631304.0,1708342.0,1485479.0,1479347.0,1274218.0,917893.0],\"xaxis\":\"x\",\"y\":[\"<5\",\"5-9\",\"10-14\",\"15-19\",\"20-24\",\"25-29\",\"30-34\",\"35-39\",\"40-44\",\"45-49\",\"50-54\",\"55-59\",\"60-64\",\"65-69\",\"70-74\"],\"yaxis\":\"y\",\"type\":\"bar\"}],\"name\":\"1976\"},{\"data\":[{\"alignmentgroup\":\"True\",\"hovertemplate\":\"Sex=Female<br>Year=1977<br>Population=%{x}<br>Age range (years)=%{y}<extra></extra>\",\"legendgroup\":\"Female\",\"marker\":{\"color\":\"#636efa\",\"pattern\":{\"shape\":\"\"}},\"name\":\"Female\",\"offsetgroup\":\"Female\",\"orientation\":\"h\",\"showlegend\":true,\"textposition\":\"auto\",\"x\":[1759897.0,2154829.0,2287229.0,2107367.0,1913349.0,2046280.0,1865092.0,1594954.0,1553358.0,1629245.0,1716151.0,1666912.0,1641317.0,1574057.0,1340863.0],\"xaxis\":\"x\",\"y\":[\"<5\",\"5-9\",\"10-14\",\"15-19\",\"20-24\",\"25-29\",\"30-34\",\"35-39\",\"40-44\",\"45-49\",\"50-54\",\"55-59\",\"60-64\",\"65-69\",\"70-74\"],\"yaxis\":\"y\",\"type\":\"bar\"},{\"alignmentgroup\":\"True\",\"hovertemplate\":\"Sex=Male<br>Year=1977<br>Population=%{x}<br>Age range (years)=%{y}<extra></extra>\",\"legendgroup\":\"Male\",\"marker\":{\"color\":\"#EF553B\",\"pattern\":{\"shape\":\"\"}},\"name\":\"Male\",\"offsetgroup\":\"Male\",\"orientation\":\"h\",\"showlegend\":true,\"textposition\":\"auto\",\"x\":[1861192.0,2273331.0,2415247.0,2193813.0,1991576.0,2091001.0,1910629.0,1631036.0,1583113.0,1615970.0,1664508.0,1542268.0,1443521.0,1277403.0,936506.0],\"xaxis\":\"x\",\"y\":[\"<5\",\"5-9\",\"10-14\",\"15-19\",\"20-24\",\"25-29\",\"30-34\",\"35-39\",\"40-44\",\"45-49\",\"50-54\",\"55-59\",\"60-64\",\"65-69\",\"70-74\"],\"yaxis\":\"y\",\"type\":\"bar\"}],\"name\":\"1977\"},{\"data\":[{\"alignmentgroup\":\"True\",\"hovertemplate\":\"Sex=Female<br>Year=1978<br>Population=%{x}<br>Age range (years)=%{y}<extra></extra>\",\"legendgroup\":\"Female\",\"marker\":{\"color\":\"#636efa\",\"pattern\":{\"shape\":\"\"}},\"name\":\"Female\",\"offsetgroup\":\"Female\",\"orientation\":\"h\",\"showlegend\":true,\"textposition\":\"auto\",\"x\":[1681302.0,2096205.0,2284424.0,2164317.0,1939377.0,1969324.0,1976113.0,1611518.0,1559632.0,1609420.0,1677467.0,1728556.0,1575417.0,1572484.0,1356866.0],\"xaxis\":\"x\",\"y\":[\"<5\",\"5-9\",\"10-14\",\"15-19\",\"20-24\",\"25-29\",\"30-34\",\"35-39\",\"40-44\",\"45-49\",\"50-54\",\"55-59\",\"60-64\",\"65-69\",\"70-74\"],\"yaxis\":\"y\",\"type\":\"bar\"},{\"alignmentgroup\":\"True\",\"hovertemplate\":\"Sex=Male<br>Year=1978<br>Population=%{x}<br>Age range (years)=%{y}<extra></extra>\",\"legendgroup\":\"Male\",\"marker\":{\"color\":\"#EF553B\",\"pattern\":{\"shape\":\"\"}},\"name\":\"Male\",\"offsetgroup\":\"Male\",\"orientation\":\"h\",\"showlegend\":true,\"textposition\":\"auto\",\"x\":[1776068.0,2212174.0,2414626.0,2249213.0,2016765.0,2009826.0,2020683.0,1642764.0,1591724.0,1600714.0,1631461.0,1605061.0,1381580.0,1279435.0,954346.0],\"xaxis\":\"x\",\"y\":[\"<5\",\"5-9\",\"10-14\",\"15-19\",\"20-24\",\"25-29\",\"30-34\",\"35-39\",\"40-44\",\"45-49\",\"50-54\",\"55-59\",\"60-64\",\"65-69\",\"70-74\"],\"yaxis\":\"y\",\"type\":\"bar\"}],\"name\":\"1978\"},{\"data\":[{\"alignmentgroup\":\"True\",\"hovertemplate\":\"Sex=Female<br>Year=1979<br>Population=%{x}<br>Age range (years)=%{y}<extra></extra>\",\"legendgroup\":\"Female\",\"marker\":{\"color\":\"#636efa\",\"pattern\":{\"shape\":\"\"}},\"name\":\"Female\",\"offsetgroup\":\"Female\",\"orientation\":\"h\",\"showlegend\":true,\"textposition\":\"auto\",\"x\":[1646898.0,2019435.0,2265317.0,2219437.0,1971869.0,1928172.0,2030879.0,1648668.0,1576681.0,1585843.0,1649258.0,1787360.0,1494740.0,1571466.0,1371464.0],\"xaxis\":\"x\",\"y\":[\"<5\",\"5-9\",\"10-14\",\"15-19\",\"20-24\",\"25-29\",\"30-34\",\"35-39\",\"40-44\",\"45-49\",\"50-54\",\"55-59\",\"60-64\",\"65-69\",\"70-74\"],\"yaxis\":\"y\",\"type\":\"bar\"},{\"alignmentgroup\":\"True\",\"hovertemplate\":\"Sex=Male<br>Year=1979<br>Population=%{x}<br>Age range (years)=%{y}<extra></extra>\",\"legendgroup\":\"Male\",\"marker\":{\"color\":\"#EF553B\",\"pattern\":{\"shape\":\"\"}},\"name\":\"Male\",\"offsetgroup\":\"Male\",\"orientation\":\"h\",\"showlegend\":true,\"textposition\":\"auto\",\"x\":[1736954.0,2134775.0,2392284.0,2310978.0,2046336.0,1970096.0,2073030.0,1679290.0,1608200.0,1583694.0,1608038.0,1665859.0,1309103.0,1280690.0,971388.0],\"xaxis\":\"x\",\"y\":[\"<5\",\"5-9\",\"10-14\",\"15-19\",\"20-24\",\"25-29\",\"30-34\",\"35-39\",\"40-44\",\"45-49\",\"50-54\",\"55-59\",\"60-64\",\"65-69\",\"70-74\"],\"yaxis\":\"y\",\"type\":\"bar\"}],\"name\":\"1979\"},{\"data\":[{\"alignmentgroup\":\"True\",\"hovertemplate\":\"Sex=Female<br>Year=1980<br>Population=%{x}<br>Age range (years)=%{y}<extra></extra>\",\"legendgroup\":\"Female\",\"marker\":{\"color\":\"#636efa\",\"pattern\":{\"shape\":\"\"}},\"name\":\"Female\",\"offsetgroup\":\"Female\",\"orientation\":\"h\",\"showlegend\":true,\"textposition\":\"auto\",\"x\":[1649856.0,1933535.0,2229198.0,2271243.0,2018858.0,1905110.0,2059892.0,1692714.0,1591697.0,1562696.0,1630330.0,1776047.0,1480778.0,1569613.0,1381885.0],\"xaxis\":\"x\",\"y\":[\"<5\",\"5-9\",\"10-14\",\"15-19\",\"20-24\",\"25-29\",\"30-34\",\"35-39\",\"40-44\",\"45-49\",\"50-54\",\"55-59\",\"60-64\",\"65-69\",\"70-74\"],\"yaxis\":\"y\",\"type\":\"bar\"},{\"alignmentgroup\":\"True\",\"hovertemplate\":\"Sex=Male<br>Year=1980<br>Population=%{x}<br>Age range (years)=%{y}<extra></extra>\",\"legendgroup\":\"Male\",\"marker\":{\"color\":\"#EF553B\",\"pattern\":{\"shape\":\"\"}},\"name\":\"Male\",\"offsetgroup\":\"Male\",\"orientation\":\"h\",\"showlegend\":true,\"textposition\":\"auto\",\"x\":[1739162.0,2045003.0,2351328.0,2372616.0,2090096.0,1947626.0,2098019.0,1724847.0,1620411.0,1568467.0,1590904.0,1662547.0,1301553.0,1279751.0,987388.0],\"xaxis\":\"x\",\"y\":[\"<5\",\"5-9\",\"10-14\",\"15-19\",\"20-24\",\"25-29\",\"30-34\",\"35-39\",\"40-44\",\"45-49\",\"50-54\",\"55-59\",\"60-64\",\"65-69\",\"70-74\"],\"yaxis\":\"y\",\"type\":\"bar\"}],\"name\":\"1980\"},{\"data\":[{\"alignmentgroup\":\"True\",\"hovertemplate\":\"Sex=Female<br>Year=1981<br>Population=%{x}<br>Age range (years)=%{y}<extra></extra>\",\"legendgroup\":\"Female\",\"marker\":{\"color\":\"#636efa\",\"pattern\":{\"shape\":\"\"}},\"name\":\"Female\",\"offsetgroup\":\"Female\",\"orientation\":\"h\",\"showlegend\":true,\"textposition\":\"auto\",\"x\":[1670166.0,1840329.0,2190667.0,2302936.0,2080516.0,1896135.0,2075000.0,1748085.0,1589775.0,1546718.0,1615566.0,1709592.0,1532207.0,1554307.0,1388030.0],\"xaxis\":\"x\",\"y\":[\"<5\",\"5-9\",\"10-14\",\"15-19\",\"20-24\",\"25-29\",\"30-34\",\"35-39\",\"40-44\",\"45-49\",\"50-54\",\"55-59\",\"60-64\",\"65-69\",\"70-74\"],\"yaxis\":\"y\",\"type\":\"bar\"},{\"alignmentgroup\":\"True\",\"hovertemplate\":\"Sex=Male<br>Year=1981<br>Population=%{x}<br>Age range (years)=%{y}<extra></extra>\",\"legendgroup\":\"Male\",\"marker\":{\"color\":\"#EF553B\",\"pattern\":{\"shape\":\"\"}},\"name\":\"Male\",\"offsetgroup\":\"Male\",\"orientation\":\"h\",\"showlegend\":true,\"textposition\":\"auto\",\"x\":[1759766.0,1944423.0,2310316.0,2412294.0,2144264.0,1933914.0,2105707.0,1776787.0,1612817.0,1555443.0,1577970.0,1611085.0,1351719.0,1269514.0,999302.0],\"xaxis\":\"x\",\"y\":[\"<5\",\"5-9\",\"10-14\",\"15-19\",\"20-24\",\"25-29\",\"30-34\",\"35-39\",\"40-44\",\"45-49\",\"50-54\",\"55-59\",\"60-64\",\"65-69\",\"70-74\"],\"yaxis\":\"y\",\"type\":\"bar\"}],\"name\":\"1981\"},{\"data\":[{\"alignmentgroup\":\"True\",\"hovertemplate\":\"Sex=Female<br>Year=1982<br>Population=%{x}<br>Age range (years)=%{y}<extra></extra>\",\"legendgroup\":\"Female\",\"marker\":{\"color\":\"#636efa\",\"pattern\":{\"shape\":\"\"}},\"name\":\"Female\",\"offsetgroup\":\"Female\",\"orientation\":\"h\",\"showlegend\":true,\"textposition\":\"auto\",\"x\":[1699227.0,1742405.0,2147383.0,2313350.0,2137473.0,1902029.0,2024744.0,1853282.0,1583692.0,1539638.0,1599158.0,1658682.0,1586604.0,1516566.0,1389800.0],\"xaxis\":\"x\",\"y\":[\"<5\",\"5-9\",\"10-14\",\"15-19\",\"20-24\",\"25-29\",\"30-34\",\"35-39\",\"40-44\",\"45-49\",\"50-54\",\"55-59\",\"60-64\",\"65-69\",\"70-74\"],\"yaxis\":\"y\",\"type\":\"bar\"},{\"alignmentgroup\":\"True\",\"hovertemplate\":\"Sex=Male<br>Year=1982<br>Population=%{x}<br>Age range (years)=%{y}<extra></extra>\",\"legendgroup\":\"Male\",\"marker\":{\"color\":\"#EF553B\",\"pattern\":{\"shape\":\"\"}},\"name\":\"Male\",\"offsetgroup\":\"Male\",\"orientation\":\"h\",\"showlegend\":true,\"textposition\":\"auto\",\"x\":[1788717.0,1840320.0,2262444.0,2430890.0,2189438.0,1933191.0,2046799.0,1876077.0,1602264.0,1548204.0,1565576.0,1573193.0,1404746.0,1240980.0,1005862.0],\"xaxis\":\"x\",\"y\":[\"<5\",\"5-9\",\"10-14\",\"15-19\",\"20-24\",\"25-29\",\"30-34\",\"35-39\",\"40-44\",\"45-49\",\"50-54\",\"55-59\",\"60-64\",\"65-69\",\"70-74\"],\"yaxis\":\"y\",\"type\":\"bar\"}],\"name\":\"1982\"},{\"data\":[{\"alignmentgroup\":\"True\",\"hovertemplate\":\"Sex=Female<br>Year=1983<br>Population=%{x}<br>Age range (years)=%{y}<extra></extra>\",\"legendgroup\":\"Female\",\"marker\":{\"color\":\"#636efa\",\"pattern\":{\"shape\":\"\"}},\"name\":\"Female\",\"offsetgroup\":\"Female\",\"orientation\":\"h\",\"showlegend\":true,\"textposition\":\"auto\",\"x\":[1730121.0,1666293.0,2086481.0,2309414.0,2190925.0,1918185.0,1941830.0,1964113.0,1598031.0,1545007.0,1580531.0,1622421.0,1645795.0,1453628.0,1388974.0],\"xaxis\":\"x\",\"y\":[\"<5\",\"5-9\",\"10-14\",\"15-19\",\"20-24\",\"25-29\",\"30-34\",\"35-39\",\"40-44\",\"45-49\",\"50-54\",\"55-59\",\"60-64\",\"65-69\",\"70-74\"],\"yaxis\":\"y\",\"type\":\"bar\"},{\"alignmentgroup\":\"True\",\"hovertemplate\":\"Sex=Male<br>Year=1983<br>Population=%{x}<br>Age range (years)=%{y}<extra></extra>\",\"legendgroup\":\"Male\",\"marker\":{\"color\":\"#EF553B\",\"pattern\":{\"shape\":\"\"}},\"name\":\"Male\",\"offsetgroup\":\"Male\",\"orientation\":\"h\",\"showlegend\":true,\"textposition\":\"auto\",\"x\":[1819420.0,1758936.0,2195009.0,2428375.0,2234174.0,1946191.0,1960938.0,1979919.0,1616357.0,1554891.0,1551242.0,1545565.0,1464784.0,1188648.0,1010343.0],\"xaxis\":\"x\",\"y\":[\"<5\",\"5-9\",\"10-14\",\"15-19\",\"20-24\",\"25-29\",\"30-34\",\"35-39\",\"40-44\",\"45-49\",\"50-54\",\"55-59\",\"60-64\",\"65-69\",\"70-74\"],\"yaxis\":\"y\",\"type\":\"bar\"}],\"name\":\"1983\"},{\"data\":[{\"alignmentgroup\":\"True\",\"hovertemplate\":\"Sex=Female<br>Year=1984<br>Population=%{x}<br>Age range (years)=%{y}<extra></extra>\",\"legendgroup\":\"Female\",\"marker\":{\"color\":\"#636efa\",\"pattern\":{\"shape\":\"\"}},\"name\":\"Female\",\"offsetgroup\":\"Female\",\"orientation\":\"h\",\"showlegend\":true,\"textposition\":\"auto\",\"x\":[1748468.0,1633505.0,2009635.0,2284527.0,2249655.0,1950539.0,1898836.0,2021787.0,1632817.0,1560782.0,1557854.0,1597648.0,1702427.0,1380044.0,1388991.0],\"xaxis\":\"x\",\"y\":[\"<5\",\"5-9\",\"10-14\",\"15-19\",\"20-24\",\"25-29\",\"30-34\",\"35-39\",\"40-44\",\"45-49\",\"50-54\",\"55-59\",\"60-64\",\"65-69\",\"70-74\"],\"yaxis\":\"y\",\"type\":\"bar\"},{\"alignmentgroup\":\"True\",\"hovertemplate\":\"Sex=Male<br>Year=1984<br>Population=%{x}<br>Age range (years)=%{y}<extra></extra>\",\"legendgroup\":\"Male\",\"marker\":{\"color\":\"#EF553B\",\"pattern\":{\"shape\":\"\"}},\"name\":\"Male\",\"offsetgroup\":\"Male\",\"orientation\":\"h\",\"showlegend\":true,\"textposition\":\"auto\",\"x\":[1836647.0,1722996.0,2114486.0,2392270.0,2297307.0,1979764.0,1921104.0,2032463.0,1652278.0,1570579.0,1534443.0,1526831.0,1522487.0,1128887.0,1014939.0],\"xaxis\":\"x\",\"y\":[\"<5\",\"5-9\",\"10-14\",\"15-19\",\"20-24\",\"25-29\",\"30-34\",\"35-39\",\"40-44\",\"45-49\",\"50-54\",\"55-59\",\"60-64\",\"65-69\",\"70-74\"],\"yaxis\":\"y\",\"type\":\"bar\"}],\"name\":\"1984\"},{\"data\":[{\"alignmentgroup\":\"True\",\"hovertemplate\":\"Sex=Female<br>Year=1985<br>Population=%{x}<br>Age range (years)=%{y}<extra></extra>\",\"legendgroup\":\"Female\",\"marker\":{\"color\":\"#636efa\",\"pattern\":{\"shape\":\"\"}},\"name\":\"Female\",\"offsetgroup\":\"Female\",\"orientation\":\"h\",\"showlegend\":true,\"textposition\":\"auto\",\"x\":[1755543.0,1641695.0,1927161.0,2241935.0,2305503.0,2002570.0,1878166.0,2054390.0,1676762.0,1574286.0,1535365.0,1581764.0,1692373.0,1370505.0,1388100.0],\"xaxis\":\"x\",\"y\":[\"<5\",\"5-9\",\"10-14\",\"15-19\",\"20-24\",\"25-29\",\"30-34\",\"35-39\",\"40-44\",\"45-49\",\"50-54\",\"55-59\",\"60-64\",\"65-69\",\"70-74\"],\"yaxis\":\"y\",\"type\":\"bar\"},{\"alignmentgroup\":\"True\",\"hovertemplate\":\"Sex=Male<br>Year=1985<br>Population=%{x}<br>Age range (years)=%{y}<extra></extra>\",\"legendgroup\":\"Male\",\"marker\":{\"color\":\"#EF553B\",\"pattern\":{\"shape\":\"\"}},\"name\":\"Male\",\"offsetgroup\":\"Male\",\"orientation\":\"h\",\"showlegend\":true,\"textposition\":\"auto\",\"x\":[1842116.0,1730675.0,2027539.0,2337801.0,2357548.0,2031176.0,1903127.0,2061154.0,1696798.0,1582425.0,1520425.0,1513170.0,1522407.0,1127138.0,1017668.0],\"xaxis\":\"x\",\"y\":[\"<5\",\"5-9\",\"10-14\",\"15-19\",\"20-24\",\"25-29\",\"30-34\",\"35-39\",\"40-44\",\"45-49\",\"50-54\",\"55-59\",\"60-64\",\"65-69\",\"70-74\"],\"yaxis\":\"y\",\"type\":\"bar\"}],\"name\":\"1985\"},{\"data\":[{\"alignmentgroup\":\"True\",\"hovertemplate\":\"Sex=Female<br>Year=1986<br>Population=%{x}<br>Age range (years)=%{y}<extra></extra>\",\"legendgroup\":\"Female\",\"marker\":{\"color\":\"#636efa\",\"pattern\":{\"shape\":\"\"}},\"name\":\"Female\",\"offsetgroup\":\"Female\",\"orientation\":\"h\",\"showlegend\":true,\"textposition\":\"auto\",\"x\":[1766042.0,1669478.0,1840790.0,2201087.0,2342025.0,2068391.0,1875894.0,2073484.0,1733966.0,1570961.0,1519119.0,1569707.0,1631814.0,1421464.0,1376495.0],\"xaxis\":\"x\",\"y\":[\"<5\",\"5-9\",\"10-14\",\"15-19\",\"20-24\",\"25-29\",\"30-34\",\"35-39\",\"40-44\",\"45-49\",\"50-54\",\"55-59\",\"60-64\",\"65-69\",\"70-74\"],\"yaxis\":\"y\",\"type\":\"bar\"},{\"alignmentgroup\":\"True\",\"hovertemplate\":\"Sex=Male<br>Year=1986<br>Population=%{x}<br>Age range (years)=%{y}<extra></extra>\",\"legendgroup\":\"Male\",\"marker\":{\"color\":\"#EF553B\",\"pattern\":{\"shape\":\"\"}},\"name\":\"Male\",\"offsetgroup\":\"Male\",\"orientation\":\"h\",\"showlegend\":true,\"textposition\":\"auto\",\"x\":[1853401.0,1757895.0,1937693.0,2290808.0,2386511.0,2090265.0,1899184.0,2075573.0,1752221.0,1577854.0,1510809.0,1502094.0,1479489.0,1176141.0,1012215.0],\"xaxis\":\"x\",\"y\":[\"<5\",\"5-9\",\"10-14\",\"15-19\",\"20-24\",\"25-29\",\"30-34\",\"35-39\",\"40-44\",\"45-49\",\"50-54\",\"55-59\",\"60-64\",\"65-69\",\"70-74\"],\"yaxis\":\"y\",\"type\":\"bar\"}],\"name\":\"1986\"},{\"data\":[{\"alignmentgroup\":\"True\",\"hovertemplate\":\"Sex=Female<br>Year=1987<br>Population=%{x}<br>Age range (years)=%{y}<extra></extra>\",\"legendgroup\":\"Female\",\"marker\":{\"color\":\"#636efa\",\"pattern\":{\"shape\":\"\"}},\"name\":\"Female\",\"offsetgroup\":\"Female\",\"orientation\":\"h\",\"showlegend\":true,\"textposition\":\"auto\",\"x\":[1783716.0,1706402.0,1750643.0,2158508.0,2352249.0,2135467.0,1894968.0,2029399.0,1841991.0,1565483.0,1512348.0,1555300.0,1586117.0,1474548.0,1345562.0],\"xaxis\":\"x\",\"y\":[\"<5\",\"5-9\",\"10-14\",\"15-19\",\"20-24\",\"25-29\",\"30-34\",\"35-39\",\"40-44\",\"45-49\",\"50-54\",\"55-59\",\"60-64\",\"65-69\",\"70-74\"],\"yaxis\":\"y\",\"type\":\"bar\"},{\"alignmentgroup\":\"True\",\"hovertemplate\":\"Sex=Male<br>Year=1987<br>Population=%{x}<br>Age range (years)=%{y}<extra></extra>\",\"legendgroup\":\"Male\",\"marker\":{\"color\":\"#EF553B\",\"pattern\":{\"shape\":\"\"}},\"name\":\"Male\",\"offsetgroup\":\"Male\",\"orientation\":\"h\",\"showlegend\":true,\"textposition\":\"auto\",\"x\":[1871582.0,1793773.0,1844282.0,2244123.0,2391852.0,2150225.0,1912884.0,2027174.0,1857731.0,1571241.0,1506195.0,1491013.0,1447268.0,1226763.0,991617.0],\"xaxis\":\"x\",\"y\":[\"<5\",\"5-9\",\"10-14\",\"15-19\",\"20-24\",\"25-29\",\"30-34\",\"35-39\",\"40-44\",\"45-49\",\"50-54\",\"55-59\",\"60-64\",\"65-69\",\"70-74\"],\"yaxis\":\"y\",\"type\":\"bar\"}],\"name\":\"1987\"},{\"data\":[{\"alignmentgroup\":\"True\",\"hovertemplate\":\"Sex=Female<br>Year=1988<br>Population=%{x}<br>Age range (years)=%{y}<extra></extra>\",\"legendgroup\":\"Female\",\"marker\":{\"color\":\"#636efa\",\"pattern\":{\"shape\":\"\"}},\"name\":\"Female\",\"offsetgroup\":\"Female\",\"orientation\":\"h\",\"showlegend\":true,\"textposition\":\"auto\",\"x\":[1809510.0,1743023.0,1679642.0,2099270.0,2338516.0,2195124.0,1925392.0,1952948.0,1956012.0,1581757.0,1518675.0,1537835.0,1552388.0,1531787.0,1291667.0],\"xaxis\":\"x\",\"y\":[\"<5\",\"5-9\",\"10-14\",\"15-19\",\"20-24\",\"25-29\",\"30-34\",\"35-39\",\"40-44\",\"45-49\",\"50-54\",\"55-59\",\"60-64\",\"65-69\",\"70-74\"],\"yaxis\":\"y\",\"type\":\"bar\"},{\"alignmentgroup\":\"True\",\"hovertemplate\":\"Sex=Male<br>Year=1988<br>Population=%{x}<br>Age range (years)=%{y}<extra></extra>\",\"legendgroup\":\"Male\",\"marker\":{\"color\":\"#EF553B\",\"pattern\":{\"shape\":\"\"}},\"name\":\"Male\",\"offsetgroup\":\"Male\",\"orientation\":\"h\",\"showlegend\":true,\"textposition\":\"auto\",\"x\":[1896687.0,1829842.0,1768103.0,2184683.0,2378393.0,2205981.0,1935795.0,1947511.0,1966507.0,1586603.0,1513691.0,1479184.0,1423892.0,1282037.0,951486.0],\"xaxis\":\"x\",\"y\":[\"<5\",\"5-9\",\"10-14\",\"15-19\",\"20-24\",\"25-29\",\"30-34\",\"35-39\",\"40-44\",\"45-49\",\"50-54\",\"55-59\",\"60-64\",\"65-69\",\"70-74\"],\"yaxis\":\"y\",\"type\":\"bar\"}],\"name\":\"1988\"},{\"data\":[{\"alignmentgroup\":\"True\",\"hovertemplate\":\"Sex=Female<br>Year=1989<br>Population=%{x}<br>Age range (years)=%{y}<extra></extra>\",\"legendgroup\":\"Female\",\"marker\":{\"color\":\"#636efa\",\"pattern\":{\"shape\":\"\"}},\"name\":\"Female\",\"offsetgroup\":\"Female\",\"orientation\":\"h\",\"showlegend\":true,\"textposition\":\"auto\",\"x\":[1839006.0,1763213.0,1648929.0,2024287.0,2308723.0,2251694.0,1963252.0,1912410.0,2015439.0,1618135.0,1535242.0,1516721.0,1529383.0,1585811.0,1228260.0],\"xaxis\":\"x\",\"y\":[\"<5\",\"5-9\",\"10-14\",\"15-19\",\"20-24\",\"25-29\",\"30-34\",\"35-39\",\"40-44\",\"45-49\",\"50-54\",\"55-59\",\"60-64\",\"65-69\",\"70-74\"],\"yaxis\":\"y\",\"type\":\"bar\"},{\"alignmentgroup\":\"True\",\"hovertemplate\":\"Sex=Male<br>Year=1989<br>Population=%{x}<br>Age range (years)=%{y}<extra></extra>\",\"legendgroup\":\"Male\",\"marker\":{\"color\":\"#EF553B\",\"pattern\":{\"shape\":\"\"}},\"name\":\"Male\",\"offsetgroup\":\"Male\",\"orientation\":\"h\",\"showlegend\":true,\"textposition\":\"auto\",\"x\":[1926062.0,1848617.0,1734286.0,2110152.0,2344419.0,2259172.0,1965562.0,1906477.0,2019068.0,1623191.0,1529990.0,1466159.0,1410001.0,1334056.0,906293.0],\"xaxis\":\"x\",\"y\":[\"<5\",\"5-9\",\"10-14\",\"15-19\",\"20-24\",\"25-29\",\"30-34\",\"35-39\",\"40-44\",\"45-49\",\"50-54\",\"55-59\",\"60-64\",\"65-69\",\"70-74\"],\"yaxis\":\"y\",\"type\":\"bar\"}],\"name\":\"1989\"},{\"data\":[{\"alignmentgroup\":\"True\",\"hovertemplate\":\"Sex=Female<br>Year=1990<br>Population=%{x}<br>Age range (years)=%{y}<extra></extra>\",\"legendgroup\":\"Female\",\"marker\":{\"color\":\"#636efa\",\"pattern\":{\"shape\":\"\"}},\"name\":\"Female\",\"offsetgroup\":\"Female\",\"orientation\":\"h\",\"showlegend\":true,\"textposition\":\"auto\",\"x\":[1861260.0,1770568.0,1657227.0,1943723.0,2265805.0,2304610.0,2014544.0,1892209.0,2048133.0,1663599.0,1548958.0,1494861.0,1514734.0,1577049.0,1222937.0,2603067.0],\"xaxis\":\"x\",\"y\":[\"<5\",\"5-9\",\"10-14\",\"15-19\",\"20-24\",\"25-29\",\"30-34\",\"35-39\",\"40-44\",\"45-49\",\"50-54\",\"55-59\",\"60-64\",\"65-69\",\"70-74\",\"75<\"],\"yaxis\":\"y\",\"type\":\"bar\"},{\"alignmentgroup\":\"True\",\"hovertemplate\":\"Sex=Male<br>Year=1990<br>Population=%{x}<br>Age range (years)=%{y}<extra></extra>\",\"legendgroup\":\"Male\",\"marker\":{\"color\":\"#EF553B\",\"pattern\":{\"shape\":\"\"}},\"name\":\"Male\",\"offsetgroup\":\"Male\",\"orientation\":\"h\",\"showlegend\":true,\"textposition\":\"auto\",\"x\":[1947658.0,1854154.0,1742149.0,2030436.0,2302040.0,2308953.0,2009072.0,1886255.0,2046163.0,1667730.0,1542089.0,1455494.0,1400746.0,1336117.0,911290.0,1333342.0],\"xaxis\":\"x\",\"y\":[\"<5\",\"5-9\",\"10-14\",\"15-19\",\"20-24\",\"25-29\",\"30-34\",\"35-39\",\"40-44\",\"45-49\",\"50-54\",\"55-59\",\"60-64\",\"65-69\",\"70-74\",\"75<\"],\"yaxis\":\"y\",\"type\":\"bar\"}],\"name\":\"1990\"},{\"data\":[{\"alignmentgroup\":\"True\",\"hovertemplate\":\"Sex=Female<br>Year=1991<br>Population=%{x}<br>Age range (years)=%{y}<extra></extra>\",\"legendgroup\":\"Female\",\"marker\":{\"color\":\"#636efa\",\"pattern\":{\"shape\":\"\"}},\"name\":\"Female\",\"offsetgroup\":\"Female\",\"orientation\":\"h\",\"showlegend\":true,\"textposition\":\"auto\",\"x\":[1880719.0,1780141.0,1684351.0,1859745.0,2223157.0,2341053.0,2078433.0,1889727.0,2067762.0,1722000.0,1546100.0,1478405.0,1503947.0,1521177.0,1272489.0,2625160.0],\"xaxis\":\"x\",\"y\":[\"<5\",\"5-9\",\"10-14\",\"15-19\",\"20-24\",\"25-29\",\"30-34\",\"35-39\",\"40-44\",\"45-49\",\"50-54\",\"55-59\",\"60-64\",\"65-69\",\"70-74\",\"75<\"],\"yaxis\":\"y\",\"type\":\"bar\"},{\"alignmentgroup\":\"True\",\"hovertemplate\":\"Sex=Male<br>Year=1991<br>Population=%{x}<br>Age range (years)=%{y}<extra></extra>\",\"legendgroup\":\"Male\",\"marker\":{\"color\":\"#EF553B\",\"pattern\":{\"shape\":\"\"}},\"name\":\"Male\",\"offsetgroup\":\"Male\",\"orientation\":\"h\",\"showlegend\":true,\"textposition\":\"auto\",\"x\":[1964607.0,1864027.0,1768370.0,1949082.0,2260575.0,2334124.0,2064951.0,1881481.0,2061431.0,1722976.0,1538085.0,1448100.0,1393646.0,1302144.0,959207.0,1351027.0],\"xaxis\":\"x\",\"y\":[\"<5\",\"5-9\",\"10-14\",\"15-19\",\"20-24\",\"25-29\",\"30-34\",\"35-39\",\"40-44\",\"45-49\",\"50-54\",\"55-59\",\"60-64\",\"65-69\",\"70-74\",\"75<\"],\"yaxis\":\"y\",\"type\":\"bar\"}],\"name\":\"1991\"},{\"data\":[{\"alignmentgroup\":\"True\",\"hovertemplate\":\"Sex=Female<br>Year=1992<br>Population=%{x}<br>Age range (years)=%{y}<extra></extra>\",\"legendgroup\":\"Female\",\"marker\":{\"color\":\"#636efa\",\"pattern\":{\"shape\":\"\"}},\"name\":\"Female\",\"offsetgroup\":\"Female\",\"orientation\":\"h\",\"showlegend\":true,\"textposition\":\"auto\",\"x\":[1897720.0,1795874.0,1719897.0,1771763.0,2182028.0,2353119.0,2139900.0,1908790.0,2025367.0,1830526.0,1543127.0,1473751.0,1491511.0,1480568.0,1321727.0,2633001.0],\"xaxis\":\"x\",\"y\":[\"<5\",\"5-9\",\"10-14\",\"15-19\",\"20-24\",\"25-29\",\"30-34\",\"35-39\",\"40-44\",\"45-49\",\"50-54\",\"55-59\",\"60-64\",\"65-69\",\"70-74\",\"75<\"],\"yaxis\":\"y\",\"type\":\"bar\"},{\"alignmentgroup\":\"True\",\"hovertemplate\":\"Sex=Male<br>Year=1992<br>Population=%{x}<br>Age range (years)=%{y}<extra></extra>\",\"legendgroup\":\"Male\",\"marker\":{\"color\":\"#EF553B\",\"pattern\":{\"shape\":\"\"}},\"name\":\"Male\",\"offsetgroup\":\"Male\",\"orientation\":\"h\",\"showlegend\":true,\"textposition\":\"auto\",\"x\":[1981446.0,1879715.0,1801862.0,1853546.0,2217229.0,2337451.0,2121767.0,1895439.0,2013412.0,1828616.0,1533299.0,1446779.0,1387010.0,1279157.0,1005573.0,1360624.0],\"xaxis\":\"x\",\"y\":[\"<5\",\"5-9\",\"10-14\",\"15-19\",\"20-24\",\"25-29\",\"30-34\",\"35-39\",\"40-44\",\"45-49\",\"50-54\",\"55-59\",\"60-64\",\"65-69\",\"70-74\",\"75<\"],\"yaxis\":\"y\",\"type\":\"bar\"}],\"name\":\"1992\"},{\"data\":[{\"alignmentgroup\":\"True\",\"hovertemplate\":\"Sex=Female<br>Year=1993<br>Population=%{x}<br>Age range (years)=%{y}<extra></extra>\",\"legendgroup\":\"Female\",\"marker\":{\"color\":\"#636efa\",\"pattern\":{\"shape\":\"\"}},\"name\":\"Female\",\"offsetgroup\":\"Female\",\"orientation\":\"h\",\"showlegend\":true,\"textposition\":\"auto\",\"x\":[1896662.0,1820334.0,1755395.0,1700518.0,2127260.0,2343218.0,2193504.0,1940518.0,1949980.0,1944849.0,1562627.0,1483570.0,1476548.0,1451041.0,1374107.0,2621018.0],\"xaxis\":\"x\",\"y\":[\"<5\",\"5-9\",\"10-14\",\"15-19\",\"20-24\",\"25-29\",\"30-34\",\"35-39\",\"40-44\",\"45-49\",\"50-54\",\"55-59\",\"60-64\",\"65-69\",\"70-74\",\"75<\"],\"yaxis\":\"y\",\"type\":\"bar\"},{\"alignmentgroup\":\"True\",\"hovertemplate\":\"Sex=Male<br>Year=1993<br>Population=%{x}<br>Age range (years)=%{y}<extra></extra>\",\"legendgroup\":\"Male\",\"marker\":{\"color\":\"#EF553B\",\"pattern\":{\"shape\":\"\"}},\"name\":\"Male\",\"offsetgroup\":\"Male\",\"orientation\":\"h\",\"showlegend\":true,\"textposition\":\"auto\",\"x\":[1982304.0,1904248.0,1835252.0,1767821.0,2163875.0,2328210.0,2172484.0,1920939.0,1933593.0,1938469.0,1550485.0,1457657.0,1379394.0,1262480.0,1053320.0,1357530.0],\"xaxis\":\"x\",\"y\":[\"<5\",\"5-9\",\"10-14\",\"15-19\",\"20-24\",\"25-29\",\"30-34\",\"35-39\",\"40-44\",\"45-49\",\"50-54\",\"55-59\",\"60-64\",\"65-69\",\"70-74\",\"75<\"],\"yaxis\":\"y\",\"type\":\"bar\"}],\"name\":\"1993\"},{\"data\":[{\"alignmentgroup\":\"True\",\"hovertemplate\":\"Sex=Female<br>Year=1994<br>Population=%{x}<br>Age range (years)=%{y}<extra></extra>\",\"legendgroup\":\"Female\",\"marker\":{\"color\":\"#636efa\",\"pattern\":{\"shape\":\"\"}},\"name\":\"Female\",\"offsetgroup\":\"Female\",\"orientation\":\"h\",\"showlegend\":true,\"textposition\":\"auto\",\"x\":[1885913.0,1847564.0,1774906.0,1669069.0,2058982.0,2322131.0,2247989.0,1979456.0,1912114.0,2004839.0,1600494.0,1502598.0,1458499.0,1430875.0,1421709.0,2597077.0],\"xaxis\":\"x\",\"y\":[\"<5\",\"5-9\",\"10-14\",\"15-19\",\"20-24\",\"25-29\",\"30-34\",\"35-39\",\"40-44\",\"45-49\",\"50-54\",\"55-59\",\"60-64\",\"65-69\",\"70-74\",\"75<\"],\"yaxis\":\"y\",\"type\":\"bar\"},{\"alignmentgroup\":\"True\",\"hovertemplate\":\"Sex=Male<br>Year=1994<br>Population=%{x}<br>Age range (years)=%{y}<extra></extra>\",\"legendgroup\":\"Male\",\"marker\":{\"color\":\"#EF553B\",\"pattern\":{\"shape\":\"\"}},\"name\":\"Male\",\"offsetgroup\":\"Male\",\"orientation\":\"h\",\"showlegend\":true,\"textposition\":\"auto\",\"x\":[1973404.0,1932803.0,1853130.0,1727122.0,2093964.0,2304025.0,2221234.0,1952598.0,1893491.0,1992982.0,1587189.0,1476037.0,1370049.0,1252191.0,1096325.0,1347258.0],\"xaxis\":\"x\",\"y\":[\"<5\",\"5-9\",\"10-14\",\"15-19\",\"20-24\",\"25-29\",\"30-34\",\"35-39\",\"40-44\",\"45-49\",\"50-54\",\"55-59\",\"60-64\",\"65-69\",\"70-74\",\"75<\"],\"yaxis\":\"y\",\"type\":\"bar\"}],\"name\":\"1994\"},{\"data\":[{\"alignmentgroup\":\"True\",\"hovertemplate\":\"Sex=Female<br>Year=1995<br>Population=%{x}<br>Age range (years)=%{y}<extra></extra>\",\"legendgroup\":\"Female\",\"marker\":{\"color\":\"#636efa\",\"pattern\":{\"shape\":\"\"}},\"name\":\"Female\",\"offsetgroup\":\"Female\",\"orientation\":\"h\",\"showlegend\":true,\"textposition\":\"auto\",\"x\":[1870568.0,1866689.0,1781389.0,1676425.0,1985833.0,2290194.0,2300038.0,2025915.0,1894093.0,2035717.0,1647241.0,1518336.0,1440748.0,1419008.0,1415458.0,2619804.0],\"xaxis\":\"x\",\"y\":[\"<5\",\"5-9\",\"10-14\",\"15-19\",\"20-24\",\"25-29\",\"30-34\",\"35-39\",\"40-44\",\"45-49\",\"50-54\",\"55-59\",\"60-64\",\"65-69\",\"70-74\",\"75<\"],\"yaxis\":\"y\",\"type\":\"bar\"},{\"alignmentgroup\":\"True\",\"hovertemplate\":\"Sex=Male<br>Year=1995<br>Population=%{x}<br>Age range (years)=%{y}<extra></extra>\",\"legendgroup\":\"Male\",\"marker\":{\"color\":\"#EF553B\",\"pattern\":{\"shape\":\"\"}},\"name\":\"Male\",\"offsetgroup\":\"Male\",\"orientation\":\"h\",\"showlegend\":true,\"textposition\":\"auto\",\"x\":[1960584.0,1952586.0,1859703.0,1728890.0,2015843.0,2272419.0,2268033.0,1996284.0,1874199.0,2020520.0,1633044.0,1489743.0,1363414.0,1246694.0,1100296.0,1373764.0],\"xaxis\":\"x\",\"y\":[\"<5\",\"5-9\",\"10-14\",\"15-19\",\"20-24\",\"25-29\",\"30-34\",\"35-39\",\"40-44\",\"45-49\",\"50-54\",\"55-59\",\"60-64\",\"65-69\",\"70-74\",\"75<\"],\"yaxis\":\"y\",\"type\":\"bar\"}],\"name\":\"1995\"},{\"data\":[{\"alignmentgroup\":\"True\",\"hovertemplate\":\"Sex=Female<br>Year=1996<br>Population=%{x}<br>Age range (years)=%{y}<extra></extra>\",\"legendgroup\":\"Female\",\"marker\":{\"color\":\"#636efa\",\"pattern\":{\"shape\":\"\"}},\"name\":\"Female\",\"offsetgroup\":\"Female\",\"orientation\":\"h\",\"showlegend\":true,\"textposition\":\"auto\",\"x\":[1840604.0,1883387.0,1789024.0,1701495.0,1906722.0,2255701.0,2336402.0,2079651.0,1891566.0,2050832.0,1706234.0,1518939.0,1429178.0,1410950.0,1369047.0,2679432.0],\"xaxis\":\"x\",\"y\":[\"<5\",\"5-9\",\"10-14\",\"15-19\",\"20-24\",\"25-29\",\"30-34\",\"35-39\",\"40-44\",\"45-49\",\"50-54\",\"55-59\",\"60-64\",\"65-69\",\"70-74\",\"75<\"],\"yaxis\":\"y\",\"type\":\"bar\"},{\"alignmentgroup\":\"True\",\"hovertemplate\":\"Sex=Male<br>Year=1996<br>Population=%{x}<br>Age range (years)=%{y}<extra></extra>\",\"legendgroup\":\"Male\",\"marker\":{\"color\":\"#EF553B\",\"pattern\":{\"shape\":\"\"}},\"name\":\"Male\",\"offsetgroup\":\"Male\",\"orientation\":\"h\",\"showlegend\":true,\"textposition\":\"auto\",\"x\":[1933353.0,1970160.0,1870040.0,1750147.0,1933769.0,2241369.0,2301311.0,2050428.0,1871134.0,2033151.0,1690920.0,1488833.0,1360692.0,1244366.0,1076619.0,1429131.0],\"xaxis\":\"x\",\"y\":[\"<5\",\"5-9\",\"10-14\",\"15-19\",\"20-24\",\"25-29\",\"30-34\",\"35-39\",\"40-44\",\"45-49\",\"50-54\",\"55-59\",\"60-64\",\"65-69\",\"70-74\",\"75<\"],\"yaxis\":\"y\",\"type\":\"bar\"}],\"name\":\"1996\"},{\"data\":[{\"alignmentgroup\":\"True\",\"hovertemplate\":\"Sex=Female<br>Year=1997<br>Population=%{x}<br>Age range (years)=%{y}<extra></extra>\",\"legendgroup\":\"Female\",\"marker\":{\"color\":\"#636efa\",\"pattern\":{\"shape\":\"\"}},\"name\":\"Female\",\"offsetgroup\":\"Female\",\"orientation\":\"h\",\"showlegend\":true,\"textposition\":\"auto\",\"x\":[1809056.0,1897983.0,1803341.0,1734259.0,1821161.0,2221432.0,2355428.0,2135946.0,1910183.0,2009669.0,1811122.0,1517693.0,1427592.0,1401786.0,1333725.0,2719846.0],\"xaxis\":\"x\",\"y\":[\"<5\",\"5-9\",\"10-14\",\"15-19\",\"20-24\",\"25-29\",\"30-34\",\"35-39\",\"40-44\",\"45-49\",\"50-54\",\"55-59\",\"60-64\",\"65-69\",\"70-74\",\"75<\"],\"yaxis\":\"y\",\"type\":\"bar\"},{\"alignmentgroup\":\"True\",\"hovertemplate\":\"Sex=Male<br>Year=1997<br>Population=%{x}<br>Age range (years)=%{y}<extra></extra>\",\"legendgroup\":\"Male\",\"marker\":{\"color\":\"#EF553B\",\"pattern\":{\"shape\":\"\"}},\"name\":\"Male\",\"offsetgroup\":\"Male\",\"orientation\":\"h\",\"showlegend\":true,\"textposition\":\"auto\",\"x\":[1903305.0,1987346.0,1887324.0,1781353.0,1844296.0,2204975.0,2319011.0,2103912.0,1887474.0,1987958.0,1794404.0,1485676.0,1364021.0,1242984.0,1061814.0,1473237.0],\"xaxis\":\"x\",\"y\":[\"<5\",\"5-9\",\"10-14\",\"15-19\",\"20-24\",\"25-29\",\"30-34\",\"35-39\",\"40-44\",\"45-49\",\"50-54\",\"55-59\",\"60-64\",\"65-69\",\"70-74\",\"75<\"],\"yaxis\":\"y\",\"type\":\"bar\"}],\"name\":\"1997\"},{\"data\":[{\"alignmentgroup\":\"True\",\"hovertemplate\":\"Sex=Female<br>Year=1998<br>Population=%{x}<br>Age range (years)=%{y}<extra></extra>\",\"legendgroup\":\"Female\",\"marker\":{\"color\":\"#636efa\",\"pattern\":{\"shape\":\"\"}},\"name\":\"Female\",\"offsetgroup\":\"Female\",\"orientation\":\"h\",\"showlegend\":true,\"textposition\":\"auto\",\"x\":[1785667.0,1896450.0,1827915.0,1766256.0,1754132.0,2175709.0,2357606.0,2189900.0,1941946.0,1938113.0,1921744.0,1536274.0,1438110.0,1391760.0,1308970.0,2749347.0],\"xaxis\":\"x\",\"y\":[\"<5\",\"5-9\",\"10-14\",\"15-19\",\"20-24\",\"25-29\",\"30-34\",\"35-39\",\"40-44\",\"45-49\",\"50-54\",\"55-59\",\"60-64\",\"65-69\",\"70-74\",\"75<\"],\"yaxis\":\"y\",\"type\":\"bar\"},{\"alignmentgroup\":\"True\",\"hovertemplate\":\"Sex=Male<br>Year=1998<br>Population=%{x}<br>Age range (years)=%{y}<extra></extra>\",\"legendgroup\":\"Male\",\"marker\":{\"color\":\"#EF553B\",\"pattern\":{\"shape\":\"\"}},\"name\":\"Male\",\"offsetgroup\":\"Male\",\"orientation\":\"h\",\"showlegend\":true,\"textposition\":\"auto\",\"x\":[1879054.0,1988071.0,1915741.0,1814423.0,1770239.0,2155120.0,2320779.0,2153184.0,1915879.0,1913626.0,1901546.0,1502125.0,1378198.0,1241913.0,1054068.0,1510731.0],\"xaxis\":\"x\",\"y\":[\"<5\",\"5-9\",\"10-14\",\"15-19\",\"20-24\",\"25-29\",\"30-34\",\"35-39\",\"40-44\",\"45-49\",\"50-54\",\"55-59\",\"60-64\",\"65-69\",\"70-74\",\"75<\"],\"yaxis\":\"y\",\"type\":\"bar\"}],\"name\":\"1998\"},{\"data\":[{\"alignmentgroup\":\"True\",\"hovertemplate\":\"Sex=Female<br>Year=1999<br>Population=%{x}<br>Age range (years)=%{y}<extra></extra>\",\"legendgroup\":\"Female\",\"marker\":{\"color\":\"#636efa\",\"pattern\":{\"shape\":\"\"}},\"name\":\"Female\",\"offsetgroup\":\"Female\",\"orientation\":\"h\",\"showlegend\":true,\"textposition\":\"auto\",\"x\":[1764921.0,1886011.0,1855431.0,1783199.0,1727583.0,2119646.0,2346228.0,2244779.0,1980071.0,1901142.0,1981724.0,1572831.0,1457073.0,1379235.0,1293077.0,2768317.0],\"xaxis\":\"x\",\"y\":[\"<5\",\"5-9\",\"10-14\",\"15-19\",\"20-24\",\"25-29\",\"30-34\",\"35-39\",\"40-44\",\"45-49\",\"50-54\",\"55-59\",\"60-64\",\"65-69\",\"70-74\",\"75<\"],\"yaxis\":\"y\",\"type\":\"bar\"},{\"alignmentgroup\":\"True\",\"hovertemplate\":\"Sex=Male<br>Year=1999<br>Population=%{x}<br>Age range (years)=%{y}<extra></extra>\",\"legendgroup\":\"Male\",\"marker\":{\"color\":\"#EF553B\",\"pattern\":{\"shape\":\"\"}},\"name\":\"Male\",\"offsetgroup\":\"Male\",\"orientation\":\"h\",\"showlegend\":true,\"textposition\":\"auto\",\"x\":[1856700.0,1978715.0,1946133.0,1834425.0,1739124.0,2097063.0,2308423.0,2203513.0,1951126.0,1875377.0,1957467.0,1538336.0,1398878.0,1239331.0,1051746.0,1542060.0],\"xaxis\":\"x\",\"y\":[\"<5\",\"5-9\",\"10-14\",\"15-19\",\"20-24\",\"25-29\",\"30-34\",\"35-39\",\"40-44\",\"45-49\",\"50-54\",\"55-59\",\"60-64\",\"65-69\",\"70-74\",\"75<\"],\"yaxis\":\"y\",\"type\":\"bar\"}],\"name\":\"1999\"},{\"data\":[{\"alignmentgroup\":\"True\",\"hovertemplate\":\"Sex=Female<br>Year=2000<br>Population=%{x}<br>Age range (years)=%{y}<extra></extra>\",\"legendgroup\":\"Female\",\"marker\":{\"color\":\"#636efa\",\"pattern\":{\"shape\":\"\"}},\"name\":\"Female\",\"offsetgroup\":\"Female\",\"orientation\":\"h\",\"showlegend\":true,\"textposition\":\"auto\",\"x\":[1743526.0,1867762.0,1873216.0,1784565.0,1738409.0,2064205.0,2326481.0,2300062.0,2026744.0,1887102.0,2014287.0,1618946.0,1474065.0,1367026.0,1285351.0,2779037.0],\"xaxis\":\"x\",\"y\":[\"<5\",\"5-9\",\"10-14\",\"15-19\",\"20-24\",\"25-29\",\"30-34\",\"35-39\",\"40-44\",\"45-49\",\"50-54\",\"55-59\",\"60-64\",\"65-69\",\"70-74\",\"75<\"],\"yaxis\":\"y\",\"type\":\"bar\"},{\"alignmentgroup\":\"True\",\"hovertemplate\":\"Sex=Male<br>Year=2000<br>Population=%{x}<br>Age range (years)=%{y}<extra></extra>\",\"legendgroup\":\"Male\",\"marker\":{\"color\":\"#EF553B\",\"pattern\":{\"shape\":\"\"}},\"name\":\"Male\",\"offsetgroup\":\"Male\",\"orientation\":\"h\",\"showlegend\":true,\"textposition\":\"auto\",\"x\":[1832435.0,1962222.0,1965032.0,1844518.0,1747015.0,2040541.0,2289224.0,2253732.0,1995571.0,1858412.0,1985469.0,1584455.0,1414596.0,1238284.0,1053178.0,1569778.0],\"xaxis\":\"x\",\"y\":[\"<5\",\"5-9\",\"10-14\",\"15-19\",\"20-24\",\"25-29\",\"30-34\",\"35-39\",\"40-44\",\"45-49\",\"50-54\",\"55-59\",\"60-64\",\"65-69\",\"70-74\",\"75<\"],\"yaxis\":\"y\",\"type\":\"bar\"}],\"name\":\"2000\"},{\"data\":[{\"alignmentgroup\":\"True\",\"hovertemplate\":\"Sex=Female<br>Year=2001<br>Population=%{x}<br>Age range (years)=%{y}<extra></extra>\",\"legendgroup\":\"Female\",\"marker\":{\"color\":\"#636efa\",\"pattern\":{\"shape\":\"\"}},\"name\":\"Female\",\"offsetgroup\":\"Female\",\"orientation\":\"h\",\"showlegend\":true,\"textposition\":\"auto\",\"x\":[1715396.0,1837790.0,1887369.0,1790839.0,1770221.0,2001786.0,2304770.0,2341920.0,2080504.0,1887566.0,2027664.0,1678717.0,1476522.0,1360256.0,1282541.0,2794485.0],\"xaxis\":\"x\",\"y\":[\"<5\",\"5-9\",\"10-14\",\"15-19\",\"20-24\",\"25-29\",\"30-34\",\"35-39\",\"40-44\",\"45-49\",\"50-54\",\"55-59\",\"60-64\",\"65-69\",\"70-74\",\"75<\"],\"yaxis\":\"y\",\"type\":\"bar\"},{\"alignmentgroup\":\"True\",\"hovertemplate\":\"Sex=Male<br>Year=2001<br>Population=%{x}<br>Age range (years)=%{y}<extra></extra>\",\"legendgroup\":\"Male\",\"marker\":{\"color\":\"#EF553B\",\"pattern\":{\"shape\":\"\"}},\"name\":\"Male\",\"offsetgroup\":\"Male\",\"orientation\":\"h\",\"showlegend\":true,\"textposition\":\"auto\",\"x\":[1801197.0,1931321.0,1981954.0,1864473.0,1774532.0,1983452.0,2270391.0,2292905.0,2047027.0,1857721.0,1994387.0,1643306.0,1415790.0,1242360.0,1058525.0,1602094.0],\"xaxis\":\"x\",\"y\":[\"<5\",\"5-9\",\"10-14\",\"15-19\",\"20-24\",\"25-29\",\"30-34\",\"35-39\",\"40-44\",\"45-49\",\"50-54\",\"55-59\",\"60-64\",\"65-69\",\"70-74\",\"75<\"],\"yaxis\":\"y\",\"type\":\"bar\"}],\"name\":\"2001\"},{\"data\":[{\"alignmentgroup\":\"True\",\"hovertemplate\":\"Sex=Female<br>Year=2002<br>Population=%{x}<br>Age range (years)=%{y}<extra></extra>\",\"legendgroup\":\"Female\",\"marker\":{\"color\":\"#636efa\",\"pattern\":{\"shape\":\"\"}},\"name\":\"Female\",\"offsetgroup\":\"Female\",\"orientation\":\"h\",\"showlegend\":true,\"textposition\":\"auto\",\"x\":[1686405.0,1812668.0,1902869.0,1811810.0,1812314.0,1927780.0,2281318.0,2367967.0,2136466.0,1904457.0,1987280.0,1781118.0,1474701.0,1360957.0,1279258.0,2809582.0],\"xaxis\":\"x\",\"y\":[\"<5\",\"5-9\",\"10-14\",\"15-19\",\"20-24\",\"25-29\",\"30-34\",\"35-39\",\"40-44\",\"45-49\",\"50-54\",\"55-59\",\"60-64\",\"65-69\",\"70-74\",\"75<\"],\"yaxis\":\"y\",\"type\":\"bar\"},{\"alignmentgroup\":\"True\",\"hovertemplate\":\"Sex=Male<br>Year=2002<br>Population=%{x}<br>Age range (years)=%{y}<extra></extra>\",\"legendgroup\":\"Male\",\"marker\":{\"color\":\"#EF553B\",\"pattern\":{\"shape\":\"\"}},\"name\":\"Male\",\"offsetgroup\":\"Male\",\"orientation\":\"h\",\"showlegend\":true,\"textposition\":\"auto\",\"x\":[1767791.0,1905047.0,1996672.0,1899913.0,1811025.0,1922414.0,2243929.0,2320700.0,2103820.0,1872136.0,1951068.0,1743437.0,1413072.0,1251202.0,1064817.0,1635571.0],\"xaxis\":\"x\",\"y\":[\"<5\",\"5-9\",\"10-14\",\"15-19\",\"20-24\",\"25-29\",\"30-34\",\"35-39\",\"40-44\",\"45-49\",\"50-54\",\"55-59\",\"60-64\",\"65-69\",\"70-74\",\"75<\"],\"yaxis\":\"y\",\"type\":\"bar\"}],\"name\":\"2002\"},{\"data\":[{\"alignmentgroup\":\"True\",\"hovertemplate\":\"Sex=Female<br>Year=2003<br>Population=%{x}<br>Age range (years)=%{y}<extra></extra>\",\"legendgroup\":\"Female\",\"marker\":{\"color\":\"#636efa\",\"pattern\":{\"shape\":\"\"}},\"name\":\"Female\",\"offsetgroup\":\"Female\",\"orientation\":\"h\",\"showlegend\":true,\"textposition\":\"auto\",\"x\":[1666986.0,1798839.0,1905977.0,1846821.0,1854933.0,1871602.0,2245825.0,2376950.0,2192186.0,1934774.0,1917886.0,1885994.0,1492119.0,1371588.0,1274587.0,2815173.0],\"xaxis\":\"x\",\"y\":[\"<5\",\"5-9\",\"10-14\",\"15-19\",\"20-24\",\"25-29\",\"30-34\",\"35-39\",\"40-44\",\"45-49\",\"50-54\",\"55-59\",\"60-64\",\"65-69\",\"70-74\",\"75<\"],\"yaxis\":\"y\",\"type\":\"bar\"},{\"alignmentgroup\":\"True\",\"hovertemplate\":\"Sex=Male<br>Year=2003<br>Population=%{x}<br>Age range (years)=%{y}<extra></extra>\",\"legendgroup\":\"Male\",\"marker\":{\"color\":\"#EF553B\",\"pattern\":{\"shape\":\"\"}},\"name\":\"Male\",\"offsetgroup\":\"Male\",\"orientation\":\"h\",\"showlegend\":true,\"textposition\":\"auto\",\"x\":[1747455.0,1890798.0,1996273.0,1937537.0,1852054.0,1872514.0,2205049.0,2335438.0,2158224.0,1900361.0,1881578.0,1845756.0,1427762.0,1265894.0,1069453.0,1663008.0],\"xaxis\":\"x\",\"y\":[\"<5\",\"5-9\",\"10-14\",\"15-19\",\"20-24\",\"25-29\",\"30-34\",\"35-39\",\"40-44\",\"45-49\",\"50-54\",\"55-59\",\"60-64\",\"65-69\",\"70-74\",\"75<\"],\"yaxis\":\"y\",\"type\":\"bar\"}],\"name\":\"2003\"},{\"data\":[{\"alignmentgroup\":\"True\",\"hovertemplate\":\"Sex=Female<br>Year=2004<br>Population=%{x}<br>Age range (years)=%{y}<extra></extra>\",\"legendgroup\":\"Female\",\"marker\":{\"color\":\"#636efa\",\"pattern\":{\"shape\":\"\"}},\"name\":\"Female\",\"offsetgroup\":\"Female\",\"orientation\":\"h\",\"showlegend\":true,\"textposition\":\"auto\",\"x\":[1660068.0,1787189.0,1898347.0,1884315.0,1892988.0,1857532.0,2192597.0,2370437.0,2248063.0,1971420.0,1877455.0,1941033.0,1527297.0,1388964.0,1266565.0,2818221.0],\"xaxis\":\"x\",\"y\":[\"<5\",\"5-9\",\"10-14\",\"15-19\",\"20-24\",\"25-29\",\"30-34\",\"35-39\",\"40-44\",\"45-49\",\"50-54\",\"55-59\",\"60-64\",\"65-69\",\"70-74\",\"75<\"],\"yaxis\":\"y\",\"type\":\"bar\"},{\"alignmentgroup\":\"True\",\"hovertemplate\":\"Sex=Male<br>Year=2004<br>Population=%{x}<br>Age range (years)=%{y}<extra></extra>\",\"legendgroup\":\"Male\",\"marker\":{\"color\":\"#EF553B\",\"pattern\":{\"shape\":\"\"}},\"name\":\"Male\",\"offsetgroup\":\"Male\",\"orientation\":\"h\",\"showlegend\":true,\"textposition\":\"auto\",\"x\":[1745077.0,1877320.0,1989442.0,1962592.0,1901812.0,1852619.0,2157989.0,2330308.0,2205927.0,1940070.0,1841268.0,1899192.0,1461816.0,1284104.0,1071837.0,1689895.0],\"xaxis\":\"x\",\"y\":[\"<5\",\"5-9\",\"10-14\",\"15-19\",\"20-24\",\"25-29\",\"30-34\",\"35-39\",\"40-44\",\"45-49\",\"50-54\",\"55-59\",\"60-64\",\"65-69\",\"70-74\",\"75<\"],\"yaxis\":\"y\",\"type\":\"bar\"}],\"name\":\"2004\"},{\"data\":[{\"alignmentgroup\":\"True\",\"hovertemplate\":\"Sex=Female<br>Year=2005<br>Population=%{x}<br>Age range (years)=%{y}<extra></extra>\",\"legendgroup\":\"Female\",\"marker\":{\"color\":\"#636efa\",\"pattern\":{\"shape\":\"\"}},\"name\":\"Female\",\"offsetgroup\":\"Female\",\"orientation\":\"h\",\"showlegend\":true,\"textposition\":\"auto\",\"x\":[1669420.0,1771496.0,1886308.0,1911386.0,1936368.0,1892523.0,2139213.0,2352806.0,2304192.0,2015253.0,1859128.0,1968819.0,1568631.0,1402976.0,1257365.0,2827076.0],\"xaxis\":\"x\",\"y\":[\"<5\",\"5-9\",\"10-14\",\"15-19\",\"20-24\",\"25-29\",\"30-34\",\"35-39\",\"40-44\",\"45-49\",\"50-54\",\"55-59\",\"60-64\",\"65-69\",\"70-74\",\"75<\"],\"yaxis\":\"y\",\"type\":\"bar\"},{\"alignmentgroup\":\"True\",\"hovertemplate\":\"Sex=Male<br>Year=2005<br>Population=%{x}<br>Age range (years)=%{y}<extra></extra>\",\"legendgroup\":\"Male\",\"marker\":{\"color\":\"#EF553B\",\"pattern\":{\"shape\":\"\"}},\"name\":\"Male\",\"offsetgroup\":\"Male\",\"orientation\":\"h\",\"showlegend\":true,\"textposition\":\"auto\",\"x\":[1755357.0,1860683.0,1979199.0,1973938.0,1953418.0,1879098.0,2109304.0,2314161.0,2256968.0,1986301.0,1824384.0,1926002.0,1505374.0,1297888.0,1075863.0,1721152.0],\"xaxis\":\"x\",\"y\":[\"<5\",\"5-9\",\"10-14\",\"15-19\",\"20-24\",\"25-29\",\"30-34\",\"35-39\",\"40-44\",\"45-49\",\"50-54\",\"55-59\",\"60-64\",\"65-69\",\"70-74\",\"75<\"],\"yaxis\":\"y\",\"type\":\"bar\"}],\"name\":\"2005\"},{\"data\":[{\"alignmentgroup\":\"True\",\"hovertemplate\":\"Sex=Female<br>Year=2006<br>Population=%{x}<br>Age range (years)=%{y}<extra></extra>\",\"legendgroup\":\"Female\",\"marker\":{\"color\":\"#636efa\",\"pattern\":{\"shape\":\"\"}},\"name\":\"Female\",\"offsetgroup\":\"Female\",\"orientation\":\"h\",\"showlegend\":true,\"textposition\":\"auto\",\"x\":[1693873.0,1750388.0,1868452.0,1929856.0,1983089.0,1950158.0,2087709.0,2332974.0,2347387.0,2068326.0,1858043.0,1981849.0,1621675.0,1400557.0,1251686.0,2842961.0],\"xaxis\":\"x\",\"y\":[\"<5\",\"5-9\",\"10-14\",\"15-19\",\"20-24\",\"25-29\",\"30-34\",\"35-39\",\"40-44\",\"45-49\",\"50-54\",\"55-59\",\"60-64\",\"65-69\",\"70-74\",\"75<\"],\"yaxis\":\"y\",\"type\":\"bar\"},{\"alignmentgroup\":\"True\",\"hovertemplate\":\"Sex=Male<br>Year=2006<br>Population=%{x}<br>Age range (years)=%{y}<extra></extra>\",\"legendgroup\":\"Male\",\"marker\":{\"color\":\"#EF553B\",\"pattern\":{\"shape\":\"\"}},\"name\":\"Male\",\"offsetgroup\":\"Male\",\"orientation\":\"h\",\"showlegend\":true,\"textposition\":\"auto\",\"x\":[1778413.0,1836634.0,1959986.0,1993663.0,1991480.0,1933946.0,2058325.0,2296857.0,2298628.0,2040649.0,1824879.0,1937619.0,1560856.0,1297685.0,1083633.0,1758125.0],\"xaxis\":\"x\",\"y\":[\"<5\",\"5-9\",\"10-14\",\"15-19\",\"20-24\",\"25-29\",\"30-34\",\"35-39\",\"40-44\",\"45-49\",\"50-54\",\"55-59\",\"60-64\",\"65-69\",\"70-74\",\"75<\"],\"yaxis\":\"y\",\"type\":\"bar\"}],\"name\":\"2006\"},{\"data\":[{\"alignmentgroup\":\"True\",\"hovertemplate\":\"Sex=Female<br>Year=2007<br>Population=%{x}<br>Age range (years)=%{y}<extra></extra>\",\"legendgroup\":\"Female\",\"marker\":{\"color\":\"#636efa\",\"pattern\":{\"shape\":\"\"}},\"name\":\"Female\",\"offsetgroup\":\"Female\",\"orientation\":\"h\",\"showlegend\":true,\"textposition\":\"auto\",\"x\":[1732577.0,1723358.0,1852519.0,1947548.0,2020147.0,2014361.0,2025042.0,2315031.0,2374811.0,2125279.0,1876708.0,1942298.0,1719555.0,1395616.0,1252507.0,2861088.0],\"xaxis\":\"x\",\"y\":[\"<5\",\"5-9\",\"10-14\",\"15-19\",\"20-24\",\"25-29\",\"30-34\",\"35-39\",\"40-44\",\"45-49\",\"50-54\",\"55-59\",\"60-64\",\"65-69\",\"70-74\",\"75<\"],\"yaxis\":\"y\",\"type\":\"bar\"},{\"alignmentgroup\":\"True\",\"hovertemplate\":\"Sex=Male<br>Year=2007<br>Population=%{x}<br>Age range (years)=%{y}<extra></extra>\",\"legendgroup\":\"Male\",\"marker\":{\"color\":\"#EF553B\",\"pattern\":{\"shape\":\"\"}},\"name\":\"Male\",\"offsetgroup\":\"Male\",\"orientation\":\"h\",\"showlegend\":true,\"textposition\":\"auto\",\"x\":[1819500.0,1805674.0,1943333.0,2022660.0,2027309.0,1997156.0,2002034.0,2276610.0,2323005.0,2093641.0,1843050.0,1894554.0,1656856.0,1295782.0,1095360.0,1798310.0],\"xaxis\":\"x\",\"y\":[\"<5\",\"5-9\",\"10-14\",\"15-19\",\"20-24\",\"25-29\",\"30-34\",\"35-39\",\"40-44\",\"45-49\",\"50-54\",\"55-59\",\"60-64\",\"65-69\",\"70-74\",\"75<\"],\"yaxis\":\"y\",\"type\":\"bar\"}],\"name\":\"2007\"},{\"data\":[{\"alignmentgroup\":\"True\",\"hovertemplate\":\"Sex=Female<br>Year=2008<br>Population=%{x}<br>Age range (years)=%{y}<extra></extra>\",\"legendgroup\":\"Female\",\"marker\":{\"color\":\"#636efa\",\"pattern\":{\"shape\":\"\"}},\"name\":\"Female\",\"offsetgroup\":\"Female\",\"orientation\":\"h\",\"showlegend\":true,\"textposition\":\"auto\",\"x\":[1783918.0,1698966.0,1841539.0,1959771.0,2053778.0,2077955.0,1980208.0,2284903.0,2383866.0,2183344.0,1908783.0,1873319.0,1824311.0,1413237.0,1264358.0,2875042.0],\"xaxis\":\"x\",\"y\":[\"<5\",\"5-9\",\"10-14\",\"15-19\",\"20-24\",\"25-29\",\"30-34\",\"35-39\",\"40-44\",\"45-49\",\"50-54\",\"55-59\",\"60-64\",\"65-69\",\"70-74\",\"75<\"],\"yaxis\":\"y\",\"type\":\"bar\"},{\"alignmentgroup\":\"True\",\"hovertemplate\":\"Sex=Male<br>Year=2008<br>Population=%{x}<br>Age range (years)=%{y}<extra></extra>\",\"legendgroup\":\"Male\",\"marker\":{\"color\":\"#EF553B\",\"pattern\":{\"shape\":\"\"}},\"name\":\"Male\",\"offsetgroup\":\"Male\",\"orientation\":\"h\",\"showlegend\":true,\"textposition\":\"auto\",\"x\":[1872843.0,1780827.0,1932950.0,2035250.0,2059209.0,2066421.0,1965650.0,2247452.0,2334215.0,2143086.0,1877146.0,1825350.0,1758229.0,1314291.0,1114933.0,1836497.0],\"xaxis\":\"x\",\"y\":[\"<5\",\"5-9\",\"10-14\",\"15-19\",\"20-24\",\"25-29\",\"30-34\",\"35-39\",\"40-44\",\"45-49\",\"50-54\",\"55-59\",\"60-64\",\"65-69\",\"70-74\",\"75<\"],\"yaxis\":\"y\",\"type\":\"bar\"}],\"name\":\"2008\"},{\"data\":[{\"alignmentgroup\":\"True\",\"hovertemplate\":\"Sex=Female<br>Year=2009<br>Population=%{x}<br>Age range (years)=%{y}<extra></extra>\",\"legendgroup\":\"Female\",\"marker\":{\"color\":\"#636efa\",\"pattern\":{\"shape\":\"\"}},\"name\":\"Female\",\"offsetgroup\":\"Female\",\"orientation\":\"h\",\"showlegend\":true,\"textposition\":\"auto\",\"x\":[1832083.0,1687836.0,1828160.0,1965817.0,2075257.0,2118573.0,1973565.0,2240758.0,2377248.0,2241079.0,1947800.0,1838031.0,1880727.0,1450517.0,1283104.0,2885265.0],\"xaxis\":\"x\",\"y\":[\"<5\",\"5-9\",\"10-14\",\"15-19\",\"20-24\",\"25-29\",\"30-34\",\"35-39\",\"40-44\",\"45-49\",\"50-54\",\"55-59\",\"60-64\",\"65-69\",\"70-74\",\"75<\"],\"yaxis\":\"y\",\"type\":\"bar\"},{\"alignmentgroup\":\"True\",\"hovertemplate\":\"Sex=Male<br>Year=2009<br>Population=%{x}<br>Age range (years)=%{y}<extra></extra>\",\"legendgroup\":\"Male\",\"marker\":{\"color\":\"#EF553B\",\"pattern\":{\"shape\":\"\"}},\"name\":\"Male\",\"offsetgroup\":\"Male\",\"orientation\":\"h\",\"showlegend\":true,\"textposition\":\"auto\",\"x\":[1920388.0,1770875.0,1920388.0,2040878.0,2068549.0,2108397.0,1969369.0,2202707.0,2332457.0,2195022.0,1918428.0,1791846.0,1813329.0,1353102.0,1138549.0,1872239.0],\"xaxis\":\"x\",\"y\":[\"<5\",\"5-9\",\"10-14\",\"15-19\",\"20-24\",\"25-29\",\"30-34\",\"35-39\",\"40-44\",\"45-49\",\"50-54\",\"55-59\",\"60-64\",\"65-69\",\"70-74\",\"75<\"],\"yaxis\":\"y\",\"type\":\"bar\"}],\"name\":\"2009\"},{\"data\":[{\"alignmentgroup\":\"True\",\"hovertemplate\":\"Sex=Female<br>Year=2010<br>Population=%{x}<br>Age range (years)=%{y}<extra></extra>\",\"legendgroup\":\"Female\",\"marker\":{\"color\":\"#636efa\",\"pattern\":{\"shape\":\"\"}},\"name\":\"Female\",\"offsetgroup\":\"Female\",\"orientation\":\"h\",\"showlegend\":true,\"textposition\":\"auto\",\"x\":[1871199.0,1692237.0,1813130.0,1963973.0,2086317.0,2141415.0,2001261.0,2189684.0,2360906.0,2296236.0,1993483.0,1824530.0,1911209.0,1494893.0,1297672.0,2903083.0],\"xaxis\":\"x\",\"y\":[\"<5\",\"5-9\",\"10-14\",\"15-19\",\"20-24\",\"25-29\",\"30-34\",\"35-39\",\"40-44\",\"45-49\",\"50-54\",\"55-59\",\"60-64\",\"65-69\",\"70-74\",\"75<\"],\"yaxis\":\"y\",\"type\":\"bar\"},{\"alignmentgroup\":\"True\",\"hovertemplate\":\"Sex=Male<br>Year=2010<br>Population=%{x}<br>Age range (years)=%{y}<extra></extra>\",\"legendgroup\":\"Male\",\"marker\":{\"color\":\"#EF553B\",\"pattern\":{\"shape\":\"\"}},\"name\":\"Male\",\"offsetgroup\":\"Male\",\"orientation\":\"h\",\"showlegend\":true,\"textposition\":\"auto\",\"x\":[1960550.0,1774087.0,1906557.0,2045372.0,2088259.0,2120889.0,2001720.0,2152112.0,2314337.0,2247173.0,1963797.0,1779353.0,1843084.0,1400854.0,1156770.0,1914055.0],\"xaxis\":\"x\",\"y\":[\"<5\",\"5-9\",\"10-14\",\"15-19\",\"20-24\",\"25-29\",\"30-34\",\"35-39\",\"40-44\",\"45-49\",\"50-54\",\"55-59\",\"60-64\",\"65-69\",\"70-74\",\"75<\"],\"yaxis\":\"y\",\"type\":\"bar\"}],\"name\":\"2010\"},{\"data\":[{\"alignmentgroup\":\"True\",\"hovertemplate\":\"Sex=Female<br>Year=2011<br>Population=%{x}<br>Age range (years)=%{y}<extra></extra>\",\"legendgroup\":\"Female\",\"marker\":{\"color\":\"#636efa\",\"pattern\":{\"shape\":\"\"}},\"name\":\"Female\",\"offsetgroup\":\"Female\",\"orientation\":\"h\",\"showlegend\":true,\"textposition\":\"auto\",\"x\":[1903578.0,1712282.0,1794086.0,1949581.0,2111579.0,2157040.0,2050468.0,2127742.0,2343321.0,2339091.0,2048775.0,1826384.0,1928815.0,1549824.0,1298598.0,2929878.0],\"xaxis\":\"x\",\"y\":[\"<5\",\"5-9\",\"10-14\",\"15-19\",\"20-24\",\"25-29\",\"30-34\",\"35-39\",\"40-44\",\"45-49\",\"50-54\",\"55-59\",\"60-64\",\"65-69\",\"70-74\",\"75<\"],\"yaxis\":\"y\",\"type\":\"bar\"},{\"alignmentgroup\":\"True\",\"hovertemplate\":\"Sex=Male<br>Year=2011<br>Population=%{x}<br>Age range (years)=%{y}<extra></extra>\",\"legendgroup\":\"Male\",\"marker\":{\"color\":\"#EF553B\",\"pattern\":{\"shape\":\"\"}},\"name\":\"Male\",\"offsetgroup\":\"Male\",\"orientation\":\"h\",\"showlegend\":true,\"textposition\":\"auto\",\"x\":[1995144.0,1794664.0,1884975.0,2037802.0,2139495.0,2138977.0,2046042.0,2098838.0,2290136.0,2286310.0,2014744.0,1782604.0,1859544.0,1458333.0,1160846.0,1963036.0],\"xaxis\":\"x\",\"y\":[\"<5\",\"5-9\",\"10-14\",\"15-19\",\"20-24\",\"25-29\",\"30-34\",\"35-39\",\"40-44\",\"45-49\",\"50-54\",\"55-59\",\"60-64\",\"65-69\",\"70-74\",\"75<\"],\"yaxis\":\"y\",\"type\":\"bar\"}],\"name\":\"2011\"},{\"data\":[{\"alignmentgroup\":\"True\",\"hovertemplate\":\"Sex=Female<br>Year=2012<br>Population=%{x}<br>Age range (years)=%{y}<extra></extra>\",\"legendgroup\":\"Female\",\"marker\":{\"color\":\"#636efa\",\"pattern\":{\"shape\":\"\"}},\"name\":\"Female\",\"offsetgroup\":\"Female\",\"orientation\":\"h\",\"showlegend\":true,\"textposition\":\"auto\",\"x\":[1934192.0,1751440.0,1763603.0,1927128.0,2135262.0,2164300.0,2104106.0,2059516.0,2325890.0,2364225.0,2108313.0,1848669.0,1891022.0,1650553.0,1300262.0,2960366.0],\"xaxis\":\"x\",\"y\":[\"<5\",\"5-9\",\"10-14\",\"15-19\",\"20-24\",\"25-29\",\"30-34\",\"35-39\",\"40-44\",\"45-49\",\"50-54\",\"55-59\",\"60-64\",\"65-69\",\"70-74\",\"75<\"],\"yaxis\":\"y\",\"type\":\"bar\"},{\"alignmentgroup\":\"True\",\"hovertemplate\":\"Sex=Male<br>Year=2012<br>Population=%{x}<br>Age range (years)=%{y}<extra></extra>\",\"legendgroup\":\"Male\",\"marker\":{\"color\":\"#EF553B\",\"pattern\":{\"shape\":\"\"}},\"name\":\"Male\",\"offsetgroup\":\"Male\",\"orientation\":\"h\",\"showlegend\":true,\"textposition\":\"auto\",\"x\":[2027410.0,1837440.0,1850884.0,2022223.0,2180938.0,2151886.0,2090267.0,2038861.0,2267535.0,2306390.0,2069605.0,1804636.0,1819815.0,1558693.0,1164212.0,2015446.0],\"xaxis\":\"x\",\"y\":[\"<5\",\"5-9\",\"10-14\",\"15-19\",\"20-24\",\"25-29\",\"30-34\",\"35-39\",\"40-44\",\"45-49\",\"50-54\",\"55-59\",\"60-64\",\"65-69\",\"70-74\",\"75<\"],\"yaxis\":\"y\",\"type\":\"bar\"}],\"name\":\"2012\"},{\"data\":[{\"alignmentgroup\":\"True\",\"hovertemplate\":\"Sex=Female<br>Year=2013<br>Population=%{x}<br>Age range (years)=%{y}<extra></extra>\",\"legendgroup\":\"Female\",\"marker\":{\"color\":\"#636efa\",\"pattern\":{\"shape\":\"\"}},\"name\":\"Female\",\"offsetgroup\":\"Female\",\"orientation\":\"h\",\"showlegend\":true,\"textposition\":\"auto\",\"x\":[1954664.0,1806296.0,1734282.0,1901359.0,2133989.0,2172450.0,2154357.0,2009696.0,2294249.0,2374381.0,2166430.0,1883076.0,1827209.0,1756350.0,1321668.0,2990765.0],\"xaxis\":\"x\",\"y\":[\"<5\",\"5-9\",\"10-14\",\"15-19\",\"20-24\",\"25-29\",\"30-34\",\"35-39\",\"40-44\",\"45-49\",\"50-54\",\"55-59\",\"60-64\",\"65-69\",\"70-74\",\"75<\"],\"yaxis\":\"y\",\"type\":\"bar\"},{\"alignmentgroup\":\"True\",\"hovertemplate\":\"Sex=Male<br>Year=2013<br>Population=%{x}<br>Age range (years)=%{y}<extra></extra>\",\"legendgroup\":\"Male\",\"marker\":{\"color\":\"#EF553B\",\"pattern\":{\"shape\":\"\"}},\"name\":\"Male\",\"offsetgroup\":\"Male\",\"orientation\":\"h\",\"showlegend\":true,\"textposition\":\"auto\",\"x\":[2050309.0,1894959.0,1819965.0,2003099.0,2189575.0,2161970.0,2129087.0,1991879.0,2237554.0,2311777.0,2123597.0,1837377.0,1755394.0,1661932.0,1185900.0,2069747.0],\"xaxis\":\"x\",\"y\":[\"<5\",\"5-9\",\"10-14\",\"15-19\",\"20-24\",\"25-29\",\"30-34\",\"35-39\",\"40-44\",\"45-49\",\"50-54\",\"55-59\",\"60-64\",\"65-69\",\"70-74\",\"75<\"],\"yaxis\":\"y\",\"type\":\"bar\"}],\"name\":\"2013\"},{\"data\":[{\"alignmentgroup\":\"True\",\"hovertemplate\":\"Sex=Female<br>Year=2014<br>Population=%{x}<br>Age range (years)=%{y}<extra></extra>\",\"legendgroup\":\"Female\",\"marker\":{\"color\":\"#636efa\",\"pattern\":{\"shape\":\"\"}},\"name\":\"Female\",\"offsetgroup\":\"Female\",\"orientation\":\"h\",\"showlegend\":true,\"textposition\":\"auto\",\"x\":[1961058.0,1859869.0,1721267.0,1881457.0,2123220.0,2187111.0,2185584.0,1998547.0,2247070.0,2372908.0,2225250.0,1923542.0,1799515.0,1812293.0,1360478.0,3028647.0],\"xaxis\":\"x\",\"y\":[\"<5\",\"5-9\",\"10-14\",\"15-19\",\"20-24\",\"25-29\",\"30-34\",\"35-39\",\"40-44\",\"45-49\",\"50-54\",\"55-59\",\"60-64\",\"65-69\",\"70-74\",\"75<\"],\"yaxis\":\"y\",\"type\":\"bar\"},{\"alignmentgroup\":\"True\",\"hovertemplate\":\"Sex=Male<br>Year=2014<br>Population=%{x}<br>Age range (years)=%{y}<extra></extra>\",\"legendgroup\":\"Male\",\"marker\":{\"color\":\"#EF553B\",\"pattern\":{\"shape\":\"\"}},\"name\":\"Male\",\"offsetgroup\":\"Male\",\"orientation\":\"h\",\"showlegend\":true,\"textposition\":\"auto\",\"x\":[2058891.0,1950487.0,1805804.0,1984988.0,2190914.0,2184459.0,2156111.0,1981951.0,2196324.0,2306726.0,2175898.0,1876268.0,1726684.0,1714376.0,1225894.0,2127612.0],\"xaxis\":\"x\",\"y\":[\"<5\",\"5-9\",\"10-14\",\"15-19\",\"20-24\",\"25-29\",\"30-34\",\"35-39\",\"40-44\",\"45-49\",\"50-54\",\"55-59\",\"60-64\",\"65-69\",\"70-74\",\"75<\"],\"yaxis\":\"y\",\"type\":\"bar\"}],\"name\":\"2014\"},{\"data\":[{\"alignmentgroup\":\"True\",\"hovertemplate\":\"Sex=Female<br>Year=2015<br>Population=%{x}<br>Age range (years)=%{y}<extra></extra>\",\"legendgroup\":\"Female\",\"marker\":{\"color\":\"#636efa\",\"pattern\":{\"shape\":\"\"}},\"name\":\"Female\",\"offsetgroup\":\"Female\",\"orientation\":\"h\",\"showlegend\":true,\"textposition\":\"auto\",\"x\":[1963633.0,1907223.0,1725856.0,1866310.0,2113258.0,2203622.0,2197786.0,2027366.0,2195049.0,2359143.0,2284487.0,1972676.0,1789960.0,1845275.0,1406104.0,3061546.0],\"xaxis\":\"x\",\"y\":[\"<5\",\"5-9\",\"10-14\",\"15-19\",\"20-24\",\"25-29\",\"30-34\",\"35-39\",\"40-44\",\"45-49\",\"50-54\",\"55-59\",\"60-64\",\"65-69\",\"70-74\",\"75<\"],\"yaxis\":\"y\",\"type\":\"bar\"},{\"alignmentgroup\":\"True\",\"hovertemplate\":\"Sex=Male<br>Year=2015<br>Population=%{x}<br>Age range (years)=%{y}<extra></extra>\",\"legendgroup\":\"Male\",\"marker\":{\"color\":\"#EF553B\",\"pattern\":{\"shape\":\"\"}},\"name\":\"Male\",\"offsetgroup\":\"Male\",\"orientation\":\"h\",\"showlegend\":true,\"textposition\":\"auto\",\"x\":[2063051.0,1999633.0,1809768.0,1970469.0,2191123.0,2213209.0,2171169.0,2009196.0,2149873.0,2292537.0,2227217.0,1924116.0,1716701.0,1742944.0,1273262.0,2179831.0],\"xaxis\":\"x\",\"y\":[\"<5\",\"5-9\",\"10-14\",\"15-19\",\"20-24\",\"25-29\",\"30-34\",\"35-39\",\"40-44\",\"45-49\",\"50-54\",\"55-59\",\"60-64\",\"65-69\",\"70-74\",\"75<\"],\"yaxis\":\"y\",\"type\":\"bar\"}],\"name\":\"2015\"},{\"data\":[{\"alignmentgroup\":\"True\",\"hovertemplate\":\"Sex=Female<br>Year=2016<br>Population=%{x}<br>Age range (years)=%{y}<extra></extra>\",\"legendgroup\":\"Female\",\"marker\":{\"color\":\"#636efa\",\"pattern\":{\"shape\":\"\"}},\"name\":\"Female\",\"offsetgroup\":\"Female\",\"orientation\":\"h\",\"showlegend\":true,\"textposition\":\"auto\",\"x\":[1959900.0,1950547.0,1750577.0,1849486.0,2092141.0,2223920.0,2205667.0,2074376.0,2138004.0,2345281.0,2331812.0,2029780.0,1795021.0,1866055.0,1460281.0,3080136.0],\"xaxis\":\"x\",\"y\":[\"<5\",\"5-9\",\"10-14\",\"15-19\",\"20-24\",\"25-29\",\"30-34\",\"35-39\",\"40-44\",\"45-49\",\"50-54\",\"55-59\",\"60-64\",\"65-69\",\"70-74\",\"75<\"],\"yaxis\":\"y\",\"type\":\"bar\"},{\"alignmentgroup\":\"True\",\"hovertemplate\":\"Sex=Male<br>Year=2016<br>Population=%{x}<br>Age range (years)=%{y}<extra></extra>\",\"legendgroup\":\"Male\",\"marker\":{\"color\":\"#EF553B\",\"pattern\":{\"shape\":\"\"}},\"name\":\"Male\",\"offsetgroup\":\"Male\",\"orientation\":\"h\",\"showlegend\":true,\"textposition\":\"auto\",\"x\":[2060805.0,2045408.0,1836583.0,1951918.0,2182078.0,2252023.0,2189178.0,2054863.0,2098713.0,2279668.0,2266849.0,1978895.0,1722959.0,1759500.0,1328334.0,2218286.0],\"xaxis\":\"x\",\"y\":[\"<5\",\"5-9\",\"10-14\",\"15-19\",\"20-24\",\"25-29\",\"30-34\",\"35-39\",\"40-44\",\"45-49\",\"50-54\",\"55-59\",\"60-64\",\"65-69\",\"70-74\",\"75<\"],\"yaxis\":\"y\",\"type\":\"bar\"}],\"name\":\"2016\"},{\"data\":[{\"alignmentgroup\":\"True\",\"hovertemplate\":\"Sex=Female<br>Year=2017<br>Population=%{x}<br>Age range (years)=%{y}<extra></extra>\",\"legendgroup\":\"Female\",\"marker\":{\"color\":\"#636efa\",\"pattern\":{\"shape\":\"\"}},\"name\":\"Female\",\"offsetgroup\":\"Female\",\"orientation\":\"h\",\"showlegend\":true,\"textposition\":\"auto\",\"x\":[1943028.0,1989369.0,1794302.0,1820983.0,2063047.0,2241664.0,2213966.0,2127714.0,2075460.0,2331027.0,2359929.0,2090005.0,1819074.0,1831935.0,1557545.0,3105356.0],\"xaxis\":\"x\",\"y\":[\"<5\",\"5-9\",\"10-14\",\"15-19\",\"20-24\",\"25-29\",\"30-34\",\"35-39\",\"40-44\",\"45-49\",\"50-54\",\"55-59\",\"60-64\",\"65-69\",\"70-74\",\"75<\"],\"yaxis\":\"y\",\"type\":\"bar\"},{\"alignmentgroup\":\"True\",\"hovertemplate\":\"Sex=Male<br>Year=2017<br>Population=%{x}<br>Age range (years)=%{y}<extra></extra>\",\"legendgroup\":\"Male\",\"marker\":{\"color\":\"#EF553B\",\"pattern\":{\"shape\":\"\"}},\"name\":\"Male\",\"offsetgroup\":\"Male\",\"orientation\":\"h\",\"showlegend\":true,\"textposition\":\"auto\",\"x\":[2044502.0,2086084.0,1884926.0,1920600.0,2167448.0,2284657.0,2201259.0,2103158.0,2041259.0,2266013.0,2290122.0,2035497.0,1747377.0,1723123.0,1424021.0,2259692.0],\"xaxis\":\"x\",\"y\":[\"<5\",\"5-9\",\"10-14\",\"15-19\",\"20-24\",\"25-29\",\"30-34\",\"35-39\",\"40-44\",\"45-49\",\"50-54\",\"55-59\",\"60-64\",\"65-69\",\"70-74\",\"75<\"],\"yaxis\":\"y\",\"type\":\"bar\"}],\"name\":\"2017\"},{\"data\":[{\"alignmentgroup\":\"True\",\"hovertemplate\":\"Sex=Female<br>Year=2018<br>Population=%{x}<br>Age range (years)=%{y}<extra></extra>\",\"legendgroup\":\"Female\",\"marker\":{\"color\":\"#636efa\",\"pattern\":{\"shape\":\"\"}},\"name\":\"Female\",\"offsetgroup\":\"Female\",\"orientation\":\"h\",\"showlegend\":true,\"textposition\":\"auto\",\"x\":[1924376.0,2014615.0,1851034.0,1790119.0,2040934.0,2243383.0,2228358.0,2179624.0,2028805.0,2301931.0,2371992.0,2149526.0,1855081.0,1772974.0,1660102.0,3150766.0],\"xaxis\":\"x\",\"y\":[\"<5\",\"5-9\",\"10-14\",\"15-19\",\"20-24\",\"25-29\",\"30-34\",\"35-39\",\"40-44\",\"45-49\",\"50-54\",\"55-59\",\"60-64\",\"65-69\",\"70-74\",\"75<\"],\"yaxis\":\"y\",\"type\":\"bar\"},{\"alignmentgroup\":\"True\",\"hovertemplate\":\"Sex=Male<br>Year=2018<br>Population=%{x}<br>Age range (years)=%{y}<extra></extra>\",\"legendgroup\":\"Male\",\"marker\":{\"color\":\"#EF553B\",\"pattern\":{\"shape\":\"\"}},\"name\":\"Male\",\"offsetgroup\":\"Male\",\"orientation\":\"h\",\"showlegend\":true,\"textposition\":\"auto\",\"x\":[2024378.0,2112519.0,1944627.0,1888733.0,2153737.0,2301315.0,2219685.0,2148457.0,1996585.0,2239582.0,2299522.0,2090524.0,1782067.0,1665214.0,1522470.0,2320541.0],\"xaxis\":\"x\",\"y\":[\"<5\",\"5-9\",\"10-14\",\"15-19\",\"20-24\",\"25-29\",\"30-34\",\"35-39\",\"40-44\",\"45-49\",\"50-54\",\"55-59\",\"60-64\",\"65-69\",\"70-74\",\"75<\"],\"yaxis\":\"y\",\"type\":\"bar\"}],\"name\":\"2018\"},{\"data\":[{\"alignmentgroup\":\"True\",\"hovertemplate\":\"Sex=Female<br>Year=2019<br>Population=%{x}<br>Age range (years)=%{y}<extra></extra>\",\"legendgroup\":\"Female\",\"marker\":{\"color\":\"#636efa\",\"pattern\":{\"shape\":\"\"}},\"name\":\"Female\",\"offsetgroup\":\"Female\",\"orientation\":\"h\",\"showlegend\":true,\"textposition\":\"auto\",\"x\":[1892507.0,2023822.0,1905838.0,1781153.0,2025916.0,2230480.0,2247810.0,2214048.0,2018718.0,2258056.0,2371789.0,2209719.0,1895601.0,1746144.0,1714332.0,3210143.0],\"xaxis\":\"x\",\"y\":[\"<5\",\"5-9\",\"10-14\",\"15-19\",\"20-24\",\"25-29\",\"30-34\",\"35-39\",\"40-44\",\"45-49\",\"50-54\",\"55-59\",\"60-64\",\"65-69\",\"70-74\",\"75<\"],\"yaxis\":\"y\",\"type\":\"bar\"},{\"alignmentgroup\":\"True\",\"hovertemplate\":\"Sex=Male<br>Year=2019<br>Population=%{x}<br>Age range (years)=%{y}<extra></extra>\",\"legendgroup\":\"Male\",\"marker\":{\"color\":\"#EF553B\",\"pattern\":{\"shape\":\"\"}},\"name\":\"Male\",\"offsetgroup\":\"Male\",\"orientation\":\"h\",\"showlegend\":true,\"textposition\":\"auto\",\"x\":[1992500.0,2122724.0,2002557.0,1880569.0,2144598.0,2296526.0,2237370.0,2173731.0,1989487.0,2199183.0,2297033.0,2142088.0,1820911.0,1638388.0,1572057.0,2391314.0],\"xaxis\":\"x\",\"y\":[\"<5\",\"5-9\",\"10-14\",\"15-19\",\"20-24\",\"25-29\",\"30-34\",\"35-39\",\"40-44\",\"45-49\",\"50-54\",\"55-59\",\"60-64\",\"65-69\",\"70-74\",\"75<\"],\"yaxis\":\"y\",\"type\":\"bar\"}],\"name\":\"2019\"}]);\n",
       "                        }).then(function(){\n",
       "                            \n",
       "var gd = document.getElementById('ce23deff-3cd3-44c0-b1fc-ef6d552b47d3');\n",
       "var x = new MutationObserver(function (mutations, observer) {{\n",
       "        var display = window.getComputedStyle(gd).display;\n",
       "        if (!display || display === 'none') {{\n",
       "            console.log([gd, 'removed!']);\n",
       "            Plotly.purge(gd);\n",
       "            observer.disconnect();\n",
       "        }}\n",
       "}});\n",
       "\n",
       "// Listen for the removal of the full notebook cells\n",
       "var notebookContainer = gd.closest('#notebook-container');\n",
       "if (notebookContainer) {{\n",
       "    x.observe(notebookContainer, {childList: true});\n",
       "}}\n",
       "\n",
       "// Listen for the clearing of the current output cell\n",
       "var outputEl = gd.closest('.output');\n",
       "if (outputEl) {{\n",
       "    x.observe(outputEl, {childList: true});\n",
       "}}\n",
       "\n",
       "                        })                };                });            </script>        </div>"
      ]
     },
     "metadata": {},
     "output_type": "display_data"
    }
   ],
   "source": [
    "fig = px.bar(data_frame = df[ (df.country == country) & (df.sex != 'Both') & (df.age != 'Total')],\n",
    "       x=\"population\", y=\"age\", orientation='h',\n",
    "       color='sex', animation_frame='year', barmode='group',\n",
    "       labels={'year':'Year', 'age':'Age range (years)', 'sex':'Sex', 'population':'Population'},\n",
    "       title=f\"Population distribution in {country}\")\n",
    "\n",
    "fig.show()"
   ]
  },
  {
   "cell_type": "code",
   "execution_count": null,
   "id": "afd2612f",
   "metadata": {},
   "outputs": [],
   "source": []
  }
 ],
 "metadata": {
  "kernelspec": {
   "display_name": "Python 3 (ipykernel)",
   "language": "python",
   "name": "python3"
  },
  "language_info": {
   "codemirror_mode": {
    "name": "ipython",
    "version": 3
   },
   "file_extension": ".py",
   "mimetype": "text/x-python",
   "name": "python",
   "nbconvert_exporter": "python",
   "pygments_lexer": "ipython3",
   "version": "3.11.2"
  }
 },
 "nbformat": 4,
 "nbformat_minor": 5
}
